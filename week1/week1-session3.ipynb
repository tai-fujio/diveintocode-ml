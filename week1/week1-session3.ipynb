{
 "cells": [
  {
   "cell_type": "markdown",
   "metadata": {},
   "source": [
    "# Week1授業課題3 栗まんじゅう問題"
   ]
  },
  {
   "cell_type": "markdown",
   "metadata": {},
   "source": [
    "## 【課題】栗まんじゅうが太陽系を覆う日"
   ]
  },
  {
   "cell_type": "code",
   "execution_count": 7,
   "metadata": {},
   "outputs": [
    {
     "name": "stdout",
     "output_type": "stream",
     "text": [
      "700\n"
     ]
    }
   ],
   "source": [
    "import math\n",
    "\n",
    "# 太陽系の半径\n",
    "RADIUS_OF_SOLAR_SYSTEM_KM = 4498252900\n",
    "# 太陽系を球体と仮定して算出\n",
    "VOLUME_OF_SOLAR_SYSTEM = 4 * math.pi * RADIUS_OF_SOLAR_SYSTEM_KM ** 3 / 3\n",
    "RADUIS_OF_KURIMANJU_KM = 5e-5\n",
    "VOLUME_OF_KURIMANJU = 4 * math.pi * RADUIS_OF_KURIMANJU_KM ** 3 / 3\n",
    "RATE_OF_INCREASE = 5  # 5分に一回栗まんじゅうが増える\n",
    "\n",
    "\n",
    "# 初期値の設定する\n",
    "count = 0\n",
    "number = 1\n",
    "\n",
    "# 栗まんじゅうを増やす\n",
    "while True:\n",
    "    count += 1\n",
    "    number *= 2\n",
    "    \n",
    "    total_volume_of_kurimanju = number * VOLUME_OF_KURIMANJU\n",
    "    if(total_volume_of_kurimanju >= VOLUME_OF_SOLAR_SYSTEM):\n",
    "        break\n",
    "\n",
    "# 所要時間を計算する\n",
    "total_minutes = count * RATE_OF_INCREASE\n",
    " \n",
    "print(total_minutes)"
   ]
  },
  {
   "cell_type": "markdown",
   "metadata": {},
   "source": [
    "## 関数化"
   ]
  },
  {
   "cell_type": "code",
   "execution_count": 1,
   "metadata": {},
   "outputs": [
    {
     "name": "stdout",
     "output_type": "stream",
     "text": [
      "700\n",
      "160\n"
     ]
    }
   ],
   "source": [
    "import math\n",
    "\n",
    "# 太陽系の半径\n",
    "RADIUS_OF_SOLAR_SYSTEM_KM = 4498252900\n",
    "# 太陽系を球体と仮定して算出\n",
    "VOLUME_OF_SOLAR_SYSTEM = 4 * math.pi * RADIUS_OF_SOLAR_SYSTEM_KM ** 3 / 3\n",
    "RADUIS_OF_KURIMANJU = 5e-5\n",
    "VOLUME_OF_KURIMANJU = 4 * math.pi * RADUIS_OF_KURIMANJU ** 3 / 3\n",
    "VOLUME_OF_TOKYO_DOME = 0.00124\n",
    "RATE_OF_INCREASE = 5  # 5分に一回栗まんじゅうが増える\n",
    "\n",
    "def calc_total_time(target_volume):\n",
    "\n",
    "    # 初期値の設定する\n",
    "    count = 0\n",
    "    number = 1\n",
    "\n",
    "    # 栗まんじゅうを増やす\n",
    "    while True:\n",
    "        count += 1\n",
    "        number *= 2\n",
    "\n",
    "        total_volume_of_kurimanju = number * VOLUME_OF_KURIMANJU\n",
    "        if(total_volume_of_kurimanju >= target_volume):\n",
    "            break\n",
    "\n",
    "    # 所要時間を計算する\n",
    "    total_time = count * RATE_OF_INCREASE\n",
    "    return total_time\n",
    " \n",
    "print(calc_total_time(VOLUME_OF_SOLAR_SYSTEM ))\n",
    "print(calc_total_time(VOLUME_OF_TOKYO_DOME ))"
   ]
  },
  {
   "cell_type": "markdown",
   "metadata": {},
   "source": [
    "## グラフ化"
   ]
  },
  {
   "cell_type": "code",
   "execution_count": 16,
   "metadata": {},
   "outputs": [
    {
     "data": {
      "text/plain": [
       "[<matplotlib.lines.Line2D at 0x11a0eea90>]"
      ]
     },
     "execution_count": 16,
     "metadata": {},
     "output_type": "execute_result"
    },
    {
     "data": {
      "image/png": "[encoded data removed]",
      "text/plain": [
       "<matplotlib.figure.Figure at 0x11a088080>"
      ]
     },
     "metadata": {},
     "output_type": "display_data"
    }
   ],
   "source": [
    "import math\n",
    "import matplotlib.pyplot as plt\n",
    "%matplotlib inline\n",
    "\n",
    "RADIUS_OF_SOLAR_SYSTEM = 4498252900\n",
    "VOLUME_OF_SOLAR_SYSTEM = 4 * math.pi * RADIUS_OF_SOLAR_SYSTEM ** 3 / 3\n",
    "RADUIS_OF_KURIMANJU = 5e-5\n",
    "VOLUME_OF_KURIMANJU = 4 * math.pi * RADUIS_OF_KURIMANJU ** 3 / 3\n",
    "VOLUME_OF_TOKYO_DOME = 0.00124\n",
    "RATE_OF_INCREASE = 5  # 5分に一回栗まんじゅうが増える\n",
    "\n",
    "\n",
    "def calc_total_time(target_volume = VOLUME_OF_TOKYO_DOME):\n",
    "    \"\"\"\n",
    "    指定した体積の空間を栗まんじゅうが埋め尽くすまでの時間を計算する\n",
    "\n",
    "    Parameteres\n",
    "    --------------\n",
    "    target_volume: int\n",
    "         (default :  0.00124)\n",
    "\n",
    "    Returns\n",
    "    --------------\n",
    "    total_time : int\n",
    "        所要時間\n",
    "    list_times : list\n",
    "        時系列データの横軸：所要時間（分）\n",
    "    list_volume: list\n",
    "        時系列データの縦軸：栗まんじゅうの体積（）\n",
    "    \n",
    "    \"\"\"\n",
    "    \n",
    "    list_time = []                 # 時系列グラフの横軸(分)\n",
    "    list_volume = []            # 栗まんじゅうの体積\n",
    "    \n",
    "    # 初期値の設定する\n",
    "    count = 0\n",
    "    number = 1\n",
    "\n",
    "    # 栗まんじゅうを増やす\n",
    "    while True:\n",
    "        count += 1\n",
    "        number *= 2\n",
    "\n",
    "        total_volume_of_kurimanju = number * VOLUME_OF_KURIMANJU\n",
    "        \n",
    "        list_time.append(count * RATE_OF_INCREASE)\n",
    "        list_volume.append(total_volume_of_kurimanju)\n",
    "        \n",
    "        if(total_volume_of_kurimanju >= target_volume):\n",
    "            break\n",
    "\n",
    "    # 所要時間を計算する\n",
    "    total_time = count * RATE_OF_INCREASE\n",
    "    return total_time, list_time, list_volume\n",
    " \n",
    "\n",
    "total_volume, list_time, list_volume = calc_total_time(VOLUME_OF_TOKYO_DOME )\n",
    "\n",
    "#  栗まんじゅうが増える様子をグラフに出力\n",
    "plt.title(\"kurimanju\")\n",
    "plt.xlabel(\"time[m]\")\n",
    "plt.ylabel(\"volume[km^3]\")\n",
    "plt.plot(list_time, list_volume)"
   ]
  },
  {
   "cell_type": "code",
   "execution_count": null,
   "metadata": {
    "collapsed": true
   },
   "outputs": [],
   "source": []
  }
 ],
 "metadata": {
  "kernelspec": {
   "display_name": "Python 3",
   "language": "python",
   "name": "python3"
  },
  "language_info": {
   "codemirror_mode": {
    "name": "ipython",
    "version": 3
   },
   "file_extension": ".py",
   "mimetype": "text/x-python",
   "name": "python",
   "nbconvert_exporter": "python",
   "pygments_lexer": "ipython3",
   "version": "3.7.1"
  }
 },
 "nbformat": 4,
 "nbformat_minor": 2
}
