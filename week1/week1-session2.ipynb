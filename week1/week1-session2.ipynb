{
 "cells": [
  {
   "cell_type": "markdown",
   "metadata": {},
   "source": [
    "# Week1授業課題2 何回折ったら富士山を超えるか問題\n",
    "\n",
    "## 何回折ったら富士山を超えるか問題"
   ]
  },
  {
   "cell_type": "code",
   "execution_count": 1,
   "metadata": {},
   "outputs": [
    {
     "name": "stdout",
     "output_type": "stream",
     "text": [
      "26\n"
     ]
    }
   ],
   "source": [
    "THICKNESS_OF_PAPER_M = 0.00008\n",
    "HEIGHT_OF_FUJI_M = 3776\n",
    "\n",
    "thickness = THICKNESS_OF_PAPER_M\n",
    "count = 0\n",
    "\n",
    "while True:\n",
    "    thickness = thickness * 2\n",
    "    count += 1\n",
    "    \n",
    "    if thickness >= HEIGHT_OF_FUJI_M:\n",
    "        break\n",
    "        \n",
    "print(count)"
   ]
  },
  {
   "cell_type": "markdown",
   "metadata": {},
   "source": [
    "## 任意の厚さに対応した関数を作成"
   ]
  },
  {
   "cell_type": "code",
   "execution_count": 2,
   "metadata": {},
   "outputs": [
    {
     "name": "stdout",
     "output_type": "stream",
     "text": [
      "69\n"
     ]
    }
   ],
   "source": [
    "THICKNESS_OF_PAPER_M = 0.00008\n",
    "HEIGHT_OF_FUJI_M = 3776\n",
    "LY_TO_M  = 9460730472580800\n",
    "\n",
    "\n",
    "def calc_how_many_times_need_to_fold(distance_M = HEIGHT_OF_FUJI_M):\n",
    "    \"\"\"\n",
    "    距離を入力すると、何回折った時に超えるかを出力する関数\n",
    "\n",
    "    Parameteres\n",
    "    --------------\n",
    "    distance_M: float\n",
    "        計算したい距離(m) (default : 3776m)\n",
    "\n",
    "    Returns\n",
    "    --------------\n",
    "    count : int\n",
    "        何回折ったか\n",
    "    \"\"\"\n",
    "    \n",
    "    thickness = THICKNESS_OF_PAPER_M\n",
    "    count = 0\n",
    "    \n",
    "    while True:\n",
    "        thickness = thickness * 2\n",
    "        count += 1\n",
    "    \n",
    "        if thickness >= distance_M:\n",
    "            return count\n",
    "    \n",
    "    \n",
    "distance_to_cetaur_LY = 4.243\n",
    "distance_to_cetaur_M = distance_to_cetaur_LY * LY_TO_M\n",
    "\n",
    "print(calc_how_many_times_need_to_fold(distance_to_cetaur_M))"
   ]
  },
  {
   "cell_type": "markdown",
   "metadata": {},
   "source": [
    "## 必要な紙の長さ"
   ]
  },
  {
   "cell_type": "code",
   "execution_count": 20,
   "metadata": {},
   "outputs": [
    {
     "name": "stdout",
     "output_type": "stream",
     "text": [
      "ケンタウロス座まで届くまでに折る回数 : 69\n",
      "ケンタウロス座まで折るために必要な紙の長さ : 14595803601100347983589756318297096192m\n",
      "月まで届くまでに折る回数 : 43\n",
      "月まで折るために必要な紙の長さ : 3240919444170781229056m\n",
      "富士山まで届くまでに折る回数 : 26\n",
      "富士山まで折るために必要な紙の長さ : 188646348487.240142822265625m \n"
     ]
    }
   ],
   "source": [
    "import math\n",
    "\n",
    "THICKNESS_OF_PAPER_M = 0.00008\n",
    "HEIGHT_OF_FUJI_M = 3776\n",
    "LY_TO_M  = 9460730472580800\n",
    "DISTANCE_TO_MOON_M = 384400000\n",
    "DISTANCE_TO_CENTAUR_LY = 4.243\n",
    "\n",
    "\n",
    "def calc_how_many_times_need_to_fold(distance_M = HEIGHT_OF_FUJI_M):\n",
    "    \"\"\"\n",
    "    距離を入力すると、何回折った時に超えるかを出力する関数\n",
    "\n",
    "    Parameteres\n",
    "    --------------\n",
    "    distance_M: float\n",
    "        計算したい距離(m) (default : 3776m)\n",
    "\n",
    "    Returns\n",
    "    --------------\n",
    "    count : int\n",
    "        何回折ったか\n",
    "    \"\"\"\n",
    "        \n",
    "    thickness = THICKNESS_OF_PAPER_M\n",
    "    count = 0\n",
    "    \n",
    "    while True:\n",
    "        thickness = thickness * 2\n",
    "        count += 1\n",
    "    \n",
    "        if thickness >= distance_M:\n",
    "            return count\n",
    "    \n",
    "\n",
    "def calc_length_can_fold(fold_count = 0):\n",
    "    \"\"\"\n",
    "    実際に紙を折り任意の厚さに到達するために必要な紙の長さを求める関数\n",
    "\n",
    "    Parameteres\n",
    "    --------------\n",
    "    fold_count: int\n",
    "        紙を折った回数(default : 0)\n",
    "\n",
    "    Returns\n",
    "    --------------\n",
    "    length_M : float\n",
    "        必要な紙の長さ(m)\n",
    "    \"\"\"\n",
    "    \n",
    "    length_M = math.pi * THICKNESS_OF_PAPER_M * (2**fold_count + 4) * (2**fold_count - 1) / 6\n",
    "    return length_M\n",
    "\n",
    "\n",
    "distance_to_cetaur_M = DISTANCE_TO_CENTAUR_LY * LY_TO_M\n",
    "times_needed_to_fold_to_cetaur = calc_how_many_times_need_to_fold(distance_to_cetaur_M)\n",
    "print('ケンタウロス座まで届くまでに折る回数 : ' + str(times_needed_to_fold_to_cetaur))\n",
    "print('ケンタウロス座まで折るために必要な紙の長さ : {:.100g}m'\n",
    "      .format(calc_length_can_fold(times_needed_to_fold_to_cetaur)))\n",
    "\n",
    "times_needed_to_fold_to_moon = calc_how_many_times_need_to_fold(DISTANCE_TO_MOON_M)\n",
    "print('月まで届くまでに折る回数 : ' + str(times_needed_to_fold_to_moon))\n",
    "print('月まで折るために必要な紙の長さ : {:.100g}m' \n",
    "      .format(calc_length_can_fold(times_needed_to_fold_to_moon)))\n",
    "\n",
    "# TODO:  なぜ富士山だけ小数点が出ているのか調査する\n",
    "times_needed_to_fold_to_fuji = calc_how_many_times_need_to_fold(HEIGHT_OF_FUJI_M)\n",
    "print('富士山まで届くまでに折る回数 : ' + str(times_needed_to_fold_to_fuji))\n",
    "print('富士山まで折るために必要な紙の長さ : {:.100g}m ' \n",
    "      .format(calc_length_can_fold(times_needed_to_fold_to_fuji)))"
   ]
  },
  {
   "cell_type": "code",
   "execution_count": null,
   "metadata": {},
   "outputs": [],
   "source": []
  }
 ],
 "metadata": {
  "kernelspec": {
   "display_name": "Python 3",
   "language": "python",
   "name": "python3"
  },
  "language_info": {
   "codemirror_mode": {
    "name": "ipython",
    "version": 3
   },
   "file_extension": ".py",
   "mimetype": "text/x-python",
   "name": "python",
   "nbconvert_exporter": "python",
   "pygments_lexer": "ipython3",
   "version": "3.7.1"
  }
 },
 "nbformat": 4,
 "nbformat_minor": 2
}
