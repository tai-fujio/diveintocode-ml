{
 "cells": [
  {
   "cell_type": "markdown",
   "metadata": {},
   "source": [
    "# Week1授業前課題1 Pythonを使ってみよう\n"
   ]
  },
  {
   "cell_type": "code",
   "execution_count": 18,
   "metadata": {},
   "outputs": [
    {
     "name": "stdout",
     "output_type": "stream",
     "text": [
      "厚さ： 703687.44キロメートル\n",
      "time : 0.00016498565673828125[s]\n",
      "厚さ： 703687.44キロメートル\n",
      "time : 0.0001361370086669922[s]\n"
     ]
    }
   ],
   "source": [
    "\"\"\"\n",
    "紙を1回折った時の厚さを計算するコード\n",
    "\"\"\"\n",
    "import time\n",
    "\n",
    "# べき乗\n",
    "start = time.time()\n",
    "thickness = 0.00008\n",
    "\n",
    "folded_thickness = thickness*2**43\n",
    "\n",
    "print(\"厚さ： {:.2f}キロメートル\".format(folded_thickness/1000))\n",
    "elapsed_time = time.time() - start\n",
    "print(\"time : {}[s]\".format(elapsed_time))\n",
    "\n",
    "# for文\n",
    "start = time.time()\n",
    "folded_thickness = thickness\n",
    "count = 43\n",
    "\n",
    "for i in range(count):\n",
    "    folded_thickness = folded_thickness*2\n",
    "\n",
    "print(\"厚さ： {:.2f}キロメートル\".format(folded_thickness/1000))\n",
    "elapsed_time = time.time() - start\n",
    "print(\"time : {}[s]\".format(elapsed_time))"
   ]
  },
  {
   "cell_type": "markdown",
   "metadata": {},
   "source": [
    "### 考察\n",
    "* べき乗よりもfor文の方が計算速度が早い\n",
    "* for文の方が文の中で処理をかけるため、拡張性・再利用性がある\n",
    "上記から、for文の方が良さそう。"
   ]
  },
  {
   "cell_type": "code",
   "execution_count": 28,
   "metadata": {},
   "outputs": [
    {
     "name": "stdout",
     "output_type": "stream",
     "text": [
      "配列の要素数 : 44\n"
     ]
    },
    {
     "data": {
      "text/plain": [
       "[<matplotlib.lines.Line2D at 0x11b7bb1d0>]"
      ]
     },
     "execution_count": 28,
     "metadata": {},
     "output_type": "execute_result"
    },
    {
     "data": {
      "image/png": "[encoded data removed]",
      "text/plain": [
       "<Figure size 432x288 with 1 Axes>"
      ]
     },
     "metadata": {
      "needs_background": "light"
     },
     "output_type": "display_data"
    }
   ],
   "source": [
    "\"\"\"\n",
    "配列の要素数を確認する例\n",
    "\"\"\"\n",
    "folded_thickness = 0.00008\n",
    "t_list = [thickness]\n",
    "count = 43\n",
    "\n",
    "for i in range(count):\n",
    "    folded_thickness = folded_thickness*2\n",
    "    t_list.append(folded_thickness)\n",
    "\n",
    "t_count = len(t_list)\n",
    "print(\"配列の要素数 : {}\".format(t_count))\n",
    "\n",
    "\n",
    "\"\"\"\n",
    "グラフを表示する。タイトルと軸ラベル名付き。\n",
    "\"\"\"\n",
    "import matplotlib.pyplot as plt\n",
    "%matplotlib inline\n",
    "\n",
    "plt.title(\"thickness of folded paper\")\n",
    "plt.xlabel(\"number of folds\")\n",
    "plt.ylabel(\"thickness[m]\")\n",
    "plt.plot(t_list) # 「配列名」のところにlist型変数を入れる"
   ]
  },
  {
   "cell_type": "markdown",
   "metadata": {},
   "source": [
    "### 考察\n",
    "グラフからは40回折るまでは厚さの変化は読み取れず\n",
    "40回を超えたところで厚さが急激に増加しているように見える"
   ]
  }
 ],
 "metadata": {
  "kernelspec": {
   "display_name": "Python 3",
   "language": "python",
   "name": "python3"
  },
  "language_info": {
   "codemirror_mode": {
    "name": "ipython",
    "version": 3
   },
   "file_extension": ".py",
   "mimetype": "text/x-python",
   "name": "python",
   "nbconvert_exporter": "python",
   "pygments_lexer": "ipython3",
   "version": "3.7.1"
  }
 },
 "nbformat": 4,
 "nbformat_minor": 2
}
