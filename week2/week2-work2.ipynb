{
 "cells": [
  {
   "cell_type": "markdown",
   "metadata": {},
   "source": [
    "# Week2授業前課題2\n",
    "## 【課題1】1次元配列を作ろう\n",
    "* 0~1の範囲で0.01ごとにデータをNumPy配列で作成"
   ]
  },
  {
   "cell_type": "code",
   "execution_count": 39,
   "metadata": {},
   "outputs": [],
   "source": [
    "import numpy as np\n",
    "\n",
    "x = np.arange(start=0, stop=1.01, step=0.01)"
   ]
  },
  {
   "cell_type": "markdown",
   "metadata": {},
   "source": [
    "## 【課題2】2次元配列を作ろう\n",
    "* NumPy配列の0列目にx、1列目にyの値がくるように2次元のarrayで表現する"
   ]
  },
  {
   "cell_type": "code",
   "execution_count": 44,
   "metadata": {},
   "outputs": [
    {
     "name": "stdout",
     "output_type": "stream",
     "text": [
      "[[0.    0.01  0.02  0.03  0.04  0.05  0.06  0.07  0.08  0.09  0.1   0.11\n",
      "  0.12  0.13  0.14  0.15  0.16  0.17  0.18  0.19  0.2   0.21  0.22  0.23\n",
      "  0.24  0.25  0.26  0.27  0.28  0.29  0.3   0.31  0.32  0.33  0.34  0.35\n",
      "  0.36  0.37  0.38  0.39  0.4   0.41  0.42  0.43  0.44  0.45  0.46  0.47\n",
      "  0.48  0.49  0.5   0.51  0.52  0.53  0.54  0.55  0.56  0.57  0.58  0.59\n",
      "  0.6   0.61  0.62  0.63  0.64  0.65  0.66  0.67  0.68  0.69  0.7   0.71\n",
      "  0.72  0.73  0.74  0.75  0.76  0.77  0.78  0.79  0.8   0.81  0.82  0.83\n",
      "  0.84  0.85  0.86  0.87  0.88  0.89  0.9   0.91  0.92  0.93  0.94  0.95\n",
      "  0.96  0.97  0.98  0.99  1.   ]\n",
      " [1.    1.005 1.01  1.015 1.02  1.025 1.03  1.035 1.04  1.045 1.05  1.055\n",
      "  1.06  1.065 1.07  1.075 1.08  1.085 1.09  1.095 1.1   1.105 1.11  1.115\n",
      "  1.12  1.125 1.13  1.135 1.14  1.145 1.15  1.155 1.16  1.165 1.17  1.175\n",
      "  1.18  1.185 1.19  1.195 1.2   1.205 1.21  1.215 1.22  1.225 1.23  1.235\n",
      "  1.24  1.245 1.25  1.255 1.26  1.265 1.27  1.275 1.28  1.285 1.29  1.295\n",
      "  1.3   1.305 1.31  1.315 1.32  1.325 1.33  1.335 1.34  1.345 1.35  1.355\n",
      "  1.36  1.365 1.37  1.375 1.38  1.385 1.39  1.395 1.4   1.405 1.41  1.415\n",
      "  1.42  1.425 1.43  1.435 1.44  1.445 1.45  1.455 1.46  1.465 1.47  1.475\n",
      "  1.48  1.485 1.49  1.495 1.5  ]]\n"
     ]
    }
   ],
   "source": [
    "# NumPy配列yを作成\n",
    "y = x / 2 + 1\n",
    "\n",
    "# 配列の結合\n",
    "f = np.vstack([x, y])\n",
    "\n",
    "print(f)"
   ]
  },
  {
   "cell_type": "markdown",
   "metadata": {},
   "source": [
    "## 【課題3】勾配を求めよう\n",
    "* 【課題1】で作成したNumPy配列を用いて計算する  \n",
    "\n",
    "【注意点】\n",
    "    * 厳密に各点における勾配を求めるには極限（微分）を利用する必要がありますが、\n",
    "    ここでは各x座標=隣り合うx座標の間隔だと思ってください\n",
    "    * 勾配はx座標の間隔を使うので、xの点の数に対して一つ少なくなります\n",
    "    * 普通に求めると100個の勾配が出てきますが、残りの一つの勾配は、自分で考えて値を埋めてください"
   ]
  },
  {
   "cell_type": "code",
   "execution_count": 41,
   "metadata": {},
   "outputs": [
    {
     "name": "stdout",
     "output_type": "stream",
     "text": [
      "xの座標：0.00 勾配：0.50\n",
      "xの座標：0.01 勾配：0.50\n",
      "xの座標：0.02 勾配：0.50\n",
      "xの座標：0.03 勾配：0.50\n",
      "xの座標：0.04 勾配：0.50\n",
      "xの座標：0.05 勾配：0.50\n",
      "xの座標：0.06 勾配：0.50\n",
      "xの座標：0.07 勾配：0.50\n",
      "xの座標：0.08 勾配：0.50\n",
      "xの座標：0.09 勾配：0.50\n",
      "xの座標：0.10 勾配：0.50\n",
      "xの座標：0.11 勾配：0.50\n",
      "xの座標：0.12 勾配：0.50\n",
      "xの座標：0.13 勾配：0.50\n",
      "xの座標：0.14 勾配：0.50\n",
      "xの座標：0.15 勾配：0.50\n",
      "xの座標：0.16 勾配：0.50\n",
      "xの座標：0.17 勾配：0.50\n",
      "xの座標：0.18 勾配：0.50\n",
      "xの座標：0.19 勾配：0.50\n",
      "xの座標：0.20 勾配：0.50\n",
      "xの座標：0.21 勾配：0.50\n",
      "xの座標：0.22 勾配：0.50\n",
      "xの座標：0.23 勾配：0.50\n",
      "xの座標：0.24 勾配：0.50\n",
      "xの座標：0.25 勾配：0.50\n",
      "xの座標：0.26 勾配：0.50\n",
      "xの座標：0.27 勾配：0.50\n",
      "xの座標：0.28 勾配：0.50\n",
      "xの座標：0.29 勾配：0.50\n",
      "xの座標：0.30 勾配：0.50\n",
      "xの座標：0.31 勾配：0.50\n",
      "xの座標：0.32 勾配：0.50\n",
      "xの座標：0.33 勾配：0.50\n",
      "xの座標：0.34 勾配：0.50\n",
      "xの座標：0.35 勾配：0.50\n",
      "xの座標：0.36 勾配：0.50\n",
      "xの座標：0.37 勾配：0.50\n",
      "xの座標：0.38 勾配：0.50\n",
      "xの座標：0.39 勾配：0.50\n",
      "xの座標：0.40 勾配：0.50\n",
      "xの座標：0.41 勾配：0.50\n",
      "xの座標：0.42 勾配：0.50\n",
      "xの座標：0.43 勾配：0.50\n",
      "xの座標：0.44 勾配：0.50\n",
      "xの座標：0.45 勾配：0.50\n",
      "xの座標：0.46 勾配：0.50\n",
      "xの座標：0.47 勾配：0.50\n",
      "xの座標：0.48 勾配：0.50\n",
      "xの座標：0.49 勾配：0.50\n",
      "xの座標：0.50 勾配：0.50\n",
      "xの座標：0.51 勾配：0.50\n",
      "xの座標：0.52 勾配：0.50\n",
      "xの座標：0.53 勾配：0.50\n",
      "xの座標：0.54 勾配：0.50\n",
      "xの座標：0.55 勾配：0.50\n",
      "xの座標：0.56 勾配：0.50\n",
      "xの座標：0.57 勾配：0.50\n",
      "xの座標：0.58 勾配：0.50\n",
      "xの座標：0.59 勾配：0.50\n",
      "xの座標：0.60 勾配：0.50\n",
      "xの座標：0.61 勾配：0.50\n",
      "xの座標：0.62 勾配：0.50\n",
      "xの座標：0.63 勾配：0.50\n",
      "xの座標：0.64 勾配：0.50\n",
      "xの座標：0.65 勾配：0.50\n",
      "xの座標：0.66 勾配：0.50\n",
      "xの座標：0.67 勾配：0.50\n",
      "xの座標：0.68 勾配：0.50\n",
      "xの座標：0.69 勾配：0.50\n",
      "xの座標：0.70 勾配：0.50\n",
      "xの座標：0.71 勾配：0.50\n",
      "xの座標：0.72 勾配：0.50\n",
      "xの座標：0.73 勾配：0.50\n",
      "xの座標：0.74 勾配：0.50\n",
      "xの座標：0.75 勾配：0.50\n",
      "xの座標：0.76 勾配：0.50\n",
      "xの座標：0.77 勾配：0.50\n",
      "xの座標：0.78 勾配：0.50\n",
      "xの座標：0.79 勾配：0.50\n",
      "xの座標：0.80 勾配：0.50\n",
      "xの座標：0.81 勾配：0.50\n",
      "xの座標：0.82 勾配：0.50\n",
      "xの座標：0.83 勾配：0.50\n",
      "xの座標：0.84 勾配：0.50\n",
      "xの座標：0.85 勾配：0.50\n",
      "xの座標：0.86 勾配：0.50\n",
      "xの座標：0.87 勾配：0.50\n",
      "xの座標：0.88 勾配：0.50\n",
      "xの座標：0.89 勾配：0.50\n",
      "xの座標：0.90 勾配：0.50\n",
      "xの座標：0.91 勾配：0.50\n",
      "xの座標：0.92 勾配：0.50\n",
      "xの座標：0.93 勾配：0.50\n",
      "xの座標：0.94 勾配：0.50\n",
      "xの座標：0.95 勾配：0.50\n",
      "xの座標：0.96 勾配：0.50\n",
      "xの座標：0.97 勾配：0.50\n",
      "xの座標：0.98 勾配：0.50\n",
      "xの座標：0.99 勾配：0.50\n",
      "xの座標：1.00 勾配：0.50\n"
     ]
    }
   ],
   "source": [
    "# xの変化量を計算し格納\n",
    "run_ary = np.diff(x)\n",
    "\n",
    "for i in range(100):\n",
    "    # yの変化量を計算\n",
    "    rise = ((run_ary[i] + x[i]) / 2 + 1) - (x[i] / 2 + 1)\n",
    "    \n",
    "    # yの変化量 / xの変化量で勾配を求める\n",
    "    gradient = rise / run_ary[i]\n",
    "    \n",
    "    print('xの座標：{:.2f}'.format(x[i]) + ' 勾配：{:.2f}'.format(gradient))\n",
    "    \n",
    "# 残りの一つの勾配\n",
    "last_x = 1\n",
    "run = 0.1\n",
    "rise = ((last_x + run) / 2 + 1) - (last_x / 2 + 1)\n",
    "\n",
    "gradient = rise / run\n",
    "print('xの座標：{:.2f}'.format(last_x) + ' 勾配：{:.2f}'.format(gradient))"
   ]
  },
  {
   "cell_type": "markdown",
   "metadata": {},
   "source": [
    "## 【課題4】配列、勾配、グラフを作ろう\n",
    "* $y = x^{2}$について考える （xの範囲は[0,1]）\n",
    "* 2次元配列を作成する\n",
    "* 勾配を求める\n",
    "* 求めた勾配をMatplotlibを用いてグラフで描画する"
   ]
  },
  {
   "cell_type": "code",
   "execution_count": 52,
   "metadata": {},
   "outputs": [
    {
     "data": {
      "image/png": "[encoded data removed]",
      "text/plain": [
       "<Figure size 432x288 with 1 Axes>"
      ]
     },
     "metadata": {
      "needs_background": "light"
     },
     "output_type": "display_data"
    }
   ],
   "source": [
    "# NumPy配列yを作成\n",
    "y = x ** 2\n",
    "\n",
    "# 勾配\n",
    "g = np.gradient(y, x)\n",
    "\n",
    "import matplotlib.pyplot as plt\n",
    "%matplotlib inline\n",
    "\n",
    "# グラフを描画\n",
    "plt.plot(g)\n",
    "plt.xlabel('x')\n",
    "plt.ylabel('y');"
   ]
  },
  {
   "cell_type": "markdown",
   "metadata": {},
   "source": [
    "## 【課題5】最小値の求め方を説明しよう\n",
    "* 勾配降下法というワードを使用して、記述する\n",
    "* 実装ではなく、アルゴリズムのフローチャートを記述する\n",
    "* 図でも文章でもok\n",
    "\n"
   ]
  },
  {
   "cell_type": "code",
   "execution_count": null,
   "metadata": {},
   "outputs": [],
   "source": []
  }
 ],
 "metadata": {
  "kernelspec": {
   "display_name": "Python 3",
   "language": "python",
   "name": "python3"
  },
  "language_info": {
   "codemirror_mode": {
    "name": "ipython",
    "version": 3
   },
   "file_extension": ".py",
   "mimetype": "text/x-python",
   "name": "python",
   "nbconvert_exporter": "python",
   "pygments_lexer": "ipython3",
   "version": "3.7.1"
  }
 },
 "nbformat": 4,
 "nbformat_minor": 2
}
