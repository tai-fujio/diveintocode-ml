{
 "cells": [
  {
   "cell_type": "markdown",
   "metadata": {},
   "source": [
    "# Week2授業前課題3\n",
    "\n",
    "# 【課題1】内積を手計算しよう\n",
    "以下の行列A,Bの内積を手計算する。\n",
    "\n",
    "$A = \\left[\n",
    "    \\begin{array}{ccc}\n",
    "      -1 & 2 & 3 \\\\\n",
    "      4 & -5 & 6 \\\\\n",
    "      7 & 8 & -9\n",
    "    \\end{array}\n",
    "  \\right],\n",
    "  B = \\left[\n",
    "    \\begin{array}{ccc}\n",
    "      0 & 2 & 1 \\\\\n",
    "      0 & 2 & -8 \\\\\n",
    "      2 & 9 & -1\n",
    "    \\end{array}\n",
    "  \\right]$\n",
    "  \n",
    "  $(1, 1)= -1 \\times 0 + 2 \\times 0 + 3 \\times 2 = 6$\n",
    "  \n",
    "  $(1, 2)= -1 \\times 2 + 2 \\times 2 + 3 \\times 9 = 29$\n",
    "  \n",
    "  $(1, 3)= -1 \\times 1 + 2 \\times -8 + 3 \\times -1 = -20$\n",
    "  \n",
    "  $(2, 1)= 4 \\times 0 + -5 \\times 0 + 6 \\times 2 = 12$\n",
    "  \n",
    "  $(2, 2)= 4 \\times 2 + -5 \\times 2 + 6 \\times 9 = 52$\n",
    "  \n",
    "  $(2, 3)= 4 \\times 1 + -5 \\times -8 + 6 \\times -1 = 38$\n",
    "  \n",
    "  $(3, 1)= 7 \\times 0 + 8 \\times 0 + -9 \\times 2 = -18$\n",
    "  \n",
    "  $(3, 2)= 7 \\times 2 + 8 \\times 2 + -9 \\times 9 = -51$\n",
    "  \n",
    "  $(3, 3)= 7 \\times 1 + 8 \\times -8 + -9 \\times -1 = -48$\n",
    "\n",
    "$ = \\begin{pmatrix} 6 & 29 & -20 \\\\ 12 & 52 & 38 \\\\ -18 & -51 & -48& \\\\ \\end{pmatrix} $\n",
    "\n",
    "\n",
    "# 【課題2】1次元配列の内積をfor文で計算しよう\n",
    "【課題1】の行列のうち下記をNumPyを使って解く\n",
    "\n",
    "配列のindexを指定し、\n",
    "\n",
    "* 行列Aの(0,0)の要素と行列Bの(0,1)の要素を掛け合わせる\n",
    "* 行列Aの(0,1)の要素と行列Bの(1,1)の要素を掛け合わせる\n",
    "* 行列Aの(0,2)の要素と行列Bの(2,1)の要素を掛け合わせる   \n",
    "それらの値を全て足し合わせる"
   ]
  },
  {
   "cell_type": "code",
   "execution_count": 1,
   "metadata": {},
   "outputs": [
    {
     "name": "stdout",
     "output_type": "stream",
     "text": [
      "6\n"
     ]
    }
   ],
   "source": [
    "import numpy as np\n",
    "\n",
    "# 行列Aを作成\n",
    "A = np.array([[-1, 2, 3], [4, -5, 6], [7, 8, -9]])\n",
    "# 行列Bを作成\n",
    "B = np.array([[0, 2, 1], [0, 2, -8], [2, 9, -1]])\n",
    "\n",
    "# 計算結果格納用\n",
    "ans = 0\n",
    "\n",
    "# Aの1行目とBの1列目を計算\n",
    "for i in range(3):\n",
    "    ans = ans + A[0][i] * B[i][0]\n",
    "\n",
    "print(ans)"
   ]
  },
  {
   "cell_type": "markdown",
   "metadata": {},
   "source": [
    "# 【課題3】多次元配列の内積をfor文で計算しよう\n",
    "【課題1】の行列の内積を全て計算する"
   ]
  },
  {
   "cell_type": "code",
   "execution_count": 2,
   "metadata": {},
   "outputs": [
    {
     "name": "stdout",
     "output_type": "stream",
     "text": [
      "[[  6.  29. -20.]\n",
      " [ 12.  52.  38.]\n",
      " [-18. -51. -48.]]\n"
     ]
    }
   ],
   "source": [
    "# 計算結果格納用\n",
    "AB = np.zeros((3, 3))\n",
    "\n",
    "# 各内積を計算\n",
    "for col in range(3):       # Aの行を指定\n",
    "    for row in range(3): # Bの列を指定\n",
    "        for i in range(3):   # 要素数分回す\n",
    "            AB[col][row] += A[col][i] * B[i][row]\n",
    "            \n",
    "print(AB)"
   ]
  },
  {
   "cell_type": "markdown",
   "metadata": {},
   "source": [
    "# 【課題4】内積をnp.dotで計算しよう\n",
    "【課題1】の行列の内積をnp.dotで計算しよう"
   ]
  },
  {
   "cell_type": "code",
   "execution_count": 3,
   "metadata": {},
   "outputs": [
    {
     "name": "stdout",
     "output_type": "stream",
     "text": [
      "[[  6  29 -20]\n",
      " [ 12  52  38]\n",
      " [-18 -51 -48]]\n"
     ]
    }
   ],
   "source": [
    "AB = np.dot(A, B)\n",
    "\n",
    "print(AB)"
   ]
  },
  {
   "cell_type": "markdown",
   "metadata": {},
   "source": [
    "# 【課題5】内積ができないときはどうするか\n",
    "下記の配列の内積を計算しようとすると、エラーが出る\n",
    "$A = \\left[\n",
    "    \\begin{array}{ccc}\n",
    "      -1 & 2 & 3 \\\\\n",
    "      4 & -5 & 6 \n",
    "    \\end{array}\n",
    "  \\right],\n",
    "  B = \\left[\n",
    "    \\begin{array}{ccc}\n",
    "       -9 & 8 & 7 \\\\\n",
    "      6 & -5 & 4 \n",
    "    \\end{array}\n",
    "  \\right]$\n",
    "  "
   ]
  },
  {
   "cell_type": "code",
   "execution_count": 4,
   "metadata": {},
   "outputs": [],
   "source": [
    "# 行列Aを作成\n",
    "A = np.array([[-1, 2, 3], [4, -5, 6]])\n",
    "# 行列Bを作成\n",
    "B = np.array([[-9, 8, 7], [6, -5, 4]])\n",
    "\n",
    "# エラーで止まってしまうため、コメントアウト\n",
    "# AB = np.dot(A, B)"
   ]
  },
  {
   "cell_type": "markdown",
   "metadata": {},
   "source": [
    "np.dotを実行すると下記エラーが発生する\n",
    "\n",
    "ValueError                                Traceback (most recent call last)<br>\n",
    "<ipython-input-4-40f2ec9bbfb2> in <module>　　<br>\n",
    "      4 B = np.array([[-9, 8, 7], [6, -5, 4]])　　<br>\n",
    "      5 　　<br>\n",
    "----> 6 AB = np.dot(A, B)　　<br>\n",
    "      7 　　<br>\n",
    "      8 print(AB)　　<br>\n",
    "　　<br>\n",
    "ValueError: shapes (2,3) and (2,3) not aligned: 3 (dim 1) != 2 (dim 0)\n",
    "\n",
    "\n",
    "上記は内積できる行列の形状には条件があり、  \n",
    "掛け合わせる片方の行列の列数 と もう片方の行列の行数  \n",
    "が一致している必要があるために発生する。\n",
    "\n",
    "今回のケースでいえばA・Bそれぞれが2×3の行列であるため、  \n",
    "2×3行列と3×2行列にする操作が必要となる。  \n",
    "例)行列Bを転置\n",
    "\n",
    "$A = \\left[\n",
    "    \\begin{array}{ccc}\n",
    "      -1 & 2 & 3 \\\\\n",
    "      4 & -5 & 6 \n",
    "    \\end{array}\n",
    "  \\right],\n",
    "  B = \\left[\n",
    "    \\begin{array}{ccc}\n",
    "       -9 & 8 & 7 \\\\\n",
    "      6 & -5 & 4 \n",
    "    \\end{array}\n",
    "  \\right]$\n",
    "  \n",
    "                                    ↓\n",
    "  \n",
    "$A = \\left[\n",
    "    \\begin{array}{ccc}\n",
    "      -1 & 2 & 3 \\\\\n",
    "      4 & -5 & 6 \n",
    "    \\end{array}\n",
    "  \\right],\n",
    "  B = \\left[\n",
    "    \\begin{array}{ccc}\n",
    "       -9 & 8 \\\\\n",
    "       7 & 6 \\\\\n",
    "      6 & -5 \n",
    "    \\end{array}\n",
    "  \\right]$\n",
    "\n",
    "この操作を転置といい、下記のように転置ができる。"
   ]
  },
  {
   "cell_type": "code",
   "execution_count": 8,
   "metadata": {},
   "outputs": [
    {
     "name": "stdout",
     "output_type": "stream",
     "text": [
      "[[-1  2  3]\n",
      " [ 4 -5  6]]\n",
      "[[-9  6]\n",
      " [ 8 -5]\n",
      " [ 7  4]]\n"
     ]
    }
   ],
   "source": [
    "# 行列Bを転置(Transpose)\n",
    "B = B.T\n",
    "\n",
    "print(A)\n",
    "print(B)"
   ]
  },
  {
   "cell_type": "markdown",
   "metadata": {},
   "source": [
    "行列Aが2×3\n",
    "行列Bが3×2\n",
    "になったため、np.dotで計算が可能になる"
   ]
  },
  {
   "cell_type": "code",
   "execution_count": 6,
   "metadata": {},
   "outputs": [
    {
     "name": "stdout",
     "output_type": "stream",
     "text": [
      "[[ 46  -4]\n",
      " [-34  73]]\n"
     ]
    }
   ],
   "source": [
    "AB = np.dot(A, B)\n",
    "\n",
    "print(AB)"
   ]
  }
 ],
 "metadata": {
  "kernelspec": {
   "display_name": "Python 3",
   "language": "python",
   "name": "python3"
  },
  "language_info": {
   "codemirror_mode": {
    "name": "ipython",
    "version": 3
   },
   "file_extension": ".py",
   "mimetype": "text/x-python",
   "name": "python",
   "nbconvert_exporter": "python",
   "pygments_lexer": "ipython3",
   "version": "3.7.1"
  }
 },
 "nbformat": 4,
 "nbformat_minor": 2
}
