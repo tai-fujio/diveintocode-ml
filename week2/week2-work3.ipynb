{
 "cells": [
  {
   "cell_type": "markdown",
   "metadata": {},
   "source": [
    "# Week2授業前課題3\n",
    "\n",
    "# 【課題1】内積を手計算しよう\n",
    "以下の行列A,Bの内積を手計算する。\n",
    "\n",
    "$% <![CDATA[\n",
    "A = \\left[\n",
    "    \\begin{array}{ccc}\n",
    "      -1 & 2 & 3 \\\\\n",
    "      4 & -5 & 6 \\\\\n",
    "      7 & 8 & -9\n",
    "    \\end{array}\n",
    "  \\right],\n",
    "  B = \\left[\n",
    "    \\begin{array}{ccc}\n",
    "      0 & 2 & 1 \\\\\n",
    "      0 & 2 & -8 \\\\\n",
    "      2 & 9 & -1\n",
    "    \\end{array}\n",
    "  \\right] %]]>$\n",
    "  \n",
    "  $(1, 1)= -1 \\times 0 + 2 \\times 0 + 3 \\times 2 = 6$\n",
    "  \n",
    "  $(1, 2)= -1 \\times 2 + 2 \\times 2 + 3 \\times 9 = 29$\n",
    "  \n",
    "  $(1, 3)= -1 \\times 1 + 2 \\times -8 + 3 \\times -1 = -20$\n",
    "  \n",
    "  $(2, 1)= 4 \\times 0 + -5 \\times 0 + 6 \\times 2 = 12$\n",
    "  \n",
    "  $(2, 2)= 4 \\times 2 + -5 \\times 2 + 6 \\times 9 = 52$\n",
    "  \n",
    "  $(2, 3)= 4 \\times 1 + -5 \\times -8 + 6 \\times -1 = 38$\n",
    "  \n",
    "  $(3, 1)= 7 \\times 0 + 8 \\times 0 + -9 \\times 2 = -18$\n",
    "  \n",
    "  $(3, 2)= 7 \\times 2 + 8 \\times 2 + -9 \\times 9 = -51$\n",
    "  \n",
    "  $(3, 3)= 7 \\times 1 + 8 \\times -8 + -9 \\times -1 = -48$\n",
    "\n",
    "$ = \\begin{pmatrix} 6 & 29 & -20 \\\\ 12 & 52 & 38 \\\\ -18 & -51 & -48& \\\\ \\end{pmatrix} $\n",
    "\n",
    "\n",
    "# 【課題2】1次元配列の内積をfor文で計算しよう\n",
    "【課題1】の行列をNumPyを使って解く"
   ]
  },
  {
   "cell_type": "code",
   "execution_count": 2,
   "metadata": {},
   "outputs": [
    {
     "name": "stdout",
     "output_type": "stream",
     "text": [
      "3\n"
     ]
    }
   ],
   "source": [
    "import numpy as np\n",
    "\n",
    "A = np.array([[-1, 2, 3], [4, -5, 6], [7, 8, -9]])\n",
    "B = np.array([[0, 2, 1], [0, 2, -8], [2, 9, -1]])\n",
    "\n",
    "print(A.shape[1])"
   ]
  },
  {
   "cell_type": "code",
   "execution_count": null,
   "metadata": {},
   "outputs": [],
   "source": []
  }
 ],
 "metadata": {
  "kernelspec": {
   "display_name": "Python 3",
   "language": "python",
   "name": "python3"
  },
  "language_info": {
   "codemirror_mode": {
    "name": "ipython",
    "version": 3
   },
   "file_extension": ".py",
   "mimetype": "text/x-python",
   "name": "python",
   "nbconvert_exporter": "python",
   "pygments_lexer": "ipython3",
   "version": "3.7.1"
  }
 },
 "nbformat": 4,
 "nbformat_minor": 2
}
