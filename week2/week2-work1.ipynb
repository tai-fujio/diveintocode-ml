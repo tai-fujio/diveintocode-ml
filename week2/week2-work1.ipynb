{
 "cells": [
  {
   "cell_type": "markdown",
   "metadata": {},
   "source": [
    "# Week2授業前課題1\n",
    "## 【課題】統計基礎用語の説明\n",
    "\n",
    "### 標準偏差について\n",
    "* どんな時に使う指標？ 分散との違いや関係性  \n",
    "    → 標準偏差・分散 共に、データの散らばりの度合いを示す値のこと。  \n",
    "    例えばAさんの国数英テストが平均50点の時に、それぞれの教科の点数にどれだけばらつきがあるかを調べたい  \n",
    "    場合などに用いることができる。\n",
    "\n",
    "    分散は下記の式で求められる。\n",
    "    \n",
    "    $s^2 = \\frac{1}{n}\\sum_{n=1}^n(x_i-\\overline{x})^2$  \n",
    "\n",
    "    $n$：データの総数\n",
    "\n",
    "    $x_i$：個々の数値\n",
    "\n",
    "    $\\overline{x}$：平均値\n",
    "\n",
    "    対して標準偏差は、下記の式のように分散の正の平方根で求める。\n",
    "    \n",
    "    $\\begin{align*} s &= \\sqrt{s^2} \\\\[5pt] &= \\sqrt{\\frac{1}{n}\\sum_{n=1}^n(x_i-\\overline{x})^2} \\end{align*}$\n",
    "    \n",
    "    標準偏差は$x_i$の値と単位の次元が同じになるため、散らばりの度合いが直感的に分かりやすくなるメリットがある。  \n",
    "    ($s$ = standard deviationから)\n",
    "\n",
    "\n",
    "### 共分散行列について\n",
    "* 共分散行列とは？  \n",
    "    → 数個の変数に関連づけられた分散と共分散を含む正方行列のこと。\n",
    "    複数次元のデータの分散関係を見ることができる。\n",
    "    \n",
    "    \n",
    "* まず共分散とは？  \n",
    "    → 2種類のデータの関係を示す指標\n",
    "    \n",
    "    共分散は下記の式で求められる。\n",
    "    \n",
    "    $s_{xy} = \\frac{1}{n}\\sum_{i=1}^n(x_i-\\overline{x})(y_i-\\overline{y})$\n",
    "    \n",
    "    $n$：データの総数\n",
    "    \n",
    "    $x_i$と$y_i$：それぞれ個々の数値\n",
    "    \n",
    "    $\\overline{x}$と$\\overline{y}$：それぞれ平均値\n",
    "\n",
    "\n",
    "* 共分散行列の定義  \n",
    "    $\\boldsymbol{X}=(X_1,X_2,...,X_n)$という$X_1$から$X_n$までの確率変数をまとめたベクトルを定義する。  \n",
    "    この時に${\\rm V[{\\boldsymbol{X}}]}$を$\\boldsymbol{X}$の共分散行列とすると定義は以下のようになる。　　 \n",
    "    \n",
    "    ${{\\rm V[{\\boldsymbol{X}}]}=\\left(\n",
    "    \\begin{array}{ccc}\n",
    "     {\\rm V}[X_1] & {\\rm Cov}[X_1,X_2] & \\ldots &  {\\rm Cov}[X_1,X_n]\\\\\n",
    "     {\\rm Cov}[X_2,X_1] & {\\rm V}[X_2] & \\ldots & {\\rm Cov}[X_2,X_n] \\\\\n",
    "    \\vdots & \\vdots & \\ddots & \\vdots \\\\\n",
    "    {\\rm Cov}[X_n,X_1] & {\\rm Cov}[X_n,X_2] & \\ldots & {\\rm V}[X_n]\n",
    "    \\end{array}\n",
    "    \\right)}$\n",
    "    \n",
    "    例として二次元の場合は共分散行列は以下のようになる。\n",
    "    \n",
    "    ${{\\rm V[{\\boldsymbol{X}}]}=\\left(\n",
    "    \\begin{array}{ccc}\n",
    "    {\\rm V}[X_1] & {\\rm Cov}[X_1,X_2] \\\\\n",
    "    {\\rm Cov}[X_2,X_1] & {\\rm V}[X_2]\n",
    "    \\end{array}\n",
    "    \\right)\n",
    "    }$\n",
    "    \n",
    "    \n",
    "    (確率変数：「確率変数」は、ある変数の値をとる確率が存在する変数のこと サイコロだったら{1,2,3,4,5,6} \n",
    "\n",
    "### 1次元の正規分布と多次元の正規分布について\n",
    "* まず正規分布とは？\n",
    "    → 同じ条件下で得られたバラツキのある事象の発生頻度を調べた際に、中央の値の発生頻度が最も多く、\n",
    "    それを中心に左右対称で発生頻度が少なくなる（釣鐘状になる）という現象の事。\n",
    "    「平均」と「最頻値」と「中央値」が一致し、それらを中心にして左右対称になるという特徴がある。\n",
    "    \n",
    "    正規分布(1次元)の式を式で表すと下記のようになり、正規分布$N(\\mu, \\sigma^2)$の確率密度関数という。\n",
    "    \n",
    "    $f(x)=\\dfrac{1}{\\sqrt{2\\pi}\\sigma}\\exp\\left\\{-\\dfrac{(x-\\mu)^2}{2\\sigma^2}\\right\\}$\n",
    "    \n",
    "    $\\mu$：平均 (=$\\overline{x}$)\n",
    "    \n",
    "    $\\sigma^2$：分散 (=$s^2$)\n",
    "    \n",
    "    $\\sigma$：標準偏差 (=$s$)\n",
    "    \n",
    "    $\\exp(x)$：eのx乗を意味する指数関数 (=$e^x$)\n",
    "    \n",
    "    e：$\\left(1+\\dfrac{1}{n}\\right)$のn乗をn→∞した時の極限として表される定数 (≒2.718\\cd)  ネイピア数ともいう\n",
    "    \n",
    "    \n",
    "    \n",
    "    \n",
    "* どういう時に使うのか？  \n",
    "    → その現象などを正規分布に従うと仮定することで、どういったことがどれくらいの確率で発生するのかを計算・表すことができる。\n",
    "\n",
    "\n",
    "* 多次元の正規分布\n",
    "    → 共分散行列を使った確率密度関数で表すことができる。\n",
    "    \n",
    "    \n",
    "    \n",
    "    \n",
    " ## 【課題】データ点の作成"
   ]
  },
  {
   "cell_type": "code",
   "execution_count": 15,
   "metadata": {},
   "outputs": [],
   "source": [
    "import numpy as np\n",
    "import matplotlib .pyplot as plt\n",
    "%matplotlib inline\n",
    "\n",
    "# 平均\n",
    "ave1 = [-3, 0]\n",
    "ave2 = [0, -3]\n",
    "\n",
    "# 共分散行列\n",
    "cov = [[1.0, 0.8], [0.8, 1.0]]\n",
    "\n",
    "# 平均・共分散行列を用いてそれぞれ500個のデータを乱数で作成\n",
    "data1 = np.random.multivariate_normal(ave1,cov,500)\n",
    "data2 = np.random.multivariate_normal(ave2,cov,500)"
   ]
  },
  {
   "cell_type": "markdown",
   "metadata": {},
   "source": [
    " ## 【課題】データ点へのラベル付け"
   ]
  },
  {
   "cell_type": "code",
   "execution_count": 18,
   "metadata": {},
   "outputs": [
    {
     "name": "stdout",
     "output_type": "stream",
     "text": [
      "[[-0.97334551  1.32172316  1.        ]\n",
      " [-0.98879708  1.73239532  1.        ]\n",
      " [-3.85726515 -0.4151234   1.        ]\n",
      " ...\n",
      " [ 0.49976137 -2.07873465  0.        ]\n",
      " [ 1.26372372 -2.50351448  0.        ]\n",
      " [-0.57117486 -2.39810926  0.        ]]\n"
     ]
    }
   ],
   "source": [
    "# data1・data2を連結\n",
    "cat_data = np.concatenate([data1,data2])\n",
    "\n",
    "# 500番目までは1, 501番以降は0をラベリング\n",
    "labeled_data = np.insert(cat_data, 2, -1.0, axis=1)\n",
    "labeled_data[:500, 2] = 1\n",
    "labeled_data[501:, 2] = 0\n",
    "\n",
    "print(labeled_data)"
   ]
  },
  {
   "cell_type": "markdown",
   "metadata": {},
   "source": [
    "## 【課題】正しくラベル付けされているか見てみる\n",
    "\n",
    "下記を雛形として用いる。\n",
    "```python\n",
    "import matplotlib.pyplot as plt\n",
    "%matplotlib inline\n",
    "plt.scatter(?, ?, s=50, c=?, marker='o')\n",
    "plt.show()\n",
    "```"
   ]
  },
  {
   "cell_type": "code",
   "execution_count": 19,
   "metadata": {},
   "outputs": [
    {
     "data": {
      "image/png": "[encoded data removed]",
      "text/plain": [
       "<Figure size 432x288 with 1 Axes>"
      ]
     },
     "metadata": {
      "needs_background": "light"
     },
     "output_type": "display_data"
    }
   ],
   "source": [
    "import matplotlib.pyplot as plt\n",
    "%matplotlib inline\n",
    "# arg1,2 = グラフに出力するデータ  s=プロットされるマーカーのサイズ  c=マーカーの色  marker=マーカーの形\n",
    "plt.scatter(labeled_data[:,0], labeled_data[:,1], s=50, c=labeled_data[:,2], marker='o')\n",
    "plt.show()"
   ]
  }
 ],
 "metadata": {
  "kernelspec": {
   "display_name": "Python 3",
   "language": "python",
   "name": "python3"
  },
  "language_info": {
   "codemirror_mode": {
    "name": "ipython",
    "version": 3
   },
   "file_extension": ".py",
   "mimetype": "text/x-python",
   "name": "python",
   "nbconvert_exporter": "python",
   "pygments_lexer": "ipython3",
   "version": "3.7.1"
  }
 },
 "nbformat": 4,
 "nbformat_minor": 2
}
