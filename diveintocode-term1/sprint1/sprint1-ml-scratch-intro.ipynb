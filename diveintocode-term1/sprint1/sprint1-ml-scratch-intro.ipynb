{
 "cells": [
  {
   "cell_type": "markdown",
   "metadata": {},
   "source": [
    "# 【問題1】クロスバリデーション\n",
    "* train_test_splitではなく、クロスバリデーションを用いる\n",
    "* クロスバリデーションには、scikit-learnのKFold ライブラリを使用する  "
   ]
  },
  {
   "cell_type": "code",
   "execution_count": 2,
   "metadata": {},
   "outputs": [
    {
     "name": "stdout",
     "output_type": "stream",
     "text": [
      "X_train: [[3 4]\n",
      " [3 4]\n",
      " [3 4]\n",
      " [3 4]] \n",
      "X_test: [[1 2]\n",
      " [3 4]\n",
      " [1 2]\n",
      " [3 4]\n",
      " [3 4]\n",
      " [3 4]] \n",
      "y_train: [1 1 1 1] \n",
      "y_test: [0 1 2 3 4 1]\n",
      "X_train: [[1 2]\n",
      " [3 4]\n",
      " [1 2]\n",
      " [3 4]\n",
      " [3 4]\n",
      " [3 4]\n",
      " [3 4]\n",
      " [3 4]\n",
      " [3 4]] \n",
      "X_test: [[3 4]] \n",
      "y_train: [0 1 2 3 4 1 1 1 1] \n",
      "y_test: [1]\n",
      "X_train: [[1 2]\n",
      " [3 4]\n",
      " [1 2]\n",
      " [3 4]\n",
      " [3 4]\n",
      " [3 4]\n",
      " [3 4]\n",
      " [3 4]\n",
      " [3 4]] \n",
      "X_test: [[3 4]] \n",
      "y_train: [0 1 2 3 4 1 1 1 1] \n",
      "y_test: [1]\n",
      "X_train: [[1 2]\n",
      " [3 4]\n",
      " [1 2]\n",
      " [3 4]\n",
      " [3 4]\n",
      " [3 4]\n",
      " [3 4]\n",
      " [3 4]\n",
      " [3 4]] \n",
      "X_test: [[3 4]] \n",
      "y_train: [0 1 2 3 4 1 1 1 1] \n",
      "y_test: [1]\n",
      "X_train: [[1 2]\n",
      " [3 4]\n",
      " [1 2]\n",
      " [3 4]\n",
      " [3 4]\n",
      " [3 4]\n",
      " [3 4]\n",
      " [3 4]\n",
      " [3 4]] \n",
      "X_test: [[3 4]] \n",
      "y_train: [0 1 2 3 4 1 1 1 1] \n",
      "y_test: [1]\n"
     ]
    },
    {
     "name": "stderr",
     "output_type": "stream",
     "text": [
      "/anaconda3/lib/python3.7/site-packages/sklearn/model_selection/_split.py:652: Warning: The least populated class in y has only 1 members, which is too few. The minimum number of members in any class cannot be less than n_splits=5.\n",
      "  % (min_groups, self.n_splits)), Warning)\n"
     ]
    }
   ],
   "source": [
    "import numpy as np\n",
    "from sklearn.model_selection import StratifiedKFold\n",
    "\n",
    "X = np.array([[1, 2], [3, 4], [1, 2], [3, 4], [3, 4], [3, 4], [3, 4], [3, 4], [3, 4], [3, 4]])\n",
    "y = np.array([0, 1, 2, 3, 4, 1, 1, 1, 1, 1])\n",
    "\n",
    "# 5分割\n",
    "skf = StratifiedKFold(n_splits=5)\n",
    "\n",
    "for train_index, test_index in skf.split(X, y):\n",
    "    X_train, X_test = X[train_index], X[test_index]\n",
    "    y_train, y_test = y[train_index], y[test_index]\n",
    "    print(\"X_train:\", X_train, \"\\nX_test:\", X_test, \"\\ny_train:\", y_train, \"\\ny_test:\", y_test)"
   ]
  },
  {
   "cell_type": "markdown",
   "metadata": {},
   "source": [
    "* Home Credit Default Risk コンペティションのデータセットでやってみる\n",
    "* stratifyする"
   ]
  },
  {
   "cell_type": "code",
   "execution_count": 5,
   "metadata": {},
   "outputs": [
    {
     "name": "stdout",
     "output_type": "stream",
     "text": [
      "<class 'pandas.core.frame.DataFrame'>\n",
      "[ 61465  61466  61467 ... 307508 307509 307510]\n",
      "[    0     1     2 ... 61814 61816 61828]\n",
      "[     0      1      2 ... 307508 307509 307510]\n",
      "[ 61465  61466  61467 ... 123093 123094 123095]\n",
      "[     0      1      2 ... 307508 307509 307510]\n",
      "[121993 122029 122030 ... 184624 184625 184626]\n",
      "[     0      1      2 ... 307508 307509 307510]\n",
      "[183271 183273 183278 ... 246095 246097 246099]\n",
      "[     0      1      2 ... 246095 246097 246099]\n",
      "[244997 245014 245015 ... 307508 307509 307510]\n"
     ]
    }
   ],
   "source": [
    "import pandas as pd\n",
    "\n",
    "df_train = pd.read_csv('application_train.csv')\n",
    "\n",
    "# 説明変数\n",
    "X = df_train.drop(['SK_ID_CURR', 'TARGET'], axis = 1)\n",
    "\n",
    "# 目的変数\n",
    "y = df_train['TARGET']\n",
    "\n",
    "# 5分割\n",
    "skf = StratifiedKFold(n_splits=5)\n",
    "\n",
    "for train_index, test_index in skf.split(X, y):\n",
    "    print(train_index)\n",
    "    print(test_index)\n",
    "    # すげー出てくるのでコメントアウト\n",
    "    # X_train, X_test = X.iloc[train_index], X.iloc[test_index]\n",
    "    # y_train, y_test = y.iloc[train_index], y.iloc[test_index]\n",
    "    #print(\"X_train:\", X_train, \"\\nX_test:\", X_test, \"\\ny_train:\", y_train, \"\\ny_test:\", y_test)"
   ]
  },
  {
   "cell_type": "markdown",
   "metadata": {},
   "source": [
    "# 【問題2】グリッドサーチ\n",
    "* グリッドサーチをパイプラインの中に組み込む\n",
    "* ついでにパイプラインを修正してクラス化してみたくなった"
   ]
  },
  {
   "cell_type": "code",
   "execution_count": 55,
   "metadata": {},
   "outputs": [],
   "source": [
    "from sklearn import metrics\n",
    "from sklearn.model_selection import StratifiedKFold\n",
    "from sklearn.model_selection import train_test_split\n",
    "from sklearn.model_selection import GridSearchCV\n",
    "\n",
    "class CPL():\n",
    "    \"\"\"\n",
    "    分類汎用パイプライン\n",
    "\n",
    "    Attributes\n",
    "    ----------\n",
    "    X_: df\n",
    "        説明変数たち\n",
    "    y_: df\n",
    "        目的変数\n",
    "    score_ : dict\n",
    "        評価値\n",
    "    \"\"\"\n",
    "    def __init__(self, X, y):\n",
    "        self.X_ = X\n",
    "        self.y_ = y\n",
    "    \n",
    "    \n",
    "    def split(self, train_size=0.75):\n",
    "        self.X_train_, self.X_test_, self.y_train_, self.y_test_ = train_test_split(self.X_, self.y_, train_size=train_size)\n",
    "    \n",
    "    \n",
    "    def cross_validate(self, n_splits):\n",
    "        self.cv_count_ = 0\n",
    "        self.X_train_ = {}\n",
    "        self.X_test_ = {}\n",
    "        self.y_train_ = {}\n",
    "        self.y_test_ = {}\n",
    "        \n",
    "        skf = StratifiedKFold(n_splits=n_splits)\n",
    "        \n",
    "        for train_index, test_index in skf.split(X, y):\n",
    "            self.X_train_[self.cv_count_] = self.X_.iloc[train_index]\n",
    "            self.X_test_[self.cv_count_] = self.X_.iloc[test_index]\n",
    "            self.X_train_[self.cv_count_] = self.X_.iloc[train_index]\n",
    "            self.X_test_[self.cv_count_] = self.X_.iloc[test_index]\n",
    "            self.cv_count_ = self.cv_count_ + 1\n",
    "            \n",
    "            \n",
    "    def grid_search(self, model, tune_params, score):\n",
    "        \n",
    "        scores = {}\n",
    "        \n",
    "        clf = GridSearchCV(\n",
    "            model,\n",
    "            tune_params,\n",
    "            cv=self.cv_count_,\n",
    "            scoring='%s_weighted' % score )\n",
    "        \n",
    "        for i in range(self.cv_count_):\n",
    "            clf.fit(self.X_train_[i], self.y_train_[i])\n",
    "            scores[i] = clf.grid_scores_\n",
    "            \n",
    "        return scores\n",
    "        \n",
    "        "
   ]
  },
  {
   "cell_type": "code",
   "execution_count": 56,
   "metadata": {},
   "outputs": [
    {
     "name": "stdout",
     "output_type": "stream",
     "text": [
      "{}\n"
     ]
    },
    {
     "ename": "KeyError",
     "evalue": "0",
     "output_type": "error",
     "traceback": [
      "\u001b[0;31m---------------------------------------------------------------------------\u001b[0m",
      "\u001b[0;31mKeyError\u001b[0m                                  Traceback (most recent call last)",
      "\u001b[0;32m<ipython-input-56-75108cdc408a>\u001b[0m in \u001b[0;36m<module>\u001b[0;34m\u001b[0m\n\u001b[1;32m     26\u001b[0m \u001b[0mprint\u001b[0m\u001b[0;34m(\u001b[0m\u001b[0mcpl\u001b[0m\u001b[0;34m.\u001b[0m\u001b[0my_train_\u001b[0m\u001b[0;34m)\u001b[0m\u001b[0;34m\u001b[0m\u001b[0;34m\u001b[0m\u001b[0m\n\u001b[1;32m     27\u001b[0m \u001b[0;34m\u001b[0m\u001b[0m\n\u001b[0;32m---> 28\u001b[0;31m \u001b[0mcpl\u001b[0m\u001b[0;34m.\u001b[0m\u001b[0mgrid_search\u001b[0m\u001b[0;34m(\u001b[0m\u001b[0mmodel\u001b[0m\u001b[0;34m,\u001b[0m \u001b[0mtune_params\u001b[0m\u001b[0;34m,\u001b[0m \u001b[0mscore\u001b[0m\u001b[0;34m)\u001b[0m\u001b[0;34m\u001b[0m\u001b[0;34m\u001b[0m\u001b[0m\n\u001b[0m",
      "\u001b[0;32m<ipython-input-55-b6e35d1ff6f9>\u001b[0m in \u001b[0;36mgrid_search\u001b[0;34m(self, model, tune_params, score)\u001b[0m\n\u001b[1;32m     54\u001b[0m \u001b[0;34m\u001b[0m\u001b[0m\n\u001b[1;32m     55\u001b[0m         \u001b[0;32mfor\u001b[0m \u001b[0mi\u001b[0m \u001b[0;32min\u001b[0m \u001b[0mrange\u001b[0m\u001b[0;34m(\u001b[0m\u001b[0mself\u001b[0m\u001b[0;34m.\u001b[0m\u001b[0mcv_count_\u001b[0m\u001b[0;34m)\u001b[0m\u001b[0;34m:\u001b[0m\u001b[0;34m\u001b[0m\u001b[0;34m\u001b[0m\u001b[0m\n\u001b[0;32m---> 56\u001b[0;31m             \u001b[0mclf\u001b[0m\u001b[0;34m.\u001b[0m\u001b[0mfit\u001b[0m\u001b[0;34m(\u001b[0m\u001b[0mself\u001b[0m\u001b[0;34m.\u001b[0m\u001b[0mX_train_\u001b[0m\u001b[0;34m[\u001b[0m\u001b[0mi\u001b[0m\u001b[0;34m]\u001b[0m\u001b[0;34m,\u001b[0m \u001b[0mself\u001b[0m\u001b[0;34m.\u001b[0m\u001b[0my_train_\u001b[0m\u001b[0;34m[\u001b[0m\u001b[0mi\u001b[0m\u001b[0;34m]\u001b[0m\u001b[0;34m)\u001b[0m\u001b[0;34m\u001b[0m\u001b[0;34m\u001b[0m\u001b[0m\n\u001b[0m\u001b[1;32m     57\u001b[0m             \u001b[0mscores\u001b[0m\u001b[0;34m[\u001b[0m\u001b[0mi\u001b[0m\u001b[0;34m]\u001b[0m \u001b[0;34m=\u001b[0m \u001b[0mclf\u001b[0m\u001b[0;34m.\u001b[0m\u001b[0mgrid_scores_\u001b[0m\u001b[0;34m\u001b[0m\u001b[0;34m\u001b[0m\u001b[0m\n\u001b[1;32m     58\u001b[0m \u001b[0;34m\u001b[0m\u001b[0m\n",
      "\u001b[0;31mKeyError\u001b[0m: 0"
     ]
    }
   ],
   "source": [
    "import pandas as pd\n",
    "\n",
    "df_train = pd.read_csv('application_train.csv')\n",
    "\n",
    "# 説明変数\n",
    "X = df_train.drop(['SK_ID_CURR', 'TARGET'], axis = 1)\n",
    "\n",
    "# 目的変数\n",
    "y = df_train['TARGET']\n",
    "\n",
    "from sklearn.neighbors import KNeighborsClassifier\n",
    "model = KNeighborsClassifier()\n",
    "\n",
    "tune_params = [\n",
    "    {'n_neighbors': [2], 'algorithm':  ['ball_tree'], 'leaf_size': [20]},\n",
    "    {'n_neighbors': [3], 'algorithm':  ['kd_tree'], 'leaf_size': [25]}\n",
    "]\n",
    "\n",
    "score = 'accuracy'\n",
    "\n",
    "\n",
    "cpl = CPL(X, y)\n",
    "\n",
    "cpl.cross_validate(5)\n",
    "\n",
    "print(cpl.y_train_)\n",
    "\n",
    "cpl.grid_search(model, tune_params, score)"
   ]
  },
  {
   "cell_type": "code",
   "execution_count": null,
   "metadata": {},
   "outputs": [],
   "source": []
  }
 ],
 "metadata": {
  "kernelspec": {
   "display_name": "Python 3",
   "language": "python",
   "name": "python3"
  },
  "language_info": {
   "codemirror_mode": {
    "name": "ipython",
    "version": 3
   },
   "file_extension": ".py",
   "mimetype": "text/x-python",
   "name": "python",
   "nbconvert_exporter": "python",
   "pygments_lexer": "ipython3",
   "version": "3.7.1"
  }
 },
 "nbformat": 4,
 "nbformat_minor": 2
}
