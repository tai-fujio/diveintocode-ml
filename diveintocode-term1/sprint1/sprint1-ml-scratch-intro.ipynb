{
 "cells": [
  {
   "cell_type": "markdown",
   "metadata": {},
   "source": [
    "# 【問題1】クロスバリデーション\n",
    "* train_test_splitではなく、クロスバリデーションを用いる\n",
    "* クロスバリデーションには、scikit-learnのKFold ライブラリを使用する  "
   ]
  },
  {
   "cell_type": "code",
   "execution_count": 21,
   "metadata": {},
   "outputs": [
    {
     "name": "stdout",
     "output_type": "stream",
     "text": [
      "X_train: [[3 4]\n",
      " [3 4]\n",
      " [3 4]\n",
      " [3 4]] \n",
      "X_test: [[1 2]\n",
      " [3 4]\n",
      " [1 2]\n",
      " [3 4]\n",
      " [3 4]\n",
      " [3 4]] \n",
      "y_train: [1 1 1 1] \n",
      "y_test: [0 1 2 3 4 1]\n",
      "X_train: [[1 2]\n",
      " [3 4]\n",
      " [1 2]\n",
      " [3 4]\n",
      " [3 4]\n",
      " [3 4]\n",
      " [3 4]\n",
      " [3 4]\n",
      " [3 4]] \n",
      "X_test: [[3 4]] \n",
      "y_train: [0 1 2 3 4 1 1 1 1] \n",
      "y_test: [1]\n",
      "X_train: [[1 2]\n",
      " [3 4]\n",
      " [1 2]\n",
      " [3 4]\n",
      " [3 4]\n",
      " [3 4]\n",
      " [3 4]\n",
      " [3 4]\n",
      " [3 4]] \n",
      "X_test: [[3 4]] \n",
      "y_train: [0 1 2 3 4 1 1 1 1] \n",
      "y_test: [1]\n",
      "X_train: [[1 2]\n",
      " [3 4]\n",
      " [1 2]\n",
      " [3 4]\n",
      " [3 4]\n",
      " [3 4]\n",
      " [3 4]\n",
      " [3 4]\n",
      " [3 4]] \n",
      "X_test: [[3 4]] \n",
      "y_train: [0 1 2 3 4 1 1 1 1] \n",
      "y_test: [1]\n",
      "X_train: [[1 2]\n",
      " [3 4]\n",
      " [1 2]\n",
      " [3 4]\n",
      " [3 4]\n",
      " [3 4]\n",
      " [3 4]\n",
      " [3 4]\n",
      " [3 4]] \n",
      "X_test: [[3 4]] \n",
      "y_train: [0 1 2 3 4 1 1 1 1] \n",
      "y_test: [1]\n"
     ]
    },
    {
     "name": "stderr",
     "output_type": "stream",
     "text": [
      "/anaconda3/lib/python3.7/site-packages/sklearn/model_selection/_split.py:652: Warning: The least populated class in y has only 1 members, which is too few. The minimum number of members in any class cannot be less than n_splits=5.\n",
      "  % (min_groups, self.n_splits)), Warning)\n"
     ]
    }
   ],
   "source": [
    "import numpy as np\n",
    "from sklearn.model_selection import StratifiedKFold\n",
    "\n",
    "X = np.array([[1, 2], [3, 4], [1, 2], [3, 4], [3, 4], [3, 4], [3, 4], [3, 4], [3, 4], [3, 4]])\n",
    "y = np.array([0, 1, 2, 3, 4, 1, 1, 1, 1, 1])\n",
    "\n",
    "# 5分割\n",
    "skf = StratifiedKFold(n_splits=5)\n",
    "\n",
    "for train_index, test_index in skf.split(X, y):\n",
    "    X_train, X_test = X[train_index], X[test_index]\n",
    "    y_train, y_test = y[train_index], y[test_index]\n",
    "    print(\"X_train:\", X_train, \"\\nX_test:\", X_test, \"\\ny_train:\", y_train, \"\\ny_test:\", y_test)"
   ]
  },
  {
   "cell_type": "markdown",
   "metadata": {},
   "source": [
    "* Home Credit Default Risk コンペティションのデータセットでやってみる\n",
    "* stratifyする"
   ]
  },
  {
   "cell_type": "code",
   "execution_count": 20,
   "metadata": {},
   "outputs": [
    {
     "name": "stdout",
     "output_type": "stream",
     "text": [
      "[ 61465  61466  61467 ... 307508 307509 307510]\n",
      "[    0     1     2 ... 61814 61816 61828]\n",
      "[     0      1      2 ... 307508 307509 307510]\n",
      "[ 61465  61466  61467 ... 123093 123094 123095]\n",
      "[     0      1      2 ... 307508 307509 307510]\n",
      "[121993 122029 122030 ... 184624 184625 184626]\n",
      "[     0      1      2 ... 307508 307509 307510]\n",
      "[183271 183273 183278 ... 246095 246097 246099]\n",
      "[     0      1      2 ... 246095 246097 246099]\n",
      "[244997 245014 245015 ... 307508 307509 307510]\n"
     ]
    }
   ],
   "source": [
    "import pandas as pd\n",
    "\n",
    "df_train = pd.read_csv('application_train.csv')\n",
    "\n",
    "# 説明変数\n",
    "X = df_train.drop(['SK_ID_CURR', 'TARGET'], axis = 1)\n",
    "\n",
    "# 目的変数\n",
    "y = df_train['TARGET']\n",
    "\n",
    "# 5分割\n",
    "skf = StratifiedKFold(n_splits=5)\n",
    "\n",
    "for train_index, test_index in skf.split(X, y):\n",
    "    print(train_index)\n",
    "    print(test_index)\n",
    "    # すげー出てくるのでコメントアウト\n",
    "    #X_train, X_test = X.iloc[train_index], X.iloc[test_index]\n",
    "    #y_train, y_test = y.iloc[train_index], y.iloc[test_index]\n",
    "    #print(\"X_train:\", X_train, \"\\nX_test:\", X_test, \"\\ny_train:\", y_train, \"\\ny_test:\", y_test)"
   ]
  },
  {
   "cell_type": "markdown",
   "metadata": {},
   "source": [
    "# 【問題2】グリッドサーチ\n",
    "* グリッドサーチをパイプラインの中に組み込む\n",
    "* ついでにパイプラインを修正、クロスバリデーションに対応した形にしたい"
   ]
  },
  {
   "cell_type": "code",
   "execution_count": null,
   "metadata": {},
   "outputs": [],
   "source": [
    "from sklearn.model_selection import train_test_split\n",
    "from sklearn import metrics\n",
    "\n",
    "def c_pipeline(data, clf_dict):\n",
    "    accuracy_dict = {}\n",
    "    confusion_matrix_dict = {}\n",
    "    \n",
    "    for i, clf_key in enumerate(clf_dict):\n",
    "        # データ分割\n",
    "        X_train, X_test, y_train, y_test = train_test_split(data[i]['X'], data[i]['y'])\n",
    "        \n",
    "        # 学習\n",
    "        clf_dict[clf_key].fit(X_train, y_train) \n",
    "\n",
    "        # 予測実施\n",
    "        y_pred = clf_dict[clf_key].predict(X_test)\n",
    "\n",
    "        \n",
    "        accuracy_dict[clf_key] = metrics.accuracy_score(y_test, y_pred)\n",
    "        \n",
    "        confusion_matrix_dict[clf_key] = metrics.confusion_matrix(y_test, y_pred)\n",
    "    \n",
    "    return accuracy_dict, confusion_matrix_dict"
   ]
  }
 ],
 "metadata": {
  "kernelspec": {
   "display_name": "Python 3",
   "language": "python",
   "name": "python3"
  },
  "language_info": {
   "codemirror_mode": {
    "name": "ipython",
    "version": 3
   },
   "file_extension": ".py",
   "mimetype": "text/x-python",
   "name": "python",
   "nbconvert_exporter": "python",
   "pygments_lexer": "ipython3",
   "version": "3.7.1"
  }
 },
 "nbformat": 4,
 "nbformat_minor": 2
}
