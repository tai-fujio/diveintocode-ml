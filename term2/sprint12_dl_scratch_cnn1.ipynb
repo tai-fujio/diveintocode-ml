{
 "cells": [
  {
   "cell_type": "markdown",
   "metadata": {
    "colab_type": "text",
    "id": "Qh_pLx1EUT9-"
   },
   "source": [
    "下ごしらえ"
   ]
  },
  {
   "cell_type": "code",
   "execution_count": 1,
   "metadata": {
    "colab": {
     "base_uri": "https://localhost:8080/",
     "height": 34
    },
    "colab_type": "code",
    "id": "6zN6LuTSUT9_",
    "outputId": "062e6b24-48c9-49ad-a73d-921f0dcc0dbd"
   },
   "outputs": [
    {
     "name": "stderr",
     "output_type": "stream",
     "text": [
      "Using TensorFlow backend.\n"
     ]
    }
   ],
   "source": [
    "import numpy as np\n",
    "from keras.datasets import mnist\n",
    "from sklearn.model_selection import train_test_split\n",
    "from sklearn.metrics import confusion_matrix\n",
    "from sklearn.metrics import accuracy_score\n",
    "import matplotlib.pyplot as plt\n",
    "import seaborn as sns\n",
    "import logging\n",
    "from datetime import datetime\n",
    "import time\n",
    "import sys\n",
    "# ライブラリまでのディレクトリ定義\n",
    "#sys.path.append('../ml-scratch/utils') \n",
    "sys.path.append('../') # colaboratory用\n",
    "\n",
    "import fc, get_mini_batch, relu, soft_max, sgd, he_initializer"
   ]
  },
  {
   "cell_type": "markdown",
   "metadata": {
    "colab_type": "text",
    "id": "6-b0LmYXVGs7"
   },
   "source": [
    "## 【問題1】チャンネル数を1に限定した1次元畳み込み層クラスの作成"
   ]
  },
  {
   "cell_type": "code",
   "execution_count": 0,
   "metadata": {
    "colab": {},
    "colab_type": "code",
    "id": "zAZ83L9yVI87"
   },
   "outputs": [],
   "source": [
    "import numpy as np\n",
    "\n",
    "class SimpleConv1d:\n",
    "    \"\"\"\n",
    "    チャンネル数を1に限定した1次元畳み込み層クラス\n",
    "    Parameters\n",
    "    ----------\n",
    "    initializer : 初期化方法のインスタンス\n",
    "    stride : int\n",
    "      ストライド\n",
    "    \"\"\"\n",
    "    \n",
    "    def __init__(self, W, B, optimizer, stride=1):\n",
    "        self.W = W\n",
    "        self.B = B\n",
    "        self.stride = stride\n",
    "        self.optimizer = optimizer\n",
    "        self.X = None\n",
    "        self.A = None\n",
    "        self.dW = np.zeros(len(W))\n",
    "        self.dX = None\n",
    "        \n",
    "        \n",
    "    def forward(self, X):\n",
    "        \"\"\"\n",
    "        フォワード\n",
    "        Parameters\n",
    "        ----------\n",
    "        X : 次の形のndarray, shape (batch_size, n_nodes1)\n",
    "            入力\n",
    "        Returns\n",
    "        ----------\n",
    "        A : 次の形のndarray, shape (batch_size, n_nodes2)\n",
    "            出力\n",
    "        \"\"\"\n",
    "        \n",
    "        self.X = X.copy()                                  # backwardで使うから\n",
    "        A = np.array([])                                   # 返却用\n",
    "        F_idx = np.arange(len(self.W))          # フィルタのindex\n",
    "        \n",
    "        # フィルタ終点がX終点にたどり着くまでやる\n",
    "        while F_idx[-1] <= len(self.X) - 1:\n",
    "            A = np.append(A, X[F_idx] @ self.W + self.B)\n",
    "            # フィルタをストライド分移動\n",
    "            F_idx += self.stride\n",
    "            \n",
    "        return A\n",
    "    \n",
    "    \n",
    "    def backward(self, y, A):\n",
    "        \"\"\"\n",
    "        バックワード\n",
    "        Parameters\n",
    "        ----------\n",
    "        y : 次の形のndarray, shape (batch_size, n_nodes2)\n",
    "            正解値\n",
    "        dA : 次の形のndarray, shape (batch_size, n_nodes2)\n",
    "            後ろから流れてきた勾配\n",
    "        Returns\n",
    "        ----------\n",
    "        dZ : 次の形のndarray, shape (batch_size, n_nodes1)\n",
    "            前に流す勾配\n",
    "        \"\"\"\n",
    "        \n",
    "        \n",
    "        self.dX = np.zeros(len(self.X))         # 初期化\n",
    "        self.dA = y - A                                     # パラメータ更新で使うためインスタンス変数化\n",
    "        \n",
    "        d_idx = np.arange(len(self.W))     # deltaX計算用index\n",
    "        \n",
    "        # deltaA分やる\n",
    "        for s in range(len(self.dA)):\n",
    "            self.dX[d_idx] += self.dA[s] * self.W\n",
    "            d_idx += 1    # 右方向\n",
    "                    \n",
    "        # self.W self.Bの更新\n",
    "        self = self.optimizer.update(self)\n",
    "        \n",
    "        return self.dX"
   ]
  },
  {
   "cell_type": "code",
   "execution_count": 0,
   "metadata": {
    "colab": {},
    "colab_type": "code",
    "id": "1b9-uEEnATVJ"
   },
   "outputs": [],
   "source": [
    "import numpy as np\n",
    "\n",
    "class SGDCNN:\n",
    "    \"\"\"\n",
    "    確率的勾配降下法\n",
    "    Parameters\n",
    "    ----------\n",
    "    lr : 学習率\n",
    "    \"\"\"\n",
    "    \n",
    "    def __init__(self, lr):\n",
    "        self.lr = lr\n",
    "        \n",
    "        \n",
    "    def update(self, layer):\n",
    "        \"\"\"\n",
    "        ある層の重みやバイアスの更新\n",
    "        Parameters\n",
    "        ----------\n",
    "        layer : 更新前の層のインスタンス\n",
    "\n",
    "        Returns\n",
    "        ----------\n",
    "        layer : 更新後の層のインスタンス\n",
    "        \"\"\"\n",
    "        \n",
    "        i_s_idx = np.arange(len(layer.W))     # deltaX計算用index\n",
    "        \n",
    "        # deltaA分やる\n",
    "        for s in range(len(layer.dA)):\n",
    "            layer.dW += layer.dA[s] * layer.X[i_s_idx]\n",
    "            i_s_idx += 1     # 右方向\n",
    "            \n",
    "        layer.W -= self.lr * layer.dW                # 重さ更新\n",
    "        \n",
    "        layer.dB = np.sum(layer.dA, axis=0)\n",
    "        layer.B -= self.lr * layer.dB                   # バイアス更新\n",
    "        \n",
    "        return layer"
   ]
  },
  {
   "cell_type": "markdown",
   "metadata": {
    "colab_type": "text",
    "id": "nQlZejnUATVL"
   },
   "source": [
    "## 【問題2】1次元畳み込み後の出力サイズの計算"
   ]
  },
  {
   "cell_type": "code",
   "execution_count": 0,
   "metadata": {
    "colab": {},
    "colab_type": "code",
    "id": "5KjrBoakVdrP"
   },
   "outputs": [],
   "source": [
    "def calc_output_size(n_in_size, f_size, st_size=1, pd_size=0):\n",
    "    return int(1 + (n_in_size + (2 * pd_size) - f_size / st_size))"
   ]
  },
  {
   "cell_type": "markdown",
   "metadata": {
    "colab_type": "text",
    "id": "1yVQhur4VuXr"
   },
   "source": [
    "## 【問題3】小さな配列での1次元畳み込み層の実験"
   ]
  },
  {
   "cell_type": "code",
   "execution_count": 5,
   "metadata": {
    "colab": {
     "base_uri": "https://localhost:8080/",
     "height": 102
    },
    "colab_type": "code",
    "id": "qh504Zi6Vw-S",
    "outputId": "f39d1370-bd3e-4392-d7f7-d2578208dbdf"
   },
   "outputs": [
    {
     "name": "stdout",
     "output_type": "stream",
     "text": [
      "A : [35. 50.]\n",
      "A no outputsize : 2\n",
      "dW : [ 50.  80. 110.]\n",
      "dB : 30.0\n",
      "dX : [ 30. 110. 170. 140.]\n"
     ]
    }
   ],
   "source": [
    "x = np.array([1,2,3,4]).astype(np.float)    # float型じゃないとブロードキャストできない\n",
    "w = np.array([3, 5, 7]).astype(np.float)     # めんどくさいのでクラスで型変換は後回し\n",
    "b = 1\n",
    "\n",
    "sc1 = SimpleConv1d(w, b, SGDCNN(0.1))\n",
    "A = sc1.forward(x)\n",
    "print('A : %s' % A)\n",
    "print('A no outputsize : %s' % calc_output_size(len(sc1.X), len(sc1.W)))\n",
    "\n",
    "# 誤差\n",
    "y = np.array([45, 70])\n",
    "\n",
    "dX = sc1.backward(y, A)\n",
    "dW = sc1.dW\n",
    "dB = sc1.dB\n",
    "print('dW : %s' % dW)\n",
    "print('dB : %s' % dB)\n",
    "print('dX : %s' % dX)"
   ]
  },
  {
   "cell_type": "code",
   "execution_count": 6,
   "metadata": {
    "colab": {
     "base_uri": "https://localhost:8080/",
     "height": 102
    },
    "colab_type": "code",
    "id": "WqxZJauoATVT",
    "outputId": "1b5b1541-d2a5-4de5-c116-2909cd61aad3"
   },
   "outputs": [
    {
     "name": "stdout",
     "output_type": "stream",
     "text": [
      "A : [ 71. 104. 135.]\n",
      "A no outputsize : 3\n",
      "dW : [-259. -374. -544. -693.]\n",
      "dB : -115.0\n",
      "dX : [ -78. -232. -517. -747. -691. -495.]\n"
     ]
    }
   ],
   "source": [
    "x = np.array([1,2,3,4,6,7]).astype(np.float)\n",
    "w = np.array([3, 5, 7,9]).astype(np.float)\n",
    "b = 1\n",
    "\n",
    "sc1 = SimpleConv1d(w, b, SGDCNN(0.1))\n",
    "A = sc1.forward(x)\n",
    "print('A : %s' % A)\n",
    "print('A no outputsize : %s' % calc_output_size(len(sc1.X), len(sc1.W)))\n",
    "\n",
    "# 誤差\n",
    "y = np.array([45, 70, 80])\n",
    "\n",
    "dX = sc1.backward(y, A)\n",
    "dW = sc1.dW\n",
    "dB = sc1.dB\n",
    "print('dW : %s' % dW)\n",
    "print('dB : %s' % dB)\n",
    "print('dX : %s' % dX)"
   ]
  },
  {
   "cell_type": "markdown",
   "metadata": {
    "colab_type": "text",
    "id": "u7tLxE8mWMfQ"
   },
   "source": [
    "## 【問題4】チャンネル数を限定しない1次元畳み込み層クラスの作成\n",
    "## 【問題8】（アドバンス課題）任意のストライド数\n",
    "\n",
    "メモ：conv1D → H=1である必要がある"
   ]
  },
  {
   "cell_type": "code",
   "execution_count": 0,
   "metadata": {
    "colab": {},
    "colab_type": "code",
    "id": "X1-Sl13mWRud"
   },
   "outputs": [],
   "source": [
    "import numpy as np\n",
    "\n",
    "class Conv1d:\n",
    "    \"\"\"\n",
    "    チャンネル数を1に限定した1次元畳み込み層クラス\n",
    "    Parameters\n",
    "    ----------\n",
    "    initializer : 初期化方法のインスタンス\n",
    "    stride : int\n",
    "      ストライド\n",
    "    \"\"\"\n",
    "    \n",
    "    def __init__(self, W, B, optimizer, stride=1, pad=0):\n",
    "        self.W = W\n",
    "        self.B = B\n",
    "        self.stride = stride\n",
    "        self.pad = pad\n",
    "        self.optimizer = optimizer\n",
    "        self.X = None\n",
    "        self.A = None\n",
    "        self.dW = None\n",
    "        self.dX = None\n",
    "        \n",
    "        \n",
    "    def forward(self, X):\n",
    "        \"\"\"\n",
    "        フォワード\n",
    "        Parameters\n",
    "        ----------\n",
    "        X : 次の形のndarray, shape (batch_size, n_nodes1)\n",
    "            入力\n",
    "        Returns\n",
    "        ----------\n",
    "        A : 次の形のndarray, shape (batch_size, n_nodes2)\n",
    "            出力\n",
    "        \"\"\"\n",
    "        \n",
    "        if X.ndim < 3:\n",
    "            X = X[np.newaxis, :, :]\n",
    "            \n",
    "        self.X = X.copy()                                  # backwardで使うから\n",
    "        A = np.array([])                                   # 返却用\n",
    "        \n",
    "        S, C, W = X.shape\n",
    "        FN, C, FW = self.W.shape\n",
    "        \n",
    "        col = np.empty((0, FW * C))\n",
    "        col_W = self.W.reshape(FN, -1).T      # フィルタを平坦化\n",
    "        F_idx = np.arange(FW)                         # フィルタのindex\n",
    "        \n",
    "        while F_idx[-1] <= W - 1:                      # フィルタ終点がX終点にたどり着くまでやる\n",
    "            col = np.append(col, [X[:, :, F_idx].ravel()], axis=0)\n",
    "            F_idx += self.stride\n",
    "            \n",
    "        A = col @ col_W + self.B\n",
    "        \n",
    "        self.AC, self.AW = A.T.shape\n",
    "        \n",
    "        return A.T\n",
    "    \n",
    "    \n",
    "    def backward(self, A):\n",
    "        \"\"\"\n",
    "        バックワード\n",
    "        Parameters\n",
    "        ----------\n",
    "        y : 次の形のndarray, shape (batch_size, n_nodes2)\n",
    "            正解値\n",
    "        dA : 次の形のndarray, shape (batch_size, n_nodes2)\n",
    "            後ろから流れてきた勾配\n",
    "        Returns\n",
    "        ----------\n",
    "        dZ : 次の形のndarray, shape (batch_size, n_nodes1)\n",
    "            前に流す勾配\n",
    "        \"\"\"\n",
    "        \n",
    "        self.dX = np.zeros(self.X.shape)         # 初期化\n",
    "        self.dA = A.reshape((self.AC, self.AW))  # パラメータ更新で使うためインスタンス変数化\n",
    "        \n",
    "        S, C, W = self.dX.shape\n",
    "        FN, C, FW = self.W.shape\n",
    "        \n",
    "        W = np.sum(self.W.reshape(FW, -1), axis=1)\n",
    "        for i in range(S):                                            # バッチサイズ分ループ\n",
    "            for j in range(C):                                        # チャンネル数分ループ\n",
    "                d_idx = np.arange(FW)                        # deltaX計算用index\n",
    "                for s in range(self.dA.shape[1]):\n",
    "                    self.dX[i, j, d_idx] += np.sum(self.dA[:, s]) * W\n",
    "                    d_idx += 1    # 右方向\n",
    "        \n",
    "        # self.W self.Bの更新\n",
    "        self = self.optimizer.update(self)\n",
    "        \n",
    "        return self.dX"
   ]
  },
  {
   "cell_type": "code",
   "execution_count": 0,
   "metadata": {
    "colab": {},
    "colab_type": "code",
    "id": "3VoNFqB7ATVZ"
   },
   "outputs": [],
   "source": [
    "import numpy as np\n",
    "\n",
    "class SGDCNN:\n",
    "    \"\"\"\n",
    "    確率的勾配降下法\n",
    "    Parameters\n",
    "    ----------\n",
    "    lr : 学習率\n",
    "    \"\"\"\n",
    "    \n",
    "    def __init__(self, lr):\n",
    "        self.lr = lr\n",
    "        \n",
    "        \n",
    "    def update(self, layer):\n",
    "        \"\"\"\n",
    "        ある層の重みやバイアスの更新\n",
    "        Parameters\n",
    "        ----------\n",
    "        layer : 更新前の層のインスタンス\n",
    "\n",
    "        Returns\n",
    "        ----------\n",
    "        layer : 更新後の層のインスタンス\n",
    "        \"\"\"\n",
    "        \n",
    "        FN, C, FW = layer.W.shape\n",
    "        layer.dW = np.zeros((C, FW))\n",
    "        \n",
    "        for i in range(C):\n",
    "            i_s_idx = np.arange(FW)     # deltaX計算用index\n",
    "            for s in range(layer.dA.shape[1]):\n",
    "                layer.dW[i] += np.sum(layer.dA[:, s]) * np.sum(layer.X[:, i, i_s_idx], axis=0)\n",
    "                i_s_idx += 1     # 右方向\n",
    "            \n",
    "        layer.W -= self.lr * layer.dW                # 重さ更新\n",
    "        \n",
    "        layer.dB = np.sum(layer.dA, axis=1)\n",
    "        layer.B -= self.lr * layer.dB                   # バイアス更新\n",
    "        \n",
    "        return layer"
   ]
  },
  {
   "cell_type": "code",
   "execution_count": 9,
   "metadata": {
    "colab": {
     "base_uri": "https://localhost:8080/",
     "height": 272
    },
    "colab_type": "code",
    "id": "wsZS9iwDATVc",
    "outputId": "8f42fefb-b90d-4e3f-a510-0333ad4f0533",
    "scrolled": true
   },
   "outputs": [
    {
     "name": "stdout",
     "output_type": "stream",
     "text": [
      "A : [16. 22. 17. 23. 18. 24.]\n",
      "dW : [[189. 309. 429.]\n",
      " [309. 429. 549.]]\n",
      "W : [[[-17.9 -29.9 -41.9]\n",
      "  [-29.9 -41.9 -53.9]]\n",
      "\n",
      " [[-17.9 -29.9 -41.9]\n",
      "  [-29.9 -41.9 -53.9]]\n",
      "\n",
      " [[-17.9 -29.9 -41.9]\n",
      "  [-29.9 -41.9 -53.9]]]\n",
      "dB : [38. 40. 42.]\n",
      "B : [-2.8 -2.  -1.2]\n",
      "dX : [[[306. 720. 720. 414.]\n",
      "  [306. 720. 720. 414.]]]\n"
     ]
    }
   ],
   "source": [
    "x = np.array([[[1, 2, 3, 4], [2, 3, 4, 5]]]).astype(np.float) # shape(1, 2, 4)で、（バッチサイズ, 入力チャンネル数、特徴量数）である。\n",
    "w = np.ones((3, 2, 3)).astype(np.float) # 例の簡略化のため全て1とする。(出力チャンネル数、入力チャンネル数、フィルタサイズ)である。\n",
    "b = np.array([1, 2, 3]).astype(np.float) # （出力チャンネル数）\n",
    "c1 = Conv1d(w, b, SGDCNN(0.1))\n",
    "A = c1.forward(x)\n",
    "\n",
    "A = A.ravel()\n",
    "\n",
    "dX = c1.backward(A)\n",
    "\n",
    "print('A : %s' % A.T)\n",
    "print('dW : %s' % c1.dW)\n",
    "print('W : %s' % c1.W)\n",
    "print('dB : %s' % c1.dB)\n",
    "print('B : %s' % c1.B)\n",
    "print('dX : %s' % dX)"
   ]
  },
  {
   "cell_type": "code",
   "execution_count": 10,
   "metadata": {
    "colab": {
     "base_uri": "https://localhost:8080/",
     "height": 204
    },
    "colab_type": "code",
    "id": "UP4aHrIcATVe",
    "outputId": "fd8fc1a7-7ed1-47b9-de46-5e88f493ebe6"
   },
   "outputs": [
    {
     "name": "stdout",
     "output_type": "stream",
     "text": [
      "A : [[28. 37.]\n",
      " [29. 38.]\n",
      " [30. 39.]\n",
      " [31. 40.]]\n",
      "dW : [[ 426.  698.  970.]\n",
      " [ 698.  970. 1242.]\n",
      " [ 970. 1242. 1514.]]\n",
      "dB : [65. 67. 69. 71.]\n",
      "dX : [[[1416. 3264. 3264. 1848.]\n",
      "  [1416. 3264. 3264. 1848.]\n",
      "  [1416. 3264. 3264. 1848.]]]\n"
     ]
    }
   ],
   "source": [
    "x = np.array([[[1, 2, 3, 4], [2, 3, 4, 5], [3, 4, 5, 6]]]).astype(np.float)\n",
    "w = np.ones((4, 3, 3)).astype(np.float)\n",
    "b = np.array([1, 2, 3, 4]).astype(np.float)\n",
    "\n",
    "c1 = Conv1d(w, b, SGDCNN(0.1))\n",
    "A = c1.forward(x)\n",
    "\n",
    "dX = c1.backward(A)\n",
    "\n",
    "print('A : %s' % A)\n",
    "print('dW : %s' % c1.dW)\n",
    "print('dB : %s' % c1.dB)\n",
    "print('dX : %s' % dX)"
   ]
  },
  {
   "cell_type": "markdown",
   "metadata": {
    "colab_type": "text",
    "id": "9Ca3XL2XUT-J"
   },
   "source": [
    "## 【問題5】学習・推定\n",
    "## CNN分類器クラスの作成\n",
    "- バッチサイズ1にしか対応していないため、X_trainのsample数を60000 → 6000に変更して行う"
   ]
  },
  {
   "cell_type": "code",
   "execution_count": 0,
   "metadata": {
    "colab": {},
    "colab_type": "code",
    "id": "yGQ-6OvQUT-J"
   },
   "outputs": [],
   "source": [
    "import numpy as np\n",
    "import logging                                                                     # ログ\n",
    "from datetime import datetime                                        # 時間のやつ\n",
    "from sklearn.preprocessing import OneHotEncoder       # ワンホットのやつ\n",
    "from tqdm import tqdm                                                     # 進捗バーを出してくれるやつ\n",
    "\n",
    "\n",
    "class Scratch1dCNNClassifier():\n",
    "    \"\"\"\n",
    "    ニューラルネットワーク分類器\n",
    "    \"\"\"\n",
    "\n",
    "    def __init__(self, batch_size=1, n_epochs=5,  n_nodes=200, layer=4, verbose=True,\n",
    "                            sigma=1e-2, lr=1e-2, filter_n=3, filter_w=3, filter_c=1, activation=None, optimizer='sgd'):\n",
    "\n",
    "        self.batch_size = batch_size     # バッチサイズ\n",
    "        self.n_epochs = n_epochs         # エポック数 \n",
    "        self.n_input = n_nodes              # 初回のノード数\n",
    "        self.layer = layer                          # 層の数\n",
    "        self.verbose = verbose               # 学習過程出力フラグ\n",
    "        self.activation = activation        #活性化関数(文字列)\n",
    "        self.lr = lr                                      # 学習率\n",
    "        self.filter_n = filter_n                 # フィルタ枚数\n",
    "        self.filter_w = filter_w                # フィルタwidth\n",
    "        self.filter_c = filter_c                  # フィルタチャネル数\n",
    "        self.layer_instances = []             # 各層インスタンス格納用\n",
    "        self.activations = []                     # 活性化関数インスタンス格納用\n",
    "        self.loss_ = []                              # 学習用データの学習過程格納用\n",
    "        self.loss_val_ = []                       # 検証用データの学習過程格納用\n",
    "        \n",
    "        # 初期化・最適化クラスインスタンス作成\n",
    "        if activation == 'relu':\n",
    "            self.initializer = he_initializer.HeInitializer()\n",
    "        else:\n",
    "            self.initializer = XavierInitializer()\n",
    "        \n",
    "        if optimizer == 'sgd':\n",
    "            self.optimizer = sgd.SGD(lr)\n",
    "        elif optimizer == 'adagrad':\n",
    "            self.optimizer = AdaGrad(lr)\n",
    "            \n",
    "        # ワンホットライブラリのインスタンス作成\n",
    "        self.enc = OneHotEncoder(handle_unknown='ignore', sparse=False)\n",
    "        \n",
    "        # ログレベルを DEBUG に変更\n",
    "        time_stamp = datetime.now().strftime('%Y%m%d')\n",
    "        logging.basicConfig(filename='../tmp/sprint11_' + time_stamp + '.log', level=logging.DEBUG)\n",
    "        \n",
    "    \n",
    "    def fit(self, X, y, X_val=None, y_val=None):\n",
    "        \"\"\"\n",
    "        ニューラルネットワーク分類器を学習する。\n",
    "\n",
    "        Parameters\n",
    "        ----------\n",
    "        X : 次の形のndarray, shape (n_samples, n_features)\n",
    "            学習用データの特徴量\n",
    "        y : 次の形のndarray, shape (n_samples, )\n",
    "            学習用データの正解値\n",
    "        X_val : 次の形のndarray, shape (n_samples, n_features)\n",
    "            検証用データの特徴量\n",
    "        y_val : 次の形のndarray, shape (n_samples, )\n",
    "            検証用データの正解値\n",
    "        \"\"\"\n",
    "        \n",
    "        # ワンホット化\n",
    "        y = self.enc.fit_transform(y[:, np.newaxis])\n",
    "        \n",
    "        # 検証用データがある場合\n",
    "        if X_val is not None:\n",
    "            y_val= self.enc.fit_transform(y_val[:, np.newaxis])\n",
    "\n",
    "        # 初期化\n",
    "        n_nodes1 = self.n_input\n",
    "        out_w = calc_output_size(X.shape[2], 3)\n",
    "        n_features = out_w * self.filter_n\n",
    "        n_output = y.shape[1]\n",
    "        \n",
    "        # 各層のFCインスタンス作成\n",
    "        for i in range(self.layer):\n",
    "            if i == (self.layer - 1):     # 出力層\n",
    "                ins = fc.FC(n_nodes2, n_output, self.initializer, self.optimizer)\n",
    "                act_ins = soft_max.Softmax()\n",
    "            else:\n",
    "                if i == 0:                       # 入力層(conv)\n",
    "                    W = np.ones((self.filter_n, self.filter_c, self.filter_w)).astype(np.float)\n",
    "                    b = np.ones(self.filter_n).astype(np.float)\n",
    "                    ins = Conv1d(W, b, SGDCNN(self.lr))\n",
    "                elif i == 1:\n",
    "                    ins = fc.FC(n_features, n_nodes1, self.initializer, self.optimizer)\n",
    "                else:\n",
    "                    n_nodes2 = int(n_nodes1 / 2)\n",
    "                    ins = fc.FC(n_nodes1, n_nodes2, self.initializer, self.optimizer)\n",
    "                    n_nodes1 = n_nodes2\n",
    "                \n",
    "                # 出力層以外は指定された活性化関数をインスタンス化\n",
    "                if self.activation == 'sigmoid':\n",
    "                    act_ins = sigmoid.Sigmoid()\n",
    "                elif self.activation == 'tanh':\n",
    "                    act_ins = tanh.Tanh()\n",
    "                elif self.activation == 'relu':\n",
    "                    act_ins = relu.ReLU()\n",
    "                \n",
    "            self.layer_instances.append(ins)                           # 各自格納\n",
    "            self.activations.append(act_ins)\n",
    "\n",
    "\n",
    "        for e in tqdm(range(self.n_epochs)):\n",
    "            # ミニバッチ化\n",
    "            gmb = get_mini_batch.GetMiniBatch(X, y, batch_size=self.batch_size)\n",
    "            # ロス格納用\n",
    "            loss_ary = []\n",
    "            \n",
    "            # Xのn_samples / batch_size数分ループ処理\n",
    "            for mini_X_train, mini_y_train in gmb:\n",
    "                # forward propagation\n",
    "                for i in range(self.layer):\n",
    "                    if i == 0:                              # 入力層\n",
    "                        A = self.layer_instances[i].forward(mini_X_train)\n",
    "                        A = A.ravel()[np.newaxis, :]\n",
    "                        Z = self.activations[i].forward(A)\n",
    "                    else:\n",
    "                        A = self.layer_instances[i].forward(Z)\n",
    "                        Z = self.activations[i].forward(A)\n",
    "                \n",
    "                # back propagation\n",
    "                for i in range(self.layer):\n",
    "                    n_FC = self.layer - i - 1      # インスタンス逆指定用\n",
    "                    if i == 0:                               # 出力層\n",
    "                        dA, loss = self.activations[n_FC].backward(Z, mini_y_train)\n",
    "                        loss_ary.append(loss)\n",
    "                    else:                                     # 入力層\n",
    "                        dA = self.activations[n_FC].backward(dZ)\n",
    "                        \n",
    "                    dZ = self.layer_instances[n_FC].backward(dA)\n",
    "\n",
    "                    \n",
    "            #誤差を格納\n",
    "            self.loss_.append(np.mean(loss_ary))\n",
    "                        \n",
    "            # 検証用データがある場合\n",
    "            if X_val is not None:\n",
    "                # forward propagation\n",
    "                for i in range(self.layer):\n",
    "                    if i == 0:                              # 入力層\n",
    "                        A = self.layer_instances[i].forward(X_val)\n",
    "                        A = A.ravel()[np.newaxis, :]\n",
    "                        Z = self.activations[i].forward(A)\n",
    "                    else:\n",
    "                        A = self.layer_instances[i].forward(Z)\n",
    "                        Z = self.activations[i].forward(A)\n",
    "                \n",
    "                dA, loss_val = self.activations[self.layer-1].backward(Z, y_val)\n",
    "\n",
    "                #誤差を格納\n",
    "                self.loss_val_.append(np.mean(loss_val))\n",
    "                            \n",
    "\n",
    "            # フラグがTrueであればログ出力\n",
    "            if self.verbose:\n",
    "                logging.info('forward propagation %sエポック目 sum: %s shape: %s', e+1, np.sum(A), A.shape)\n",
    "                logging.info('forward propagation %sエポック目 sum: %s shape: %s', e+1, np.sum(Z), Z.shape)\n",
    "                logging.info('backward propagation %sエポック目 sum: %s shape: %s', e+1, np.sum(dA), dA.shape)\n",
    "                logging.info('backward propagation %sエポック目 sum: %s shape: %s', e+1, np.sum(dZ), dZ.shape)\n",
    "                logging.info('loss %sエポック目 : %s', e+1, np.sum(loss))\n",
    "\n",
    "        return self\n",
    "\n",
    "\n",
    "    def predict(self, X, y):\n",
    "        \"\"\"\n",
    "        ニューラルネットワーク分類器を使い推定する。\n",
    "\n",
    "        Parameters\n",
    "        ----------\n",
    "        X : 次の形のndarray, shape (n_samples, n_features)\n",
    "            学習データ\n",
    "\n",
    "        Returns\n",
    "        -------\n",
    "        y_pred :  次の形のndarray, shape (n_samples, 1)\n",
    "            推定結果\n",
    "        \"\"\"\n",
    "        \n",
    "        # ミニバッチ化\n",
    "        gmb = get_mini_batch.GetMiniBatch(X, y, batch_size=self.batch_size)\n",
    "        # ロス格納用\n",
    "        y_pred = np.empty(len(y))\n",
    "        print(y_pred.shape)\n",
    "        cnt = 0\n",
    "\n",
    "        # Xのn_samples / batch_size数分ループ処理\n",
    "        for mini_X_train, _ in gmb:\n",
    "            for i in range(self.layer):\n",
    "                if i == 0:                              # 入力層\n",
    "                    A = self.layer_instances[i].forward(mini_X_train)\n",
    "                    A = A.ravel()[np.newaxis, :]\n",
    "                    Z = self.activations[i].forward(A)\n",
    "                else:\n",
    "                    A = self.layer_instances[i].forward(Z)\n",
    "                    Z = self.activations[i].forward(A)\n",
    "                \n",
    "            y_pred[cnt] = np.argmax(Z[0], axis=0)\n",
    "            cnt += 1\n",
    "            \n",
    "        # 一番確率が高いラベルを予測値に\n",
    "        \n",
    "        \n",
    "        return y_pred\n",
    "    "
   ]
  },
  {
   "cell_type": "code",
   "execution_count": 0,
   "metadata": {
    "colab": {},
    "colab_type": "code",
    "id": "611f-4PPFtc0"
   },
   "outputs": [],
   "source": [
    "(X_train, y_train), (X_test, y_test) = mnist.load_data()\n",
    "\n",
    "# 平坦化\n",
    "X_train = X_train.reshape(-1, 784)\n",
    "X_test = X_test.reshape(-1, 784)\n",
    "\n",
    "# 前処理\n",
    "X_train = X_train.astype(np.float)\n",
    "X_test = X_test.astype(np.float)\n",
    "X_train /= 255\n",
    "X_test /= 255\n",
    "\n",
    "# どでかいので少なくする\n",
    "X_train = X_train[:3000, np.newaxis, :]\n",
    "y_train = y_train[:3000]\n",
    "\n",
    "# 学習データをスプリット\n",
    "X_train, X_val, y_train, y_val = train_test_split(X_train, y_train, test_size=0.2)"
   ]
  },
  {
   "cell_type": "code",
   "execution_count": 13,
   "metadata": {
    "colab": {
     "base_uri": "https://localhost:8080/",
     "height": 51
    },
    "colab_type": "code",
    "id": "OVv8slGW82hW",
    "outputId": "679e2f2b-1623-41db-9d53-0b2d8342b788"
   },
   "outputs": [
    {
     "name": "stderr",
     "output_type": "stream",
     "text": [
      "100%|██████████| 5/5 [09:56<00:00, 119.34s/it]\n"
     ]
    },
    {
     "data": {
      "text/plain": [
       "<__main__.Scratch1dCNNClassifier at 0x7f146d1eb278>"
      ]
     },
     "execution_count": 13,
     "metadata": {
      "tags": []
     },
     "output_type": "execute_result"
    }
   ],
   "source": [
    "sdnnc= Scratch1dCNNClassifier(activation='relu')\n",
    "\n",
    "sdnnc.fit(X_train, y_train)"
   ]
  },
  {
   "cell_type": "code",
   "execution_count": 14,
   "metadata": {
    "colab": {
     "base_uri": "https://localhost:8080/",
     "height": 295
    },
    "colab_type": "code",
    "id": "0_7p2JEyOa9Q",
    "outputId": "e84c4e0b-014d-4821-89f7-bee2ba850edf"
   },
   "outputs": [
    {
     "data": {
      "image/png": "[encoded data removed]",
      "text/plain": [
       "<Figure size 432x288 with 1 Axes>"
      ]
     },
     "metadata": {
      "tags": []
     },
     "output_type": "display_data"
    }
   ],
   "source": [
    "train_loss = np.array(sdnnc.loss_)\n",
    "\n",
    "plt.title(\"Learning Curve\")\n",
    "plt.xlabel(\"epoch\")\n",
    "plt.ylabel(\"loss\")\n",
    "\n",
    "# Traing score\n",
    "plt.plot(train_loss, 'o-', color=\"r\", label=\"Train\")\n",
    "\n",
    "plt.legend(loc=1)\n",
    "plt.show()"
   ]
  },
  {
   "cell_type": "code",
   "execution_count": 15,
   "metadata": {
    "colab": {
     "base_uri": "https://localhost:8080/",
     "height": 646
    },
    "colab_type": "code",
    "id": "FwULO2j9GioF",
    "outputId": "99a99590-fc04-40e0-cc98-5a015b577828"
   },
   "outputs": [
    {
     "name": "stdout",
     "output_type": "stream",
     "text": [
      "(600,)\n",
      "[5. 6. 7. 8. 2. 2. 6. 3. 7. 7. 5. 0. 0. 1. 8. 9. 9. 2. 0. 1. 6. 6. 1. 5.\n",
      " 9. 3. 1. 9. 1. 9. 5. 0. 9. 0. 5. 7. 2. 4. 3. 1. 3. 6. 4. 6. 2. 0. 0. 9.\n",
      " 3. 1. 0. 0. 4. 6. 6. 4. 3. 5. 8. 1. 1. 8. 8. 1. 4. 4. 5. 1. 3. 4. 3. 4.\n",
      " 2. 1. 1. 3. 1. 2. 8. 7. 4. 3. 2. 0. 6. 1. 0. 6. 5. 9. 0. 2. 2. 4. 2. 1.\n",
      " 0. 0. 5. 0. 5. 3. 0. 6. 5. 2. 2. 0. 6. 0. 1. 1. 7. 6. 8. 5. 6. 7. 7. 6.\n",
      " 0. 1. 0. 4. 3. 0. 7. 1. 4. 2. 2. 2. 5. 6. 6. 7. 4. 0. 1. 4. 9. 2. 6. 0.\n",
      " 1. 2. 6. 3. 1. 0. 4. 6. 3. 9. 6. 3. 9. 8. 3. 8. 4. 3. 6. 3. 6. 5. 9. 9.\n",
      " 6. 1. 7. 0. 4. 6. 4. 8. 9. 7. 4. 1. 9. 4. 6. 5. 3. 7. 4. 5. 5. 9. 4. 9.\n",
      " 2. 8. 2. 8. 6. 4. 8. 4. 8. 2. 6. 4. 3. 3. 1. 3. 7. 3. 4. 3. 5. 7. 8. 2.\n",
      " 5. 4. 6. 5. 5. 2. 6. 9. 9. 0. 1. 6. 5. 0. 0. 5. 2. 7. 3. 1. 2. 2. 7. 0.\n",
      " 5. 1. 5. 3. 4. 9. 5. 3. 1. 7. 1. 2. 4. 7. 7. 7. 0. 4. 3. 1. 8. 3. 9. 5.\n",
      " 4. 5. 5. 0. 7. 2. 7. 9. 9. 1. 7. 1. 2. 3. 0. 6. 1. 1. 2. 4. 6. 3. 9. 0.\n",
      " 9. 2. 4. 5. 1. 2. 0. 7. 1. 7. 3. 8. 2. 8. 3. 2. 4. 1. 4. 1. 8. 0. 5. 7.\n",
      " 4. 9. 0. 2. 6. 7. 6. 1. 3. 2. 9. 8. 8. 8. 3. 2. 6. 5. 9. 8. 8. 3. 7. 1.\n",
      " 3. 9. 3. 1. 2. 2. 5. 3. 5. 4. 1. 3. 0. 9. 7. 4. 6. 3. 1. 1. 0. 4. 2. 6.\n",
      " 6. 7. 3. 9. 1. 3. 5. 3. 1. 9. 1. 7. 1. 2. 1. 6. 0. 2. 6. 9. 0. 3. 8. 1.\n",
      " 1. 7. 4. 3. 9. 0. 0. 7. 2. 5. 4. 5. 7. 2. 2. 9. 4. 1. 5. 5. 9. 4. 6. 7.\n",
      " 6. 2. 0. 6. 6. 8. 7. 9. 8. 6. 7. 5. 7. 2. 4. 2. 0. 1. 6. 0. 3. 4. 6. 5.\n",
      " 2. 2. 9. 4. 5. 4. 5. 3. 2. 6. 4. 6. 7. 3. 2. 6. 5. 6. 1. 1. 8. 9. 2. 8.\n",
      " 7. 2. 4. 2. 0. 2. 0. 7. 4. 6. 7. 8. 9. 2. 8. 4. 4. 0. 5. 2. 5. 9. 1. 5.\n",
      " 4. 3. 3. 7. 2. 9. 2. 4. 2. 1. 1. 3. 0. 6. 1. 3. 1. 6. 1. 2. 4. 9. 6. 6.\n",
      " 0. 9. 1. 8. 0. 3. 9. 6. 7. 7. 7. 4. 1. 7. 1. 8. 5. 9. 2. 0. 4. 3. 2. 6.\n",
      " 1. 9. 9. 7. 2. 7. 2. 7. 7. 1. 0. 3. 7. 4. 8. 4. 9. 3. 3. 9. 5. 4. 6. 1.\n",
      " 7. 3. 1. 7. 8. 6. 0. 7. 7. 1. 9. 6. 9. 8. 3. 4. 2. 8. 7. 1. 5. 3. 9. 1.\n",
      " 3. 7. 6. 5. 5. 4. 8. 4. 1. 1. 3. 1. 1. 2. 4. 5. 4. 0. 5. 9. 9. 4. 1. 5.]\n",
      "[[ 5 11  8  8  7  5  1  5  4  4]\n",
      " [ 5 12  8  8  6  8  9  7  3  7]\n",
      " [ 9 13  7 11  5  8  6  3  4  4]\n",
      " [ 5  6  7  7  9  4  7  8  3  3]\n",
      " [ 8  3  5  2  5  5  9  8  5  9]\n",
      " [ 7  6  7  8  3  6  4  9  5  2]\n",
      " [ 7  7  7  5 11  7  7  5  3  6]\n",
      " [ 2  9 10  7  9  1  9  4  4  6]\n",
      " [ 2  4  5  4  3  5  2  6  3  7]\n",
      " [ 5  7  4  3  8  6  9  4  4  7]]\n",
      "0.105\n"
     ]
    }
   ],
   "source": [
    "# 予測\n",
    "y_pred = sdnnc.predict(X_val, y_val)\n",
    "print(y_pred)\n",
    "print(confusion_matrix(y_val, y_pred))\n",
    "print(accuracy_score(y_val, y_pred))"
   ]
  },
  {
   "cell_type": "markdown",
   "metadata": {
    "colab_type": "text",
    "id": "gfp2JmMz2rsf"
   },
   "source": [
    "ひどい。  \n",
    "<br>\n",
    "ものすごい学習に時間がかかるため\n",
    "- バッチサイズを大きくする\n",
    "- パディングを行う\n",
    "- 2d以上にする  \n",
    "場合は畳み込み時の処理を最適化(=im2col, col2imなどのライブラリを使う？)必要がありそうと感じた  \n",
    "<br>\n",
    "\n",
    "- 【問題6】（アドバンス課題）パディングの実装\n",
    "- 【問題7】（アドバンス課題）ミニバッチへの対応  \n",
    "上記はim2col, col2im を使う以外やり方が思いつかなかった(かといってfor文ループはあまりやりたくない。。)ので、飛ばしてしまった  \n",
    "次回sprint13は各ライブラリを使うことを前提とし、やってることを深掘りし理解を補完したい"
   ]
  }
 ],
 "metadata": {
  "colab": {
   "name": "sprint12_dl_scratch_cnn1.ipynb",
   "provenance": [],
   "version": "0.3.2"
  },
  "kernelspec": {
   "display_name": "Python 3",
   "language": "python",
   "name": "python3"
  },
  "language_info": {
   "codemirror_mode": {
    "name": "ipython",
    "version": 3
   },
   "file_extension": ".py",
   "mimetype": "text/x-python",
   "name": "python",
   "nbconvert_exporter": "python",
   "pygments_lexer": "ipython3",
   "version": "3.7.1"
  }
 },
 "nbformat": 4,
 "nbformat_minor": 1
}
