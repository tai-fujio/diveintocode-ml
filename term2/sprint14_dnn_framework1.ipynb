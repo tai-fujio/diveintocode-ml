{
  "nbformat": 4,
  "nbformat_minor": 0,
  "metadata": {
    "colab": {
      "name": "sprint14-dnn-framework1.ipynb",
      "version": "0.3.2",
      "provenance": []
    },
    "kernelspec": {
      "name": "python3",
      "display_name": "Python 3"
    }
  },
  "cells": [
    {
      "cell_type": "markdown",
      "metadata": {
        "id": "AC6hrlklQFg3",
        "colab_type": "text"
      },
      "source": [
        "## TensorFlow キャッチアップ"
      ]
    },
    {
      "cell_type": "code",
      "metadata": {
        "id": "l-cGrcsFQtTQ",
        "colab_type": "code",
        "colab": {}
      },
      "source": [
        "import tensorflow as tf\n",
        "import numpy as np\n",
        "import time\n",
        "import warnings\n",
        "warnings.filterwarnings('ignore')"
      ],
      "execution_count": 0,
      "outputs": []
    },
    {
      "cell_type": "code",
      "metadata": {
        "id": "GsXEadRFOquG",
        "colab_type": "code",
        "colab": {
          "base_uri": "https://localhost:8080/",
          "height": 68
        },
        "outputId": "2cb55934-04e3-4a7b-fc94-e54f4d804a3b"
      },
      "source": [
        "# constant\n",
        "\n",
        "t1 = time.time() \n",
        "\n",
        "# 計算開始\n",
        "\n",
        "a = tf.constant(5)\n",
        "b = tf.constant(7)\n",
        "add = tf.add(a, b)\n",
        "\n",
        "print(add)                               # エッジの説明が格納されているだけ\n",
        "\n",
        "with tf.Session() as sess:\n",
        "    output = sess.run(add)     # Session.run()にエッジを格納すると計算がなされる\n",
        "    print(output) # 12\n",
        "sess.close()\n",
        "\n",
        "# 計算終了\n",
        "\n",
        "\n",
        "t2 = time.time()\n",
        "elapsed_time = t2-t1\n",
        "print(f\"経過時間：{elapsed_time}\")"
      ],
      "execution_count": 21,
      "outputs": [
        {
          "output_type": "stream",
          "text": [
            "Tensor(\"Add_14:0\", shape=(), dtype=int32)\n",
            "12\n",
            "経過時間：0.012064456939697266\n"
          ],
          "name": "stdout"
        }
      ]
    },
    {
      "cell_type": "code",
      "metadata": {
        "id": "wmuQwh_DPpAG",
        "colab_type": "code",
        "colab": {
          "base_uri": "https://localhost:8080/",
          "height": 51
        },
        "outputId": "a828ea1f-2e36-48e9-cb8f-bb2a3b96e8a8"
      },
      "source": [
        "# 処理前の時刻\n",
        "t1 = time.time() \n",
        "\n",
        "# 計算開始\n",
        "\n",
        "a_n = np.array(5)\n",
        "b_n = np.array(7)\n",
        "output_n = np.add(a_n, b_n)\n",
        "print(output_n) # 12\n",
        "\n",
        "# 計算終了\n",
        "\n",
        "\n",
        "t2 = time.time()\n",
        "elapsed_time = t2-t1\n",
        "print(f\"経過時間：{elapsed_time}\")\n",
        "\n",
        "# 簡単な計算だとNumpyのが早い・記述も楽"
      ],
      "execution_count": 17,
      "outputs": [
        {
          "output_type": "stream",
          "text": [
            "12\n",
            "経過時間：0.0006110668182373047\n"
          ],
          "name": "stdout"
        }
      ]
    },
    {
      "cell_type": "code",
      "metadata": {
        "id": "0MKxvIpuP7SL",
        "colab_type": "code",
        "colab": {
          "base_uri": "https://localhost:8080/",
          "height": 51
        },
        "outputId": "32d76793-9563-478a-818e-738de766d723"
      },
      "source": [
        "# placeholder\n",
        "\n",
        "t1 = time.time() \n",
        "\n",
        "# 計算開始\n",
        "\n",
        "c = tf.placeholder(tf.int32)\n",
        "d = tf.placeholder(tf.int32)\n",
        "add = tf.add(c, d)\n",
        "\n",
        "with tf.Session() as sess:\n",
        "    output = sess.run(add, feed_dict={c:5, d:7})\n",
        "    print(output) # 12\n",
        "sess.close()\n",
        "# 計算終了\n",
        "\n",
        "t2 = time.time()\n",
        "elapsed_time = t2-t1\n",
        "print(f\"経過時間：{elapsed_time}\")"
      ],
      "execution_count": 28,
      "outputs": [
        {
          "output_type": "stream",
          "text": [
            "12\n",
            "経過時間：0.01483917236328125\n"
          ],
          "name": "stdout"
        }
      ]
    },
    {
      "cell_type": "markdown",
      "metadata": {
        "id": "HBCWzxApXRmh",
        "colab_type": "text"
      },
      "source": [
        "- ロジスティック回帰"
      ]
    },
    {
      "cell_type": "code",
      "metadata": {
        "id": "jNe3o96aWaG7",
        "colab_type": "code",
        "colab": {}
      },
      "source": [
        "# 入力が1, 1の場合にのみ1と出力したい\n",
        "x_train = np.array([[0,0],[0,1],[1,0],[1,1]])\n",
        "y_train = np.array([[0],[0],[0],[1]])\n",
        "\n",
        "x = tf.placeholder(tf.float32, [None, 2])\n",
        "t = tf.placeholder(tf.float32, [None, 1])"
      ],
      "execution_count": 0,
      "outputs": []
    },
    {
      "cell_type": "code",
      "metadata": {
        "id": "b0ZH7wteXz-q",
        "colab_type": "code",
        "colab": {}
      },
      "source": [
        "# Valiable → 学習により更新を行う値であることを宣言(重み・バイアスなど)\n",
        "\n",
        "W = tf.Variable(tf.zeros([2,1]))\n",
        "b = tf.Variable(tf.zeros([1]))"
      ],
      "execution_count": 0,
      "outputs": []
    },
    {
      "cell_type": "code",
      "metadata": {
        "id": "63vdekMNYQop",
        "colab_type": "code",
        "colab": {}
      },
      "source": [
        "# matmul → np.dotに近い挙動\n",
        "y = tf.sigmoid(tf.matmul(x, W) + b)\n",
        "\n",
        "# クロスエントロピー誤差\n",
        "cross_entropy = tf.reduce_sum(-t * tf.log(y) - (1 - t) * tf.log(1 - y))\n",
        "\n",
        "# 二乗和誤差\n",
        "sse = tf.reduce_sum(tf.square(y - t))\n",
        "\n",
        "# 勾配降下法(0.1は学習率)\n",
        "train_step = tf.train.GradientDescentOptimizer(0.1).minimize(cross_entropy)\n",
        "\n",
        "# 予測・正確度\n",
        "correct_prediction = tf.equal(tf.sign(y - 0.5), tf.sign(t - 0.5))\n",
        "accuracy = tf.reduce_mean(tf.cast(correct_prediction, tf.float32))\n",
        "\n",
        "# 上記のエッジはrunできんかった\n",
        "\n",
        "#with tf.Session() as sess:\n",
        "    #output1 = sess.run(y)\n",
        "    #output2 = sess.run(cross_entropy)\n",
        "    #output3 = sess.run(sse)\n",
        "    #output4 = sess.run(train_step)\n",
        "    #output5 = sess.run(correct_prediction)\n",
        "    #output6 = sess.run(accuracy)\n",
        "#sess.close()"
      ],
      "execution_count": 0,
      "outputs": []
    },
    {
      "cell_type": "code",
      "metadata": {
        "id": "jS1qkJzpZ4TU",
        "colab_type": "code",
        "colab": {
          "base_uri": "https://localhost:8080/",
          "height": 867
        },
        "outputId": "bfc9ad57-c1b7-423f-8864-5560ca57d67c"
      },
      "source": [
        "sess = tf.Session()\n",
        "\n",
        "# 初期化\n",
        "sess.run(tf.global_variables_initializer())\n",
        "\n",
        "# 学習\n",
        "for epoch in range(1000):\n",
        "    sess.run(train_step, feed_dict={\n",
        "        x:x_train,\n",
        "        t:y_train\n",
        "    })\n",
        "    # 100回ごとに正解率を表示\n",
        "    if epoch % 100 == 0:\n",
        "        acc_val = sess.run(\n",
        "            accuracy, feed_dict={\n",
        "                x:x_train,\n",
        "                t:y_train})\n",
        "        print (f'epoch: {epoch}, Accuracy: {acc_val}')\n",
        "        \n",
        "        # h_thetaの確認\n",
        "        mat = tf.matmul(x, W)\n",
        "        y = tf.sigmoid(mat + b)\n",
        "        \n",
        "        mat = sess.run(mat, feed_dict={\n",
        "            x:x_train,\n",
        "            t:y_train\n",
        "        })\n",
        "        \n",
        "        print(f'mat: {mat} mat.shape: {mat.shape}')"
      ],
      "execution_count": 47,
      "outputs": [
        {
          "output_type": "stream",
          "text": [
            "epoch: 0, Accuracy: 0.75\n",
            "mat: [[0.]\n",
            " [0.]\n",
            " [0.]\n",
            " [0.]] mat.shape: (4, 1)\n",
            "epoch: 100, Accuracy: 1.0\n",
            "mat: [[0.       ]\n",
            " [1.7671355]\n",
            " [1.7671355]\n",
            " [3.534271 ]] mat.shape: (4, 1)\n",
            "epoch: 200, Accuracy: 1.0\n",
            "mat: [[0.       ]\n",
            " [2.7020476]\n",
            " [2.7020476]\n",
            " [5.404095 ]] mat.shape: (4, 1)\n",
            "epoch: 300, Accuracy: 1.0\n",
            "mat: [[0.       ]\n",
            " [3.3457708]\n",
            " [3.3457708]\n",
            " [6.6915417]] mat.shape: (4, 1)\n",
            "epoch: 400, Accuracy: 1.0\n",
            "mat: [[0.      ]\n",
            " [3.841228]\n",
            " [3.841228]\n",
            " [7.682456]] mat.shape: (4, 1)\n",
            "epoch: 500, Accuracy: 1.0\n",
            "mat: [[0.      ]\n",
            " [4.244355]\n",
            " [4.244355]\n",
            " [8.48871 ]] mat.shape: (4, 1)\n",
            "epoch: 600, Accuracy: 1.0\n",
            "mat: [[0.       ]\n",
            " [4.5839767]\n",
            " [4.5839767]\n",
            " [9.1679535]] mat.shape: (4, 1)\n",
            "epoch: 700, Accuracy: 1.0\n",
            "mat: [[0.       ]\n",
            " [4.8771544]\n",
            " [4.8771544]\n",
            " [9.754309 ]] mat.shape: (4, 1)\n",
            "epoch: 800, Accuracy: 1.0\n",
            "mat: [[ 0.      ]\n",
            " [ 5.134886]\n",
            " [ 5.134886]\n",
            " [10.269772]] mat.shape: (4, 1)\n",
            "epoch: 900, Accuracy: 1.0\n",
            "mat: [[ 0.       ]\n",
            " [ 5.3646903]\n",
            " [ 5.3646903]\n",
            " [10.729381 ]] mat.shape: (4, 1)\n"
          ],
          "name": "stdout"
        }
      ]
    },
    {
      "cell_type": "code",
      "metadata": {
        "id": "D9p4vINsYnCn",
        "colab_type": "code",
        "colab": {
          "base_uri": "https://localhost:8080/",
          "height": 153
        },
        "outputId": "b539d48d-0041-4700-cbbc-d9d74373184c"
      },
      "source": [
        "#学習結果が正しいか確認\n",
        "classified = sess.run(correct_prediction, feed_dict={\n",
        "    x:x_train,\n",
        "    t:y_train\n",
        "})\n",
        "\n",
        "#出力yの確認\n",
        "prob = sess.run(y, feed_dict={\n",
        "    x:x_train,\n",
        "    t:y_train\n",
        "})\n",
        "\n",
        "print(classified)\n",
        "\n",
        "print(prob)\n",
        "\n",
        "sess.close()"
      ],
      "execution_count": 43,
      "outputs": [
        {
          "output_type": "stream",
          "text": [
            "[[ True]\n",
            " [ True]\n",
            " [ True]\n",
            " [ True]]\n",
            "[[1.9651403e-04]\n",
            " [4.9049813e-02]\n",
            " [4.9049813e-02]\n",
            " [9.3120378e-01]]\n"
          ],
          "name": "stdout"
        }
      ]
    },
    {
      "cell_type": "markdown",
      "metadata": {
        "id": "5hB_SymmgRgX",
        "colab_type": "text"
      },
      "source": [
        "## 【問題1】スクラッチを振り返る  \n",
        "どのような実装をしたかを列挙する\n",
        "- 重みを初期化する必要があった\n",
        "- エポックのループが必要だった\n"
      ]
    }
  ]
}