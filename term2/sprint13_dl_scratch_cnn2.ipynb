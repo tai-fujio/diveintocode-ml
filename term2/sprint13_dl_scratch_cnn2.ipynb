{
  "nbformat": 4,
  "nbformat_minor": 0,
  "metadata": {
    "colab": {
      "name": "sprint13_dl_scratch_cnn2.ipynb",
      "version": "0.3.2",
      "provenance": [],
      "collapsed_sections": []
    },
    "language_info": {
      "codemirror_mode": {
        "name": "ipython",
        "version": 3
      },
      "file_extension": ".py",
      "mimetype": "text/x-python",
      "name": "python",
      "nbconvert_exporter": "python",
      "pygments_lexer": "ipython3",
      "version": "3.7.1"
    },
    "kernelspec": {
      "display_name": "Python 3",
      "language": "python",
      "name": "python3"
    }
  },
  "cells": [
    {
      "cell_type": "markdown",
      "metadata": {
        "colab_type": "text",
        "id": "MPFpkkOFf5gh"
      },
      "source": [
        "## 下ごしらえ"
      ]
    },
    {
      "cell_type": "code",
      "metadata": {
        "colab_type": "code",
        "id": "TYmHBa0nf5gi",
        "outputId": "88911497-266f-4733-a757-2c815240e2a7",
        "colab": {
          "base_uri": "https://localhost:8080/",
          "height": 34
        }
      },
      "source": [
        "import numpy as np\n",
        "from keras.datasets import mnist\n",
        "from sklearn.model_selection import train_test_split\n",
        "from sklearn.metrics import confusion_matrix\n",
        "from sklearn.metrics import accuracy_score\n",
        "import matplotlib.pyplot as plt\n",
        "import seaborn as sns\n",
        "import logging\n",
        "from datetime import datetime\n",
        "import time\n",
        "import sys\n",
        "# ライブラリまでのディレクトリ定義\n",
        "#sys.path.append('../ml-scratch/utils') \n",
        "sys.path.append('../') # colaboratory用\n",
        "\n",
        "import fc, get_mini_batch, relu, sgd, he_initializer, soft_max"
      ],
      "execution_count": 1,
      "outputs": [
        {
          "output_type": "stream",
          "text": [
            "Using TensorFlow backend.\n"
          ],
          "name": "stderr"
        }
      ]
    },
    {
      "cell_type": "code",
      "metadata": {
        "colab_type": "code",
        "id": "OJKsUnQWf5go",
        "outputId": "438283d1-fc9f-4448-d963-585fd95b0d55",
        "colab": {
          "base_uri": "https://localhost:8080/",
          "height": 34
        }
      },
      "source": [
        "(X_train, y_train), (X_test, y_test) = mnist.load_data()\n",
        "\n",
        "# 前処理\n",
        "X_train = X_train.astype(np.float)\n",
        "X_train /= 255\n",
        "X_train = X_train[:, np.newaxis, :, :]\n",
        "\n",
        "# 学習データをスプリット\n",
        "X_train, X_val, y_train, y_val = train_test_split(X_train, y_train, test_size=0.2)\n",
        "\n",
        "print(X_train.shape)"
      ],
      "execution_count": 2,
      "outputs": [
        {
          "output_type": "stream",
          "text": [
            "(48000, 1, 28, 28)\n"
          ],
          "name": "stdout"
        }
      ]
    },
    {
      "cell_type": "markdown",
      "metadata": {
        "colab_type": "text",
        "id": "hJGRfa3Tf5gr"
      },
      "source": [
        "## 方針\n",
        "- 一度ライブラリなど使って作りきってみる(im2col, col2im)  \n",
        "→ 出力された値を正にして、どういった操作が必要になるかを後追いしたい\n",
        "\n",
        "## 【問題1】2次元畳み込み層の作成\n"
      ]
    },
    {
      "cell_type": "code",
      "metadata": {
        "colab_type": "code",
        "id": "rg_d2lq0f5gr",
        "colab": {}
      },
      "source": [
        "import numpy as np\n",
        "\n",
        "class Conv2d:\n",
        "    def __init__(self, W, b, optimizer, stride=1, pad=0):\n",
        "        self.W = W\n",
        "        self.b = b\n",
        "        self.optimizer = optimizer\n",
        "        self.stride = stride\n",
        "        self.pad = pad\n",
        "        self.x = None   \n",
        "        self.col = None\n",
        "        self.col_W = None\n",
        "        self.dW = None\n",
        "        self.db = None\n",
        "\n",
        "        \n",
        "    def forward(self, x):\n",
        "        FN, C, FH, FW = self.W.shape\n",
        "        N, C, H, W = x.shape\n",
        "        out_h = calc_conv_out_h(H, FH, self.stride, self.pad)\n",
        "        out_w = calc_conv_out_w(W, FW, self.stride, self.pad)\n",
        "\n",
        "        col = im2col(x, FH, FW, self.stride, self.pad)\n",
        "        col_W = self.W.reshape(FN, -1).T\n",
        "\n",
        "        A = np.dot(col, col_W) + self.b\n",
        "        A = A.reshape(N, out_h, out_w, -1).transpose(0, 3, 1, 2)\n",
        "\n",
        "        self.x = x\n",
        "        self.col = col\n",
        "        self.col_W = col_W\n",
        "\n",
        "        return A\n",
        "\n",
        "      \n",
        "    def backward(self, dout):\n",
        "        FN, C, FH, FW = self.W.shape\n",
        "        dout = dout.transpose(0,2,3,1).reshape(-1, FN)\n",
        "\n",
        "        self.dW = np.dot(self.col.T, dout)\n",
        "\n",
        "        self.dW = self.dW.transpose(1, 0).reshape(FN, C, FH, FW)\n",
        "        self.db = np.sum(dout, axis=0)\n",
        "        \n",
        "        dcol = np.dot(dout, self.col_W.T)\n",
        "\n",
        "        dx = col2im(dcol, self.x.shape, FH, FW, self.stride, self.pad)\n",
        "\n",
        "        # self.W self.Bの更新\n",
        "        self = self.optimizer.update(self)\n",
        "        \n",
        "        return dx"
      ],
      "execution_count": 0,
      "outputs": []
    },
    {
      "cell_type": "code",
      "metadata": {
        "id": "-wgkjL3ZKkh8",
        "colab_type": "code",
        "colab": {}
      },
      "source": [
        "import numpy as np\n",
        "\n",
        "class ConvSGD:\n",
        "    \"\"\"\n",
        "    確率的勾配降下法\n",
        "    Parameters\n",
        "    ----------\n",
        "    lr : 学習率\n",
        "    \"\"\"\n",
        "    \n",
        "    def __init__(self, lr):\n",
        "        self.lr = lr\n",
        "        \n",
        "        \n",
        "    def update(self, layer):\n",
        "        \"\"\"\n",
        "        ある層の重みやバイアスの更新\n",
        "        Parameters\n",
        "        ----------\n",
        "        layer : 更新前の層のインスタンス\n",
        "\n",
        "        Returns\n",
        "        ----------\n",
        "        layer : 更新後の層のインスタンス\n",
        "        \"\"\"\n",
        "        \n",
        "        layer.W -= self.lr * layer.dW                # 重さ更新\n",
        "\n",
        "        layer.b -= self.lr * layer.db                   # バイアス更新\n",
        "        \n",
        "        return layer"
      ],
      "execution_count": 0,
      "outputs": []
    },
    {
      "cell_type": "code",
      "metadata": {
        "colab_type": "code",
        "id": "lhbffgwlf5gt",
        "colab": {}
      },
      "source": [
        "def im2col(input_data, filter_h, filter_w, stride=1, pad=0):\n",
        "    N, C, H, W = input_data.shape\n",
        "    out_h = calc_conv_out_h(H, filter_h, stride, pad)\n",
        "    out_w = calc_conv_out_w(W, filter_w, stride, pad)\n",
        "\n",
        "    img = np.pad(input_data, [(0,0), (0,0), (pad, pad), (pad, pad)], 'constant')\n",
        "    col = np.zeros((N, C, filter_h, filter_w, out_h, out_w))\n",
        "\n",
        "    for y in range(filter_h):\n",
        "        y_max = y + stride*out_h\n",
        "        for x in range(filter_w):\n",
        "            x_max = x + stride*out_w\n",
        "            col[:, :, y, x, :, :] = img[:, :, y:y_max:stride, x:x_max:stride]\n",
        "\n",
        "    col = col.transpose(0, 4, 5, 1, 2, 3).reshape(N*out_h*out_w, -1)\n",
        "    return col\n",
        "\n",
        "  \n",
        "def col2im(col, input_shape, filter_h, filter_w, stride=1, pad=0):\n",
        "    N, C, H, W = input_shape\n",
        "    out_h = calc_conv_out_h(H, filter_h, stride, pad)\n",
        "    out_w = calc_conv_out_w(W, filter_w, stride, pad)\n",
        "    col = col.reshape(N, out_h, out_w, C, filter_h, filter_w).transpose(0, 3, 4, 5, 1, 2)\n",
        "\n",
        "    img = np.zeros((N, C, H + 2*pad + stride - 1, W + 2*pad + stride - 1))\n",
        "    for y in range(filter_h):\n",
        "        y_max = y + stride*out_h\n",
        "        for x in range(filter_w):\n",
        "            x_max = x + stride*out_w\n",
        "            img[:, :, y:y_max:stride, x:x_max:stride] = col[:, :, y, x, :, :]\n",
        "\n",
        "    return img[:, :, pad:H + pad, pad:W + pad]"
      ],
      "execution_count": 0,
      "outputs": []
    },
    {
      "cell_type": "markdown",
      "metadata": {
        "colab_type": "text",
        "id": "IVPKiolOf5gw"
      },
      "source": [
        "## 【問題2】2次元畳み込み後の出力サイズ\n",
        "### (プーリング層後の出力サイズ)"
      ]
    },
    {
      "cell_type": "code",
      "metadata": {
        "colab_type": "code",
        "id": "gv89elg_f5gx",
        "colab": {}
      },
      "source": [
        "def calc_conv_out_h(H, filter_h, stride, pad):\n",
        "    return (H + 2*pad - filter_h)//stride + 1\n",
        "    \n",
        "    \n",
        "def calc_conv_out_w(W, filter_w, stride, pad):\n",
        "    return (W + 2*pad - filter_w)//stride + 1\n",
        "  \n",
        "  \n",
        "def calc_pool_out_h(H, filter_h, stride, pad):\n",
        "    return int((H - filter_h + 2 * pad)//stride + 1)\n",
        "    \n",
        "    \n",
        "def calc_pool_out_w(W, filter_w, stride, pad):\n",
        "    return int((W - filter_w + 2 * pad)//stride + 1)"
      ],
      "execution_count": 0,
      "outputs": []
    },
    {
      "cell_type": "code",
      "metadata": {
        "colab_type": "code",
        "id": "A-nlumSpf5gz",
        "outputId": "6524805c-afca-4ffc-efc1-6a5a3e57b9fa",
        "colab": {
          "base_uri": "https://localhost:8080/",
          "height": 153
        }
      },
      "source": [
        "print(calc_conv_out_h(28, 5, 1, 0))\n",
        "print(calc_conv_out_h(28, 5, 1, 0))\n",
        "print(calc_pool_out_h(28, 5, 2, 0))\n",
        "print(calc_pool_out_w(28, 5, 2, 0))\n",
        "print(calc_conv_out_h(12, 5, 1, 0))\n",
        "print(calc_conv_out_h(12, 5, 1, 0))\n",
        "print(calc_pool_out_h(12, 5, 2, 0))\n",
        "print(calc_pool_out_w(12, 5, 2, 0))"
      ],
      "execution_count": 7,
      "outputs": [
        {
          "output_type": "stream",
          "text": [
            "24\n",
            "24\n",
            "12\n",
            "12\n",
            "8\n",
            "8\n",
            "4\n",
            "4\n"
          ],
          "name": "stdout"
        }
      ]
    },
    {
      "cell_type": "code",
      "metadata": {
        "id": "1CuU7urtW9Y4",
        "colab_type": "code",
        "colab": {
          "base_uri": "https://localhost:8080/",
          "height": 51
        },
        "outputId": "4793afa8-33cc-4199-cd05-7137b1ab4897"
      },
      "source": [
        "tstX = X_train[:10]\n",
        "print(tstX.shape)\n",
        "W = np.random.randn(6, 1, 5, 5) \n",
        "b = np.zeros(6)\n",
        "c2d = Conv2d(W, b, ConvSGD)\n",
        "A1 = c2d.forward(tstX)\n",
        "print(A1.shape)"
      ],
      "execution_count": 8,
      "outputs": [
        {
          "output_type": "stream",
          "text": [
            "(10, 1, 28, 28)\n",
            "(10, 6, 24, 24)\n"
          ],
          "name": "stdout"
        }
      ]
    },
    {
      "cell_type": "markdown",
      "metadata": {
        "colab_type": "text",
        "id": "6-ZCdB1Kf5g6"
      },
      "source": [
        "## 【問題3】最大プーリング層の作成"
      ]
    },
    {
      "cell_type": "code",
      "metadata": {
        "colab_type": "code",
        "id": "cOAoBQzUf5g6",
        "colab": {}
      },
      "source": [
        "class MaxPool2D:\n",
        "    def __init__(self, pool_h, pool_w, stride=1, pad=0):\n",
        "        self.pool_h = pool_h\n",
        "        self.pool_w = pool_w\n",
        "        self.stride = stride\n",
        "        self.pad = pad\n",
        "\n",
        "        self.x = None\n",
        "        self.arg_max = None\n",
        "\n",
        "        \n",
        "    def forward(self, x):\n",
        "        N, C, H, W = x.shape\n",
        "        out_h = int(1 + (H - self.pool_h) / self.stride)\n",
        "        out_w = int(1 + (W - self.pool_w) / self.stride)\n",
        "\n",
        "        col = im2col(x, self.pool_h, self.pool_w, self.stride, self.pad)\n",
        "        col = col.reshape(-1, self.pool_h*self.pool_w)\n",
        "\n",
        "        arg_max = np.argmax(col, axis=1)\n",
        "        out = np.max(col, axis=1)\n",
        "        out = out.reshape(N, out_h, out_w, C).transpose(0, 3, 1, 2)\n",
        "\n",
        "        self.x = x\n",
        "        self.arg_max = arg_max\n",
        "\n",
        "        return out\n",
        "\n",
        "      \n",
        "    def backward(self, dout):\n",
        "        dout = dout.transpose(0, 2, 3, 1)\n",
        "\n",
        "        pool_size = self.pool_h * self.pool_w\n",
        "        dmax = np.zeros((dout.size, pool_size))\n",
        "        \n",
        "        dmax[np.arange(self.arg_max.size), self.arg_max.flatten()] = dout.flatten()\n",
        "        dmax = dmax.reshape(dout.shape + (pool_size,)) \n",
        "\n",
        "        dcol = dmax.reshape(dmax.shape[0] * dmax.shape[1] * dmax.shape[2], -1)\n",
        "        dx = col2im(dcol, self.x.shape, self.pool_h, self.pool_w, self.stride, self.pad)\n",
        "\n",
        "        return dx"
      ],
      "execution_count": 0,
      "outputs": []
    },
    {
      "cell_type": "code",
      "metadata": {
        "id": "34moy5WvMjPb",
        "colab_type": "code",
        "colab": {
          "base_uri": "https://localhost:8080/",
          "height": 68
        },
        "outputId": "8b024fa5-3fd8-41ad-e61a-23804346ba7b"
      },
      "source": [
        "mp2d = MaxPool2D(2, 2, 2)\n",
        "A2 = mp2d.forward(A1)\n",
        "print(A2.shape)\n",
        "\n",
        "W = np.random.randn(16, 6, 5, 5) \n",
        "b = np.zeros(16)\n",
        "c2d = Conv2d(W, b, ConvSGD)\n",
        "A3 = c2d.forward(A2)\n",
        "print(A3.shape)\n",
        "mp2d = MaxPool2D(2, 2, 2)\n",
        "A4 = mp2d.forward(A3)\n",
        "print(A4.shape)"
      ],
      "execution_count": 10,
      "outputs": [
        {
          "output_type": "stream",
          "text": [
            "(10, 6, 12, 12)\n",
            "(10, 16, 8, 8)\n",
            "(10, 16, 4, 4)\n"
          ],
          "name": "stdout"
        }
      ]
    },
    {
      "cell_type": "markdown",
      "metadata": {
        "colab_type": "text",
        "id": "AsjttaAQf5g8"
      },
      "source": [
        "## 【問題4】平滑化"
      ]
    },
    {
      "cell_type": "code",
      "metadata": {
        "colab_type": "code",
        "id": "KHA_jiNtf5g9",
        "colab": {}
      },
      "source": [
        "import numpy as np\n",
        "\n",
        "class Flatten():\n",
        "    def __init__(self):\n",
        "        self.X = None\n",
        "        self.S = None\n",
        "        self.C = None\n",
        "        self.H = None\n",
        "        self.W = None\n",
        "        \n",
        "        \n",
        "    def forward(self, X):\n",
        "        self.S, self.C, self.H, self.W = X.shape     # shapeを記録\n",
        "        self.X = X.reshape(self.S, -1)                    # 4d to 2d\n",
        "        \n",
        "        return self.X\n",
        "\n",
        "      \n",
        "    def backward(self, dout):\n",
        "        return dout.reshape((self.S, self.C, self.H, self.W))"
      ],
      "execution_count": 0,
      "outputs": []
    },
    {
      "cell_type": "code",
      "metadata": {
        "colab_type": "code",
        "id": "27wMPM08lhax",
        "colab": {
          "base_uri": "https://localhost:8080/",
          "height": 51
        },
        "outputId": "ffd4b49c-3bac-44d1-fa49-955f29099bb1"
      },
      "source": [
        "ft = Flatten()\n",
        "A3 = ft.forward(A2)\n",
        "print(A3.shape)\n",
        "fuga = ft.backward(A3)\n",
        "print(fuga.shape)"
      ],
      "execution_count": 12,
      "outputs": [
        {
          "output_type": "stream",
          "text": [
            "(10, 864)\n",
            "(10, 6, 12, 12)\n"
          ],
          "name": "stdout"
        }
      ]
    },
    {
      "cell_type": "markdown",
      "metadata": {
        "id": "uDCAB0mXU5p9",
        "colab_type": "text"
      },
      "source": [
        "## (重みの初期化)"
      ]
    },
    {
      "cell_type": "code",
      "metadata": {
        "id": "c6cChuStVQFE",
        "colab_type": "code",
        "colab": {}
      },
      "source": [
        "import numpy as np\n",
        "\n",
        "class ConvHeInitializer:\n",
        "    \"\"\"\n",
        "    Heによる初期化\n",
        "    \"\"\"\n",
        "    \n",
        "    def W(self, FN, C, FH, FW):\n",
        "        \"\"\"\n",
        "        重みの初期化\n",
        "        Parameters\n",
        "        ----------\n",
        "        n_nodes1 : int\n",
        "          前の層のノード数\n",
        "        n_nodes2 : int\n",
        "          後の層のノード数\n",
        "\n",
        "        Returns\n",
        "        ----------\n",
        "        次の形のndarray, shape (n_nodes1, n_nodes2)\n",
        "          重さ\n",
        "        \"\"\"\n",
        "        \n",
        "\n",
        "        return np.random.randn(FN, C, FH, FW) / np.sqrt(FN) * np.sqrt(2)\n",
        "    \n",
        "    \n",
        "    def B(self, FN):\n",
        "        \"\"\"\n",
        "        バイアスの初期化\n",
        "        Parameters\n",
        "        ----------\n",
        "        n_nodes2 : int\n",
        "          後の層のノード数\n",
        "\n",
        "        Returns\n",
        "        ----------\n",
        "        次の形のndarray, shape (FN,)\n",
        "          バイアス\n",
        "        \"\"\"\n",
        "        \n",
        "        return np.zeros(FN)\n",
        "        "
      ],
      "execution_count": 0,
      "outputs": []
    },
    {
      "cell_type": "code",
      "metadata": {
        "id": "fB4jY6ZJV4ci",
        "colab_type": "code",
        "colab": {
          "base_uri": "https://localhost:8080/",
          "height": 51
        },
        "outputId": "54858826-a462-40dd-84e4-a03548e2ee5d"
      },
      "source": [
        "chi = ConvHeInitializer()\n",
        "#print(chi.W(3, 1, 3, 3))\n",
        "print(chi.W(3, 1, 3, 3).shape)\n",
        "print(16* 5 *5)"
      ],
      "execution_count": 14,
      "outputs": [
        {
          "output_type": "stream",
          "text": [
            "(3, 1, 3, 3)\n",
            "400\n"
          ],
          "name": "stdout"
        }
      ]
    },
    {
      "cell_type": "code",
      "metadata": {
        "colab_type": "code",
        "id": "5s7UU9t-ljPm",
        "colab": {}
      },
      "source": [
        "import numpy as np\n",
        "import logging                                                                     # ログ\n",
        "from datetime import datetime                                        # 時間のやつ\n",
        "from sklearn.preprocessing import OneHotEncoder       # ワンホットのやつ\n",
        "from tqdm import tqdm                                                     # 進捗バーを出してくれるやつ\n",
        "\n",
        "\n",
        "class Scratch2dCNNClassifier():\n",
        "    \"\"\"\n",
        "    ニューラルネットワーク分類器\n",
        "    \"\"\"\n",
        "\n",
        "    def __init__(self, batch_size=100, n_epochs=10,  n_nodes=[120, 84], \n",
        "                            n_convlayer=2, n_fclayer=3, verbose=True, sigma=1e-2, lr=1e-2, \n",
        "                            filter_n=[6, 16], filter_w=5, filter_h=5, stride=1, pad=0, pool_size=2, \n",
        "                            activation=None, optimizer='sgd'):\n",
        "\n",
        "        self.batch_size = batch_size         # バッチサイズ\n",
        "        self.n_epochs = n_epochs             # エポック数 \n",
        "        self.n_nodes = n_nodes                 # ノード数\n",
        "        self.n_convlayer = n_convlayer     # 畳み込み層の数\n",
        "        self.n_fclayer = n_fclayer               # 全結合層の数\n",
        "        self.verbose = verbose                    # 学習過程出力フラグ\n",
        "        self.activation = activation             #活性化関数(文字列)\n",
        "        self.filter_n = filter_n                      # フィルタ枚数\n",
        "        self.filter_w = filter_w                     # フィルタwidth\n",
        "        self.filter_h = filter_h                       # フィルタheight\n",
        "        self.stride = stride                             # ストライド数\n",
        "        self.pad = pad                                    # パディング数\n",
        "        self.pool_size = pool_size                # プーリングサイズ\n",
        "        self.conv_instances = []                  # 畳み込み層インスタンス格納用\n",
        "        self.fc_instances = []                       # 全結合層インスタンス格納用\n",
        "        self.conv_activations = []               # 畳み込み層活性化関数インスタンス格納用\n",
        "        self.fc_activations = []                     # 全結合層活性化関数インスタンス格納用\n",
        "        self.pool_instances = []                    # プーリング層インスタンス格納用\n",
        "        self.loss_ = []                                     # 学習用データの学習過程格納用\n",
        "        self.loss_val_ = []                              # 検証用データの学習過程格納用\n",
        "        self.ft = Flatten()\n",
        "        \n",
        "        # 初期化・最適化クラスインスタンス作成\n",
        "        if activation == 'relu':\n",
        "            self.conv_initializer = ConvHeInitializer()\n",
        "            self.fc_initializer = he_initializer.HeInitializer()\n",
        "        else:\n",
        "            # TODO:作ってないので割愛\n",
        "            pass\n",
        "        \n",
        "        if optimizer == 'sgd':\n",
        "            self.conv_optimizer = ConvSGD(lr)\n",
        "            self.fc_optimizer = sgd.SGD(lr)\n",
        "        elif optimizer == 'adagrad':\n",
        "            # TODO:計算が遅くなるので割愛\n",
        "            pass\n",
        "            \n",
        "        # ワンホットライブラリのインスタンス作成\n",
        "        self.enc = OneHotEncoder(handle_unknown='ignore', sparse=False)\n",
        "        \n",
        "        # ログレベルを DEBUG に変更\n",
        "        time_stamp = datetime.now().strftime('%Y%m%d')\n",
        "        logging.basicConfig(filename='../tmp/sprint13_' + time_stamp + '.log', level=logging.DEBUG)\n",
        "        \n",
        "    \n",
        "    def fit(self, X, y, X_val=None, y_val=None):\n",
        "        \"\"\"\n",
        "        ニューラルネットワーク分類器を学習する。\n",
        "\n",
        "        Parameters\n",
        "        ----------\n",
        "        X : 次の形のndarray, shape (n_samples, n_features)\n",
        "            学習用データの特徴量\n",
        "        y : 次の形のndarray, shape (n_samples, )\n",
        "            学習用データの正解値\n",
        "        X_val : 次の形のndarray, shape (n_samples, n_features)\n",
        "            検証用データの特徴量\n",
        "        y_val : 次の形のndarray, shape (n_samples, )\n",
        "            検証用データの正解値\n",
        "        \"\"\"\n",
        "        \n",
        "        # ワンホット化\n",
        "        y = self.enc.fit_transform(y[:, np.newaxis])\n",
        "        \n",
        "        # 検証用データがある場合\n",
        "        if X_val is not None:\n",
        "            y_val= self.enc.fit_transform(y_val[:, np.newaxis])\n",
        "\n",
        "        # 初期化\n",
        "        N, C, H, W = X.shape\n",
        "        n_output = y.shape[1]\n",
        "        pool_out_h = H\n",
        "        pool_out_w = W\n",
        "        print()\n",
        "        # Convインスタンス作成\n",
        "        for i in range(self.n_convlayer):\n",
        "            W = self.conv_initializer.W(self.filter_n[i], C, self.filter_h, self.filter_w)\n",
        "            b = self.conv_initializer.B(self.filter_n[i])\n",
        "            ins = Conv2d(W, b, self.conv_optimizer)\n",
        "\n",
        "            # 活性化インスタンス\n",
        "            if self.activation == 'sigmoid':\n",
        "                act = sigmoid.Sigmoid()\n",
        "            elif self.activation == 'tanh':\n",
        "                act = tanh.Tanh()\n",
        "            elif self.activation == 'relu':\n",
        "                act = relu.ReLU()\n",
        "                \n",
        "            # プーリングインスタンス\n",
        "            mp2d = MaxPool2D(self.pool_size, self.pool_size, self.pool_size)\n",
        "            \n",
        "            C = self.filter_n[i]\n",
        "                \n",
        "            self.conv_instances.append(ins)                           # 各自格納\n",
        "            self.conv_activations.append(act)\n",
        "            self.pool_instances.append(mp2d)\n",
        "            \n",
        "            # プーリング層出力サイズの計算\n",
        "            pool_out_h = calc_pool_out_h(pool_out_h, self.filter_h, self.pool_size, self.pad)\n",
        "            pool_out_w = calc_pool_out_w(pool_out_w, self.filter_w, self.pool_size, self.pad)\n",
        "            \n",
        "        n_features = self.filter_n[-1] * pool_out_h * pool_out_w\n",
        "        \n",
        "        # FCインスタンス作成\n",
        "        for i in range(self.n_fclayer):\n",
        "            if i == (self.n_fclayer - 1):     # 出力層\n",
        "                ins = fc.FC(self.n_nodes[i - 1], n_output, self.fc_initializer, self.fc_optimizer)\n",
        "                act = soft_max.Softmax()\n",
        "            else:\n",
        "                if i == 0:                       # 入力層\n",
        "                    ins = fc.FC(n_features, self.n_nodes[i], self.fc_initializer, self.fc_optimizer)\n",
        "                else:\n",
        "                    ins = fc.FC(self.n_nodes[i - 1], self.n_nodes[i], self.fc_initializer, self.fc_optimizer)\n",
        "                \n",
        "                # 出力層以外は指定された活性化関数をインスタンス化\n",
        "                if self.activation == 'sigmoid':\n",
        "                    act = sigmoid.Sigmoid()\n",
        "                elif self.activation == 'tanh':\n",
        "                    act = tanh.Tanh()\n",
        "                elif self.activation == 'relu':\n",
        "                    act = relu.ReLU()\n",
        "                \n",
        "            self.fc_instances.append(ins)                           # 各自格納\n",
        "            self.fc_activations.append(act)\n",
        "\n",
        "\n",
        "        for e in tqdm(range(self.n_epochs)):\n",
        "            # ミニバッチ化\n",
        "            gmb = get_mini_batch.GetMiniBatch(X, y, batch_size=self.batch_size)\n",
        "            # ロス格納用\n",
        "            loss_ary = []\n",
        "            \n",
        "            # Xのn_samples / batch_size数分ループ処理\n",
        "            for mini_X_train, mini_y_train in gmb:\n",
        "                # forward propagation(ConV)\n",
        "                for i in range(self.n_convlayer):\n",
        "                    if i == 0:                              # 入力層\n",
        "                        A = self.conv_instances[i].forward(mini_X_train)\n",
        "                        Z = self.conv_activations[i].forward(A)\n",
        "                        Z = self.pool_instances[i].forward(Z)\n",
        "                    else:\n",
        "                        A = self.conv_instances[i].forward(Z)\n",
        "                        Z = self.conv_activations[i].forward(A)\n",
        "                        Z = self.pool_instances[i].forward(Z)\n",
        "                \n",
        "                # reshape(4d to 2d)\n",
        "                Z = self.ft.forward(Z)\n",
        "                \n",
        "                # forward propagation(FC)\n",
        "                for i in range(self.n_fclayer):\n",
        "                    A = self.fc_instances[i].forward(Z)\n",
        "                    Z = self.fc_activations[i].forward(A)\n",
        "                \n",
        "                # backward propagation(FC)\n",
        "                for i in range(self.n_fclayer):\n",
        "                    n_FC = self.n_fclayer - i - 1      # インスタンス逆指定用\n",
        "                    if i == 0:                               # 出力層\n",
        "                        dA, loss = self.fc_activations[n_FC].backward(Z, mini_y_train)\n",
        "                        loss_ary.append(loss)\n",
        "                    else:                                     # 入力層\n",
        "                        dA = self.fc_activations[n_FC].backward(dZ)\n",
        "                        \n",
        "                    dZ = self.fc_instances[n_FC].backward(dA)\n",
        "                \n",
        "                # reshape(2d to 4d)\n",
        "                dZ = self.ft.backward(dZ)\n",
        "                \n",
        "                # backward propagation(conv)\n",
        "                for i in range(self.n_convlayer):\n",
        "                    n_conv = self.n_convlayer - i - 1      # インスタンス逆指定用\n",
        "                    dA = self.pool_instances[n_conv].backward(dZ)\n",
        "                    dA = self.conv_activations[n_conv].backward(dA)\n",
        "                    dZ = self.conv_instances[n_conv].backward(dA)\n",
        "\n",
        "                    \n",
        "            #誤差を格納\n",
        "            self.loss_.append(np.mean(loss_ary))\n",
        "                        \n",
        "            # 検証用データがある場合\n",
        "            if X_val is not None:\n",
        "                # forward propagation(ConV)\n",
        "                for i in range(self.n_convlayer):\n",
        "                    if i == 0:                              # 入力層\n",
        "                        A = self.conv_instances[i].forward(X_val)\n",
        "                        Z = self.conv_activations[i].forward(A)\n",
        "                        Z = self.pool_instances[i].forward(Z)\n",
        "                    else:\n",
        "                        A = self.conv_instances[i].forward(Z)\n",
        "                        Z = self.conv_activations[i].forward(A)\n",
        "                        Z = self.pool_instances[i].forward(Z)\n",
        "                \n",
        "                # reshape(4d to 2d)\n",
        "                Z = self.ft.forward(Z)\n",
        "                \n",
        "                # forward propagation(FC)\n",
        "                for i in range(self.n_fclayer):\n",
        "                    A = self.fc_instances[i].forward(Z)\n",
        "                    Z = self.fc_activations[i].forward(A)\n",
        "                \n",
        "                dA, loss_val = self.fc_activations[self.n_fclayer - 1].backward(Z, y_val)\n",
        "\n",
        "                #誤差を格納\n",
        "                self.loss_val_.append(np.mean(loss_val))\n",
        "                            \n",
        "\n",
        "            # フラグがTrueであればログ出力\n",
        "            if self.verbose:\n",
        "                logging.info('forward propagation %sエポック目 sum: %s shape: %s', e+1, np.sum(A), A.shape)\n",
        "                logging.info('forward propagation %sエポック目 sum: %s shape: %s', e+1, np.sum(Z), Z.shape)\n",
        "                logging.info('backward propagation %sエポック目 sum: %s shape: %s', e+1, np.sum(dA), dA.shape)\n",
        "                logging.info('backward propagation %sエポック目 sum: %s shape: %s', e+1, np.sum(dZ), dZ.shape)\n",
        "                logging.info('loss %sエポック目 : %s', e+1, np.sum(loss))\n",
        "\n",
        "        return self\n",
        "\n",
        "\n",
        "    def predict(self, X):\n",
        "        \"\"\"\n",
        "        ニューラルネットワーク分類器を使い推定する。\n",
        "\n",
        "        Parameters\n",
        "        ----------\n",
        "        X : 次の形のndarray, shape (n_samples, n_features)\n",
        "            学習データ\n",
        "\n",
        "        Returns\n",
        "        -------\n",
        "        y_pred :  次の形のndarray, shape (n_samples, 1)\n",
        "            推定結果\n",
        "        \"\"\"\n",
        "        \n",
        "        # forward propagation(ConV)\n",
        "        for i in range(self.n_convlayer):\n",
        "            if i == 0:                              # 入力層\n",
        "                A = self.conv_instances[i].forward(X)\n",
        "                Z = self.conv_activations[i].forward(A)\n",
        "                Z = self.pool_instances[i].forward(Z)\n",
        "            else:\n",
        "                A = self.conv_instances[i].forward(Z)\n",
        "                Z = self.conv_activations[i].forward(A)\n",
        "                Z = self.pool_instances[i].forward(Z)\n",
        "\n",
        "        # reshape(4d to 2d)\n",
        "        Z = self.ft.forward(Z)\n",
        "\n",
        "        # forward propagation(FC)\n",
        "        for i in range(self.n_fclayer):\n",
        "            A = self.fc_instances[i].forward(Z)\n",
        "            Z = self.fc_activations[i].forward(A)\n",
        "        \n",
        "        # 一番確率が高いラベルを予測値に\n",
        "        y_pred = np.argmax(Z, axis=1)\n",
        "        \n",
        "        return y_pred"
      ],
      "execution_count": 0,
      "outputs": []
    },
    {
      "cell_type": "markdown",
      "metadata": {
        "id": "TnN_itdhG7GQ",
        "colab_type": "text"
      },
      "source": [
        "## 【問題5】学習・推定\n",
        "## 【問題6】（アドバンス課題）LeNet"
      ]
    },
    {
      "cell_type": "code",
      "metadata": {
        "colab_type": "code",
        "id": "8buyfkrmUJQv",
        "outputId": "217a01d5-7abf-42c7-cabd-d645b16e3abb",
        "colab": {
          "base_uri": "https://localhost:8080/",
          "height": 68
        }
      },
      "source": [
        "sdnnc= Scratch2dCNNClassifier(activation='relu')\n",
        "\n",
        "sdnnc.fit(X_train, y_train, X_val, y_val)"
      ],
      "execution_count": 16,
      "outputs": [
        {
          "output_type": "stream",
          "text": [
            "\r  0%|          | 0/10 [00:00<?, ?it/s]"
          ],
          "name": "stderr"
        },
        {
          "output_type": "stream",
          "text": [
            "\n"
          ],
          "name": "stdout"
        },
        {
          "output_type": "stream",
          "text": [
            "100%|██████████| 10/10 [09:08<00:00, 54.65s/it]\n"
          ],
          "name": "stderr"
        },
        {
          "output_type": "execute_result",
          "data": {
            "text/plain": [
              "<__main__.Scratch2dCNNClassifier at 0x7f981d484f60>"
            ]
          },
          "metadata": {
            "tags": []
          },
          "execution_count": 16
        }
      ]
    },
    {
      "cell_type": "code",
      "metadata": {
        "id": "oo_OM8-1ttjl",
        "colab_type": "code",
        "colab": {
          "base_uri": "https://localhost:8080/",
          "height": 295
        },
        "outputId": "0cc6ac9c-7c01-4c8d-cf3f-964557caf76c"
      },
      "source": [
        "train_loss = np.array(sdnnc.loss_)\n",
        "test_loss = np.array(sdnnc.loss_val_)\n",
        "\n",
        "plt.title(\"Learning Curve\")\n",
        "plt.xlabel(\"epoch\")\n",
        "plt.ylabel(\"loss\")\n",
        "\n",
        "# Traing score と Test score をプロット\n",
        "plt.plot(train_loss, 'o-', color=\"r\", label=\"Train\")\n",
        "plt.plot(test_loss, 'o-', color=\"g\", label=\"Test\")\n",
        "\n",
        "plt.legend(loc=1)\n",
        "plt.show()"
      ],
      "execution_count": 17,
      "outputs": [
        {
          "output_type": "display_data",
          "data": {
            "image/png": "[encoded data removed]",
            "text/plain": [
              "<Figure size 432x288 with 1 Axes>"
            ]
          },
          "metadata": {
            "tags": []
          }
        }
      ]
    },
    {
      "cell_type": "code",
      "metadata": {
        "colab_type": "code",
        "id": "EHUeJQYfuWmB",
        "colab": {
          "base_uri": "https://localhost:8080/",
          "height": 204
        },
        "outputId": "fc496857-d3c9-4e76-f99f-92af09a68026"
      },
      "source": [
        "# 予測\n",
        "y_pred = sdnnc.predict(X_val)\n",
        "\n",
        "print(confusion_matrix(y_val, y_pred))\n",
        "print(accuracy_score(y_val, y_pred))"
      ],
      "execution_count": 18,
      "outputs": [
        {
          "output_type": "stream",
          "text": [
            "[[1118    1    1    0    1    0    9    1    3    1]\n",
            " [   0 1349    6    2    3    0    2    4    4    0]\n",
            " [   2    5 1172   11    5    0    1   11    4    0]\n",
            " [   0    0    3 1192    2   10    1    2   12    3]\n",
            " [   1    2    3    0 1127    1    3    3    3   11]\n",
            " [   2    1    1    4    1 1050   14    1   11    2]\n",
            " [   2    0    0    0    4    4 1148    0    4    0]\n",
            " [   1    2    6    5    6    1    0 1262    1    1]\n",
            " [   1    0    4    2    0    5    4    2 1149    4]\n",
            " [   3    0    1    5   18    4    0   10   15 1144]]\n",
            "0.9759166666666667\n"
          ],
          "name": "stdout"
        }
      ]
    },
    {
      "cell_type": "code",
      "metadata": {
        "id": "kqq9iZ_JrlhB",
        "colab_type": "code",
        "colab": {}
      },
      "source": [
        ""
      ],
      "execution_count": 0,
      "outputs": []
    }
  ]
}