{
  "nbformat": 4,
  "nbformat_minor": 0,
  "metadata": {
    "colab": {
      "name": "sprint23-dl-scratch-rnn.ipynb",
      "version": "0.3.2",
      "provenance": [],
      "collapsed_sections": []
    },
    "kernelspec": {
      "name": "python3",
      "display_name": "Python 3"
    }
  },
  "cells": [
    {
      "cell_type": "markdown",
      "metadata": {
        "id": "xdP6Cj-li8wO",
        "colab_type": "text"
      },
      "source": [
        "## 【問題1】SimpleRNNのフォワードプロパゲーション実装\n",
        "- numpyなどの最低限のライブラリで実装"
      ]
    },
    {
      "cell_type": "code",
      "metadata": {
        "id": "FpHvNgPFh6CX",
        "colab_type": "code",
        "colab": {}
      },
      "source": [
        "import numpy as np\n",
        "\n",
        "\n",
        "class SimpleRNN:\n",
        "    \"\"\"\n",
        "    シンプル構造のRNN\n",
        "    Parameters\n",
        "    ----------\n",
        "    W : ndarray\n",
        "      入力に対する重み\n",
        "    U : ndarray\n",
        "      状態に対する重み\n",
        "    B : ndarray\n",
        "      バイアス項\n",
        "    \"\"\"\n",
        "    def __init__(self, W, U, B):\n",
        "        self.W = W\n",
        "        self.U = U\n",
        "        self.B = B\n",
        "        self.n_node = self.W.shape[1]\n",
        "\n",
        "    def forward(self, X):\n",
        "        \"\"\"\n",
        "        フォワード\n",
        "        Parameters\n",
        "        ----------\n",
        "        X : 次の形のndarray, shape (batch_size, n_sequences, n_features)\n",
        "            入力\n",
        "        Returns\n",
        "        ----------\n",
        "        S : 次の形のndarray, shape (batch_size, n_sequences, n_node)\n",
        "            出力\n",
        "        \"\"\"\n",
        "        \n",
        "        batch_size = x.shape[0]\n",
        "        n_sequences = x.shape[1]\n",
        "        \n",
        "        S= np.zeros((batch_size, n_sequences, self.n_node))\n",
        "        \n",
        "        for t in range(n_sequences):\n",
        "            S[:, t, :] = np.tanh(X[:, t, :].dot(self.W) + S[:, t - 1, :].dot(self.U) + self.B)\n",
        "\n",
        "        return S"
      ],
      "execution_count": 0,
      "outputs": []
    },
    {
      "cell_type": "markdown",
      "metadata": {
        "id": "tibTVr7ZzU1_",
        "colab_type": "text"
      },
      "source": [
        "## 【問題2】小さな配列でのフォワードプロパゲーションの実験"
      ]
    },
    {
      "cell_type": "code",
      "metadata": {
        "id": "HmkUuC_yzW04",
        "colab_type": "code",
        "outputId": "afadfd50-2943-4bfc-bd4c-6acf566eddb7",
        "colab": {
          "base_uri": "https://localhost:8080/",
          "height": 68
        }
      },
      "source": [
        "x = np.array([[[1, 2], [2, 3], [3, 4]]])/100\n",
        "w_x = np.array([[1, 3, 5, 7], [3, 5, 7, 8]])/100\n",
        "w_h = np.array([[1, 3, 5, 7], [2, 4, 6, 8], [3, 5, 7, 8], [4, 6, 8, 10]])/100\n",
        "batch_size = x.shape[0] # 1\n",
        "n_sequences = x.shape[1] # 3\n",
        "n_features = x.shape[2] # 2\n",
        "n_nodes = w_x.shape[1] # 4\n",
        "h = np.zeros((batch_size, n_nodes))\n",
        "b = np.array([1])\n",
        "\n",
        "srnn = SimpleRNN(w_x, w_h, b)\n",
        "hoge = srnn.forward(x)\n",
        "print(hoge)"
      ],
      "execution_count": 0,
      "outputs": [
        {
          "output_type": "stream",
          "text": [
            "[[[0.76188798 0.76213958 0.76239095 0.76255841]\n",
            "  [0.792209   0.8141834  0.83404912 0.84977719]\n",
            "  [0.79494228 0.81839002 0.83939649 0.85584174]]]\n"
          ],
          "name": "stdout"
        }
      ]
    },
    {
      "cell_type": "markdown",
      "metadata": {
        "id": "X47eJjHfkq2X",
        "colab_type": "text"
      },
      "source": [
        "## 【問題3】（アドバンス課題）バックプロパゲーションの実装"
      ]
    },
    {
      "cell_type": "code",
      "metadata": {
        "id": "-8LVYA6Rigub",
        "colab_type": "code",
        "colab": {}
      },
      "source": [
        ""
      ],
      "execution_count": 0,
      "outputs": []
    }
  ]
}