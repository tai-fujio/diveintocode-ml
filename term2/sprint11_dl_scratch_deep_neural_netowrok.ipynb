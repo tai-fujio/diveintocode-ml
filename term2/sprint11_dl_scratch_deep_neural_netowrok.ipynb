{
 "cells": [
  {
   "cell_type": "markdown",
   "metadata": {
    "colab_type": "text",
    "id": "I42U2SVLjKlT"
   },
   "source": [
    "### 下ごしらえ"
   ]
  },
  {
   "cell_type": "code",
   "execution_count": 1,
   "metadata": {
    "colab": {
     "base_uri": "https://localhost:8080/",
     "height": 34
    },
    "colab_type": "code",
    "id": "oiM0zbb3jKlU",
    "outputId": "ac090a07-8340-40de-9a1b-8b1f9f465d2b"
   },
   "outputs": [
    {
     "name": "stderr",
     "output_type": "stream",
     "text": [
      "Using TensorFlow backend.\n"
     ]
    }
   ],
   "source": [
    "import numpy as np\n",
    "from keras.datasets import mnist\n",
    "from sklearn.model_selection import train_test_split\n",
    "from sklearn.metrics import confusion_matrix\n",
    "from sklearn.metrics import accuracy_score\n",
    "import matplotlib.pyplot as plt\n",
    "import seaborn as sns\n",
    "import logging\n",
    "from datetime import datetime\n",
    "import time"
   ]
  },
  {
   "cell_type": "code",
   "execution_count": 2,
   "metadata": {
    "colab": {
     "base_uri": "https://localhost:8080/",
     "height": 51
    },
    "colab_type": "code",
    "id": "iR5h_A2VjKla",
    "outputId": "c2dce365-0add-4949-dfd0-de3dddaf53c4"
   },
   "outputs": [
    {
     "name": "stdout",
     "output_type": "stream",
     "text": [
      "Downloading data from https://s3.amazonaws.com/img-datasets/mnist.npz\n",
      "11493376/11490434 [==============================] - 0s 0us/step\n"
     ]
    }
   ],
   "source": [
    "(X_train, y_train), (X_test, y_test) = mnist.load_data()\n",
    "\n",
    "# 平坦化\n",
    "X_train = X_train.reshape(-1, 784)\n",
    "X_test = X_test.reshape(-1, 784)\n",
    "\n",
    "# 前処理\n",
    "X_train = X_train.astype(np.float)\n",
    "X_test = X_test.astype(np.float)\n",
    "X_train /= 255\n",
    "X_test /= 255\n",
    "\n",
    "# 学習データをスプリット\n",
    "X_train, X_val, y_train, y_val = train_test_split(X_train, y_train, test_size=0.2)"
   ]
  },
  {
   "cell_type": "markdown",
   "metadata": {
    "colab_type": "text",
    "id": "A7gjdnOspe-i"
   },
   "source": [
    "## GetMiniBatchクラス"
   ]
  },
  {
   "cell_type": "code",
   "execution_count": 0,
   "metadata": {
    "colab": {},
    "colab_type": "code",
    "id": "QdzSVH9GpeMP"
   },
   "outputs": [],
   "source": [
    "import numpy as np\n",
    "\n",
    "class GetMiniBatch:\n",
    "    \"\"\"\n",
    "    ミニバッチを取得するイテレータ\n",
    "\n",
    "    Parameters\n",
    "    ----------\n",
    "    X : 次の形のndarray, shape (n_samples, n_features)\n",
    "      学習データ\n",
    "    y : 次の形のndarray, shape (n_samples, 1)\n",
    "      正解値\n",
    "    batch_size : int\n",
    "      バッチサイズ\n",
    "    seed : int\n",
    "      NumPyの乱数のシード\n",
    "    \"\"\"\n",
    "    def __init__(self, X, y, batch_size = 10, seed=0):\n",
    "        self.batch_size = batch_size\n",
    "        np.random.seed(seed)\n",
    "        shuffle_index = np.random.permutation(np.arange(X.shape[0]))\n",
    "        self.X = X[shuffle_index]\n",
    "        self.y = y[shuffle_index]\n",
    "        self._stop = np.ceil(X.shape[0]/self.batch_size).astype(np.int)\n",
    "\n",
    "    def __len__(self):\n",
    "        return self._stop\n",
    "\n",
    "    def __getitem__(self,item):\n",
    "        p0 = item*self.batch_size\n",
    "        p1 = item*self.batch_size + self.batch_size\n",
    "        return self.X[p0:p1], self.y[p0:p1]        \n",
    "\n",
    "    def __iter__(self):\n",
    "        self._counter = 0\n",
    "        return self\n",
    "\n",
    "    def __next__(self):\n",
    "        if self._counter >= self._stop:\n",
    "            raise StopIteration()\n",
    "        p0 = self._counter*self.batch_size\n",
    "        p1 = self._counter*self.batch_size + self.batch_size\n",
    "        self._counter += 1\n",
    "        return self.X[p0:p1], self.y[p0:p1]"
   ]
  },
  {
   "cell_type": "markdown",
   "metadata": {
    "colab_type": "text",
    "id": "py2LixrIjKlc"
   },
   "source": [
    "## 【問題1】全結合層のクラス化\n"
   ]
  },
  {
   "cell_type": "code",
   "execution_count": 0,
   "metadata": {
    "colab": {},
    "colab_type": "code",
    "id": "10orqXDSjKld"
   },
   "outputs": [],
   "source": [
    "import numpy as np\n",
    "\n",
    "class FC:\n",
    "    \"\"\"\n",
    "    ノード数n_nodes1からn_nodes2への全結合層\n",
    "    Parameters\n",
    "    ----------\n",
    "    n_nodes1 : int\n",
    "      前の層のノード数\n",
    "    n_nodes2 : int\n",
    "      後の層のノード数\n",
    "    initializer : 初期化方法のインスタンス\n",
    "    optimizer : 最適化手法のインスタンス\n",
    "    \"\"\"\n",
    "    def __init__(self, n_nodes1, n_nodes2, initializer, optimizer):\n",
    "        self.optimizer = optimizer                                   # 最適化インスタンスを保持\n",
    "        self.W = initializer.W(n_nodes1, n_nodes2)     # 重み初期化\n",
    "        self.B = initializer.B(n_nodes2)                          # バイアス初期化\n",
    "        self.HW = 0                                                     #AdaGrad用\n",
    "        self.HB = 0                                                      #AdaGrad用\n",
    "        self.bZ = None                                                       # beforeZ\n",
    "        self.dA = None                                                      # deltaA\n",
    "\n",
    "    def forward(self, bZ):\n",
    "        \"\"\"\n",
    "        フォワード\n",
    "        Parameters\n",
    "        ----------\n",
    "        Z : 次の形のndarray, shape (batch_size, n_nodes1)\n",
    "            入力\n",
    "        Returns\n",
    "        ----------\n",
    "        A : 次の形のndarray, shape (batch_size, n_nodes2)\n",
    "            出力\n",
    "        \"\"\"\n",
    "        \n",
    "        # パラメータ更新で使うためインスタンス変数化\n",
    "        self.bZ = bZ.copy()\n",
    "        \n",
    "        A = (bZ @ self.W) + self.B\n",
    "        \n",
    "        return A\n",
    "    \n",
    "    \n",
    "    def backward(self, dA):\n",
    "        \"\"\"\n",
    "        バックワード\n",
    "        Parameters\n",
    "        ----------\n",
    "        dA : 次の形のndarray, shape (batch_size, n_nodes2)\n",
    "            後ろから流れてきた勾配\n",
    "        Returns\n",
    "        ----------\n",
    "        dZ : 次の形のndarray, shape (batch_size, n_nodes1)\n",
    "            前に流す勾配\n",
    "        \"\"\"\n",
    "        \n",
    "        # パラメータ更新で使うためインスタンス変数化\n",
    "        self.dA = dA\n",
    "        \n",
    "        dZ = (dA @ self.W.T)\n",
    "        \n",
    "        # self.W self.Bの更新\n",
    "        self = self.optimizer.update(self)\n",
    "              \n",
    "        return dZ"
   ]
  },
  {
   "cell_type": "markdown",
   "metadata": {
    "colab_type": "text",
    "id": "PEOBg5-TqlMz"
   },
   "source": [
    "## 【問題2】初期化方法のクラス化"
   ]
  },
  {
   "cell_type": "code",
   "execution_count": 0,
   "metadata": {
    "colab": {},
    "colab_type": "code",
    "id": "JrWpsunYkcSI"
   },
   "outputs": [],
   "source": [
    "import numpy as np\n",
    "\n",
    "class SimpleInitializer:\n",
    "    \"\"\"\n",
    "    ガウス分布によるシンプルな初期化\n",
    "    Parameters\n",
    "    ----------\n",
    "    sigma : float\n",
    "      ガウス分布の標準偏差\n",
    "    \"\"\"\n",
    "    \n",
    "    def __init__(self, sigma):\n",
    "        self.sigma = sigma\n",
    "        \n",
    "        \n",
    "    def W(self, n_nodes1, n_nodes2):\n",
    "        \"\"\"\n",
    "        重みの初期化\n",
    "        Parameters\n",
    "        ----------\n",
    "        n_nodes1 : int\n",
    "          前の層のノード数\n",
    "        n_nodes2 : int\n",
    "          後の層のノード数\n",
    "\n",
    "        Returns\n",
    "        ----------\n",
    "        W : 次の形のndarray, shape (n_nodes1, n_nodes2)\n",
    "          重さ\n",
    "        \"\"\"\n",
    "        \n",
    "        W = self.sigma * np.random.randn(n_nodes1, n_nodes2)\n",
    "\n",
    "        return W\n",
    "\n",
    "\n",
    "    def B(self, n_nodes2):\n",
    "        \"\"\"\n",
    "        バイアスの初期化\n",
    "        Parameters\n",
    "        ----------\n",
    "        n_nodes2 : int\n",
    "          後の層のノード数\n",
    "\n",
    "        Returns\n",
    "        ----------\n",
    "        B :次の形のndarray, shape (n_nodes2,)\n",
    "          バイアス\n",
    "        \"\"\"\n",
    "        \n",
    "        B = self.sigma * np.random.randn(n_nodes2)\n",
    "        \n",
    "        return B"
   ]
  },
  {
   "cell_type": "markdown",
   "metadata": {
    "colab_type": "text",
    "id": "CKiH50V1FXp7"
   },
   "source": [
    "## 【問題3】最適化手法のクラス化"
   ]
  },
  {
   "cell_type": "code",
   "execution_count": 0,
   "metadata": {
    "colab": {},
    "colab_type": "code",
    "id": "mG1FXFHXkgsI"
   },
   "outputs": [],
   "source": [
    "import numpy as np\n",
    "\n",
    "class SGD:\n",
    "    \"\"\"\n",
    "    確率的勾配降下法\n",
    "    Parameters\n",
    "    ----------\n",
    "    lr : 学習率\n",
    "    \"\"\"\n",
    "    \n",
    "    def __init__(self, lr):\n",
    "        self.lr = lr\n",
    "        \n",
    "        \n",
    "    def update(self, layer):\n",
    "        \"\"\"\n",
    "        ある層の重みやバイアスの更新\n",
    "        Parameters\n",
    "        ----------\n",
    "        layer : 更新前の層のインスタンス\n",
    "\n",
    "        Returns\n",
    "        ----------\n",
    "        layer : 更新後の層のインスタンス\n",
    "        \"\"\"\n",
    "        \n",
    "        # 重みとバイアスを更新\n",
    "        layer.W -= self.lr * (layer.bZ.T @ layer.dA) / len(layer.dA)\n",
    "        layer.B -= np.mean(self.lr * layer.dA, axis=0)\n",
    "        \n",
    "        return layer"
   ]
  },
  {
   "cell_type": "markdown",
   "metadata": {
    "colab_type": "text",
    "id": "k2FICQa-Fc5z"
   },
   "source": [
    "## 【問題4】活性化関数のクラス化\n",
    "## 【問題5】ReLUクラスの作成"
   ]
  },
  {
   "cell_type": "code",
   "execution_count": 0,
   "metadata": {
    "colab": {},
    "colab_type": "code",
    "id": "gxO5bKU1kjGD"
   },
   "outputs": [],
   "source": [
    "import numpy as np\n",
    "\n",
    "class Sigmoid():\n",
    "    \"\"\"\n",
    "    シグモイド汎用クラス\n",
    "    \n",
    "    Parameters\n",
    "    -----------\n",
    "    Z : 活性化後\n",
    "    \"\"\"\n",
    "    \n",
    "    def __init__(self):\n",
    "        self.Z = None\n",
    "        \n",
    "    def forward(self, A):\n",
    "        \"\"\"\n",
    "        シグモイド関数で活性化する\n",
    "        \n",
    "        Parameters\n",
    "        -----------\n",
    "        A : 入力(活性化前)\n",
    "        \n",
    "        Return\n",
    "        -----------\n",
    "        Z : 出力(活性化後)\n",
    "        \"\"\"\n",
    "        \n",
    "        # 入力の最大値\n",
    "        sigmoid_range = 34.538776394910684\n",
    "        \n",
    "        self.Z = 1 / (1 + np.exp(-np.clip(A, -sigmoid_range, sigmoid_range)))\n",
    "        \n",
    "        return self.Z\n",
    "    \n",
    "    def backward(self, dZ):\n",
    "        \"\"\"\n",
    "        シグモイド関数で活性化する\n",
    "        \n",
    "        Parameters\n",
    "        -----------\n",
    "        dZ : 入力(活性化前)\n",
    "        \n",
    "        Return\n",
    "        -----------\n",
    "        dA : 出力(活性化後)\n",
    "        \"\"\"\n",
    "\n",
    "        dA = dZ * (self.Z * (1 - self.Z))\n",
    "        \n",
    "        return dA"
   ]
  },
  {
   "cell_type": "code",
   "execution_count": 0,
   "metadata": {
    "colab": {},
    "colab_type": "code",
    "id": "Kl239NEp3zgw"
   },
   "outputs": [],
   "source": [
    "import numpy as np\n",
    "\n",
    "class Tanh():\n",
    "    \"\"\"\n",
    "    ハイパボリックタンジェント汎用クラス\n",
    "    \n",
    "    Parameters\n",
    "    -----------\n",
    "    \n",
    "    Attribute\n",
    "    -----------\n",
    "    self.Z : 活性化後\n",
    "    \"\"\"\n",
    "    \n",
    "    def __init__(self):\n",
    "        self.Z = None\n",
    "        \n",
    "    def forward(self, A):\n",
    "        \"\"\"\n",
    "        ハイパボリックタンジェント関数で活性化する\n",
    "        \n",
    "        Parameters\n",
    "        -----------\n",
    "        A : 入力(活性化前)\n",
    "        \n",
    "        Return\n",
    "        -----------\n",
    "        Z : 出力(活性化後)\n",
    "        \"\"\"\n",
    "        \n",
    "        self.Z = np.tanh(A)\n",
    "        \n",
    "        return self.Z\n",
    "    \n",
    "    def backward(self, dZ):\n",
    "        \"\"\"\n",
    "        ハイパボリックタンジェント関数で活性化する\n",
    "        \n",
    "        Parameters\n",
    "        -----------\n",
    "        dZ : 入力(活性化前)\n",
    "        \n",
    "        Return\n",
    "        -----------\n",
    "        dA : 出力(活性化後)\n",
    "        \"\"\"\n",
    "        \n",
    "        dA = dZ * (1 - (self.Z ** 2))\n",
    "        \n",
    "        return dA"
   ]
  },
  {
   "cell_type": "code",
   "execution_count": 0,
   "metadata": {
    "colab": {},
    "colab_type": "code",
    "id": "5y7HYGspNXJ9"
   },
   "outputs": [],
   "source": [
    "import numpy as np\n",
    "\n",
    "class Softmax():\n",
    "    \"\"\"\n",
    "    ソフトマックス汎用クラス\n",
    "    \"\"\"\n",
    "        \n",
    "    def forward(self, X):\n",
    "        \"\"\"\n",
    "        ソフトマックス関数で予測する\n",
    "        \n",
    "        Parameters\n",
    "        -----------\n",
    "        X : 入力(活性化前)\n",
    "        \n",
    "        Return\n",
    "        -----------\n",
    "        Z : 出力(活性化後)\n",
    "        \"\"\"\n",
    "        \n",
    "        max_X = np.max(X)\n",
    "        exp_X = np.exp(X - max_X)\n",
    "        sum_exp_X = np.sum(exp_X, axis=1).reshape(-1, 1)\n",
    "        \n",
    "        Z = exp_X / sum_exp_X\n",
    "        \n",
    "        return Z\n",
    "        \n",
    "    \n",
    "    def backward(self, Z, Y):\n",
    "        \"\"\"\n",
    "        ソフトマックス関数で予測・交差エントロピーで誤差の算出をする\n",
    "        \n",
    "        Parameters\n",
    "        -----------\n",
    "        Z : 予測値\n",
    "        Y : 正解値\n",
    "        \n",
    "        Return\n",
    "        -----------\n",
    "        dA : 出力\n",
    "        \"\"\"\n",
    "        \n",
    "        dA = Z - Y\n",
    "        \n",
    "        # 誤差を算出\n",
    "        loss = - np.sum(Y * np.log(Z), axis=1)\n",
    "        \n",
    "        return dA, loss"
   ]
  },
  {
   "cell_type": "code",
   "execution_count": 0,
   "metadata": {
    "colab": {},
    "colab_type": "code",
    "id": "LnV7aQiwJPd7"
   },
   "outputs": [],
   "source": [
    "import numpy as np\n",
    "\n",
    "class ReLU():\n",
    "    \"\"\"\n",
    "    ReLU汎用クラス\n",
    "    \"\"\"\n",
    "    \n",
    "    def __init__(self):\n",
    "        self.mask = None\n",
    "        \n",
    "        \n",
    "    def forward(self, A):\n",
    "        \"\"\"\n",
    "        フォワードにおける活性化関数の計算\n",
    "        \n",
    "        Parameters\n",
    "        -----------\n",
    "        A : 入力(活性化前)\n",
    "        \n",
    "        Return\n",
    "        -----------\n",
    "        Z : 出力(活性化後)\n",
    "\n",
    "        \"\"\"\n",
    "        \n",
    "        self.mask = (A <= 0)\n",
    "        Z = A.copy()\n",
    "        Z[self.mask] = 0\n",
    "        \n",
    "        return Z\n",
    "    \n",
    "    \n",
    "    def backward(self, dZ):\n",
    "        \"\"\"\n",
    "        バックワードにおける活性化関数の計算\n",
    "        \n",
    "        Parameters\n",
    "        -----------\n",
    "        dZ : 入力(活性化前)\n",
    "        \n",
    "        Return\n",
    "        -----------\n",
    "        dA : 出力(活性化後)\n",
    "\n",
    "        \"\"\"\n",
    "        \n",
    "        dA = dZ.copy()\n",
    "        dA[self.mask] = 0\n",
    "        \n",
    "        return dA"
   ]
  },
  {
   "cell_type": "markdown",
   "metadata": {
    "colab_type": "text",
    "id": "5tlMECiE3zg6"
   },
   "source": [
    "## 【問題6】重みの初期値"
   ]
  },
  {
   "cell_type": "code",
   "execution_count": 0,
   "metadata": {
    "colab": {},
    "colab_type": "code",
    "id": "y2GOuLrM3zg6"
   },
   "outputs": [],
   "source": [
    "import numpy as np\n",
    "\n",
    "class XavierInitializer:\n",
    "    \"\"\"\n",
    "    Xavierによる初期化\n",
    "    \"\"\"\n",
    "        \n",
    "    def W(self, n_nodes1, n_nodes2):\n",
    "        \"\"\"\n",
    "        重みの初期化\n",
    "        Parameters\n",
    "        ----------\n",
    "        n_nodes1 : int\n",
    "          前の層のノード数\n",
    "        n_nodes2 : int\n",
    "          後の層のノード数\n",
    "\n",
    "        Returns\n",
    "        ----------\n",
    "        W : 次の形のndarray, shape (n_nodes1, n_nodes2)\n",
    "          重さ\n",
    "        \"\"\"\n",
    "        W = np.random.randn(n_nodes1, n_nodes2) / np.sqrt(n_nodes1)\n",
    "\n",
    "        return W\n",
    "    \n",
    "    \n",
    "    def B(self, n_nodes2):\n",
    "        \"\"\"\n",
    "        バイアスの初期化\n",
    "        Parameters\n",
    "        ----------\n",
    "        n_nodes2 : int\n",
    "          後の層のノード数\n",
    "\n",
    "        Returns\n",
    "        ----------\n",
    "        B : 次の形のndarray, shape (n_nodes2,)\n",
    "          バイアス\n",
    "        \"\"\"\n",
    "        B = np.zeros(n_nodes2)\n",
    "\n",
    "        return B"
   ]
  },
  {
   "cell_type": "code",
   "execution_count": 0,
   "metadata": {
    "colab": {},
    "colab_type": "code",
    "id": "mRwXHD8w3zg9"
   },
   "outputs": [],
   "source": [
    "import numpy as np\n",
    "\n",
    "class HeInitializer:\n",
    "    \"\"\"\n",
    "    Heによる初期化\n",
    "    \"\"\"\n",
    "    \n",
    "    def W(self, n_nodes1, n_nodes2):\n",
    "        \"\"\"\n",
    "        重みの初期化\n",
    "        Parameters\n",
    "        ----------\n",
    "        n_nodes1 : int\n",
    "          前の層のノード数\n",
    "        n_nodes2 : int\n",
    "          後の層のノード数\n",
    "\n",
    "        Returns\n",
    "        ----------\n",
    "        W : 次の形のndarray, shape (n_nodes1, n_nodes2)\n",
    "          重さ\n",
    "        \"\"\"\n",
    "        \n",
    "        W = np.random.randn(n_nodes1, n_nodes2) / np.sqrt(n_nodes1) * np.sqrt(2)\n",
    "\n",
    "        return W\n",
    "    \n",
    "    \n",
    "    def B(self, n_nodes2):\n",
    "        \"\"\"\n",
    "        バイアスの初期化\n",
    "        Parameters\n",
    "        ----------\n",
    "        n_nodes2 : int\n",
    "          後の層のノード数\n",
    "\n",
    "        Returns\n",
    "        ----------\n",
    "        B : 次の形のndarray, shape (n_nodes2,)\n",
    "          バイアス\n",
    "        \"\"\"\n",
    "        \n",
    "        B = np.zeros(n_nodes2)\n",
    "\n",
    "        return B"
   ]
  },
  {
   "cell_type": "markdown",
   "metadata": {
    "colab_type": "text",
    "id": "xpEG9mOs3zg_"
   },
   "source": [
    "## 【問題7】最適化手法"
   ]
  },
  {
   "cell_type": "code",
   "execution_count": 0,
   "metadata": {
    "colab": {},
    "colab_type": "code",
    "id": "pXcE9gzL3zhB"
   },
   "outputs": [],
   "source": [
    "import numpy as np\n",
    "\n",
    "class AdaGrad:\n",
    "    \"\"\"\n",
    "    AdaGradによる最適化手法\n",
    "    Parameters\n",
    "    ----------\n",
    "    lr : 学習率\n",
    "    \"\"\"    \n",
    "    def __init__(self, lr):\n",
    "        self.lr = lr\n",
    "        \n",
    "        \n",
    "    def update(self, layer):\n",
    "        \"\"\"\n",
    "        ある層の重みやバイアスの更新\n",
    "        Parameters\n",
    "        ----------\n",
    "        layer : 更新前の層のインスタンス\n",
    "\n",
    "        Returns\n",
    "        ----------\n",
    "        layer : 更新後の層のインスタンス\n",
    "        \"\"\"\n",
    "        \n",
    "        # 重みとバイアスを更新\n",
    "        layer.HW += ((layer.bZ.T @ layer.dA) / len(layer.dA)) ** 2\n",
    "        layer.W -= self.lr * (1 / np.sqrt(layer.HW + 1e-7)) * ((layer.bZ.T @ layer.dA) / len(layer.dA))\n",
    "        layer.HB += (layer.dA) ** 2        \n",
    "        layer.B -= np.mean(self.lr * (1 / np.sqrt(layer.HB + 1e-7)) * layer.dA)\n",
    "\n",
    "        \n",
    "        return layer"
   ]
  },
  {
   "cell_type": "markdown",
   "metadata": {
    "colab_type": "text",
    "id": "YyCpq_mIlCMl"
   },
   "source": [
    "## ScratchDeepNeuralNetworkClassifierクラス"
   ]
  },
  {
   "cell_type": "code",
   "execution_count": 0,
   "metadata": {
    "colab": {},
    "colab_type": "code",
    "id": "XtI7w4kUlAe2"
   },
   "outputs": [],
   "source": [
    "import numpy as np\n",
    "import logging                                                                     # ログ\n",
    "from datetime import datetime                                        # 時間のやつ\n",
    "from sklearn.preprocessing import OneHotEncoder       # ワンホットのやつ\n",
    "from tqdm import tqdm                                                     # 進捗バーを出してくれるやつ\n",
    "\n",
    "\n",
    "class ScratchDeepNeuralNetworkClassifier():\n",
    "    \"\"\"\n",
    "    ニューラルネットワーク分類器\n",
    "    \"\"\"\n",
    "\n",
    "    def __init__(self, batch_size=10, n_epochs=10,  n_nodes=400, layer=4, verbose=True,\n",
    "                            sigma=1e-2, lr=1e-2, activation=None, optimizer='sgd'):\n",
    "\n",
    "        self.batch_size = batch_size     # バッチサイズ\n",
    "        self.n_epochs = n_epochs         # エポック数 \n",
    "        self.n_input = n_nodes              # 初回のノード数\n",
    "        self.layer = layer                          # 層の数\n",
    "        self.verbose = verbose               # 学習過程出力フラグ\n",
    "        self.activation = activation        #活性化関数(文字列)\n",
    "        self.FCs = []                                  # FCインスタンス格納用\n",
    "        self.activations = []                     # 活性化関数インスタンス格納用\n",
    "        self.loss_ = []                              # 学習用データの学習過程格納用\n",
    "        self.loss_val_ = []                       # 検証用データの学習過程格納用\n",
    "        \n",
    "        # 初期化・最適化クラスインスタンス作成\n",
    "        if activation == 'relu':\n",
    "            self.initializer = HeInitializer()\n",
    "        else:\n",
    "            self.initializer = XavierInitializer()\n",
    "        \n",
    "        if optimizer == 'sgd':\n",
    "            self.optimizer = SGD(lr)\n",
    "        elif optimizer == 'adagrad':\n",
    "            self.optimizer = AdaGrad(lr)\n",
    "            \n",
    "        # ワンホットライブラリのインスタンス作成\n",
    "        self.enc = OneHotEncoder(handle_unknown='ignore', sparse=False)\n",
    "        \n",
    "        # ログレベルを DEBUG に変更\n",
    "        time_stamp = datetime.now().strftime('%Y%m%d')\n",
    "        logging.basicConfig(filename='../tmp/sprint11_' + time_stamp + '.log', level=logging.DEBUG)\n",
    "        \n",
    "    \n",
    "    def fit(self, X, y, X_val=None, y_val=None):\n",
    "        \"\"\"\n",
    "        ニューラルネットワーク分類器を学習する。\n",
    "\n",
    "        Parameters\n",
    "        ----------\n",
    "        X : 次の形のndarray, shape (n_samples, n_features)\n",
    "            学習用データの特徴量\n",
    "        y : 次の形のndarray, shape (n_samples, )\n",
    "            学習用データの正解値\n",
    "        X_val : 次の形のndarray, shape (n_samples, n_features)\n",
    "            検証用データの特徴量\n",
    "        y_val : 次の形のndarray, shape (n_samples, )\n",
    "            検証用データの正解値\n",
    "        \"\"\"\n",
    "        \n",
    "        # ワンホット化\n",
    "        y = self.enc.fit_transform(y[:, np.newaxis])\n",
    "        \n",
    "        # 検証用データがある場合\n",
    "        if X_val is not None:\n",
    "            y_val= self.enc.fit_transform(y_val[:, np.newaxis])\n",
    "\n",
    "\n",
    "        # 学習用データから特徴量とクラス数を取得\n",
    "        n_features = X.shape[1]\n",
    "        n_output = y.shape[1]\n",
    "\n",
    "        # 初期化\n",
    "        n_nodes1 = self.n_input\n",
    "        \n",
    "        # 各層のFCインスタンス作成\n",
    "        for i in range(self.layer):\n",
    "            if i == (self.layer - 1):     # 出力層\n",
    "                fc = FC(n_nodes2, n_output, self.initializer, self.optimizer)\n",
    "                activation = Softmax()\n",
    "            else:\n",
    "                if i == 0:                       # 入力層\n",
    "                    fc = FC(n_features, n_nodes1, self.initializer, self.optimizer)\n",
    "                else:\n",
    "                    n_nodes2 = int(n_nodes1 / 2)   # TODO: 多分よロしくない\n",
    "                    fc = FC(n_nodes1, n_nodes2, self.initializer, self.optimizer)\n",
    "                    n_nodes1 = n_nodes2\n",
    "                \n",
    "                # 出力層以外は指定された活性化関数をインスタンス化\n",
    "                if self.activation == 'sigmoid':\n",
    "                    activation = Sigmoid()\n",
    "                elif self.activation == 'tanh':\n",
    "                    activation = Tanh()\n",
    "                elif self.activation == 'relu':\n",
    "                    activation = ReLU()\n",
    "                \n",
    "            self.FCs.append(fc)                           # 各自格納\n",
    "            self.activations.append(activation)\n",
    "\n",
    "\n",
    "        # エポックごとに進捗率を計測\n",
    "        for e in tqdm(range(self.n_epochs)):\n",
    "            # ミニバッチ化\n",
    "            get_mini_batch = GetMiniBatch(X, y, batch_size=self.batch_size)\n",
    "            # ロス格納用\n",
    "            loss_ary = []\n",
    "            \n",
    "            # Xのn_samples / batch_size数分ループ処理\n",
    "            for mini_X_train, mini_y_train in get_mini_batch:\n",
    "                                            \n",
    "                # forward propagation\n",
    "                for i in range(self.layer):\n",
    "                    if i == 0:                              # 入力層\n",
    "                        A = self.FCs[i].forward(mini_X_train)\n",
    "                        Z = self.activations[i].forward(A)\n",
    "                    else:\n",
    "                        A = self.FCs[i].forward(Z)\n",
    "                        Z = self.activations[i].forward(A)\n",
    "                \n",
    "                # back propagation\n",
    "                for i in range(self.layer):\n",
    "                    n_FC = self.layer - i - 1      # インスタンス逆指定用\n",
    "                    if i == 0:                               # 入力層\n",
    "                        dA, loss = self.activations[n_FC].backward(Z, mini_y_train)\n",
    "                        loss_ary.append(loss)\n",
    "                    else:                                     # 出力層\n",
    "                        dA = self.activations[n_FC].backward(dZ)\n",
    "                        \n",
    "                    dZ = self.FCs[n_FC].backward(dA)\n",
    "\n",
    "                    \n",
    "            #誤差を格納\n",
    "            self.loss_.append(np.mean(loss_ary))\n",
    "                        \n",
    "            # 検証用データがある場合\n",
    "            if X_val is not None:\n",
    "                # forward propagation\n",
    "                for i in range(self.layer):\n",
    "                    if i == 0:                              # 入力層\n",
    "                        A = self.FCs[i].forward(X_val)\n",
    "                        Z = self.activations[i].forward(A)\n",
    "                    else:\n",
    "                        A = self.FCs[i].forward(Z)\n",
    "                        Z = self.activations[i].forward(A)\n",
    "                \n",
    "                # \n",
    "                dA, loss_val = self.activations[self.layer-1].backward(Z, y_val)\n",
    "\n",
    "                #誤差を格納\n",
    "                self.loss_val_.append(np.mean(loss_val))\n",
    "                            \n",
    "\n",
    "            # フラグがTrueであればログ出力\n",
    "            if self.verbose:\n",
    "                logging.info('forward propagation %sエポック目 sum: %s shape: %s', e+1, np.sum(A), A.shape)\n",
    "                logging.info('forward propagation %sエポック目 sum: %s shape: %s', e+1, np.sum(Z), Z.shape)\n",
    "                logging.info('backward propagation %sエポック目 sum: %s shape: %s', e+1, np.sum(dA), dA.shape)\n",
    "                logging.info('backward propagation %sエポック目 sum: %s shape: %s', e+1, np.sum(dZ), dZ.shape)\n",
    "                logging.info('loss %sエポック目 : %s', e+1, np.sum(loss))\n",
    "\n",
    "        return self\n",
    "\n",
    "\n",
    "    def predict(self, X):\n",
    "        \"\"\"\n",
    "        ニューラルネットワーク分類器を使い推定する。\n",
    "\n",
    "        Parameters\n",
    "        ----------\n",
    "        X : 次の形のndarray, shape (n_samples, n_features)\n",
    "            学習データ\n",
    "\n",
    "        Returns\n",
    "        -------\n",
    "        y_pred :  次の形のndarray, shape (n_samples, 1)\n",
    "            推定結果\n",
    "        \"\"\"\n",
    "        \n",
    "        # forward propagation\n",
    "        for i in range(self.layer):\n",
    "            if i == 0:                              # 入力層\n",
    "                A = self.FCs[i].forward(X)\n",
    "                Z = self.activations[i].forward(A)\n",
    "            else:\n",
    "                A = self.FCs[i].forward(Z)\n",
    "                Z = self.activations[i].forward(A)\n",
    "        \n",
    "        # 一番確率が高いラベルを予測値に\n",
    "        y_pred = np.argmax(Z, axis=1)\n",
    "        \n",
    "        return y_pred\n",
    "    "
   ]
  },
  {
   "cell_type": "markdown",
   "metadata": {
    "colab_type": "text",
    "id": "sLH1oKzIbsLM"
   },
   "source": [
    "## 試してみる\n",
    "### sigmoid(XavierInitializer) と sgd "
   ]
  },
  {
   "cell_type": "code",
   "execution_count": 15,
   "metadata": {
    "colab": {
     "base_uri": "https://localhost:8080/",
     "height": 51
    },
    "colab_type": "code",
    "id": "81fkk2k0Hq5Z",
    "outputId": "54cc811d-1ba9-4ff7-c808-0962cfbd568a",
    "scrolled": false
   },
   "outputs": [
    {
     "name": "stderr",
     "output_type": "stream",
     "text": [
      "100%|██████████| 10/10 [03:48<00:00, 22.98s/it]\n"
     ]
    },
    {
     "data": {
      "text/plain": [
       "<__main__.ScratchDeepNeuralNetworkClassifier at 0x7fcae4671f60>"
      ]
     },
     "execution_count": 15,
     "metadata": {
      "tags": []
     },
     "output_type": "execute_result"
    }
   ],
   "source": [
    "sdnnc= ScratchDeepNeuralNetworkClassifier(activation='sigmoid')\n",
    "\n",
    "sdnnc.fit(X_train, y_train, X_val, y_val)"
   ]
  },
  {
   "cell_type": "code",
   "execution_count": 16,
   "metadata": {
    "colab": {
     "base_uri": "https://localhost:8080/",
     "height": 295
    },
    "colab_type": "code",
    "id": "dkqYIl9gS0YG",
    "outputId": "04b36248-2d18-482c-ee28-1c05cdc442bc"
   },
   "outputs": [
    {
     "data": {
      "image/png": "[encoded data removed]",
      "text/plain": [
       "<Figure size 432x288 with 1 Axes>"
      ]
     },
     "metadata": {
      "tags": []
     },
     "output_type": "display_data"
    }
   ],
   "source": [
    "train_loss = np.array(sdnnc.loss_)\n",
    "test_loss = np.array(sdnnc.loss_val_)\n",
    "\n",
    "plt.title(\"Learning Curve\")\n",
    "plt.xlabel(\"epoch\")\n",
    "plt.ylabel(\"loss\")\n",
    "\n",
    "# Traing score と Test score をプロット\n",
    "plt.plot(train_loss, 'o-', color=\"r\", label=\"Train\")\n",
    "plt.plot(test_loss, 'o-', color=\"g\", label=\"Test\")\n",
    "\n",
    "plt.legend(loc=1)\n",
    "plt.show()"
   ]
  },
  {
   "cell_type": "code",
   "execution_count": 17,
   "metadata": {
    "colab": {
     "base_uri": "https://localhost:8080/",
     "height": 204
    },
    "colab_type": "code",
    "id": "g9t45F1_Tfh_",
    "outputId": "c1ca46e0-afbf-4563-e556-234381adcc3b"
   },
   "outputs": [
    {
     "name": "stdout",
     "output_type": "stream",
     "text": [
      "[[1109    0    6    6    4   25   12    2    6    2]\n",
      " [   0 1319    6    1    0    2    0    7   18    4]\n",
      " [  11   27 1005   35   20    6   40    6   37    6]\n",
      " [   4   17   34 1016    0   59    2   17   31   11]\n",
      " [   1    7    6    0 1065    0   24    2    6   52]\n",
      " [   6    2   11   43   18  920   41   11   39   16]\n",
      " [   5    2   11    0   20   22 1114    0    2    0]\n",
      " [   2   18   14    6   11    5    0 1180    2   74]\n",
      " [   3   36    6   26   10   55   20    0  956   20]\n",
      " [  11    9    2   12   69   11    4   43   10 1026]]\n",
      "0.8925\n"
     ]
    }
   ],
   "source": [
    "# 予測\n",
    "y_pred = sdnnc.predict(X_val)\n",
    "\n",
    "print(confusion_matrix(y_val, y_pred))\n",
    "print(accuracy_score(y_val, y_pred))"
   ]
  },
  {
   "cell_type": "markdown",
   "metadata": {
    "colab_type": "text",
    "id": "ruxGtfnyZgyo"
   },
   "source": [
    "できてそう 他も2,3こ試してみる\n",
    "### tanh(XavierInitializer) と sgd "
   ]
  },
  {
   "cell_type": "code",
   "execution_count": 18,
   "metadata": {
    "colab": {
     "base_uri": "https://localhost:8080/",
     "height": 51
    },
    "colab_type": "code",
    "id": "NRWqf6fgZgyp",
    "outputId": "63521a62-4975-4d8f-9f3b-05dd2f058511"
   },
   "outputs": [
    {
     "name": "stderr",
     "output_type": "stream",
     "text": [
      "100%|██████████| 10/10 [03:46<00:00, 22.77s/it]\n"
     ]
    },
    {
     "data": {
      "text/plain": [
       "<__main__.ScratchDeepNeuralNetworkClassifier at 0x7fcae4aebf60>"
      ]
     },
     "execution_count": 18,
     "metadata": {
      "tags": []
     },
     "output_type": "execute_result"
    }
   ],
   "source": [
    "sdnnc= ScratchDeepNeuralNetworkClassifier(activation='tanh')\n",
    "\n",
    "sdnnc.fit(X_train, y_train, X_val, y_val)"
   ]
  },
  {
   "cell_type": "code",
   "execution_count": 19,
   "metadata": {
    "colab": {
     "base_uri": "https://localhost:8080/",
     "height": 295
    },
    "colab_type": "code",
    "id": "4deEcHxMZgys",
    "outputId": "f7425051-5262-4a75-b552-41c3cc25bc64"
   },
   "outputs": [
    {
     "data": {
      "image/png": "[encoded data removed]",
      "text/plain": [
       "<Figure size 432x288 with 1 Axes>"
      ]
     },
     "metadata": {
      "tags": []
     },
     "output_type": "display_data"
    }
   ],
   "source": [
    "train_loss = np.array(sdnnc.loss_)\n",
    "test_loss = np.array(sdnnc.loss_val_)\n",
    "\n",
    "plt.title(\"Learning Curve\")\n",
    "plt.xlabel(\"epoch\")\n",
    "plt.ylabel(\"loss\")\n",
    "\n",
    "# Traing score と Test score をプロット\n",
    "plt.plot(train_loss, 'o-', color=\"r\", label=\"Train\")\n",
    "plt.plot(test_loss, 'o-', color=\"g\", label=\"Test\")\n",
    "\n",
    "plt.legend(loc=1)\n",
    "plt.show()"
   ]
  },
  {
   "cell_type": "code",
   "execution_count": 20,
   "metadata": {
    "colab": {
     "base_uri": "https://localhost:8080/",
     "height": 204
    },
    "colab_type": "code",
    "id": "wTBQPW6BZgyt",
    "outputId": "a8a512da-9d0a-43b9-8ddc-74f338c2d6fe"
   },
   "outputs": [
    {
     "name": "stdout",
     "output_type": "stream",
     "text": [
      "[[1142    0    1    2    2    8   12    1    3    1]\n",
      " [   0 1343    4    0    3    0    2    3    1    1]\n",
      " [   7    5 1149    3    7    6    5    5    4    2]\n",
      " [   1    4   11 1140    0   12    0    4   15    4]\n",
      " [   0    4    3    2 1139    2    7    1    0    5]\n",
      " [   2    2    2    8    3 1071    7    3    5    4]\n",
      " [   1    2    1    1    3    6 1161    0    1    0]\n",
      " [   1    8    6    1    3    0    1 1279    4    9]\n",
      " [   4    7    1    3    4   10    5    1 1088    9]\n",
      " [   5    1    0    3   32    3    1   19    2 1131]]\n",
      "0.97025\n"
     ]
    }
   ],
   "source": [
    "# 予測\n",
    "y_pred = sdnnc.predict(X_val)\n",
    "\n",
    "print(confusion_matrix(y_val, y_pred))\n",
    "print(accuracy_score(y_val, y_pred))"
   ]
  },
  {
   "cell_type": "markdown",
   "metadata": {
    "colab_type": "text",
    "id": "admYFJ1UcRpc"
   },
   "source": [
    "### relu(XavierInitializer) と adagrad"
   ]
  },
  {
   "cell_type": "code",
   "execution_count": 21,
   "metadata": {
    "colab": {
     "base_uri": "https://localhost:8080/",
     "height": 51
    },
    "colab_type": "code",
    "id": "AUWxb-jGZgyw",
    "outputId": "b577ebdd-9f54-4217-e001-41d2218bdb0d"
   },
   "outputs": [
    {
     "name": "stderr",
     "output_type": "stream",
     "text": [
      "100%|██████████| 10/10 [07:28<00:00, 44.33s/it]\n"
     ]
    },
    {
     "data": {
      "text/plain": [
       "<__main__.ScratchDeepNeuralNetworkClassifier at 0x7fcae4671828>"
      ]
     },
     "execution_count": 21,
     "metadata": {
      "tags": []
     },
     "output_type": "execute_result"
    }
   ],
   "source": [
    "sdnnc= ScratchDeepNeuralNetworkClassifier(activation='relu', optimizer='adagrad')\n",
    "\n",
    "sdnnc.fit(X_train, y_train, X_val, y_val)"
   ]
  },
  {
   "cell_type": "code",
   "execution_count": 22,
   "metadata": {
    "colab": {
     "base_uri": "https://localhost:8080/",
     "height": 295
    },
    "colab_type": "code",
    "id": "kY8DTK8uZgyy",
    "outputId": "50573fd9-0107-4134-c091-ec96c48f4698"
   },
   "outputs": [
    {
     "data": {
      "image/png": "[encoded data removed]",
      "text/plain": [
       "<Figure size 432x288 with 1 Axes>"
      ]
     },
     "metadata": {
      "tags": []
     },
     "output_type": "display_data"
    }
   ],
   "source": [
    "train_loss = np.array(sdnnc.loss_)\n",
    "test_loss = np.array(sdnnc.loss_val_)\n",
    "\n",
    "plt.title(\"Learning Curve\")\n",
    "plt.xlabel(\"epoch\")\n",
    "plt.ylabel(\"loss\")\n",
    "\n",
    "# Traing score と Test score をプロット\n",
    "plt.plot(train_loss, 'o-', color=\"r\", label=\"Train\")\n",
    "plt.plot(test_loss, 'o-', color=\"g\", label=\"Test\")\n",
    "\n",
    "plt.legend(loc=1)\n",
    "plt.show()"
   ]
  },
  {
   "cell_type": "code",
   "execution_count": 23,
   "metadata": {
    "colab": {
     "base_uri": "https://localhost:8080/",
     "height": 204
    },
    "colab_type": "code",
    "id": "a1CCZO9oZgy0",
    "outputId": "7134e770-c53b-4ad8-cf33-ece44b35f6d2"
   },
   "outputs": [
    {
     "name": "stdout",
     "output_type": "stream",
     "text": [
      "[[1152    0    1    0    0    4   11    1    2    1]\n",
      " [   0 1343    5    1    2    0    1    4    1    0]\n",
      " [   4    2 1168    1    6    0    3    4    5    0]\n",
      " [   0    1   13 1150    0    6    0    5   13    3]\n",
      " [   1    4    2    0 1145    1    3    2    0    5]\n",
      " [   0    0    2    6    1 1082    7    4    2    3]\n",
      " [   0    1    1    0    3    2 1167    0    2    0]\n",
      " [   1    3    4    1    1    0    1 1291    2    8]\n",
      " [   3    7    0    4    2    4    8    0 1097    7]\n",
      " [   5    0    0    1   19    4    1   10    3 1154]]\n",
      "0.9790833333333333\n"
     ]
    }
   ],
   "source": [
    "# 予測\n",
    "y_pred = sdnnc.predict(X_val)\n",
    "\n",
    "print(confusion_matrix(y_val, y_pred))\n",
    "print(accuracy_score(y_val, y_pred))"
   ]
  },
  {
   "cell_type": "markdown",
   "metadata": {
    "colab_type": "text",
    "id": "gpCai6BnYl80"
   },
   "source": [
    "## メモ\n",
    "- 各層のnode数を根拠なしに指定してしまっているので、調査したい\n",
    "- adagradにすると1エポックあたりの処理が50秒近くかかってしまっているので、改善したい"
   ]
  },
  {
   "cell_type": "markdown",
   "metadata": {
    "colab_type": "text",
    "id": "MoYiwEKmjKlf"
   },
   "source": [
    "### 寄り道"
   ]
  },
  {
   "cell_type": "code",
   "execution_count": 0,
   "metadata": {
    "colab": {},
    "colab_type": "code",
    "id": "3kwdfFMsjKlf"
   },
   "outputs": [],
   "source": [
    "# ログを出す\n",
    "import logging\n",
    "from datetime import datetime\n",
    "\n",
    "# タイムスタンプ作成\n",
    "time_stamp = datetime.now().strftime('%Y%m%d')\n",
    "\n",
    "# ログレベルを DEBUG に変更\n",
    "logging.basicConfig(filename='../log/' + time_stamp + '.log', level=logging.DEBUG)\n",
    "\n",
    "logging.info('info %s %s', 'hoge', 'fuga')"
   ]
  }
 ],
 "metadata": {
  "colab": {
   "collapsed_sections": [],
   "name": "sprint11_dl_scratch_deep_neural_netowrok.ipynb",
   "provenance": [],
   "version": "0.3.2"
  },
  "kernelspec": {
   "display_name": "Python 3",
   "language": "python",
   "name": "python3"
  },
  "language_info": {
   "codemirror_mode": {
    "name": "ipython",
    "version": 3
   },
   "file_extension": ".py",
   "mimetype": "text/x-python",
   "name": "python",
   "nbconvert_exporter": "python",
   "pygments_lexer": "ipython3",
   "version": "3.7.1"
  }
 },
 "nbformat": 4,
 "nbformat_minor": 1
}
