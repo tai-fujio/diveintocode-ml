{
  "nbformat": 4,
  "nbformat_minor": 0,
  "metadata": {
    "colab": {
      "name": "sprint10-dl-scratch-neural-network.ipynb",
      "version": "0.3.2",
      "provenance": []
    },
    "language_info": {
      "codemirror_mode": {
        "name": "ipython",
        "version": 3
      },
      "file_extension": ".py",
      "mimetype": "text/x-python",
      "name": "python",
      "nbconvert_exporter": "python",
      "pygments_lexer": "ipython3",
      "version": "3.7.1"
    },
    "kernelspec": {
      "display_name": "Python 3",
      "language": "python",
      "name": "python3"
    }
  },
  "cells": [
    {
      "cell_type": "markdown",
      "metadata": {
        "id": "Jekv_j7EPUEw",
        "colab_type": "text"
      },
      "source": [
        "### MNIST データセット"
      ]
    },
    {
      "cell_type": "code",
      "metadata": {
        "id": "aKWotd1oPUEx",
        "colab_type": "code",
        "colab": {
          "base_uri": "https://localhost:8080/",
          "height": 34
        },
        "outputId": "a893a2b1-f5d0-4426-829b-a8f982adc7a1"
      },
      "source": [
        "import numpy as np\n",
        "from keras.datasets import mnist\n",
        "from sklearn.model_selection import train_test_split\n",
        "from sklearn.metrics import confusion_matrix\n",
        "from sklearn.metrics import accuracy_score"
      ],
      "execution_count": 1,
      "outputs": [
        {
          "output_type": "stream",
          "text": [
            "Using TensorFlow backend.\n"
          ],
          "name": "stderr"
        }
      ]
    },
    {
      "cell_type": "code",
      "metadata": {
        "id": "sgLTimRXPUE1",
        "colab_type": "code",
        "colab": {
          "base_uri": "https://localhost:8080/",
          "height": 1054
        },
        "outputId": "2b81c08b-2b6b-44d7-cdc4-946ec2fc18ff"
      },
      "source": [
        "(X_train, y_train), (X_test, y_test) = mnist.load_data()\n",
        "\n",
        "print(X_train.shape) # (60000, 28, 28)\n",
        "print(X_test.shape) # (10000, 28, 28)\n",
        "print(X_train[0].dtype) # uint8\n",
        "print(X_train[0])"
      ],
      "execution_count": 2,
      "outputs": [
        {
          "output_type": "stream",
          "text": [
            "Downloading data from https://s3.amazonaws.com/img-datasets/mnist.npz\n",
            "11493376/11490434 [==============================] - 1s 0us/step\n",
            "(60000, 28, 28)\n",
            "(10000, 28, 28)\n",
            "uint8\n",
            "[[  0   0   0   0   0   0   0   0   0   0   0   0   0   0   0   0   0   0\n",
            "    0   0   0   0   0   0   0   0   0   0]\n",
            " [  0   0   0   0   0   0   0   0   0   0   0   0   0   0   0   0   0   0\n",
            "    0   0   0   0   0   0   0   0   0   0]\n",
            " [  0   0   0   0   0   0   0   0   0   0   0   0   0   0   0   0   0   0\n",
            "    0   0   0   0   0   0   0   0   0   0]\n",
            " [  0   0   0   0   0   0   0   0   0   0   0   0   0   0   0   0   0   0\n",
            "    0   0   0   0   0   0   0   0   0   0]\n",
            " [  0   0   0   0   0   0   0   0   0   0   0   0   0   0   0   0   0   0\n",
            "    0   0   0   0   0   0   0   0   0   0]\n",
            " [  0   0   0   0   0   0   0   0   0   0   0   0   3  18  18  18 126 136\n",
            "  175  26 166 255 247 127   0   0   0   0]\n",
            " [  0   0   0   0   0   0   0   0  30  36  94 154 170 253 253 253 253 253\n",
            "  225 172 253 242 195  64   0   0   0   0]\n",
            " [  0   0   0   0   0   0   0  49 238 253 253 253 253 253 253 253 253 251\n",
            "   93  82  82  56  39   0   0   0   0   0]\n",
            " [  0   0   0   0   0   0   0  18 219 253 253 253 253 253 198 182 247 241\n",
            "    0   0   0   0   0   0   0   0   0   0]\n",
            " [  0   0   0   0   0   0   0   0  80 156 107 253 253 205  11   0  43 154\n",
            "    0   0   0   0   0   0   0   0   0   0]\n",
            " [  0   0   0   0   0   0   0   0   0  14   1 154 253  90   0   0   0   0\n",
            "    0   0   0   0   0   0   0   0   0   0]\n",
            " [  0   0   0   0   0   0   0   0   0   0   0 139 253 190   2   0   0   0\n",
            "    0   0   0   0   0   0   0   0   0   0]\n",
            " [  0   0   0   0   0   0   0   0   0   0   0  11 190 253  70   0   0   0\n",
            "    0   0   0   0   0   0   0   0   0   0]\n",
            " [  0   0   0   0   0   0   0   0   0   0   0   0  35 241 225 160 108   1\n",
            "    0   0   0   0   0   0   0   0   0   0]\n",
            " [  0   0   0   0   0   0   0   0   0   0   0   0   0  81 240 253 253 119\n",
            "   25   0   0   0   0   0   0   0   0   0]\n",
            " [  0   0   0   0   0   0   0   0   0   0   0   0   0   0  45 186 253 253\n",
            "  150  27   0   0   0   0   0   0   0   0]\n",
            " [  0   0   0   0   0   0   0   0   0   0   0   0   0   0   0  16  93 252\n",
            "  253 187   0   0   0   0   0   0   0   0]\n",
            " [  0   0   0   0   0   0   0   0   0   0   0   0   0   0   0   0   0 249\n",
            "  253 249  64   0   0   0   0   0   0   0]\n",
            " [  0   0   0   0   0   0   0   0   0   0   0   0   0   0  46 130 183 253\n",
            "  253 207   2   0   0   0   0   0   0   0]\n",
            " [  0   0   0   0   0   0   0   0   0   0   0   0  39 148 229 253 253 253\n",
            "  250 182   0   0   0   0   0   0   0   0]\n",
            " [  0   0   0   0   0   0   0   0   0   0  24 114 221 253 253 253 253 201\n",
            "   78   0   0   0   0   0   0   0   0   0]\n",
            " [  0   0   0   0   0   0   0   0  23  66 213 253 253 253 253 198  81   2\n",
            "    0   0   0   0   0   0   0   0   0   0]\n",
            " [  0   0   0   0   0   0  18 171 219 253 253 253 253 195  80   9   0   0\n",
            "    0   0   0   0   0   0   0   0   0   0]\n",
            " [  0   0   0   0  55 172 226 253 253 253 253 244 133  11   0   0   0   0\n",
            "    0   0   0   0   0   0   0   0   0   0]\n",
            " [  0   0   0   0 136 253 253 253 212 135 132  16   0   0   0   0   0   0\n",
            "    0   0   0   0   0   0   0   0   0   0]\n",
            " [  0   0   0   0   0   0   0   0   0   0   0   0   0   0   0   0   0   0\n",
            "    0   0   0   0   0   0   0   0   0   0]\n",
            " [  0   0   0   0   0   0   0   0   0   0   0   0   0   0   0   0   0   0\n",
            "    0   0   0   0   0   0   0   0   0   0]\n",
            " [  0   0   0   0   0   0   0   0   0   0   0   0   0   0   0   0   0   0\n",
            "    0   0   0   0   0   0   0   0   0   0]]\n"
          ],
          "name": "stdout"
        }
      ]
    },
    {
      "cell_type": "markdown",
      "metadata": {
        "id": "dqXT5S4CPUE6",
        "colab_type": "text"
      },
      "source": [
        "### 平滑化"
      ]
    },
    {
      "cell_type": "code",
      "metadata": {
        "id": "ml8BFB8BPUE6",
        "colab_type": "code",
        "colab": {}
      },
      "source": [
        "X_train = X_train.reshape(-1, 784)\n",
        "X_test = X_test.reshape(-1, 784)"
      ],
      "execution_count": 0,
      "outputs": []
    },
    {
      "cell_type": "markdown",
      "metadata": {
        "id": "avhUe3ECPUE9",
        "colab_type": "text"
      },
      "source": [
        "### 画像データの可視化"
      ]
    },
    {
      "cell_type": "code",
      "metadata": {
        "id": "dCzp5ovXPUE-",
        "colab_type": "code",
        "colab": {
          "base_uri": "https://localhost:8080/",
          "height": 281
        },
        "outputId": "2f1e2be5-0311-4440-9e04-838d8e31a092"
      },
      "source": [
        "import matplotlib.pyplot as plt\n",
        "%matplotlib inline\n",
        "index = 0\n",
        "image = X_train[index].reshape(28,28)\n",
        "# X_train[index]: (784,)\n",
        "# image: (28, 28)\n",
        "plt.imshow(image, 'gray')\n",
        "plt.title('label : {}'.format(y_train[index]))\n",
        "plt.show()"
      ],
      "execution_count": 4,
      "outputs": [
        {
          "output_type": "display_data",
          "data": {
            "image/png": "[encoded data removed]",
            "text/plain": [
              "<Figure size 432x288 with 1 Axes>"
            ]
          },
          "metadata": {
            "tags": []
          }
        }
      ]
    },
    {
      "cell_type": "markdown",
      "metadata": {
        "id": "hYpMM8q8PUFB",
        "colab_type": "text"
      },
      "source": [
        "### 前処理"
      ]
    },
    {
      "cell_type": "code",
      "metadata": {
        "id": "UU6UoGY0PUFC",
        "colab_type": "code",
        "colab": {
          "base_uri": "https://localhost:8080/",
          "height": 51
        },
        "outputId": "3c534fa9-93f4-4c42-9a73-d13221f07503"
      },
      "source": [
        "X_train = X_train.astype(np.float)\n",
        "X_test = X_test.astype(np.float)\n",
        "X_train /= 255\n",
        "X_test /= 255\n",
        "print(X_train.max()) # 1.0\n",
        "print(X_train.min()) # 0.0"
      ],
      "execution_count": 5,
      "outputs": [
        {
          "output_type": "stream",
          "text": [
            "1.0\n",
            "0.0\n"
          ],
          "name": "stdout"
        }
      ]
    },
    {
      "cell_type": "code",
      "metadata": {
        "id": "ilShmtmWPUFF",
        "colab_type": "code",
        "colab": {
          "base_uri": "https://localhost:8080/",
          "height": 85
        },
        "outputId": "217767ba-228b-41c8-ed5f-dd4265743743"
      },
      "source": [
        "from sklearn.preprocessing import OneHotEncoder\n",
        "enc = OneHotEncoder(handle_unknown='ignore', sparse=False)\n",
        "y_train_one_hot = enc.fit_transform(y_train[:, np.newaxis])\n",
        "y_test_one_hot = enc.transform(y_test[:, np.newaxis])\n",
        "print(y_train.shape) # (60000,)\n",
        "print(y_train_one_hot.shape) # (60000, 10)\n",
        "print(y_train_one_hot.dtype) # float64\n",
        "print(X_train.shape)"
      ],
      "execution_count": 6,
      "outputs": [
        {
          "output_type": "stream",
          "text": [
            "(60000,)\n",
            "(60000, 10)\n",
            "float64\n",
            "(60000, 784)\n"
          ],
          "name": "stdout"
        }
      ]
    },
    {
      "cell_type": "code",
      "metadata": {
        "id": "_2q4qgrZPUFI",
        "colab_type": "code",
        "colab": {
          "base_uri": "https://localhost:8080/",
          "height": 51
        },
        "outputId": "43c6753b-3ae7-4566-e5ed-6f75e64908ee"
      },
      "source": [
        "X_train, X_val, y_train, y_val = train_test_split(X_train, y_train, test_size=0.2)\n",
        "print(X_train.shape) # (48000, 784)\n",
        "print(X_val.shape) # (12000, 784)"
      ],
      "execution_count": 7,
      "outputs": [
        {
          "output_type": "stream",
          "text": [
            "(48000, 784)\n",
            "(12000, 784)\n"
          ],
          "name": "stdout"
        }
      ]
    },
    {
      "cell_type": "markdown",
      "metadata": {
        "id": "RxyqZNwWPUFP",
        "colab_type": "text"
      },
      "source": [
        "# 【問題1】ニューラルネットワーク分類器のクラスを作成  "
      ]
    },
    {
      "cell_type": "code",
      "metadata": {
        "id": "1c6-gI5pPUFP",
        "colab_type": "code",
        "colab": {}
      },
      "source": [
        "import numpy as np\n",
        "from sklearn.preprocessing import OneHotEncoder       # ワンホットのやつ\n",
        "from tqdm import tqdm                                                     # 進捗バーを出してくれるやつ\n",
        "\n",
        "class ScratchSimpleNeuralNetworkClassifier():\n",
        "    \"\"\"\n",
        "    シンプルな三層ニューラルネットワーク分類器\n",
        "\n",
        "    Parameters\n",
        "    ----------\n",
        "    verbose : bool\n",
        "        学習過程を出力する場合はTrue\n",
        "    epochs : int\n",
        "        エポック数（イテレーション数）\n",
        "    batch_size : int\n",
        "        バッチサイズ\n",
        "\n",
        "    Attributes\n",
        "    ----------\n",
        "    self.loss_ : dict\n",
        "        イテレーションごとのcostとaccuracy\n",
        "    \"\"\"\n",
        "\n",
        "    def __init__(self, batch_size=10, n_epochs=50,  n_nodes1=400, n_nodes2=200, sigma=1e-2, lr=1e-2, verbose=False):\n",
        "        self.batch_size = batch_size     # バッチサイズ\n",
        "        self.n_epochs = n_epochs         # エポック数 \n",
        "        self.n_nodes1 = n_nodes1        # 1層目のノード数\n",
        "        self.n_nodes2 = n_nodes2        # 2層目のノード数\n",
        "        self.sigma = sigma                      # ガウス分布の標準偏差\n",
        "        self.lr = lr                                      # 学習率\n",
        "        self.verbose = verbose               # 学習過程出力フラグ\n",
        "        self.n_features = None              # 特徴量の数\n",
        "        self.n_output = None                 # 出力のクラス数\n",
        "        self.W1 = None                           # 層ごとの重さ格納用\n",
        "        self.W2 = None\n",
        "        self.W3 = None\n",
        "        self.B1 = None                            # 層ごとのバイアス格納用\n",
        "        self.B2 = None\n",
        "        self.B3 = None\n",
        "        self.loss_ = []                             # 学習用データの学習過程格納用\n",
        "        self.loss_val_ = []                     # 検証用データの学習過程格納用\n",
        "        # ワンホットライブラリのインスタンス作成\n",
        "        self.enc = OneHotEncoder(handle_unknown='ignore', sparse=False)\n",
        "    \n",
        "    \n",
        "    def fit(self, X, y, X_val=None, y_val=None):\n",
        "        \"\"\"\n",
        "        ニューラルネットワーク分類器を学習する。\n",
        "\n",
        "        Parameters\n",
        "        ----------\n",
        "        X : 次の形のndarray, shape (n_samples, n_features)\n",
        "            学習用データの特徴量\n",
        "        y : 次の形のndarray, shape (n_samples, )\n",
        "            学習用データの正解値\n",
        "        X_val : 次の形のndarray, shape (n_samples, n_features)\n",
        "            検証用データの特徴量\n",
        "        y_val : 次の形のndarray, shape (n_samples, )\n",
        "            検証用データの正解値\n",
        "        \"\"\"\n",
        "        \n",
        "        # ワンホット化\n",
        "        y = self.enc.fit_transform(y[:, np.newaxis])\n",
        "        \n",
        "        # 検証用データがある場合\n",
        "        if X_val is not None:\n",
        "            y_val= self.enc.fit_transform(y_val[:, np.newaxis])\n",
        "        \n",
        "        # 学習用データから特徴量とクラス数を取得\n",
        "        self.n_features = X.shape[1]\n",
        "        self.n_output = y.shape[1]\n",
        "\n",
        "        # 重み・バイアスの初期化 (*1=一層目, *2=二層目, ...\n",
        "        self.W1 = self.sigma * np.random.randn(self.n_features, self.n_nodes1)\n",
        "        self.B1 = self.sigma * np.random.randn(self.n_nodes1)\n",
        "        self.W2 = self.sigma * np.random.randn(self.n_nodes1, self.n_nodes2)\n",
        "        self.B2 = self.sigma * np.random.randn(self.n_nodes2)\n",
        "        self.W3 = self.sigma * np.random.randn(self.n_nodes2, self.n_output)\n",
        "        self.B3 = self.sigma * np.random.randn(self.n_output)\n",
        "        \n",
        "        # エポックごとに進捗率を計測\n",
        "        for i in tqdm(range(self.n_epochs)):\n",
        "            # ミニバッチ化\n",
        "            get_mini_batch = GetMiniBatch(X, y, batch_size=self.batch_size)\n",
        "            \n",
        "            # Xのn_samples / batch_size数分ループ処理\n",
        "            for mini_X_train, mini_y_train in get_mini_batch:\n",
        "                                            \n",
        "                #フォワードプロパゲーション\n",
        "                A1, Z1, A2, Z2, A3, Z3= self._forward_propagation(mini_X_train)\n",
        "                \n",
        "                #バックプロパゲーション                \n",
        "                dW1, dB1, dW2, dB2, dW3, dB3 = self._back_propagation(\n",
        "                    mini_X_train, mini_y_train, A1, Z1, A2, Z2, A3, Z3)\n",
        "                \n",
        "                # パラメータ更新\n",
        "                self.W1 -= self.lr * dW1\n",
        "                self.B1 -= self.lr * dB1\n",
        "                self.W2 -= self.lr * dW2\n",
        "                self.B2 -= self.lr * dB2\n",
        "                self.W3 -= self.lr * dW3\n",
        "                self.B3 -= self.lr * dB3\n",
        "                \n",
        "            \n",
        "            # エポックごと学習完了時の予測値を計算\n",
        "            _, _, _, _, _, Z3= self._forward_propagation(X)\n",
        "            \n",
        "            # 交差エントロピー誤差を計算\n",
        "            loss = cross_entropy(y, Z3)\n",
        "            \n",
        "            # 誤差を格納\n",
        "            self.loss_.append(loss)\n",
        "            \n",
        "            # 検証用データがある場合\n",
        "            if X_val is not None:\n",
        "                # 学習用と同じように誤差を計算〜格納まで行う\n",
        "                _, _, _, _, _, Z3= self._forward_propagation(X_val)\n",
        "                \n",
        "                loss_val = cross_entropy(y_val, Z3)\n",
        "\n",
        "                self.loss_val_.append(loss_val)\n",
        "            \n",
        "            if self.verbose:\n",
        "                print('{}エポック目 ： {}  (学習用データ)'.format(i, loss))\n",
        "                if X_val is not None:\n",
        "                    print('{}エポック目 ： {}  (検証用データ)'.format(i, loss_val))\n",
        "                    \n",
        "        return self\n",
        "\n",
        "\n",
        "    def _forward_propagation(self, X):\n",
        "        \"\"\"\n",
        "        フォワードプロパゲーションの計算\n",
        "\n",
        "        Parameters\n",
        "        ----------\n",
        "        X : 次の形のndarray, shape (n_samples, n_features)\n",
        "            学習データ\n",
        "\n",
        "        Returns\n",
        "        -------\n",
        "         \n",
        "        \"\"\"\n",
        "        \n",
        "        #1層目\n",
        "        A1 = (X @ self.W1) + self.B1\n",
        "        Z1 = sigmoid(A1)\n",
        "\n",
        "        #2層目\n",
        "        A2 = (Z1 @ self.W2) + self.B2\n",
        "        Z2 = sigmoid(A2)\n",
        "\n",
        "        #3層目\n",
        "        A3 = (Z2 @ self.W3) + self.B3\n",
        "        Z3 = softmax(A3)\n",
        "        \n",
        "        return A1, Z1, A2, Z2, A3, Z3\n",
        "    \n",
        "    \n",
        "    def _back_propagation(self, X, y, A1, Z1, A2, Z2, A3, Z3):\n",
        "        \"\"\"\n",
        "        バックプロパゲーションの計算\n",
        "\n",
        "        Parameters\n",
        "        ----------\n",
        "        X : 次の形のndarray, shape (n_samples, n_features)\n",
        "            学習データ\n",
        "\n",
        "        Returns\n",
        "        -------\n",
        "         次の形のndarray, shape (batch_size, n_nodes)\n",
        "            sigmoid計算結果\n",
        "        \"\"\"\n",
        "        \n",
        "        #3層目\n",
        "        dZ3 = Z3 - y\n",
        "        dW3 = Z2.T @ dZ3\n",
        "        dB3 = np.mean(dZ3, axis=0)\n",
        "\n",
        "        #2層目\n",
        "        dZ2 = (dZ3 @ self.W3.T) * sigmoid_derivative(A2)\n",
        "        dW2 = Z1.T @ dZ2\n",
        "        dB2 = np.mean(dZ2, axis=0)\n",
        "\n",
        "        #1層目\n",
        "        dZ1 = (dZ2 @ self.W2.T) * sigmoid_derivative(A1)\n",
        "        dW1 = X.T @ dZ1\n",
        "        dB1 = np.mean(dZ1, axis=0)\n",
        "        \n",
        "        return dW1, dB1, dW2, dB2, dW3, dB3\n",
        "\n",
        "    \n",
        "\n",
        "    def predict(self, X):\n",
        "        \"\"\"\n",
        "        ニューラルネットワーク分類器を使い推定する。\n",
        "\n",
        "        Parameters\n",
        "        ----------\n",
        "        X : 次の形のndarray, shape (n_samples, n_features)\n",
        "            学習データ\n",
        "\n",
        "        Returns\n",
        "        -------\n",
        "        y_pred :  次の形のndarray, shape (n_samples, 1)\n",
        "            推定結果\n",
        "        \"\"\"\n",
        "        # フォワードプロパゲーション\n",
        "        A1, Z1, A2, Z2, A3, Z3= self._forward_propagation(X)\n",
        "        \n",
        "        # 一番確率が高いラベルを予測値に\n",
        "        y_pred = np.argmax(Z3, axis=1)\n",
        "        \n",
        "        return y_pred\n",
        "    \n",
        "    \n",
        "    \n",
        "    \n",
        "class GetMiniBatch:\n",
        "    \"\"\"\n",
        "    ミニバッチを取得するイテレータ\n",
        "\n",
        "    Parameters\n",
        "    ----------\n",
        "    X : 次の形のndarray, shape (n_samples, n_features)\n",
        "      学習データ\n",
        "    y : 次の形のndarray, shape (n_samples, 1)\n",
        "      正解値\n",
        "    batch_size : int\n",
        "      バッチサイズ\n",
        "    seed : int\n",
        "      NumPyの乱数のシード\n",
        "    \"\"\"\n",
        "    def __init__(self, X, y, batch_size = 10, seed=0):\n",
        "        self.batch_size = batch_size\n",
        "        np.random.seed(seed)\n",
        "        shuffle_index = np.random.permutation(np.arange(X.shape[0]))\n",
        "        self.X = X[shuffle_index]\n",
        "        self.y = y[shuffle_index]\n",
        "        self._stop = np.ceil(X.shape[0]/self.batch_size).astype(np.int)\n",
        "\n",
        "    def __len__(self):\n",
        "        return self._stop\n",
        "\n",
        "    def __getitem__(self,item):\n",
        "        p0 = item*self.batch_size\n",
        "        p1 = item*self.batch_size + self.batch_size\n",
        "        return self.X[p0:p1], self.y[p0:p1]        \n",
        "\n",
        "    def __iter__(self):\n",
        "        self._counter = 0\n",
        "        return self\n",
        "\n",
        "    def __next__(self):\n",
        "        if self._counter >= self._stop:\n",
        "            raise StopIteration()\n",
        "        p0 = self._counter*self.batch_size\n",
        "        p1 = self._counter*self.batch_size + self.batch_size\n",
        "        self._counter += 1\n",
        "        return self.X[p0:p1], self.y[p0:p1]"
      ],
      "execution_count": 0,
      "outputs": []
    },
    {
      "cell_type": "markdown",
      "metadata": {
        "id": "s6LMqxz9PUFT",
        "colab_type": "text"
      },
      "source": [
        "-　関数たち"
      ]
    },
    {
      "cell_type": "code",
      "metadata": {
        "id": "TFGBUT3pPUFU",
        "colab_type": "code",
        "colab": {}
      },
      "source": [
        "def sigmoid(X):\n",
        "    sigmoid_range = 34.538776394910684     # 入力の最大値\n",
        "    return 1 / (1 + np.exp(-np.clip(X, -sigmoid_range, sigmoid_range)))\n",
        "\n",
        "\n",
        "def sigmoid_derivative(X):\n",
        "    return sigmoid(X) * (1 - sigmoid(X))\n",
        "\n",
        "\n",
        "def softmax(X):\n",
        "    max_X = np.max(X)\n",
        "    exp_X = np.exp(X - max_X)\n",
        "    sum_exp_X = np.sum(exp_X, axis=1).reshape(-1, 1)\n",
        "    return exp_X / sum_exp_X\n",
        "\n",
        "\n",
        "def cross_entropy(y_true, y_pred):\n",
        "    return (-1) * np.sum(y_true * np.log(y_pred))"
      ],
      "execution_count": 0,
      "outputs": []
    },
    {
      "cell_type": "code",
      "metadata": {
        "id": "H0zsoqTePUFW",
        "colab_type": "code",
        "colab": {
          "base_uri": "https://localhost:8080/",
          "height": 34
        },
        "outputId": "2b7e965e-b5ba-458c-ff03-8e4e0e605eaa"
      },
      "source": [
        "ssnnc = ScratchSimpleNeuralNetworkClassifier()\n",
        "ssnnc.fit(X_train, y_train, X_val, y_val)"
      ],
      "execution_count": 0,
      "outputs": [
        {
          "output_type": "stream",
          "text": [
            "  4%|▍         | 2/50 [00:58<23:45, 29.69s/it]"
          ],
          "name": "stderr"
        }
      ]
    },
    {
      "cell_type": "markdown",
      "metadata": {
        "id": "3KvCcwtdPUFZ",
        "colab_type": "text"
      },
      "source": [
        "# 【問題2】学習曲線のプロット"
      ]
    },
    {
      "cell_type": "code",
      "metadata": {
        "id": "ey49dopNPUFa",
        "colab_type": "code",
        "colab": {
          "base_uri": "https://localhost:8080/",
          "height": 269
        },
        "outputId": "141063c2-11bd-4ec4-bd7b-795289508b7b"
      },
      "source": [
        "import seaborn as sns\n",
        "def plot_learning_curve(train_loss, test_loss):\n",
        "    sns.lineplot(data=train_loss, label='train_loss')\n",
        "    sns.lineplot(data=test_loss, label='test_loss')\n",
        "    \n",
        "    \n",
        "plot_learning_curve(np.array(ssnnc.loss_), np.array(ssnnc.loss_val_))"
      ],
      "execution_count": 11,
      "outputs": [
        {
          "output_type": "display_data",
          "data": {
            "image/png": "[encoded data removed]",
            "text/plain": [
              "<Figure size 432x288 with 1 Axes>"
            ]
          },
          "metadata": {
            "tags": []
          }
        }
      ]
    },
    {
      "cell_type": "markdown",
      "metadata": {
        "id": "ytdNZkrtPUFd",
        "colab_type": "text"
      },
      "source": [
        "# 【問題3】指標値の算出"
      ]
    },
    {
      "cell_type": "code",
      "metadata": {
        "id": "brE8xvGLPUFe",
        "colab_type": "code",
        "colab": {
          "base_uri": "https://localhost:8080/",
          "height": 204
        },
        "outputId": "0c574b2e-3c54-468a-f6a4-ccb732a68864"
      },
      "source": [
        "# 予測\n",
        "y_pred = ssnnc.predict(X_val)\n",
        "\n",
        "print(confusion_matrix(y_val, y_pred))\n",
        "print(accuracy_score(y_val, y_pred))"
      ],
      "execution_count": 12,
      "outputs": [
        {
          "output_type": "stream",
          "text": [
            "[[1129    1    1    0    2    2    7    0    1    0]\n",
            " [   1 1286    3    0    0    1    1    2    1    3]\n",
            " [   6    7 1185    4    3    1    2    6   10    0]\n",
            " [   3    4   11 1177    0   20    1    4    8    3]\n",
            " [   1    1    0    1 1123    0    8    1    0   13]\n",
            " [   3    0    2    9    1 1079    6    1    2    4]\n",
            " [   3    1    1    0    3    2 1194    0    1    0]\n",
            " [   2    1    5    1    2    1    0 1261    0    5]\n",
            " [   4    4    1    4    1    6    4    3 1165    3]\n",
            " [   1    0    0    6    5    2    0    4    5 1148]]\n",
            "0.9789166666666667\n"
          ],
          "name": "stdout"
        }
      ]
    },
    {
      "cell_type": "markdown",
      "metadata": {
        "id": "UCWasfQuPUFh",
        "colab_type": "text"
      },
      "source": [
        "### 落書き"
      ]
    },
    {
      "cell_type": "code",
      "metadata": {
        "id": "j1tgANSVPUFi",
        "colab_type": "code",
        "colab": {
          "base_uri": "https://localhost:8080/",
          "height": 51
        },
        "outputId": "53721271-3baa-4d67-aa13-93837eb0de0d"
      },
      "source": [
        "import numpy as np\n",
        "import time\n",
        "\n",
        "A = np.array([[1, 2, 3],[4,5,6]])\n",
        "B = np.array([[3,6,9],[5,1,2]])\n",
        "\n",
        "\n",
        "start = time.time()\n",
        "AB = np.dot(A, B.T)\n",
        "process_time = time.time() - start\n",
        "print(process_time)\n",
        "\n",
        "start = time.time()\n",
        "AB = A @ B.T\n",
        "process_time = time.time() - start\n",
        "\n",
        "print(process_time)\n",
        "# @でもそんな変わんなそうというか早い？"
      ],
      "execution_count": 13,
      "outputs": [
        {
          "output_type": "stream",
          "text": [
            "0.0011823177337646484\n",
            "0.00011134147644042969\n"
          ],
          "name": "stdout"
        }
      ]
    },
    {
      "cell_type": "markdown",
      "metadata": {
        "id": "RXiCtrUDPUFl",
        "colab_type": "text"
      },
      "source": [
        "## TODO\n",
        "- 1エポックあたり20秒くらいかかっちゃってる  \n",
        "→ 次のsprintで直す"
      ]
    }
  ]
}