{
  "nbformat": 4,
  "nbformat_minor": 0,
  "metadata": {
    "colab": {
      "name": "sprint10_dl_scratch_neural_network.ipynb",
      "version": "0.3.2",
      "provenance": []
    },
    "language_info": {
      "codemirror_mode": {
        "name": "ipython",
        "version": 3
      },
      "file_extension": ".py",
      "mimetype": "text/x-python",
      "name": "python",
      "nbconvert_exporter": "python",
      "pygments_lexer": "ipython3",
      "version": "3.7.1"
    },
    "kernelspec": {
      "display_name": "Python 3",
      "language": "python",
      "name": "python3"
    }
  },
  "cells": [
    {
      "cell_type": "markdown",
      "metadata": {
        "colab_type": "text",
        "id": "Jekv_j7EPUEw"
      },
      "source": [
        "### MNIST データセット"
      ]
    },
    {
      "cell_type": "code",
      "metadata": {
        "colab_type": "code",
        "id": "aKWotd1oPUEx",
        "colab": {
          "base_uri": "https://localhost:8080/",
          "height": 34
        },
        "outputId": "1c6fe4bc-cd93-4849-95c3-e34e33fef794"
      },
      "source": [
        "import numpy as np\n",
        "from keras.datasets import mnist\n",
        "from sklearn.model_selection import train_test_split\n",
        "from sklearn.metrics import confusion_matrix\n",
        "from sklearn.metrics import accuracy_score\n",
        "import matplotlib.pyplot as plt\n",
        "import seaborn as sns"
      ],
      "execution_count": 1,
      "outputs": [
        {
          "output_type": "stream",
          "text": [
            "Using TensorFlow backend.\n"
          ],
          "name": "stderr"
        }
      ]
    },
    {
      "cell_type": "code",
      "metadata": {
        "colab_type": "code",
        "id": "sgLTimRXPUE1",
        "outputId": "f15a7a58-489f-4bb9-bb37-cc41f3907e1c",
        "colab": {
          "base_uri": "https://localhost:8080/",
          "height": 1020
        }
      },
      "source": [
        "(X_train, y_train), (X_test, y_test) = mnist.load_data()\n",
        "\n",
        "print(X_train.shape) # (60000, 28, 28)\n",
        "print(X_test.shape) # (10000, 28, 28)\n",
        "print(X_train[0].dtype) # uint8\n",
        "print(X_train[0])"
      ],
      "execution_count": 2,
      "outputs": [
        {
          "output_type": "stream",
          "text": [
            "(60000, 28, 28)\n",
            "(10000, 28, 28)\n",
            "uint8\n",
            "[[  0   0   0   0   0   0   0   0   0   0   0   0   0   0   0   0   0   0\n",
            "    0   0   0   0   0   0   0   0   0   0]\n",
            " [  0   0   0   0   0   0   0   0   0   0   0   0   0   0   0   0   0   0\n",
            "    0   0   0   0   0   0   0   0   0   0]\n",
            " [  0   0   0   0   0   0   0   0   0   0   0   0   0   0   0   0   0   0\n",
            "    0   0   0   0   0   0   0   0   0   0]\n",
            " [  0   0   0   0   0   0   0   0   0   0   0   0   0   0   0   0   0   0\n",
            "    0   0   0   0   0   0   0   0   0   0]\n",
            " [  0   0   0   0   0   0   0   0   0   0   0   0   0   0   0   0   0   0\n",
            "    0   0   0   0   0   0   0   0   0   0]\n",
            " [  0   0   0   0   0   0   0   0   0   0   0   0   3  18  18  18 126 136\n",
            "  175  26 166 255 247 127   0   0   0   0]\n",
            " [  0   0   0   0   0   0   0   0  30  36  94 154 170 253 253 253 253 253\n",
            "  225 172 253 242 195  64   0   0   0   0]\n",
            " [  0   0   0   0   0   0   0  49 238 253 253 253 253 253 253 253 253 251\n",
            "   93  82  82  56  39   0   0   0   0   0]\n",
            " [  0   0   0   0   0   0   0  18 219 253 253 253 253 253 198 182 247 241\n",
            "    0   0   0   0   0   0   0   0   0   0]\n",
            " [  0   0   0   0   0   0   0   0  80 156 107 253 253 205  11   0  43 154\n",
            "    0   0   0   0   0   0   0   0   0   0]\n",
            " [  0   0   0   0   0   0   0   0   0  14   1 154 253  90   0   0   0   0\n",
            "    0   0   0   0   0   0   0   0   0   0]\n",
            " [  0   0   0   0   0   0   0   0   0   0   0 139 253 190   2   0   0   0\n",
            "    0   0   0   0   0   0   0   0   0   0]\n",
            " [  0   0   0   0   0   0   0   0   0   0   0  11 190 253  70   0   0   0\n",
            "    0   0   0   0   0   0   0   0   0   0]\n",
            " [  0   0   0   0   0   0   0   0   0   0   0   0  35 241 225 160 108   1\n",
            "    0   0   0   0   0   0   0   0   0   0]\n",
            " [  0   0   0   0   0   0   0   0   0   0   0   0   0  81 240 253 253 119\n",
            "   25   0   0   0   0   0   0   0   0   0]\n",
            " [  0   0   0   0   0   0   0   0   0   0   0   0   0   0  45 186 253 253\n",
            "  150  27   0   0   0   0   0   0   0   0]\n",
            " [  0   0   0   0   0   0   0   0   0   0   0   0   0   0   0  16  93 252\n",
            "  253 187   0   0   0   0   0   0   0   0]\n",
            " [  0   0   0   0   0   0   0   0   0   0   0   0   0   0   0   0   0 249\n",
            "  253 249  64   0   0   0   0   0   0   0]\n",
            " [  0   0   0   0   0   0   0   0   0   0   0   0   0   0  46 130 183 253\n",
            "  253 207   2   0   0   0   0   0   0   0]\n",
            " [  0   0   0   0   0   0   0   0   0   0   0   0  39 148 229 253 253 253\n",
            "  250 182   0   0   0   0   0   0   0   0]\n",
            " [  0   0   0   0   0   0   0   0   0   0  24 114 221 253 253 253 253 201\n",
            "   78   0   0   0   0   0   0   0   0   0]\n",
            " [  0   0   0   0   0   0   0   0  23  66 213 253 253 253 253 198  81   2\n",
            "    0   0   0   0   0   0   0   0   0   0]\n",
            " [  0   0   0   0   0   0  18 171 219 253 253 253 253 195  80   9   0   0\n",
            "    0   0   0   0   0   0   0   0   0   0]\n",
            " [  0   0   0   0  55 172 226 253 253 253 253 244 133  11   0   0   0   0\n",
            "    0   0   0   0   0   0   0   0   0   0]\n",
            " [  0   0   0   0 136 253 253 253 212 135 132  16   0   0   0   0   0   0\n",
            "    0   0   0   0   0   0   0   0   0   0]\n",
            " [  0   0   0   0   0   0   0   0   0   0   0   0   0   0   0   0   0   0\n",
            "    0   0   0   0   0   0   0   0   0   0]\n",
            " [  0   0   0   0   0   0   0   0   0   0   0   0   0   0   0   0   0   0\n",
            "    0   0   0   0   0   0   0   0   0   0]\n",
            " [  0   0   0   0   0   0   0   0   0   0   0   0   0   0   0   0   0   0\n",
            "    0   0   0   0   0   0   0   0   0   0]]\n"
          ],
          "name": "stdout"
        }
      ]
    },
    {
      "cell_type": "markdown",
      "metadata": {
        "colab_type": "text",
        "id": "dqXT5S4CPUE6"
      },
      "source": [
        "### 平滑化"
      ]
    },
    {
      "cell_type": "code",
      "metadata": {
        "colab_type": "code",
        "id": "ml8BFB8BPUE6",
        "colab": {}
      },
      "source": [
        "X_train = X_train.reshape(-1, 784)\n",
        "X_test = X_test.reshape(-1, 784)"
      ],
      "execution_count": 0,
      "outputs": []
    },
    {
      "cell_type": "markdown",
      "metadata": {
        "colab_type": "text",
        "id": "avhUe3ECPUE9"
      },
      "source": [
        "### 画像データの可視化"
      ]
    },
    {
      "cell_type": "code",
      "metadata": {
        "colab_type": "code",
        "id": "dCzp5ovXPUE-",
        "outputId": "14f7c537-8419-4813-e06a-7bf4b5f1e4b1",
        "colab": {
          "base_uri": "https://localhost:8080/",
          "height": 281
        }
      },
      "source": [
        "import matplotlib.pyplot as plt\n",
        "%matplotlib inline\n",
        "index = 0\n",
        "image = X_train[index].reshape(28,28)\n",
        "# X_train[index]: (784,)\n",
        "# image: (28, 28)\n",
        "plt.imshow(image, 'gray')\n",
        "plt.title('label : {}'.format(y_train[index]))\n",
        "plt.show()"
      ],
      "execution_count": 4,
      "outputs": [
        {
          "output_type": "display_data",
          "data": {
            "image/png": "[encoded data removed]",
            "text/plain": [
              "<Figure size 432x288 with 1 Axes>"
            ]
          },
          "metadata": {
            "tags": []
          }
        }
      ]
    },
    {
      "cell_type": "markdown",
      "metadata": {
        "colab_type": "text",
        "id": "hYpMM8q8PUFB"
      },
      "source": [
        "### 前処理"
      ]
    },
    {
      "cell_type": "code",
      "metadata": {
        "colab_type": "code",
        "id": "UU6UoGY0PUFC",
        "outputId": "f48334d0-34b2-4d2c-9fe1-07e1525a99c0",
        "colab": {
          "base_uri": "https://localhost:8080/",
          "height": 51
        }
      },
      "source": [
        "X_train = X_train.astype(np.float)\n",
        "X_test = X_test.astype(np.float)\n",
        "X_train /= 255\n",
        "X_test /= 255\n",
        "print(X_train.max()) # 1.0\n",
        "print(X_train.min()) # 0.0"
      ],
      "execution_count": 5,
      "outputs": [
        {
          "output_type": "stream",
          "text": [
            "1.0\n",
            "0.0\n"
          ],
          "name": "stdout"
        }
      ]
    },
    {
      "cell_type": "code",
      "metadata": {
        "colab_type": "code",
        "id": "ilShmtmWPUFF",
        "outputId": "ff5d8e53-a1c7-4f0d-e94a-661f33f39465",
        "colab": {
          "base_uri": "https://localhost:8080/",
          "height": 85
        }
      },
      "source": [
        "from sklearn.preprocessing import OneHotEncoder\n",
        "enc = OneHotEncoder(handle_unknown='ignore', sparse=False)\n",
        "y_train_one_hot = enc.fit_transform(y_train[:, np.newaxis])\n",
        "y_test_one_hot = enc.transform(y_test[:, np.newaxis])\n",
        "print(y_train.shape) # (60000,)\n",
        "print(y_train_one_hot.shape) # (60000, 10)\n",
        "print(y_train_one_hot.dtype) # float64\n",
        "print(X_train.shape)"
      ],
      "execution_count": 6,
      "outputs": [
        {
          "output_type": "stream",
          "text": [
            "(60000,)\n",
            "(60000, 10)\n",
            "float64\n",
            "(60000, 784)\n"
          ],
          "name": "stdout"
        }
      ]
    },
    {
      "cell_type": "code",
      "metadata": {
        "colab_type": "code",
        "id": "_2q4qgrZPUFI",
        "outputId": "e18667da-ae9c-4005-9363-e972a31878a0",
        "colab": {
          "base_uri": "https://localhost:8080/",
          "height": 51
        }
      },
      "source": [
        "X_train, X_val, y_train, y_val = train_test_split(X_train, y_train, test_size=0.2)\n",
        "print(X_train.shape) # (48000, 784)\n",
        "print(X_val.shape) # (12000, 784)"
      ],
      "execution_count": 7,
      "outputs": [
        {
          "output_type": "stream",
          "text": [
            "(48000, 784)\n",
            "(12000, 784)\n"
          ],
          "name": "stdout"
        }
      ]
    },
    {
      "cell_type": "markdown",
      "metadata": {
        "colab_type": "text",
        "id": "RxyqZNwWPUFP"
      },
      "source": [
        "# 【問題1】ニューラルネットワーク分類器のクラスを作成  "
      ]
    },
    {
      "cell_type": "code",
      "metadata": {
        "colab_type": "code",
        "id": "1c6-gI5pPUFP",
        "colab": {}
      },
      "source": [
        "import numpy as np\n",
        "from sklearn.preprocessing import OneHotEncoder       # ワンホットのやつ\n",
        "from tqdm import tqdm                                                     # 進捗バーを出してくれるやつ\n",
        "\n",
        "class ScratchSimpleNeuralNetworkClassifier():\n",
        "    \"\"\"\n",
        "    シンプルな三層ニューラルネットワーク分類器\n",
        "\n",
        "    Parameters\n",
        "    ----------\n",
        "    verbose : bool\n",
        "        学習過程を出力する場合はTrue\n",
        "    epochs : int\n",
        "        エポック数（イテレーション数）\n",
        "    batch_size : int\n",
        "        バッチサイズ\n",
        "\n",
        "    Attributes\n",
        "    ----------\n",
        "    self.loss_ : dict\n",
        "        イテレーションごとのcostとaccuracy\n",
        "    \"\"\"\n",
        "\n",
        "    def __init__(self, batch_size=10, n_epochs=10,  n_nodes1=400, n_nodes2=200, sigma=1e-2, lr=1e-2, verbose=False):\n",
        "        self.batch_size = batch_size     # バッチサイズ\n",
        "        self.n_epochs = n_epochs         # エポック数 \n",
        "        self.n_nodes1 = n_nodes1        # 1層目のノード数\n",
        "        self.n_nodes2 = n_nodes2        # 2層目のノード数\n",
        "        self.sigma = sigma                      # ガウス分布の標準偏差\n",
        "        self.lr = lr                                      # 学習率\n",
        "        self.verbose = verbose               # 学習過程出力フラグ\n",
        "        self.n_features = None              # 特徴量の数\n",
        "        self.n_output = None                 # 出力のクラス数\n",
        "        self.W1 = None                           # 層ごとの重さ格納用\n",
        "        self.W2 = None\n",
        "        self.W3 = None\n",
        "        self.B1 = None                            # 層ごとのバイアス格納用\n",
        "        self.B2 = None\n",
        "        self.B3 = None\n",
        "        self.loss_ = []                             # 学習用データの学習過程格納用\n",
        "        self.loss_val_ = []                     # 検証用データの学習過程格納用\n",
        "        # ワンホットライブラリのインスタンス作成\n",
        "        self.enc = OneHotEncoder(handle_unknown='ignore', sparse=False)\n",
        "    \n",
        "    \n",
        "    def fit(self, X, y, X_val=None, y_val=None):\n",
        "        \"\"\"\n",
        "        ニューラルネットワーク分類器を学習する。\n",
        "\n",
        "        Parameters\n",
        "        ----------\n",
        "        X : 次の形のndarray, shape (n_samples, n_features)\n",
        "            学習用データの特徴量\n",
        "        y : 次の形のndarray, shape (n_samples, )\n",
        "            学習用データの正解値\n",
        "        X_val : 次の形のndarray, shape (n_samples, n_features)\n",
        "            検証用データの特徴量\n",
        "        y_val : 次の形のndarray, shape (n_samples, )\n",
        "            検証用データの正解値\n",
        "        \"\"\"\n",
        "        \n",
        "        # ワンホット化\n",
        "        y = self.enc.fit_transform(y[:, np.newaxis])\n",
        "        \n",
        "        # 検証用データがある場合\n",
        "        if X_val is not None:\n",
        "            y_val= self.enc.fit_transform(y_val[:, np.newaxis])\n",
        "        \n",
        "        # 学習用データから特徴量とクラス数を取得\n",
        "        self.n_features = X.shape[1]\n",
        "        self.n_output = y.shape[1]\n",
        "\n",
        "        # 重み・バイアスの初期化 (*1=一層目, *2=二層目, ...\n",
        "        self.W1 = self.sigma * np.random.randn(self.n_features, self.n_nodes1)\n",
        "        self.B1 = self.sigma * np.random.randn(self.n_nodes1)\n",
        "        self.W2 = self.sigma * np.random.randn(self.n_nodes1, self.n_nodes2)\n",
        "        self.B2 = self.sigma * np.random.randn(self.n_nodes2)\n",
        "        self.W3 = self.sigma * np.random.randn(self.n_nodes2, self.n_output)\n",
        "        self.B3 = self.sigma * np.random.randn(self.n_output)\n",
        "        \n",
        "        # エポックごとに進捗率を計測\n",
        "        for i in tqdm(range(self.n_epochs)):\n",
        "            # ミニバッチ化\n",
        "            get_mini_batch = GetMiniBatch(X, y, batch_size=self.batch_size)\n",
        "            \n",
        "            # Xのn_samples / batch_size数分ループ処理\n",
        "            for mini_X_train, mini_y_train in get_mini_batch:\n",
        "                                            \n",
        "                #フォワードプロパゲーション\n",
        "                A1, Z1, A2, Z2, A3, Z3= self._forward_propagation(mini_X_train)\n",
        "                \n",
        "                #バックプロパゲーション                \n",
        "                dW1, dB1, dW2, dB2, dW3, dB3 = self._back_propagation(\n",
        "                    mini_X_train, mini_y_train, A1, Z1, A2, Z2, A3, Z3)\n",
        "                \n",
        "                # パラメータ更新\n",
        "                self.W1 -= self.lr * dW1\n",
        "                self.B1 -= self.lr * dB1\n",
        "                self.W2 -= self.lr * dW2\n",
        "                self.B2 -= self.lr * dB2\n",
        "                self.W3 -= self.lr * dW3\n",
        "                self.B3 -= self.lr * dB3\n",
        "                \n",
        "            \n",
        "            # エポックごと学習完了時の予測値を計算\n",
        "            _, _, _, _, _, Z3= self._forward_propagation(X)\n",
        "            \n",
        "            # 交差エントロピー誤差を計算\n",
        "            loss = cross_entropy(y, Z3)\n",
        "            \n",
        "            # 誤差を格納\n",
        "            self.loss_.append(loss)\n",
        "            \n",
        "            # 検証用データがある場合\n",
        "            if X_val is not None:\n",
        "                # 学習用と同じように誤差を計算〜格納まで行う\n",
        "                _, _, _, _, _, Z3= self._forward_propagation(X_val)\n",
        "                \n",
        "                loss_val = cross_entropy(y_val, Z3)\n",
        "\n",
        "                self.loss_val_.append(loss_val)\n",
        "            \n",
        "            if self.verbose:\n",
        "                print('{}エポック目 ： {}  (学習用データ)'.format(i, loss))\n",
        "                if X_val is not None:\n",
        "                    print('{}エポック目 ： {}  (検証用データ)'.format(i, loss_val))\n",
        "                    \n",
        "        return self\n",
        "\n",
        "\n",
        "    def _forward_propagation(self, X):\n",
        "        \"\"\"\n",
        "        フォワードプロパゲーションの計算\n",
        "\n",
        "        Parameters\n",
        "        ----------\n",
        "        X : 次の形のndarray, shape (n_samples, n_features)\n",
        "            学習データ\n",
        "\n",
        "        Returns\n",
        "        -------\n",
        "         \n",
        "        \"\"\"\n",
        "        \n",
        "        #1層目\n",
        "        A1 = (X @ self.W1) + self.B1\n",
        "        Z1 = sigmoid(A1)\n",
        "\n",
        "        #2層目\n",
        "        A2 = (Z1 @ self.W2) + self.B2\n",
        "        Z2 = sigmoid(A2)\n",
        "\n",
        "        #3層目\n",
        "        A3 = (Z2 @ self.W3) + self.B3\n",
        "        Z3 = softmax(A3)\n",
        "        \n",
        "        return A1, Z1, A2, Z2, A3, Z3\n",
        "    \n",
        "    \n",
        "    def _back_propagation(self, X, y, A1, Z1, A2, Z2, A3, Z3):\n",
        "        \"\"\"\n",
        "        バックプロパゲーションの計算\n",
        "\n",
        "        Parameters\n",
        "        ----------\n",
        "        X : 次の形のndarray, shape (n_samples, n_features)\n",
        "            学習データ\n",
        "\n",
        "        Returns\n",
        "        -------\n",
        "         次の形のndarray, shape (batch_size, n_nodes)\n",
        "            sigmoid計算結果\n",
        "        \"\"\"\n",
        "        \n",
        "        #3層目\n",
        "        dZ3 = Z3 - y\n",
        "        dW3 = Z2.T @ dZ3 / len(X)\n",
        "        dB3 = np.mean(dZ3, axis=0)\n",
        "\n",
        "        #2層目\n",
        "        dZ2 = (dZ3 @ self.W3.T) * sigmoid_derivative(A2)\n",
        "        dW2 = Z1.T @ dZ2 / len(X)\n",
        "        dB2 = np.mean(dZ2, axis=0)\n",
        "\n",
        "        #1層目\n",
        "        dZ1 = (dZ2 @ self.W2.T) * sigmoid_derivative(A1)\n",
        "        dW1 = X.T @ dZ1 / len(X)\n",
        "        dB1 = np.mean(dZ1, axis=0)\n",
        "        \n",
        "        return dW1, dB1, dW2, dB2, dW3, dB3\n",
        "\n",
        "    \n",
        "\n",
        "    def predict(self, X):\n",
        "        \"\"\"\n",
        "        ニューラルネットワーク分類器を使い推定する。\n",
        "\n",
        "        Parameters\n",
        "        ----------\n",
        "        X : 次の形のndarray, shape (n_samples, n_features)\n",
        "            学習データ\n",
        "\n",
        "        Returns\n",
        "        -------\n",
        "        y_pred :  次の形のndarray, shape (n_samples, 1)\n",
        "            推定結果\n",
        "        \"\"\"\n",
        "        # フォワードプロパゲーション\n",
        "        _, _, _, _, _, Z3= self._forward_propagation(X)\n",
        "        \n",
        "        # 一番確率が高いラベルを予測値に\n",
        "        y_pred = np.argmax(Z3, axis=1)\n",
        "        \n",
        "        return y_pred\n",
        "    \n",
        "    \n",
        "    \n",
        "    \n",
        "class GetMiniBatch:\n",
        "    \"\"\"\n",
        "    ミニバッチを取得するイテレータ\n",
        "\n",
        "    Parameters\n",
        "    ----------\n",
        "    X : 次の形のndarray, shape (n_samples, n_features)\n",
        "      学習データ\n",
        "    y : 次の形のndarray, shape (n_samples, 1)\n",
        "      正解値\n",
        "    batch_size : int\n",
        "      バッチサイズ\n",
        "    seed : int\n",
        "      NumPyの乱数のシード\n",
        "    \"\"\"\n",
        "    def __init__(self, X, y, batch_size = 10, seed=0):\n",
        "        self.batch_size = batch_size\n",
        "        np.random.seed(seed)\n",
        "        shuffle_index = np.random.permutation(np.arange(X.shape[0]))\n",
        "        self.X = X[shuffle_index]\n",
        "        self.y = y[shuffle_index]\n",
        "        self._stop = np.ceil(X.shape[0]/self.batch_size).astype(np.int)\n",
        "\n",
        "    def __len__(self):\n",
        "        return self._stop\n",
        "\n",
        "    def __getitem__(self,item):\n",
        "        p0 = item*self.batch_size\n",
        "        p1 = item*self.batch_size + self.batch_size\n",
        "        return self.X[p0:p1], self.y[p0:p1]        \n",
        "\n",
        "    def __iter__(self):\n",
        "        self._counter = 0\n",
        "        return self\n",
        "\n",
        "    def __next__(self):\n",
        "        if self._counter >= self._stop:\n",
        "            raise StopIteration()\n",
        "        p0 = self._counter*self.batch_size\n",
        "        p1 = self._counter*self.batch_size + self.batch_size\n",
        "        self._counter += 1\n",
        "        return self.X[p0:p1], self.y[p0:p1]"
      ],
      "execution_count": 0,
      "outputs": []
    },
    {
      "cell_type": "markdown",
      "metadata": {
        "colab_type": "text",
        "id": "s6LMqxz9PUFT"
      },
      "source": [
        "-　関数たち"
      ]
    },
    {
      "cell_type": "code",
      "metadata": {
        "colab_type": "code",
        "id": "TFGBUT3pPUFU",
        "colab": {}
      },
      "source": [
        "def sigmoid(X):\n",
        "    sigmoid_range = 34.538776394910684     # 入力の最大値\n",
        "    return 1 / (1 + np.exp(-np.clip(X, -sigmoid_range, sigmoid_range)))\n",
        "\n",
        "\n",
        "def sigmoid_derivative(X):\n",
        "    return sigmoid(X) * (1 - sigmoid(X))\n",
        "\n",
        "\n",
        "def softmax(X):\n",
        "    max_X = np.max(X)\n",
        "    exp_X = np.exp(X - max_X)\n",
        "    sum_exp_X = np.sum(exp_X, axis=1).reshape(-1, 1)\n",
        "    return exp_X / sum_exp_X\n",
        "\n",
        "\n",
        "def cross_entropy(y_true, y_pred):\n",
        "    return (-1) * np.sum(y_true * np.log(y_pred))"
      ],
      "execution_count": 0,
      "outputs": []
    },
    {
      "cell_type": "code",
      "metadata": {
        "colab_type": "code",
        "id": "H0zsoqTePUFW",
        "outputId": "a1481bdc-f47c-4143-feb9-1f4458181dfe",
        "colab": {
          "base_uri": "https://localhost:8080/",
          "height": 51
        }
      },
      "source": [
        "ssnnc = ScratchSimpleNeuralNetworkClassifier()\n",
        "ssnnc.fit(X_train, y_train, X_val, y_val)"
      ],
      "execution_count": 10,
      "outputs": [
        {
          "output_type": "stream",
          "text": [
            "100%|██████████| 10/10 [04:25<00:00, 26.38s/it]\n"
          ],
          "name": "stderr"
        },
        {
          "output_type": "execute_result",
          "data": {
            "text/plain": [
              "<__main__.ScratchSimpleNeuralNetworkClassifier at 0x7f175cd5cac8>"
            ]
          },
          "metadata": {
            "tags": []
          },
          "execution_count": 10
        }
      ]
    },
    {
      "cell_type": "markdown",
      "metadata": {
        "colab_type": "text",
        "id": "3KvCcwtdPUFZ"
      },
      "source": [
        "# 【問題2】学習曲線のプロット"
      ]
    },
    {
      "cell_type": "code",
      "metadata": {
        "colab_type": "code",
        "id": "ey49dopNPUFa",
        "outputId": "f3665128-af0d-4697-8a12-0a979aaa8221",
        "colab": {
          "base_uri": "https://localhost:8080/",
          "height": 295
        }
      },
      "source": [
        "train_loss = np.array(ssnnc.loss_)\n",
        "test_loss = np.array(ssnnc.loss_val_)\n",
        "\n",
        "plt.figure()\n",
        "plt.title(\"Learning Curve\")\n",
        "plt.xlabel(\"epoch\")\n",
        "plt.ylabel(\"loss\")\n",
        "\n",
        "# Traing score と Test score をプロット\n",
        "plt.plot(train_loss, 'o-', color=\"r\", label=\"Train\")\n",
        "plt.plot(test_loss, 'o-', color=\"g\", label=\"Test\")\n",
        "\n",
        "plt.legend(loc=1)\n",
        "plt.show()"
      ],
      "execution_count": 11,
      "outputs": [
        {
          "output_type": "display_data",
          "data": {
            "image/png": "[encoded data removed]",
            "text/plain": [
              "<Figure size 432x288 with 1 Axes>"
            ]
          },
          "metadata": {
            "tags": []
          }
        }
      ]
    },
    {
      "cell_type": "markdown",
      "metadata": {
        "colab_type": "text",
        "id": "ytdNZkrtPUFd"
      },
      "source": [
        "# 【問題3】指標値の算出"
      ]
    },
    {
      "cell_type": "code",
      "metadata": {
        "colab_type": "code",
        "id": "brE8xvGLPUFe",
        "outputId": "bbc8da1f-c22f-4438-8fae-34e69915feb6",
        "colab": {
          "base_uri": "https://localhost:8080/",
          "height": 204
        }
      },
      "source": [
        "# 予測\n",
        "y_pred = ssnnc.predict(X_val)\n",
        "\n",
        "print(confusion_matrix(y_val, y_pred))\n",
        "print(accuracy_score(y_val, y_pred))"
      ],
      "execution_count": 12,
      "outputs": [
        {
          "output_type": "stream",
          "text": [
            "[[1107    0    4   16    8   48   11    0    8    0]\n",
            " [   0 1327   25    9    0    0    0    1   13    9]\n",
            " [  12   42 1021   61   22    5   35    5   16    4]\n",
            " [   8   37   46 1029    0   40    2   17   20    5]\n",
            " [   1    0    3    0  967    2   32    2    5  149]\n",
            " [  39    3   45  150   11  702   39   11   20   30]\n",
            " [  15    2   53    0   11    7 1075    0    3    0]\n",
            " [   1   71    2   12    9   13    0 1040    0   90]\n",
            " [   5   67   56  102   14   49   23    2  825   56]\n",
            " [   4    3    0   13   80   30    3   58   11  971]]\n",
            "0.8386666666666667\n"
          ],
          "name": "stdout"
        }
      ]
    },
    {
      "cell_type": "markdown",
      "metadata": {
        "colab_type": "text",
        "id": "UCWasfQuPUFh"
      },
      "source": [
        "### 落書き"
      ]
    },
    {
      "cell_type": "code",
      "metadata": {
        "colab_type": "code",
        "id": "j1tgANSVPUFi",
        "outputId": "5645a064-9d45-49a9-fc8c-5204f60c49ce",
        "colab": {
          "base_uri": "https://localhost:8080/",
          "height": 51
        }
      },
      "source": [
        "import numpy as np\n",
        "import time\n",
        "\n",
        "A = np.array([[1, 2, 3],[4,5,6]])\n",
        "B = np.array([[3,6,9],[5,1,2]])\n",
        "\n",
        "\n",
        "start = time.time()\n",
        "AB = np.dot(A, B.T)\n",
        "process_time = time.time() - start\n",
        "print(process_time)\n",
        "\n",
        "start = time.time()\n",
        "AB = A @ B.T\n",
        "process_time = time.time() - start\n",
        "\n",
        "print(process_time)\n",
        "# @でもそんな変わんなそうというか早い？"
      ],
      "execution_count": 13,
      "outputs": [
        {
          "output_type": "stream",
          "text": [
            "7.987022399902344e-05\n",
            "0.00010585784912109375\n"
          ],
          "name": "stdout"
        }
      ]
    },
    {
      "cell_type": "markdown",
      "metadata": {
        "colab_type": "text",
        "id": "RXiCtrUDPUFl"
      },
      "source": [
        "## TODO\n",
        "- 1エポックあたり20秒くらいかかっちゃってる  \n",
        "→ 次のsprintで直す"
      ]
    }
  ]
}