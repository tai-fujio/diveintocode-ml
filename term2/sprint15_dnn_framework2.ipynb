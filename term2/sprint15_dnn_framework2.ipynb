{
  "nbformat": 4,
  "nbformat_minor": 0,
  "metadata": {
    "colab": {
      "name": "sprint15_dnn_framework2.ipynb",
      "version": "0.3.2",
      "provenance": [],
      "collapsed_sections": []
    },
    "language_info": {
      "codemirror_mode": {
        "name": "ipython",
        "version": 3
      },
      "file_extension": ".py",
      "mimetype": "text/x-python",
      "name": "python",
      "nbconvert_exporter": "python",
      "pygments_lexer": "ipython3",
      "version": "3.7.1"
    },
    "kernelspec": {
      "display_name": "Python 3",
      "language": "python",
      "name": "python3"
    }
  },
  "cells": [
    {
      "cell_type": "markdown",
      "metadata": {
        "colab_type": "text",
        "id": "TV7FjuJgkOLS"
      },
      "source": [
        "## Keras キャッチアップ"
      ]
    },
    {
      "cell_type": "code",
      "metadata": {
        "colab_type": "code",
        "id": "0mpXiEFekOLT",
        "colab": {}
      },
      "source": [
        "import numpy as np\n",
        "import pandas as pd\n",
        "import tensorflow as tf\n",
        "from sklearn.model_selection import train_test_split\n",
        "from keras.datasets import mnist\n",
        "from keras.models import Sequential\n",
        "from keras.layers import Activation, Conv2D, Dense, Dropout, Flatten, MaxPooling2D\n",
        "from keras.utils import to_categorical\n",
        "from sklearn.preprocessing import StandardScaler"
      ],
      "execution_count": 0,
      "outputs": []
    },
    {
      "cell_type": "code",
      "metadata": {
        "colab_type": "code",
        "id": "9dOo96VmkOLX",
        "colab": {}
      },
      "source": [
        "model = tf.keras.Sequential([tf.keras.layers.Dense(1, activation = tf.nn.sigmoid, input_shape=(2,))])\n",
        "\n",
        "# ANDゲートの学習データを用意\n",
        "x_train = np.array([[0,0],[0,1],[1,0],[1,1]])\n",
        "y_train = np.array([[0],[0],[0],[1]])"
      ],
      "execution_count": 0,
      "outputs": []
    },
    {
      "cell_type": "code",
      "metadata": {
        "colab_type": "code",
        "id": "XdoBrXu_kOLc",
        "outputId": "0bb93291-d247-49fc-b2b4-31d010836f0e",
        "colab": {
          "base_uri": "https://localhost:8080/",
          "height": 170
        }
      },
      "source": [
        "model.summary()"
      ],
      "execution_count": 44,
      "outputs": [
        {
          "output_type": "stream",
          "text": [
            "_________________________________________________________________\n",
            "Layer (type)                 Output Shape              Param #   \n",
            "=================================================================\n",
            "dense_16 (Dense)             (None, 1)                 3         \n",
            "=================================================================\n",
            "Total params: 3\n",
            "Trainable params: 3\n",
            "Non-trainable params: 0\n",
            "_________________________________________________________________\n"
          ],
          "name": "stdout"
        }
      ]
    },
    {
      "cell_type": "code",
      "metadata": {
        "colab_type": "code",
        "id": "aNEZfvS-kOLg",
        "outputId": "22a4b7ad-b9fc-4465-f77a-192867a1f9e2",
        "colab": {
          "base_uri": "https://localhost:8080/",
          "height": 3485
        }
      },
      "source": [
        "model.compile(loss='binary_crossentropy',\n",
        "              optimizer=tf.train.AdamOptimizer(learning_rate=0.1),\n",
        "              metrics=['accuracy'])\n",
        "\n",
        "history = model.fit(x_train, y_train,\n",
        "                    batch_size=1,\n",
        "                    epochs=100,\n",
        "                    verbose=1)\n",
        "\n",
        "y_pred_proba = model.predict(x_train)[:, 0]\n",
        "\n",
        "# 確率を0, 1に変換\n",
        "y_pred = np.where(y_pred_proba >0.5, 1, 0)\n",
        "\n",
        "print(\"y_pred_proba\", y_pred_proba)\n",
        "print(\"y_pred\", y_pred)\n",
        "\n",
        "score = model.evaluate(x_train, y_train, verbose=0)\n",
        "print('Train loss:', score[0])\n",
        "print('Train accuracy:', score[1])"
      ],
      "execution_count": 45,
      "outputs": [
        {
          "output_type": "stream",
          "text": [
            "Epoch 1/100\n",
            "4/4 [==============================] - 0s 37ms/sample - loss: 0.8081 - acc: 0.5000\n",
            "Epoch 2/100\n",
            "4/4 [==============================] - 0s 2ms/sample - loss: 0.7300 - acc: 0.5000\n",
            "Epoch 3/100\n",
            "4/4 [==============================] - 0s 2ms/sample - loss: 0.7188 - acc: 0.5000\n",
            "Epoch 4/100\n",
            "4/4 [==============================] - 0s 2ms/sample - loss: 0.6694 - acc: 0.5000\n",
            "Epoch 5/100\n",
            "4/4 [==============================] - 0s 2ms/sample - loss: 0.6322 - acc: 0.5000\n",
            "Epoch 6/100\n",
            "4/4 [==============================] - 0s 2ms/sample - loss: 0.6075 - acc: 0.5000\n",
            "Epoch 7/100\n",
            "4/4 [==============================] - 0s 2ms/sample - loss: 0.5882 - acc: 0.5000\n",
            "Epoch 8/100\n",
            "4/4 [==============================] - 0s 2ms/sample - loss: 0.5714 - acc: 0.7500\n",
            "Epoch 9/100\n",
            "4/4 [==============================] - 0s 2ms/sample - loss: 0.5459 - acc: 0.7500\n",
            "Epoch 10/100\n",
            "4/4 [==============================] - 0s 2ms/sample - loss: 0.5208 - acc: 0.7500\n",
            "Epoch 11/100\n",
            "4/4 [==============================] - 0s 2ms/sample - loss: 0.5065 - acc: 0.7500\n",
            "Epoch 12/100\n",
            "4/4 [==============================] - 0s 2ms/sample - loss: 0.4889 - acc: 0.7500\n",
            "Epoch 13/100\n",
            "4/4 [==============================] - 0s 2ms/sample - loss: 0.4716 - acc: 0.7500\n",
            "Epoch 14/100\n",
            "4/4 [==============================] - 0s 2ms/sample - loss: 0.4625 - acc: 0.7500\n",
            "Epoch 15/100\n",
            "4/4 [==============================] - 0s 2ms/sample - loss: 0.4529 - acc: 0.7500\n",
            "Epoch 16/100\n",
            "4/4 [==============================] - 0s 2ms/sample - loss: 0.4334 - acc: 0.7500\n",
            "Epoch 17/100\n",
            "4/4 [==============================] - 0s 3ms/sample - loss: 0.4206 - acc: 0.7500\n",
            "Epoch 18/100\n",
            "4/4 [==============================] - 0s 3ms/sample - loss: 0.4105 - acc: 1.0000\n",
            "Epoch 19/100\n",
            "4/4 [==============================] - 0s 2ms/sample - loss: 0.3956 - acc: 1.0000\n",
            "Epoch 20/100\n",
            "4/4 [==============================] - 0s 2ms/sample - loss: 0.3854 - acc: 1.0000\n",
            "Epoch 21/100\n",
            "4/4 [==============================] - 0s 2ms/sample - loss: 0.3788 - acc: 1.0000\n",
            "Epoch 22/100\n",
            "4/4 [==============================] - 0s 3ms/sample - loss: 0.3674 - acc: 1.0000\n",
            "Epoch 23/100\n",
            "4/4 [==============================] - 0s 4ms/sample - loss: 0.3592 - acc: 1.0000\n",
            "Epoch 24/100\n",
            "4/4 [==============================] - 0s 2ms/sample - loss: 0.3519 - acc: 1.0000\n",
            "Epoch 25/100\n",
            "4/4 [==============================] - 0s 2ms/sample - loss: 0.3485 - acc: 1.0000\n",
            "Epoch 26/100\n",
            "4/4 [==============================] - 0s 2ms/sample - loss: 0.3365 - acc: 1.0000\n",
            "Epoch 27/100\n",
            "4/4 [==============================] - 0s 2ms/sample - loss: 0.3288 - acc: 1.0000\n",
            "Epoch 28/100\n",
            "4/4 [==============================] - 0s 3ms/sample - loss: 0.3211 - acc: 1.0000\n",
            "Epoch 29/100\n",
            "4/4 [==============================] - 0s 3ms/sample - loss: 0.3144 - acc: 1.0000\n",
            "Epoch 30/100\n",
            "4/4 [==============================] - 0s 3ms/sample - loss: 0.3084 - acc: 1.0000\n",
            "Epoch 31/100\n",
            "4/4 [==============================] - 0s 3ms/sample - loss: 0.3008 - acc: 1.0000\n",
            "Epoch 32/100\n",
            "4/4 [==============================] - 0s 3ms/sample - loss: 0.2949 - acc: 1.0000\n",
            "Epoch 33/100\n",
            "4/4 [==============================] - 0s 3ms/sample - loss: 0.2886 - acc: 1.0000\n",
            "Epoch 34/100\n",
            "4/4 [==============================] - 0s 4ms/sample - loss: 0.2833 - acc: 1.0000\n",
            "Epoch 35/100\n",
            "4/4 [==============================] - 0s 3ms/sample - loss: 0.2783 - acc: 1.0000\n",
            "Epoch 36/100\n",
            "4/4 [==============================] - 0s 3ms/sample - loss: 0.2731 - acc: 1.0000\n",
            "Epoch 37/100\n",
            "4/4 [==============================] - 0s 4ms/sample - loss: 0.2690 - acc: 1.0000\n",
            "Epoch 38/100\n",
            "4/4 [==============================] - 0s 3ms/sample - loss: 0.2686 - acc: 1.0000\n",
            "Epoch 39/100\n",
            "4/4 [==============================] - 0s 3ms/sample - loss: 0.2608 - acc: 1.0000\n",
            "Epoch 40/100\n",
            "4/4 [==============================] - 0s 2ms/sample - loss: 0.2547 - acc: 1.0000\n",
            "Epoch 41/100\n",
            "4/4 [==============================] - 0s 3ms/sample - loss: 0.2553 - acc: 1.0000\n",
            "Epoch 42/100\n",
            "4/4 [==============================] - 0s 3ms/sample - loss: 0.2472 - acc: 1.0000\n",
            "Epoch 43/100\n",
            "4/4 [==============================] - 0s 4ms/sample - loss: 0.2443 - acc: 1.0000\n",
            "Epoch 44/100\n",
            "4/4 [==============================] - 0s 3ms/sample - loss: 0.2379 - acc: 1.0000\n",
            "Epoch 45/100\n",
            "4/4 [==============================] - 0s 3ms/sample - loss: 0.2376 - acc: 1.0000\n",
            "Epoch 46/100\n",
            "4/4 [==============================] - 0s 2ms/sample - loss: 0.2300 - acc: 1.0000\n",
            "Epoch 47/100\n",
            "4/4 [==============================] - 0s 2ms/sample - loss: 0.2291 - acc: 1.0000\n",
            "Epoch 48/100\n",
            "4/4 [==============================] - 0s 2ms/sample - loss: 0.2234 - acc: 1.0000\n",
            "Epoch 49/100\n",
            "4/4 [==============================] - 0s 3ms/sample - loss: 0.2222 - acc: 1.0000\n",
            "Epoch 50/100\n",
            "4/4 [==============================] - 0s 2ms/sample - loss: 0.2174 - acc: 1.0000\n",
            "Epoch 51/100\n",
            "4/4 [==============================] - 0s 3ms/sample - loss: 0.2128 - acc: 1.0000\n",
            "Epoch 52/100\n",
            "4/4 [==============================] - 0s 3ms/sample - loss: 0.2114 - acc: 1.0000\n",
            "Epoch 53/100\n",
            "4/4 [==============================] - 0s 3ms/sample - loss: 0.2081 - acc: 1.0000\n",
            "Epoch 54/100\n",
            "4/4 [==============================] - 0s 3ms/sample - loss: 0.2042 - acc: 1.0000\n",
            "Epoch 55/100\n",
            "4/4 [==============================] - 0s 2ms/sample - loss: 0.2009 - acc: 1.0000\n",
            "Epoch 56/100\n",
            "4/4 [==============================] - 0s 3ms/sample - loss: 0.1979 - acc: 1.0000\n",
            "Epoch 57/100\n",
            "4/4 [==============================] - 0s 3ms/sample - loss: 0.1957 - acc: 1.0000\n",
            "Epoch 58/100\n",
            "4/4 [==============================] - 0s 4ms/sample - loss: 0.1930 - acc: 1.0000\n",
            "Epoch 59/100\n",
            "4/4 [==============================] - 0s 3ms/sample - loss: 0.1905 - acc: 1.0000\n",
            "Epoch 60/100\n",
            "4/4 [==============================] - 0s 3ms/sample - loss: 0.1870 - acc: 1.0000\n",
            "Epoch 61/100\n",
            "4/4 [==============================] - 0s 3ms/sample - loss: 0.1864 - acc: 1.0000\n",
            "Epoch 62/100\n",
            "4/4 [==============================] - 0s 2ms/sample - loss: 0.1825 - acc: 1.0000\n",
            "Epoch 63/100\n",
            "4/4 [==============================] - 0s 3ms/sample - loss: 0.1815 - acc: 1.0000\n",
            "Epoch 64/100\n",
            "4/4 [==============================] - 0s 2ms/sample - loss: 0.1778 - acc: 1.0000\n",
            "Epoch 65/100\n",
            "4/4 [==============================] - 0s 2ms/sample - loss: 0.1756 - acc: 1.0000\n",
            "Epoch 66/100\n",
            "4/4 [==============================] - 0s 3ms/sample - loss: 0.1737 - acc: 1.0000\n",
            "Epoch 67/100\n",
            "4/4 [==============================] - 0s 3ms/sample - loss: 0.1734 - acc: 1.0000\n",
            "Epoch 68/100\n",
            "4/4 [==============================] - 0s 3ms/sample - loss: 0.1690 - acc: 1.0000\n",
            "Epoch 69/100\n",
            "4/4 [==============================] - 0s 2ms/sample - loss: 0.1672 - acc: 1.0000\n",
            "Epoch 70/100\n",
            "4/4 [==============================] - 0s 2ms/sample - loss: 0.1644 - acc: 1.0000\n",
            "Epoch 71/100\n",
            "4/4 [==============================] - 0s 2ms/sample - loss: 0.1621 - acc: 1.0000\n",
            "Epoch 72/100\n",
            "4/4 [==============================] - 0s 3ms/sample - loss: 0.1605 - acc: 1.0000\n",
            "Epoch 73/100\n",
            "4/4 [==============================] - 0s 2ms/sample - loss: 0.1573 - acc: 1.0000\n",
            "Epoch 74/100\n",
            "4/4 [==============================] - 0s 2ms/sample - loss: 0.1558 - acc: 1.0000\n",
            "Epoch 75/100\n",
            "4/4 [==============================] - 0s 2ms/sample - loss: 0.1553 - acc: 1.0000\n",
            "Epoch 76/100\n",
            "4/4 [==============================] - 0s 2ms/sample - loss: 0.1519 - acc: 1.0000\n",
            "Epoch 77/100\n",
            "4/4 [==============================] - 0s 3ms/sample - loss: 0.1511 - acc: 1.0000\n",
            "Epoch 78/100\n",
            "4/4 [==============================] - 0s 2ms/sample - loss: 0.1482 - acc: 1.0000\n",
            "Epoch 79/100\n",
            "4/4 [==============================] - 0s 2ms/sample - loss: 0.1466 - acc: 1.0000\n",
            "Epoch 80/100\n",
            "4/4 [==============================] - 0s 3ms/sample - loss: 0.1449 - acc: 1.0000\n",
            "Epoch 81/100\n",
            "4/4 [==============================] - 0s 3ms/sample - loss: 0.1436 - acc: 1.0000\n",
            "Epoch 82/100\n",
            "4/4 [==============================] - 0s 3ms/sample - loss: 0.1413 - acc: 1.0000\n",
            "Epoch 83/100\n",
            "4/4 [==============================] - 0s 2ms/sample - loss: 0.1403 - acc: 1.0000\n",
            "Epoch 84/100\n",
            "4/4 [==============================] - 0s 3ms/sample - loss: 0.1382 - acc: 1.0000\n",
            "Epoch 85/100\n",
            "4/4 [==============================] - 0s 3ms/sample - loss: 0.1368 - acc: 1.0000\n",
            "Epoch 86/100\n",
            "4/4 [==============================] - 0s 3ms/sample - loss: 0.1366 - acc: 1.0000\n",
            "Epoch 87/100\n",
            "4/4 [==============================] - 0s 3ms/sample - loss: 0.1338 - acc: 1.0000\n",
            "Epoch 88/100\n",
            "4/4 [==============================] - 0s 3ms/sample - loss: 0.1322 - acc: 1.0000\n",
            "Epoch 89/100\n",
            "4/4 [==============================] - 0s 3ms/sample - loss: 0.1310 - acc: 1.0000\n",
            "Epoch 90/100\n",
            "4/4 [==============================] - 0s 3ms/sample - loss: 0.1299 - acc: 1.0000\n",
            "Epoch 91/100\n",
            "4/4 [==============================] - 0s 2ms/sample - loss: 0.1285 - acc: 1.0000\n",
            "Epoch 92/100\n",
            "4/4 [==============================] - 0s 3ms/sample - loss: 0.1267 - acc: 1.0000\n",
            "Epoch 93/100\n",
            "4/4 [==============================] - 0s 3ms/sample - loss: 0.1250 - acc: 1.0000\n",
            "Epoch 94/100\n",
            "4/4 [==============================] - 0s 3ms/sample - loss: 0.1242 - acc: 1.0000\n",
            "Epoch 95/100\n",
            "4/4 [==============================] - 0s 3ms/sample - loss: 0.1222 - acc: 1.0000\n",
            "Epoch 96/100\n",
            "4/4 [==============================] - 0s 3ms/sample - loss: 0.1222 - acc: 1.0000\n",
            "Epoch 97/100\n",
            "4/4 [==============================] - 0s 2ms/sample - loss: 0.1203 - acc: 1.0000\n",
            "Epoch 98/100\n",
            "4/4 [==============================] - 0s 3ms/sample - loss: 0.1179 - acc: 1.0000\n",
            "Epoch 99/100\n",
            "4/4 [==============================] - 0s 2ms/sample - loss: 0.1178 - acc: 1.0000\n",
            "Epoch 100/100\n",
            "4/4 [==============================] - 0s 2ms/sample - loss: 0.1161 - acc: 1.0000\n",
            "y_pred_proba [0.00416632 0.12811445 0.12511079 0.83395416]\n",
            "y_pred [0 0 0 1]\n",
            "Train loss: 0.11412675678730011\n",
            "Train accuracy: 1.0\n"
          ],
          "name": "stdout"
        }
      ]
    },
    {
      "cell_type": "code",
      "metadata": {
        "colab_type": "code",
        "id": "fEqSuZf3kOLj",
        "outputId": "23e4016c-4bbc-4e24-f61f-ddd257cd7d12",
        "colab": {
          "base_uri": "https://localhost:8080/",
          "height": 3451
        }
      },
      "source": [
        "input_data = tf.keras.layers.Input(shape=(2,))\n",
        "x = tf.keras.layers.Dense(10, activation=tf.nn.relu)(input_data)\n",
        "x = tf.keras.layers.Dense(10, activation=tf.nn.relu)(x)\n",
        "x = tf.keras.layers.Dense(10, activation=tf.nn.relu)(x)\n",
        "output = tf.keras.layers.Dense(1, activation=tf.nn.sigmoid)(x)\n",
        "model = tf.keras.Model(inputs=input_data, outputs=output)\n",
        "\n",
        "model.compile(loss='binary_crossentropy',\n",
        "              optimizer=tf.train.AdamOptimizer(learning_rate=0.1),\n",
        "              metrics=['accuracy'])\n",
        "\n",
        "history = model.fit(x_train, y_train,\n",
        "                    batch_size=1,\n",
        "                    epochs=100,\n",
        "                    verbose=1)\n",
        "\n",
        "y_pred_proba = model.predict(x_train)[:, 0]\n",
        "\n",
        "# 確率を0, 1に変換\n",
        "y_pred = np.where(y_pred_proba >0.5, 1, 0)\n",
        "\n",
        "print(\"y_pred_proba\", y_pred_proba)\n",
        "print(\"y_pred\", y_pred)"
      ],
      "execution_count": 46,
      "outputs": [
        {
          "output_type": "stream",
          "text": [
            "Epoch 1/100\n",
            "4/4 [==============================] - 0s 58ms/sample - loss: 1.5607 - acc: 0.7500\n",
            "Epoch 2/100\n",
            "4/4 [==============================] - 0s 3ms/sample - loss: 0.7878 - acc: 0.7500\n",
            "Epoch 3/100\n",
            "4/4 [==============================] - 0s 3ms/sample - loss: 0.6584 - acc: 0.7500\n",
            "Epoch 4/100\n",
            "4/4 [==============================] - 0s 3ms/sample - loss: 0.6239 - acc: 0.7500\n",
            "Epoch 5/100\n",
            "4/4 [==============================] - 0s 3ms/sample - loss: 0.5812 - acc: 0.7500\n",
            "Epoch 6/100\n",
            "4/4 [==============================] - 0s 3ms/sample - loss: 0.5805 - acc: 0.7500\n",
            "Epoch 7/100\n",
            "4/4 [==============================] - 0s 3ms/sample - loss: 0.5716 - acc: 0.7500\n",
            "Epoch 8/100\n",
            "4/4 [==============================] - 0s 3ms/sample - loss: 0.5715 - acc: 0.7500\n",
            "Epoch 9/100\n",
            "4/4 [==============================] - 0s 3ms/sample - loss: 0.5781 - acc: 0.7500\n",
            "Epoch 10/100\n",
            "4/4 [==============================] - 0s 3ms/sample - loss: 0.5718 - acc: 0.7500\n",
            "Epoch 11/100\n",
            "4/4 [==============================] - 0s 3ms/sample - loss: 0.5702 - acc: 0.7500\n",
            "Epoch 12/100\n",
            "4/4 [==============================] - 0s 3ms/sample - loss: 0.5768 - acc: 0.7500\n",
            "Epoch 13/100\n",
            "4/4 [==============================] - 0s 3ms/sample - loss: 0.5683 - acc: 0.7500\n",
            "Epoch 14/100\n",
            "4/4 [==============================] - 0s 3ms/sample - loss: 0.5726 - acc: 0.7500\n",
            "Epoch 15/100\n",
            "4/4 [==============================] - 0s 4ms/sample - loss: 0.5674 - acc: 0.7500\n",
            "Epoch 16/100\n",
            "4/4 [==============================] - 0s 2ms/sample - loss: 0.5853 - acc: 0.7500\n",
            "Epoch 17/100\n",
            "4/4 [==============================] - 0s 4ms/sample - loss: 0.5802 - acc: 0.7500\n",
            "Epoch 18/100\n",
            "4/4 [==============================] - 0s 3ms/sample - loss: 0.5802 - acc: 0.7500\n",
            "Epoch 19/100\n",
            "4/4 [==============================] - 0s 3ms/sample - loss: 0.5725 - acc: 0.7500\n",
            "Epoch 20/100\n",
            "4/4 [==============================] - 0s 3ms/sample - loss: 0.5805 - acc: 0.7500\n",
            "Epoch 21/100\n",
            "4/4 [==============================] - 0s 3ms/sample - loss: 0.5789 - acc: 0.7500\n",
            "Epoch 22/100\n",
            "4/4 [==============================] - 0s 4ms/sample - loss: 0.5702 - acc: 0.7500\n",
            "Epoch 23/100\n",
            "4/4 [==============================] - 0s 3ms/sample - loss: 0.5774 - acc: 0.7500\n",
            "Epoch 24/100\n",
            "4/4 [==============================] - 0s 3ms/sample - loss: 0.5735 - acc: 0.7500\n",
            "Epoch 25/100\n",
            "4/4 [==============================] - 0s 3ms/sample - loss: 0.5677 - acc: 0.7500\n",
            "Epoch 26/100\n",
            "4/4 [==============================] - 0s 3ms/sample - loss: 0.5692 - acc: 0.7500\n",
            "Epoch 27/100\n",
            "4/4 [==============================] - 0s 3ms/sample - loss: 0.5727 - acc: 0.7500\n",
            "Epoch 28/100\n",
            "4/4 [==============================] - 0s 3ms/sample - loss: 0.5834 - acc: 0.7500\n",
            "Epoch 29/100\n",
            "4/4 [==============================] - 0s 3ms/sample - loss: 0.5732 - acc: 0.7500\n",
            "Epoch 30/100\n",
            "4/4 [==============================] - 0s 4ms/sample - loss: 0.5760 - acc: 0.7500\n",
            "Epoch 31/100\n",
            "4/4 [==============================] - 0s 3ms/sample - loss: 0.5721 - acc: 0.7500\n",
            "Epoch 32/100\n",
            "4/4 [==============================] - 0s 4ms/sample - loss: 0.5683 - acc: 0.7500\n",
            "Epoch 33/100\n",
            "4/4 [==============================] - 0s 3ms/sample - loss: 0.5740 - acc: 0.7500\n",
            "Epoch 34/100\n",
            "4/4 [==============================] - 0s 3ms/sample - loss: 0.5843 - acc: 0.7500\n",
            "Epoch 35/100\n",
            "4/4 [==============================] - 0s 3ms/sample - loss: 0.5770 - acc: 0.7500\n",
            "Epoch 36/100\n",
            "4/4 [==============================] - 0s 4ms/sample - loss: 0.5686 - acc: 0.7500\n",
            "Epoch 37/100\n",
            "4/4 [==============================] - 0s 4ms/sample - loss: 0.5755 - acc: 0.7500\n",
            "Epoch 38/100\n",
            "4/4 [==============================] - 0s 3ms/sample - loss: 0.5731 - acc: 0.7500\n",
            "Epoch 39/100\n",
            "4/4 [==============================] - 0s 3ms/sample - loss: 0.5669 - acc: 0.7500\n",
            "Epoch 40/100\n",
            "4/4 [==============================] - 0s 3ms/sample - loss: 0.5713 - acc: 0.7500\n",
            "Epoch 41/100\n",
            "4/4 [==============================] - 0s 3ms/sample - loss: 0.5708 - acc: 0.7500\n",
            "Epoch 42/100\n",
            "4/4 [==============================] - 0s 3ms/sample - loss: 0.5727 - acc: 0.7500\n",
            "Epoch 43/100\n",
            "4/4 [==============================] - 0s 2ms/sample - loss: 0.5669 - acc: 0.7500\n",
            "Epoch 44/100\n",
            "4/4 [==============================] - 0s 3ms/sample - loss: 0.5672 - acc: 0.7500\n",
            "Epoch 45/100\n",
            "4/4 [==============================] - 0s 3ms/sample - loss: 0.5676 - acc: 0.7500\n",
            "Epoch 46/100\n",
            "4/4 [==============================] - 0s 3ms/sample - loss: 0.5735 - acc: 0.7500\n",
            "Epoch 47/100\n",
            "4/4 [==============================] - 0s 3ms/sample - loss: 0.5698 - acc: 0.7500\n",
            "Epoch 48/100\n",
            "4/4 [==============================] - 0s 3ms/sample - loss: 0.5690 - acc: 0.7500\n",
            "Epoch 49/100\n",
            "4/4 [==============================] - 0s 4ms/sample - loss: 0.5685 - acc: 0.7500\n",
            "Epoch 50/100\n",
            "4/4 [==============================] - 0s 3ms/sample - loss: 0.5680 - acc: 0.7500\n",
            "Epoch 51/100\n",
            "4/4 [==============================] - 0s 3ms/sample - loss: 0.5702 - acc: 0.7500\n",
            "Epoch 52/100\n",
            "4/4 [==============================] - 0s 3ms/sample - loss: 0.5725 - acc: 0.7500\n",
            "Epoch 53/100\n",
            "4/4 [==============================] - 0s 2ms/sample - loss: 0.5802 - acc: 0.7500\n",
            "Epoch 54/100\n",
            "4/4 [==============================] - 0s 3ms/sample - loss: 0.5692 - acc: 0.7500\n",
            "Epoch 55/100\n",
            "4/4 [==============================] - 0s 3ms/sample - loss: 0.5697 - acc: 0.7500\n",
            "Epoch 56/100\n",
            "4/4 [==============================] - 0s 4ms/sample - loss: 0.5687 - acc: 0.7500\n",
            "Epoch 57/100\n",
            "4/4 [==============================] - 0s 3ms/sample - loss: 0.5681 - acc: 0.7500\n",
            "Epoch 58/100\n",
            "4/4 [==============================] - 0s 5ms/sample - loss: 0.5677 - acc: 0.7500\n",
            "Epoch 59/100\n",
            "4/4 [==============================] - 0s 3ms/sample - loss: 0.5674 - acc: 0.7500\n",
            "Epoch 60/100\n",
            "4/4 [==============================] - 0s 2ms/sample - loss: 0.5781 - acc: 0.7500\n",
            "Epoch 61/100\n",
            "4/4 [==============================] - 0s 3ms/sample - loss: 0.5691 - acc: 0.7500\n",
            "Epoch 62/100\n",
            "4/4 [==============================] - 0s 3ms/sample - loss: 0.5683 - acc: 0.7500\n",
            "Epoch 63/100\n",
            "4/4 [==============================] - 0s 3ms/sample - loss: 0.5755 - acc: 0.7500\n",
            "Epoch 64/100\n",
            "4/4 [==============================] - 0s 3ms/sample - loss: 0.5695 - acc: 0.7500\n",
            "Epoch 65/100\n",
            "4/4 [==============================] - 0s 4ms/sample - loss: 0.5759 - acc: 0.7500\n",
            "Epoch 66/100\n",
            "4/4 [==============================] - 0s 3ms/sample - loss: 0.5763 - acc: 0.7500\n",
            "Epoch 67/100\n",
            "4/4 [==============================] - 0s 3ms/sample - loss: 0.5684 - acc: 0.7500\n",
            "Epoch 68/100\n",
            "4/4 [==============================] - 0s 2ms/sample - loss: 0.5680 - acc: 0.7500\n",
            "Epoch 69/100\n",
            "4/4 [==============================] - 0s 4ms/sample - loss: 0.5747 - acc: 0.7500\n",
            "Epoch 70/100\n",
            "4/4 [==============================] - 0s 4ms/sample - loss: 0.5764 - acc: 0.7500\n",
            "Epoch 71/100\n",
            "4/4 [==============================] - 0s 3ms/sample - loss: 0.5677 - acc: 0.7500\n",
            "Epoch 72/100\n",
            "4/4 [==============================] - 0s 3ms/sample - loss: 0.5726 - acc: 0.7500\n",
            "Epoch 73/100\n",
            "4/4 [==============================] - 0s 3ms/sample - loss: 0.5698 - acc: 0.7500\n",
            "Epoch 74/100\n",
            "4/4 [==============================] - 0s 2ms/sample - loss: 0.5764 - acc: 0.7500\n",
            "Epoch 75/100\n",
            "4/4 [==============================] - 0s 3ms/sample - loss: 0.5727 - acc: 0.7500\n",
            "Epoch 76/100\n",
            "4/4 [==============================] - 0s 2ms/sample - loss: 0.5777 - acc: 0.7500\n",
            "Epoch 77/100\n",
            "4/4 [==============================] - 0s 3ms/sample - loss: 0.5743 - acc: 0.7500\n",
            "Epoch 78/100\n",
            "4/4 [==============================] - 0s 4ms/sample - loss: 0.5671 - acc: 0.7500\n",
            "Epoch 79/100\n",
            "4/4 [==============================] - 0s 3ms/sample - loss: 0.5709 - acc: 0.7500\n",
            "Epoch 80/100\n",
            "4/4 [==============================] - 0s 3ms/sample - loss: 0.5696 - acc: 0.7500\n",
            "Epoch 81/100\n",
            "4/4 [==============================] - 0s 3ms/sample - loss: 0.5682 - acc: 0.7500\n",
            "Epoch 82/100\n",
            "4/4 [==============================] - 0s 2ms/sample - loss: 0.5721 - acc: 0.7500\n",
            "Epoch 83/100\n",
            "4/4 [==============================] - 0s 2ms/sample - loss: 0.5663 - acc: 0.7500\n",
            "Epoch 84/100\n",
            "4/4 [==============================] - 0s 4ms/sample - loss: 0.5664 - acc: 0.7500\n",
            "Epoch 85/100\n",
            "4/4 [==============================] - 0s 3ms/sample - loss: 0.5749 - acc: 0.7500\n",
            "Epoch 86/100\n",
            "4/4 [==============================] - 0s 3ms/sample - loss: 0.5739 - acc: 0.7500\n",
            "Epoch 87/100\n",
            "4/4 [==============================] - 0s 3ms/sample - loss: 0.5667 - acc: 0.7500\n",
            "Epoch 88/100\n",
            "4/4 [==============================] - 0s 3ms/sample - loss: 0.5675 - acc: 0.7500\n",
            "Epoch 89/100\n",
            "4/4 [==============================] - 0s 3ms/sample - loss: 0.5722 - acc: 0.7500\n",
            "Epoch 90/100\n",
            "4/4 [==============================] - 0s 3ms/sample - loss: 0.5665 - acc: 0.7500\n",
            "Epoch 91/100\n",
            "4/4 [==============================] - 0s 3ms/sample - loss: 0.5757 - acc: 0.7500\n",
            "Epoch 92/100\n",
            "4/4 [==============================] - 0s 3ms/sample - loss: 0.5670 - acc: 0.7500\n",
            "Epoch 93/100\n",
            "4/4 [==============================] - 0s 3ms/sample - loss: 0.5731 - acc: 0.7500\n",
            "Epoch 94/100\n",
            "4/4 [==============================] - 0s 3ms/sample - loss: 0.5667 - acc: 0.7500\n",
            "Epoch 95/100\n",
            "4/4 [==============================] - 0s 3ms/sample - loss: 0.5700 - acc: 0.7500\n",
            "Epoch 96/100\n",
            "4/4 [==============================] - 0s 3ms/sample - loss: 0.5690 - acc: 0.7500\n",
            "Epoch 97/100\n",
            "4/4 [==============================] - 0s 4ms/sample - loss: 0.5658 - acc: 0.7500\n",
            "Epoch 98/100\n",
            "4/4 [==============================] - 0s 4ms/sample - loss: 0.5743 - acc: 0.7500\n",
            "Epoch 99/100\n",
            "4/4 [==============================] - 0s 3ms/sample - loss: 0.5672 - acc: 0.7500\n",
            "Epoch 100/100\n",
            "4/4 [==============================] - 0s 4ms/sample - loss: 0.5721 - acc: 0.7500\n",
            "y_pred_proba [0.25117558 0.25117558 0.25117558 0.25117558]\n",
            "y_pred [0 0 0 0]\n"
          ],
          "name": "stdout"
        }
      ]
    },
    {
      "cell_type": "markdown",
      "metadata": {
        "id": "P-RnfsAe-R8w",
        "colab_type": "text"
      },
      "source": [
        "## 【問題1】公式Exampleを分担して実行\n",
        "### custom layers\n",
        "- tf.keras はニューラルネットワークを構築するための、高レベルAPIとしての使用が推奨されている\n",
        "- ほとんどのtensor flow APIはenable_eager_execution()で使用は可能"
      ]
    },
    {
      "cell_type": "code",
      "metadata": {
        "id": "3l1kTOe8-dro",
        "colab_type": "code",
        "colab": {}
      },
      "source": [
        "# most TensorFlow APIs are usable with eager execution\n",
        "#tf.enable_eager_execution()"
      ],
      "execution_count": 0,
      "outputs": []
    },
    {
      "cell_type": "markdown",
      "metadata": {
        "id": "W_EkknczqU_P",
        "colab_type": "text"
      },
      "source": [
        "- tensor flow では単純なレイヤーをスタッキングして表現できる\n",
        "- 多くの一般的なレイヤー(Conv2D, LSTM...)と独自のレイヤーを組み合わせて使用することができる"
      ]
    },
    {
      "cell_type": "code",
      "metadata": {
        "id": "nceETif5sdSA",
        "colab_type": "code",
        "colab": {}
      },
      "source": [
        "# In the tf.keras.layers package, layers are objects. To construct a layer,\n",
        "# simply construct the object. Most layers take as a first argument the number\n",
        "# of output dimensions / channels.\n",
        "layer = tf.keras.layers.Dense(100)\n",
        "# The number of input dimensions is often unnecessary, as it can be inferred\n",
        "# the first time the layer is used, but it can be provided if you want to \n",
        "# specify it manually, which is useful in some complex models.\n",
        "layer = tf.keras.layers.Dense(10, input_shape=(None, 5))"
      ],
      "execution_count": 0,
      "outputs": []
    },
    {
      "cell_type": "markdown",
      "metadata": {
        "id": "qHuKwI02umia",
        "colab_type": "text"
      },
      "source": [
        "- レイヤの構成はlayer()で見れる\n",
        "- layer.variables, kernel, bias などで各項目に注目して見れる"
      ]
    },
    {
      "cell_type": "code",
      "metadata": {
        "id": "SHA5WnVUum4q",
        "colab_type": "code",
        "colab": {
          "base_uri": "https://localhost:8080/",
          "height": 34
        },
        "outputId": "4a66c429-9a95-4257-be66-c4de89a78ba3"
      },
      "source": [
        "# To use a layer, simply call it.\n",
        "layer(tf.zeros([10, 5]))\n",
        "#layer.variables\n",
        "#layer.kernel\n",
        "#layer.bias"
      ],
      "execution_count": 49,
      "outputs": [
        {
          "output_type": "execute_result",
          "data": {
            "text/plain": [
              "<tf.Tensor 'dense_22/BiasAdd:0' shape=(10, 10) dtype=float32>"
            ]
          },
          "metadata": {
            "tags": []
          },
          "execution_count": 49
        }
      ]
    },
    {
      "cell_type": "markdown",
      "metadata": {
        "id": "uqa2ef8dvkUp",
        "colab_type": "text"
      },
      "source": [
        "レイヤーモジュールたち  \n",
        "https://www.tensorflow.org/api_docs/python/tf/keras/layers\n",
        "\n",
        "### custom layersの実装\n",
        "1. tf.keras.layers.Layerを継承する super()\n",
        "2. 親クラスの__init__()を実行する\n",
        "3. self.num_outputsを引数のoutputsで定義する\n",
        "3. build()を作成し、self.kernelをadd_variableで上書きする\n",
        "4. call()を作成し、フォワードの処理を記述・処理結果を返り値とする(インスタンスcall時に呼ばれる)"
      ]
    },
    {
      "cell_type": "code",
      "metadata": {
        "id": "MY6iqTeFvklr",
        "colab_type": "code",
        "colab": {
          "base_uri": "https://localhost:8080/",
          "height": 51
        },
        "outputId": "0c33428c-f0a0-416f-c4b7-eb9a94edf478"
      },
      "source": [
        "class MyDenseLayer(tf.keras.layers.Layer):\n",
        "  def __init__(self, num_outputs):\n",
        "    super(MyDenseLayer, self).__init__()\n",
        "    self.num_outputs = num_outputs\n",
        "    \n",
        "  def build(self, input_shape):\n",
        "    self.kernel = self.add_variable(\"kernel\", \n",
        "                                    shape=[int(input_shape[-1]), \n",
        "                                           self.num_outputs])\n",
        "    \n",
        "  def call(self, input):\n",
        "    return tf.matmul(input, self.kernel)\n",
        "  \n",
        "layer = MyDenseLayer(10)\n",
        "print(layer(tf.zeros([10, 5])))\n",
        "print(layer.trainable_variables)"
      ],
      "execution_count": 50,
      "outputs": [
        {
          "output_type": "stream",
          "text": [
            "Tensor(\"my_dense_layer_3/MatMul:0\", shape=(10, 10), dtype=float32)\n",
            "[<tf.Variable 'my_dense_layer_3/kernel:0' shape=(5, 10) dtype=float32>]\n"
          ],
          "name": "stdout"
        }
      ]
    },
    {
      "cell_type": "markdown",
      "metadata": {
        "id": "85O6aWYj-LB9",
        "colab_type": "text"
      },
      "source": [
        "### レイヤーモデルを構成する 例:Resnetモデル\n",
        "1. tf.keras.Modelを継承する\n",
        "2. 親クラスの__init__()を実行\n",
        "3. 引数のサイズを元に各レイヤーを構成する\n",
        "4. call()を作成し、レイヤーごとの処理を記述・処理結果を返り値とする(インスタンスcall時に呼ばれる)"
      ]
    },
    {
      "cell_type": "code",
      "metadata": {
        "id": "yoOEFNdK966V",
        "colab_type": "code",
        "colab": {
          "base_uri": "https://localhost:8080/",
          "height": 71
        },
        "outputId": "d532f410-c7e4-45ea-ee62-2506bdfaf45f"
      },
      "source": [
        "class ResnetIdentityBlock(tf.keras.Model):\n",
        "  def __init__(self, kernel_size, filters):\n",
        "    super(ResnetIdentityBlock, self).__init__(name='')\n",
        "    filters1, filters2, filters3 = filters\n",
        "\n",
        "    self.conv2a = tf.keras.layers.Conv2D(filters1, (1, 1))\n",
        "    self.bn2a = tf.keras.layers.BatchNormalization()\n",
        "\n",
        "    self.conv2b = tf.keras.layers.Conv2D(filters2, kernel_size, padding='same')\n",
        "    self.bn2b = tf.keras.layers.BatchNormalization()\n",
        "\n",
        "    self.conv2c = tf.keras.layers.Conv2D(filters3, (1, 1))\n",
        "    self.bn2c = tf.keras.layers.BatchNormalization()\n",
        "\n",
        "  def call(self, input_tensor, training=False):\n",
        "    x = self.conv2a(input_tensor)\n",
        "    x = self.bn2a(x, training=training)\n",
        "    x = tf.nn.relu(x)\n",
        "\n",
        "    x = self.conv2b(x)\n",
        "    x = self.bn2b(x, training=training)\n",
        "    x = tf.nn.relu(x)\n",
        "\n",
        "    x = self.conv2c(x)\n",
        "    x = self.bn2c(x, training=training)\n",
        "\n",
        "    x += input_tensor\n",
        "    return tf.nn.relu(x)\n",
        "\n",
        "    \n",
        "block = ResnetIdentityBlock(1, [1, 2, 3])\n",
        "print(block(tf.zeros([1, 2, 3, 3])))\n",
        "print([x.name for x in block.trainable_variables])"
      ],
      "execution_count": 51,
      "outputs": [
        {
          "output_type": "stream",
          "text": [
            "Tensor(\"resnet_identity_block_2/Relu_2:0\", shape=(1, 2, 3, 3), dtype=float32)\n",
            "['resnet_identity_block_2/conv2d_12/kernel:0', 'resnet_identity_block_2/conv2d_12/bias:0', 'resnet_identity_block_2/batch_normalization_v1_12/gamma:0', 'resnet_identity_block_2/batch_normalization_v1_12/beta:0', 'resnet_identity_block_2/conv2d_13/kernel:0', 'resnet_identity_block_2/conv2d_13/bias:0', 'resnet_identity_block_2/batch_normalization_v1_13/gamma:0', 'resnet_identity_block_2/batch_normalization_v1_13/beta:0', 'resnet_identity_block_2/conv2d_14/kernel:0', 'resnet_identity_block_2/conv2d_14/bias:0', 'resnet_identity_block_2/batch_normalization_v1_14/gamma:0', 'resnet_identity_block_2/batch_normalization_v1_14/beta:0']\n"
          ],
          "name": "stdout"
        }
      ]
    },
    {
      "cell_type": "markdown",
      "metadata": {
        "id": "oVT4LK2jABuT",
        "colab_type": "text"
      },
      "source": [
        "上記はresnetのように構成するレイヤーが決まっている場合に実装する。(テンプレート的に使いたい)  \n",
        "それ以外の場合は下記のようにtf.keras.Sequentialを使って実行する"
      ]
    },
    {
      "cell_type": "code",
      "metadata": {
        "id": "0o_slurDA5Pw",
        "colab_type": "code",
        "colab": {
          "base_uri": "https://localhost:8080/",
          "height": 34
        },
        "outputId": "3a704b7b-a85b-47f0-f2f1-263d71d392aa"
      },
      "source": [
        "my_seq = tf.keras.Sequential([tf.keras.layers.Conv2D(1, (1, 1)),\n",
        "                               tf.keras.layers.BatchNormalization(),\n",
        "                               tf.keras.layers.Conv2D(2, 1, \n",
        "                                                      padding='same'),\n",
        "                               tf.keras.layers.BatchNormalization(),\n",
        "                               tf.keras.layers.Conv2D(3, (1, 1)),\n",
        "                               tf.keras.layers.BatchNormalization()])\n",
        "my_seq(tf.zeros([1, 2, 3, 3]))"
      ],
      "execution_count": 52,
      "outputs": [
        {
          "output_type": "execute_result",
          "data": {
            "text/plain": [
              "<tf.Tensor 'sequential_5/cond_4/Merge:0' shape=(1, 2, 3, 3) dtype=float32>"
            ]
          },
          "metadata": {
            "tags": []
          },
          "execution_count": 52
        }
      ]
    },
    {
      "cell_type": "markdown",
      "metadata": {
        "colab_type": "text",
        "id": "YOW-D_SUyUNJ"
      },
      "source": [
        "## 【問題2】Iris（2値分類）をKerasで学習"
      ]
    },
    {
      "cell_type": "code",
      "metadata": {
        "colab_type": "code",
        "id": "IEDIOmtklCkq",
        "outputId": "30daa413-a7eb-4409-987b-db14f7a0c2c4",
        "colab": {
          "base_uri": "https://localhost:8080/",
          "height": 751
        }
      },
      "source": [
        "# データセットの読み込み\n",
        "dataset_path =\"Iris.csv\"\n",
        "df = pd.read_csv(dataset_path)\n",
        "# データフレームから条件抽出\n",
        "df = df[(df[\"Species\"] == \"Iris-versicolor\")|(df[\"Species\"] == \"Iris-virginica\")]\n",
        "y = df[\"Species\"]\n",
        "X = df.loc[:, [\"SepalLengthCm\", \"SepalWidthCm\", \"PetalLengthCm\", \"PetalWidthCm\"]]\n",
        "y = np.array(y)\n",
        "X = np.array(X)\n",
        "# ラベルを数値に変換\n",
        "y[y=='Iris-versicolor'] = 0\n",
        "y[y=='Iris-virginica'] = 1\n",
        "y = y.astype(np.int)[:, np.newaxis]\n",
        "\n",
        "# trainとtestに分割\n",
        "X_train, X_test, y_train, y_test = train_test_split(X, y, test_size=0.2, random_state=0)\n",
        "# さらにtrainとvalに分割\n",
        "X_train, X_val, y_train, y_val = train_test_split(X_train, y_train, test_size=0.2, random_state=0)\n",
        "\n",
        "model = Sequential()\n",
        "model.add(Dense(12, input_dim=4))\n",
        "model.add(Activation('relu'))\n",
        "model.add(Dense(3, input_dim=12))\n",
        "model.add(Activation('softmax')) \n",
        "model.compile(optimizer='SGD',loss='sparse_categorical_crossentropy',metrics=['accuracy'])\n",
        "\n",
        "model.fit(X_train, y_train, nb_epoch=20, batch_size=5)\n",
        "\n",
        "# モデル評価\n",
        "loss, accuracy = model.evaluate(X_val, y_val, verbose=0)\n",
        "print(\"Accuracy = {:.2f}\".format(accuracy))"
      ],
      "execution_count": 53,
      "outputs": [
        {
          "output_type": "stream",
          "text": [
            "/usr/local/lib/python3.6/dist-packages/ipykernel_launcher.py:26: UserWarning: The `nb_epoch` argument in `fit` has been renamed `epochs`.\n"
          ],
          "name": "stderr"
        },
        {
          "output_type": "stream",
          "text": [
            "Epoch 1/20\n",
            "64/64 [==============================] - 1s 12ms/step - loss: 0.6847 - acc: 0.6094\n",
            "Epoch 2/20\n",
            "64/64 [==============================] - 0s 313us/step - loss: 0.6566 - acc: 0.6094\n",
            "Epoch 3/20\n",
            "64/64 [==============================] - 0s 276us/step - loss: 0.6378 - acc: 0.5938\n",
            "Epoch 4/20\n",
            "64/64 [==============================] - 0s 270us/step - loss: 0.6163 - acc: 0.6250\n",
            "Epoch 5/20\n",
            "64/64 [==============================] - 0s 290us/step - loss: 0.6247 - acc: 0.6719\n",
            "Epoch 6/20\n",
            "64/64 [==============================] - 0s 259us/step - loss: 0.6186 - acc: 0.7344\n",
            "Epoch 7/20\n",
            "64/64 [==============================] - 0s 318us/step - loss: 0.6082 - acc: 0.6875\n",
            "Epoch 8/20\n",
            "64/64 [==============================] - 0s 322us/step - loss: 0.5552 - acc: 0.7656\n",
            "Epoch 9/20\n",
            "64/64 [==============================] - 0s 254us/step - loss: 0.5545 - acc: 0.7344\n",
            "Epoch 10/20\n",
            "64/64 [==============================] - 0s 255us/step - loss: 0.5424 - acc: 0.8125\n",
            "Epoch 11/20\n",
            "64/64 [==============================] - 0s 302us/step - loss: 0.5261 - acc: 0.8125\n",
            "Epoch 12/20\n",
            "64/64 [==============================] - 0s 370us/step - loss: 0.5167 - acc: 0.7500\n",
            "Epoch 13/20\n",
            "64/64 [==============================] - 0s 293us/step - loss: 0.5246 - acc: 0.7656\n",
            "Epoch 14/20\n",
            "64/64 [==============================] - 0s 321us/step - loss: 0.5017 - acc: 0.8125\n",
            "Epoch 15/20\n",
            "64/64 [==============================] - 0s 312us/step - loss: 0.4777 - acc: 0.8281\n",
            "Epoch 16/20\n",
            "64/64 [==============================] - 0s 252us/step - loss: 0.4574 - acc: 0.8438\n",
            "Epoch 17/20\n",
            "64/64 [==============================] - 0s 263us/step - loss: 0.4351 - acc: 0.7813\n",
            "Epoch 18/20\n",
            "64/64 [==============================] - 0s 304us/step - loss: 0.4483 - acc: 0.8438\n",
            "Epoch 19/20\n",
            "64/64 [==============================] - 0s 300us/step - loss: 0.4268 - acc: 0.8750\n",
            "Epoch 20/20\n",
            "64/64 [==============================] - 0s 275us/step - loss: 0.4193 - acc: 0.8125\n",
            "Accuracy = 0.56\n"
          ],
          "name": "stdout"
        }
      ]
    },
    {
      "cell_type": "markdown",
      "metadata": {
        "id": "1dZ63K-UkTqO",
        "colab_type": "text"
      },
      "source": [
        "## 【問題3】Iris（多値分類）をKerasで学習"
      ]
    },
    {
      "cell_type": "code",
      "metadata": {
        "colab_type": "code",
        "id": "pBwWtoqH44QA",
        "outputId": "900a2f6f-1561-4848-de68-ed9d123416e1",
        "colab": {
          "base_uri": "https://localhost:8080/",
          "height": 751
        }
      },
      "source": [
        "# データセットの読み込み\n",
        "dataset_path =\"Iris.csv\"\n",
        "df = pd.read_csv(dataset_path)\n",
        "y = df[\"Species\"]\n",
        "X = df.loc[:, [\"SepalLengthCm\", \"SepalWidthCm\", \"PetalLengthCm\", \"PetalWidthCm\"]]\n",
        "y = np.array(y)\n",
        "X = np.array(X)\n",
        "# ラベルを数値に変換\n",
        "y[y=='Iris-setosa'] = 0\n",
        "y[y=='Iris-versicolor'] = 1\n",
        "y[y=='Iris-virginica'] = 2\n",
        "# ワンホット化\n",
        "y = to_categorical(y).astype(np.int)\n",
        "\n",
        "# trainとtestに分割\n",
        "X_train, X_test, y_train, y_test = train_test_split(X, y, test_size=0.2, random_state=0)\n",
        "# さらにtrainとvalに分割\n",
        "X_train, X_val, y_train, y_val = train_test_split(X_train, y_train, test_size=0.2, random_state=0)\n",
        "\n",
        "model = Sequential()\n",
        "model.add(Dense(12, input_dim=4))\n",
        "model.add(Activation('relu'))\n",
        "model.add(Dense(3, input_dim=12))\n",
        "model.add(Activation('softmax')) \n",
        "model.compile(optimizer='SGD',loss='categorical_crossentropy',metrics=['accuracy'])\n",
        "\n",
        "model.fit(X_train, y_train, nb_epoch=20, batch_size=5)\n",
        "\n",
        "# モデル評価\n",
        "loss, accuracy = model.evaluate(X_val, y_val, verbose=0)\n",
        "print(\"Accuracy = {:.2f}\".format(accuracy))"
      ],
      "execution_count": 54,
      "outputs": [
        {
          "output_type": "stream",
          "text": [
            "/usr/local/lib/python3.6/dist-packages/ipykernel_launcher.py:26: UserWarning: The `nb_epoch` argument in `fit` has been renamed `epochs`.\n"
          ],
          "name": "stderr"
        },
        {
          "output_type": "stream",
          "text": [
            "Epoch 1/20\n",
            "96/96 [==============================] - 1s 8ms/step - loss: 1.2491 - acc: 0.5313\n",
            "Epoch 2/20\n",
            "96/96 [==============================] - 0s 279us/step - loss: 0.8502 - acc: 0.6354\n",
            "Epoch 3/20\n",
            "96/96 [==============================] - 0s 261us/step - loss: 0.6826 - acc: 0.7292\n",
            "Epoch 4/20\n",
            "96/96 [==============================] - 0s 263us/step - loss: 0.6390 - acc: 0.6667\n",
            "Epoch 5/20\n",
            "96/96 [==============================] - 0s 255us/step - loss: 0.5798 - acc: 0.6979\n",
            "Epoch 6/20\n",
            "96/96 [==============================] - 0s 282us/step - loss: 0.5270 - acc: 0.7813\n",
            "Epoch 7/20\n",
            "96/96 [==============================] - 0s 307us/step - loss: 0.5014 - acc: 0.7917\n",
            "Epoch 8/20\n",
            "96/96 [==============================] - 0s 361us/step - loss: 0.5150 - acc: 0.6875\n",
            "Epoch 9/20\n",
            "96/96 [==============================] - 0s 287us/step - loss: 0.4722 - acc: 0.8229\n",
            "Epoch 10/20\n",
            "96/96 [==============================] - 0s 266us/step - loss: 0.4303 - acc: 0.8125\n",
            "Epoch 11/20\n",
            "96/96 [==============================] - 0s 268us/step - loss: 0.4246 - acc: 0.8333\n",
            "Epoch 12/20\n",
            "96/96 [==============================] - 0s 290us/step - loss: 0.3842 - acc: 0.8646\n",
            "Epoch 13/20\n",
            "96/96 [==============================] - 0s 263us/step - loss: 0.4082 - acc: 0.7917\n",
            "Epoch 14/20\n",
            "96/96 [==============================] - 0s 276us/step - loss: 0.3796 - acc: 0.8854\n",
            "Epoch 15/20\n",
            "96/96 [==============================] - 0s 260us/step - loss: 0.4012 - acc: 0.8229\n",
            "Epoch 16/20\n",
            "96/96 [==============================] - 0s 286us/step - loss: 0.3648 - acc: 0.8958\n",
            "Epoch 17/20\n",
            "96/96 [==============================] - 0s 280us/step - loss: 0.3342 - acc: 0.8750\n",
            "Epoch 18/20\n",
            "96/96 [==============================] - 0s 254us/step - loss: 0.3407 - acc: 0.8958\n",
            "Epoch 19/20\n",
            "96/96 [==============================] - 0s 265us/step - loss: 0.3173 - acc: 0.9167\n",
            "Epoch 20/20\n",
            "96/96 [==============================] - 0s 287us/step - loss: 0.3072 - acc: 0.9479\n",
            "Accuracy = 0.71\n"
          ],
          "name": "stdout"
        }
      ]
    },
    {
      "cell_type": "markdown",
      "metadata": {
        "id": "aNZAE4GYkeGf",
        "colab_type": "text"
      },
      "source": [
        "## 【問題4】House PricesをKerasで学習"
      ]
    },
    {
      "cell_type": "code",
      "metadata": {
        "id": "bYJ1z6_LZgBB",
        "colab_type": "code",
        "outputId": "2dca055e-c7f9-4c22-bf03-e66608fe8fe4",
        "colab": {
          "base_uri": "https://localhost:8080/",
          "height": 751
        }
      },
      "source": [
        "# データセットの読み込み\n",
        "dataset_path =\"train.csv\"\n",
        "df = pd.read_csv(dataset_path)\n",
        "\n",
        "y = df[\"SalePrice\"]\n",
        "X = df.loc[:, [\"GrLivArea\", \"YearBuilt\"]]\n",
        "y = np.array(y)\n",
        "y = y[:, np.newaxis]\n",
        "\n",
        "scaler = StandardScaler()\n",
        "scaler.fit(y)\n",
        "y = scaler.transform(y)\n",
        "\n",
        "X = np.array(X)\n",
        "\n",
        "\n",
        "scaler = StandardScaler()\n",
        "scaler.fit(X)\n",
        "X = scaler.transform(X)\n",
        "\n",
        "# trainとtestに分割\n",
        "X_train, X_test, y_train, y_test = train_test_split(X, y, test_size=0.2, random_state=0)\n",
        "# さらにtrainとvalに分割\n",
        "X_train, X_val, y_train, y_val = train_test_split(X_train, y_train, test_size=0.2, random_state=0)\n",
        "\n",
        "model = Sequential()\n",
        "model.add(Dense(3, input_dim=2))\n",
        "model.add(Activation('relu'))\n",
        "model.add(Dense(1, input_dim=3))\n",
        "model.add(Activation(None)) \n",
        "model.compile(optimizer='SGD',loss='mean_squared_error',metrics=['mean_squared_error'])\n",
        "\n",
        "model.fit(X_train, y_train, nb_epoch=20, batch_size=5)\n",
        "\n",
        "# モデル評価\n",
        "loss, mean_squared_error = model.evaluate(X_val, y_val, verbose=0)\n",
        "print(\"mean_squared_error = {:.2f}\".format(mean_squared_error))"
      ],
      "execution_count": 55,
      "outputs": [
        {
          "output_type": "stream",
          "text": [
            "/usr/local/lib/python3.6/dist-packages/ipykernel_launcher.py:32: UserWarning: The `nb_epoch` argument in `fit` has been renamed `epochs`.\n"
          ],
          "name": "stderr"
        },
        {
          "output_type": "stream",
          "text": [
            "Epoch 1/20\n",
            "934/934 [==============================] - 1s 1ms/step - loss: 0.8939 - mean_squared_error: 0.8939\n",
            "Epoch 2/20\n",
            "934/934 [==============================] - 0s 186us/step - loss: 0.5316 - mean_squared_error: 0.5316\n",
            "Epoch 3/20\n",
            "934/934 [==============================] - 0s 186us/step - loss: 0.4118 - mean_squared_error: 0.4118\n",
            "Epoch 4/20\n",
            "934/934 [==============================] - 0s 195us/step - loss: 0.3423 - mean_squared_error: 0.3423\n",
            "Epoch 5/20\n",
            "934/934 [==============================] - 0s 187us/step - loss: 0.3188 - mean_squared_error: 0.3188\n",
            "Epoch 6/20\n",
            "934/934 [==============================] - 0s 193us/step - loss: 0.3298 - mean_squared_error: 0.3298\n",
            "Epoch 7/20\n",
            "934/934 [==============================] - 0s 193us/step - loss: 0.3159 - mean_squared_error: 0.3159\n",
            "Epoch 8/20\n",
            "934/934 [==============================] - 0s 190us/step - loss: 0.3245 - mean_squared_error: 0.3245\n",
            "Epoch 9/20\n",
            "934/934 [==============================] - 0s 198us/step - loss: 0.3209 - mean_squared_error: 0.3209\n",
            "Epoch 10/20\n",
            "934/934 [==============================] - 0s 190us/step - loss: 0.3189 - mean_squared_error: 0.3189\n",
            "Epoch 11/20\n",
            "934/934 [==============================] - 0s 192us/step - loss: 0.3208 - mean_squared_error: 0.3208\n",
            "Epoch 12/20\n",
            "934/934 [==============================] - 0s 191us/step - loss: 0.3207 - mean_squared_error: 0.3207\n",
            "Epoch 13/20\n",
            "934/934 [==============================] - 0s 189us/step - loss: 0.3119 - mean_squared_error: 0.3119\n",
            "Epoch 14/20\n",
            "934/934 [==============================] - 0s 188us/step - loss: 0.3278 - mean_squared_error: 0.3278\n",
            "Epoch 15/20\n",
            "934/934 [==============================] - 0s 190us/step - loss: 0.3193 - mean_squared_error: 0.3193\n",
            "Epoch 16/20\n",
            "934/934 [==============================] - 0s 193us/step - loss: 0.3181 - mean_squared_error: 0.3181\n",
            "Epoch 17/20\n",
            "934/934 [==============================] - 0s 189us/step - loss: 0.3199 - mean_squared_error: 0.3199\n",
            "Epoch 18/20\n",
            "934/934 [==============================] - 0s 191us/step - loss: 0.3133 - mean_squared_error: 0.3133\n",
            "Epoch 19/20\n",
            "934/934 [==============================] - 0s 196us/step - loss: 0.3235 - mean_squared_error: 0.3235\n",
            "Epoch 20/20\n",
            "934/934 [==============================] - 0s 189us/step - loss: 0.3205 - mean_squared_error: 0.3205\n",
            "mean_squared_error = 0.24\n"
          ],
          "name": "stdout"
        }
      ]
    },
    {
      "cell_type": "markdown",
      "metadata": {
        "id": "Z6A5zu0u7oLp",
        "colab_type": "text"
      },
      "source": [
        "## 【問題5】MNISTのモデルを作成"
      ]
    },
    {
      "cell_type": "code",
      "metadata": {
        "id": "P6Bi9cfL7HS4",
        "colab_type": "code",
        "outputId": "82cd330c-7f7e-43ec-d423-3074e0c01dd1",
        "colab": {
          "base_uri": "https://localhost:8080/",
          "height": 173
        }
      },
      "source": [
        "(X_train, y_train), (_, _) = mnist.load_data()\n",
        "\n",
        "# 前処理\n",
        "X_train = X_train.astype(np.float)\n",
        "X_test = X_test.astype(np.float)\n",
        "X_train /= 255\n",
        "X_test /= 255\n",
        "\n",
        "X_train = X_train[:, :, :, np.newaxis]\n",
        "\n",
        "# ワンホット化\n",
        "y_train = to_categorical(y_train).astype(np.int)\n",
        "\n",
        "\n",
        "# 学習データをスプリット\n",
        "X_train, X_test, y_train, y_test = train_test_split(X_train, y_train, test_size=0.2, random_state=0)\n",
        "# さらにtrainとvalに分割\n",
        "X_train, X_val, y_train, y_val = train_test_split(X_train, y_train, test_size=0.2, random_state=0)\n",
        "\n",
        "model = Sequential()\n",
        "model.add(Conv2D(120, kernel_size=(5, 5), activation='relu', input_shape=(28, 28, 1)))\n",
        "model.add(MaxPooling2D(pool_size=(2, 2)))\n",
        "model.add(Conv2D(84, kernel_size=(5, 5), activation='relu'))\n",
        "model.add(MaxPooling2D(pool_size=(2, 2)))\n",
        "model.add(Flatten())\n",
        "model.add(Dense(10, activation='relu'))\n",
        "model.add(Activation('softmax')) \n",
        "\n",
        "model.compile(optimizer='SGD',loss='categorical_crossentropy',metrics=['accuracy'])\n",
        "\n",
        "model.fit(X_train, y_train, nb_epoch=3, batch_size=5)\n",
        "\n",
        "# モデル評価\n",
        "loss, accuracy = model.evaluate(X_val, y_val, verbose=0)\n",
        "print(\"Accuracy = {:.2f}\".format(accuracy))"
      ],
      "execution_count": 57,
      "outputs": [
        {
          "output_type": "stream",
          "text": [
            "/usr/local/lib/python3.6/dist-packages/ipykernel_launcher.py:31: UserWarning: The `nb_epoch` argument in `fit` has been renamed `epochs`.\n"
          ],
          "name": "stderr"
        },
        {
          "output_type": "stream",
          "text": [
            "Epoch 1/3\n",
            "38400/38400 [==============================] - 214s 6ms/step - loss: 1.2808 - acc: 0.5058\n",
            "Epoch 2/3\n",
            "38400/38400 [==============================] - 212s 6ms/step - loss: 0.3101 - acc: 0.8813\n",
            "Epoch 3/3\n",
            "38400/38400 [==============================] - 212s 6ms/step - loss: 0.0605 - acc: 0.9815\n",
            "Accuracy = 0.98\n"
          ],
          "name": "stdout"
        }
      ]
    },
    {
      "cell_type": "code",
      "metadata": {
        "id": "9I89Mvp09d1v",
        "colab_type": "code",
        "colab": {}
      },
      "source": [
        ""
      ],
      "execution_count": 0,
      "outputs": []
    }
  ]
}