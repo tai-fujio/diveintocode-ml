{
  "nbformat": 4,
  "nbformat_minor": 0,
  "metadata": {
    "kernelspec": {
      "display_name": "Python 3",
      "language": "python",
      "name": "python3"
    },
    "language_info": {
      "codemirror_mode": {
        "name": "ipython",
        "version": 3
      },
      "file_extension": ".py",
      "mimetype": "text/x-python",
      "name": "python",
      "nbconvert_exporter": "python",
      "pygments_lexer": "ipython3",
      "version": "3.7.1"
    },
    "colab": {
      "name": "sprint0-ml-scratch-intro.ipynb",
      "version": "0.3.2",
      "provenance": [],
      "collapsed_sections": []
    }
  },
  "cells": [
    {
      "cell_type": "markdown",
      "metadata": {
        "id": "ZsCBmsACA1H-",
        "colab_type": "text"
      },
      "source": [
        "# 【問題1】train_test_splitのスクラッチ\n",
        "- scikit-learnのtrain_test_splitを自作する。 \n",
        "\n",
        "本家：[sklearn.model_selection.train_test_split — scikit-learn 0.20.0 documentation](https://scikit-learn.org/stable/modules/generated/sklearn.model_selection.train_test_split.html)  \n",
        "自家製：[spilt.train_test_split()](https://github.com/y9dai/diveintocode-ml/blob/master/ml-scratch/utils/split.py)"
      ]
    },
    {
      "cell_type": "code",
      "metadata": {
        "id": "NSyf40cABsoo",
        "colab_type": "code",
        "colab": {}
      },
      "source": [
        "# colab用\n",
        "!mkdir -p /ml-scratch/utils\n",
        "!cp split.py /ml-scratch/utils/"
      ],
      "execution_count": 0,
      "outputs": []
    },
    {
      "cell_type": "code",
      "metadata": {
        "id": "9PxHKjsZA1H_",
        "colab_type": "code",
        "colab": {
          "base_uri": "https://localhost:8080/",
          "height": 731
        },
        "outputId": "7b2204ac-97aa-4f32-f6e5-7db7cf3f8ecd"
      },
      "source": [
        "import sys\n",
        "# ライブラリまでのディレクトリ定義\n",
        "sys.path.append('../ml-scratch/utils')\n",
        "\n",
        "import numpy as np\n",
        "from split import train_test_split\n",
        "\n",
        "X = np.arange(1,101).reshape([10,10])\n",
        "y = np.arange(1,11).reshape(10, 1)\n",
        "\n",
        "X_train, X_test, y_train, y_test = train_test_split(X, y, 0.7)\n",
        "\n",
        "\n",
        "print('自家製')\n",
        "print(X_train)\n",
        "print(y_train)\n",
        "print(X_test)\n",
        "print(y_test)\n",
        "\n",
        "from sklearn.model_selection import train_test_split\n",
        "\n",
        "X = np.arange(1,101).reshape([10,10])\n",
        "y = np.arange(1,11).reshape(10, 1)\n",
        "\n",
        "X_train, X_test, y_train, y_test = train_test_split(X, y)\n",
        "\n",
        "\n",
        "print('本家')\n",
        "print(X_train)\n",
        "print(y_train)\n",
        "print(X_test)\n",
        "print(y_test)"
      ],
      "execution_count": 6,
      "outputs": [
        {
          "output_type": "stream",
          "text": [
            "自家製\n",
            "[[ 71  72  73  74  75  76  77  78  79  80]\n",
            " [ 31  32  33  34  35  36  37  38  39  40]\n",
            " [ 91  92  93  94  95  96  97  98  99 100]\n",
            " [ 81  82  83  84  85  86  87  88  89  90]\n",
            " [ 51  52  53  54  55  56  57  58  59  60]\n",
            " [ 41  42  43  44  45  46  47  48  49  50]\n",
            " [ 21  22  23  24  25  26  27  28  29  30]]\n",
            "[[ 9]\n",
            " [ 6]\n",
            " [ 8]\n",
            " [10]\n",
            " [ 1]\n",
            " [ 2]\n",
            " [ 4]]\n",
            "[[61 62 63 64 65 66 67 68 69 70]\n",
            " [ 1  2  3  4  5  6  7  8  9 10]\n",
            " [11 12 13 14 15 16 17 18 19 20]]\n",
            "[[3]\n",
            " [5]\n",
            " [7]]\n",
            "本家\n",
            "[[ 51  52  53  54  55  56  57  58  59  60]\n",
            " [ 61  62  63  64  65  66  67  68  69  70]\n",
            " [ 91  92  93  94  95  96  97  98  99 100]\n",
            " [ 11  12  13  14  15  16  17  18  19  20]\n",
            " [ 81  82  83  84  85  86  87  88  89  90]\n",
            " [  1   2   3   4   5   6   7   8   9  10]\n",
            " [ 41  42  43  44  45  46  47  48  49  50]]\n",
            "[[ 6]\n",
            " [ 7]\n",
            " [10]\n",
            " [ 2]\n",
            " [ 9]\n",
            " [ 1]\n",
            " [ 5]]\n",
            "[[21 22 23 24 25 26 27 28 29 30]\n",
            " [71 72 73 74 75 76 77 78 79 80]\n",
            " [31 32 33 34 35 36 37 38 39 40]]\n",
            "[[3]\n",
            " [8]\n",
            " [4]]\n"
          ],
          "name": "stdout"
        }
      ]
    },
    {
      "cell_type": "markdown",
      "metadata": {
        "id": "OPCbYxToA1ID",
        "colab_type": "text"
      },
      "source": [
        "# 【問題2】 分類パイプラインの作成\n",
        "- ロジスティック回帰\n",
        "- SVM\n",
        "- 決定木\n",
        "\n",
        "をそれぞれ扱うためのパイプラインを作成する。  \n",
        "データセットは下記を使用"
      ]
    },
    {
      "cell_type": "code",
      "metadata": {
        "id": "3jpO0U1JA1IE",
        "colab_type": "code",
        "colab": {}
      },
      "source": [
        "# データ格納用\n",
        "data = {}\n",
        "\n",
        "# 以下指定のデータセットをdataに格納\n",
        "\n",
        "from sklearn.datasets import load_iris\n",
        "import pandas as pd\n",
        "\n",
        "iris = load_iris()\n",
        "\n",
        "X = pd.DataFrame(\n",
        "    iris.data, \n",
        "    columns = iris.feature_names\n",
        ")\n",
        "\n",
        "y = pd.DataFrame(iris.target, columns = ['species'])\n",
        "\n",
        "data[0] = {'X': X, 'y': y}\n",
        "\n",
        "\n",
        "import numpy as np\n",
        "\n",
        "np.random.seed(seed=0)\n",
        "n_samples = 500\n",
        "f0 = [-1, 2]\n",
        "f1 = [2, -1]\n",
        "cov = [[1.0,0.8], [0.8, 1.0]]\n",
        "\n",
        "f0 = np.random.multivariate_normal(f0, cov, int(n_samples/2))\n",
        "f1 = np.random.multivariate_normal(f1, cov, int(n_samples/2))\n",
        "\n",
        "X = np.concatenate((f0, f1))\n",
        "y = np.concatenate((np.ones((int(n_samples/2))), np.ones((int(n_samples/2))) *(-1))).astype(np.int)\n",
        "\n",
        "random_index = np.random.permutation(np.arange(n_samples))\n",
        "X = X[random_index]\n",
        "y = y[random_index]\n",
        "\n",
        "data[1] = {'X': X, 'y': y}\n",
        "\n",
        "\n",
        "X = np.array([[-0.44699 , -2.8073  ],[-1.4621  , -2.4586  ],\n",
        "       [ 0.10645 ,  1.9242  ],[-3.5944  , -4.0112  ],\n",
        "       [-0.9888  ,  4.5718  ],[-3.1625  , -3.9606  ],\n",
        "       [ 0.56421 ,  0.72888 ],[-0.60216 ,  8.4636  ],\n",
        "       [-0.61251 , -0.75345 ],[-0.73535 , -2.2718  ],\n",
        "       [-0.80647 , -2.2135  ],[ 0.86291 ,  2.3946  ],\n",
        "       [-3.1108  ,  0.15394 ],[-2.9362  ,  2.5462  ],\n",
        "       [-0.57242 , -2.9915  ],[ 1.4771  ,  3.4896  ],\n",
        "       [ 0.58619 ,  0.37158 ],[ 0.6017  ,  4.3439  ],\n",
        "       [-2.1086  ,  8.3428  ],[-4.1013  , -4.353   ],\n",
        "       [-1.9948  , -1.3927  ],[ 0.35084 , -0.031994],\n",
        "       [ 0.96765 ,  7.8929  ],[-1.281   , 15.6824  ],\n",
        "       [ 0.96765 , 10.083   ],[ 1.3763  ,  1.3347  ],\n",
        "       [-2.234   , -2.5323  ],[-2.9452  , -1.8219  ],\n",
        "       [ 0.14654 , -0.28733 ],[ 0.5461  ,  5.8245  ],\n",
        "       [-0.65259 ,  9.3444  ],[ 0.59912 ,  5.3524  ],\n",
        "       [ 0.50214 , -0.31818 ],[-3.0603  , -3.6461  ],\n",
        "       [-6.6797  ,  0.67661 ],[-2.353   , -0.72261 ],\n",
        "       [ 1.1319  ,  2.4023  ],[-0.12243 ,  9.0162  ],\n",
        "       [-2.5677  , 13.1779  ],[ 0.057313,  5.4681  ]])\n",
        "y = np.array([0, 0, 0, 0, 0, 0, 0, 0, 0, 0, 0, 0, 0, 0, 0, 0, 0, 0, 0, 0, 1, 1,\n",
        "       1, 1, 1, 1, 1, 1, 1, 1, 1, 1, 1, 1, 1, 1, 1, 1, 1, 1])\n",
        "\n",
        "data[2] = {'X': X, 'y': y}\n",
        "\n",
        "#print(data)"
      ],
      "execution_count": 0,
      "outputs": []
    },
    {
      "cell_type": "markdown",
      "metadata": {
        "id": "pjpG0LadC2Ef",
        "colab_type": "text"
      },
      "source": [
        "パイプラインは下記を作成した。  \n",
        "[c_pipeline.c_pipeline()](https://github.com/y9dai/diveintocode-ml/blob/master/ml-scratch/utils/c_pipeline.py)"
      ]
    },
    {
      "cell_type": "code",
      "metadata": {
        "id": "DxCbQKJxA1IH",
        "colab_type": "code",
        "colab": {},
        "outputId": "684a3b73-359e-44d1-e446-30efaa9168fd"
      },
      "source": [
        "from sklearn.model_selection import train_test_split\n",
        "from sklearn.linear_model import LogisticRegression\n",
        "from sklearn.svm import SVC\n",
        "from sklearn.tree import DecisionTreeClassifier\n",
        "from sklearn import metrics\n",
        "\n",
        "# 各手法インスタンス格納用\n",
        "clf_dict = {}\n",
        "\n",
        "# 各手法インスタンス作成\n",
        "# ロジスティック回帰\n",
        "clf_dict['LogisticRegression'] = LogisticRegression(random_state=0, solver='lbfgs',multi_class='multinomial')\n",
        "\n",
        "# SVM\n",
        "clf_dict['SVM'] = SVC(gamma='auto')\n",
        "\n",
        "# 決定木\n",
        "clf_dict['DecisionTree'] = DecisionTreeClassifier(random_state=0)\n",
        "\n",
        "\n",
        "# 分類パイプラインコール\n",
        "from c_pipeline import c_pipeline\n",
        "accuracy_dict, confusion_matrix_dict = c_pipeline.c_pipeline(data, clf_dict)\n",
        "\n",
        "# 中身を確認\n",
        "for clf_key in clf_dict:\n",
        "    print('{} : '.format(clf_key))\n",
        "    print('accuracy : {}'.format(accuracy_dict[clf_key]))\n",
        "    print(confusion_matrix_dict[clf_key])"
      ],
      "execution_count": 0,
      "outputs": [
        {
          "output_type": "stream",
          "text": [
            "LogisticRegression : \n",
            "accuracy : 0.9473684210526315\n",
            "[[ 9  0  0]\n",
            " [ 0 13  1]\n",
            " [ 0  1 14]]\n",
            "SVM : \n",
            "accuracy : 1.0\n",
            "[[66  0]\n",
            " [ 0 59]]\n",
            "DecisionTree : \n",
            "accuracy : 0.8\n",
            "[[5 1]\n",
            " [1 3]]\n"
          ],
          "name": "stdout"
        },
        {
          "output_type": "stream",
          "text": [
            "/anaconda3/lib/python3.7/site-packages/sklearn/utils/validation.py:761: DataConversionWarning: A column-vector y was passed when a 1d array was expected. Please change the shape of y to (n_samples, ), for example using ravel().\n",
            "  y = column_or_1d(y, warn=True)\n"
          ],
          "name": "stderr"
        }
      ]
    },
    {
      "cell_type": "markdown",
      "metadata": {
        "id": "0G30gtMrA1IJ",
        "colab_type": "text"
      },
      "source": [
        "# 【問題3】 回帰パイプラインの作成\n",
        "- 線形回帰  \n",
        "\n",
        "を扱うパイプラインを作成する。\n",
        "- データセットはHouse Pricesコンペティション\n",
        "- 目的変数としてSalePrice、説明変数として、GrLivAreaとYearBuiltを使用\n",
        "\n",
        "パイプラインは下記を作成した。  \n",
        "[r_pipeline.r_pipeline()](https://github.com/y9dai/diveintocode-ml/blob/master/ml-scratch/utils/r_pipeline.py)"
      ]
    },
    {
      "cell_type": "code",
      "metadata": {
        "id": "ZbYo5-xdA1IK",
        "colab_type": "code",
        "colab": {},
        "outputId": "0eea1e06-17d2-4448-b80e-73213b581a92"
      },
      "source": [
        "from sklearn.model_selection import train_test_split\n",
        "from sklearn.linear_model import LinearRegression\n",
        "from sklearn import metrics\n",
        "\n",
        "# データ格納用\n",
        "data = {}\n",
        "\n",
        "df = pd.read_csv('train.csv')\n",
        "\n",
        "data= {'X': df.loc[:, ['GrLivArea', 'YearBuilt']], 'y': df.loc[:, ['SalePrice']]}\n",
        "\n",
        "\n",
        "clf = LinearRegression()\n",
        "\n",
        "# 回帰パイプラインコール\n",
        "from r_pipeline import r_pipeline\n",
        "mse = r_pipeline.r_pipeline(data, clf)\n",
        "\n",
        "print(mse)"
      ],
      "execution_count": 0,
      "outputs": [
        {
          "output_type": "stream",
          "text": [
            "1741766026.2166011\n"
          ],
          "name": "stdout"
        }
      ]
    },
    {
      "cell_type": "code",
      "metadata": {
        "id": "Hqxxl4jMA1IM",
        "colab_type": "code",
        "colab": {}
      },
      "source": [
        ""
      ],
      "execution_count": 0,
      "outputs": []
    }
  ]
}