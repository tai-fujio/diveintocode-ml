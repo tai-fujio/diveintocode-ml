{
  "nbformat": 4,
  "nbformat_minor": 0,
  "metadata": {
    "kernelspec": {
      "display_name": "Python 3",
      "language": "python",
      "name": "python3"
    },
    "language_info": {
      "codemirror_mode": {
        "name": "ipython",
        "version": 3
      },
      "file_extension": ".py",
      "mimetype": "text/x-python",
      "name": "python",
      "nbconvert_exporter": "python",
      "pygments_lexer": "ipython3",
      "version": "3.7.1"
    },
    "colab": {
      "name": "sprint4-ml-scratch-logistic-regression.ipynb",
      "version": "0.3.2",
      "provenance": []
    }
  },
  "cells": [
    {
      "cell_type": "markdown",
      "metadata": {
        "id": "o3ALpCuJIHUw",
        "colab_type": "text"
      },
      "source": [
        "### シグモイド関数\n",
        "$$ g(z) = \\frac{1}{1+e^{-z}} $$"
      ]
    },
    {
      "cell_type": "code",
      "metadata": {
        "id": "CdhOKe2sIHUy",
        "colab_type": "code",
        "colab": {
          "base_uri": "https://localhost:8080/",
          "height": 269
        },
        "outputId": "6042d12e-db5b-4496-b69b-a5a6c39cdd2e"
      },
      "source": [
        "import numpy as np\n",
        "import math\n",
        "import matplotlib.pyplot as plt\n",
        "\n",
        "\n",
        "def sigmoid(z):\n",
        "    '''\n",
        "    シグモイド関数の関数\n",
        "    \n",
        "    Parameter\n",
        "    --------------\n",
        "    z : 次の形のndarray, shape (n_sanples, 1)\n",
        "        ある範囲の配列\n",
        "        \n",
        "    Returns\n",
        "    -----------\n",
        "    シグモイド関数\n",
        "    '''\n",
        "    \n",
        "    \n",
        "    e = math.e\n",
        "    \n",
        "    g = 1 / (1 + np.exp(-z))\n",
        "    \n",
        "    return g\n",
        "\n",
        "z = np.arange(-10, 10, 0.5)\n",
        "\n",
        "g = sigmoid(z)\n",
        "\n",
        "plt.plot(z, g)\n",
        "plt.show()"
      ],
      "execution_count": 1,
      "outputs": [
        {
          "output_type": "display_data",
          "data": {
            "image/png": "[encoded data removed]",
            "text/plain": [
              "<Figure size 432x288 with 1 Axes>"
            ]
          },
          "metadata": {
            "tags": []
          }
        }
      ]
    },
    {
      "cell_type": "markdown",
      "metadata": {
        "id": "7ssd8UjXIHU2",
        "colab_type": "text"
      },
      "source": [
        "# 【問題1】ロジスティック回帰のクラスを作成する\n",
        "- NumPyなど最低限のライブラリのみを使い、スクラッチで実装する。\n",
        "- 下記ライブラリのfit〜predまでの実装をゴールとする。\n",
        "\n",
        "[sklearn.linear_model.LinearRegression — scikit-learn 0.20.0 documentation](https://scikit-learn.org/stable/modules/generated/sklearn.linear_model.LinearRegression.html)"
      ]
    },
    {
      "cell_type": "code",
      "metadata": {
        "id": "Tl0pseoLIHU3",
        "colab_type": "code",
        "colab": {}
      },
      "source": [
        "import numpy as np\n",
        "\n",
        "class ScratchLogisticRegression():\n",
        "    \"\"\"\n",
        "    ロジスティック回帰のスクラッチ実装\n",
        "\n",
        "    Parameters\n",
        "    ----------\n",
        "    num_iter : int\n",
        "      イテレーション数\n",
        "    lr : float\n",
        "      学習率\n",
        "    no_bias : bool\n",
        "      バイアス項を入れない場合はTrue\n",
        "    verbose : bool\n",
        "      学習過程を出力する場合はTrue\n",
        "\n",
        "    Attributes\n",
        "    ----------\n",
        "    self.coef_ : 次の形のndarray, shape (n_features,)\n",
        "      パラメータ\n",
        "    self.loss : 次の形のndarray, shape (self.iter,)\n",
        "      学習用データに対する損失の記録\n",
        "    self.val_loss : 次の形のndarray, shape (self.iter,)\n",
        "      検証用データに対する損失の記録\n",
        "\n",
        "    \"\"\"\n",
        "    \n",
        "    # ネイピア数を定数定義(クラス内定数定義を試してみたかった .pyにしたら使うかも)\n",
        "    # const.E = math.e\n",
        "    \n",
        "    def __init__(self, num_iter=3000, lr=0.1, c=0.1, no_bias=False, verbose=False):\n",
        "        # ハイパーパラメータを属性として記録\n",
        "        self.iter = num_iter\n",
        "        self.lr = lr\n",
        "        self.c = c\n",
        "        self.no_bias = no_bias\n",
        "        self.verbose = verbose\n",
        "        # 損失を記録する配列を用意\n",
        "        self.loss = np.zeros(self.iter)\n",
        "        self.val_loss = np.zeros(self.iter)\n",
        "        self.coef_ = np.array([])\n",
        "        \n",
        "\n",
        "    def fit(self, X, y, X_val=None, y_val=None):\n",
        "        \"\"\"\n",
        "        ロジスティック回帰を学習する。検証用データが入力された場合はそれに対する損失と精度もイテレーションごとに計算する。\n",
        "\n",
        "          Parameters\n",
        "        ----------\n",
        "        X : 次の形のndarray, shape (n_samples, n_features)\n",
        "            学習用データの特徴量\n",
        "        y : 次の形のndarray, shape (n_samples, )\n",
        "            学習用データの正解値\n",
        "        X_val : 次の形のndarray, shape (n_samples, n_features)\n",
        "            検証用データの特徴量\n",
        "        y_val : 次の形のndarray, shape (n_samples, )\n",
        "            検証用データの正解値\n",
        "        \"\"\"\n",
        "        \n",
        "        # 次元数を必要に応じて追加\n",
        "        if X.ndim < 2:\n",
        "            X = X[:, np.newaxis]\n",
        "        if y.ndim < 2:\n",
        "            y = y[:, np.newaxis]\n",
        "        \n",
        "        # X_val,y_valが定義されている時\n",
        "        if X_val is not None and y_val is not None:\n",
        "            # 次元数を必要に応じて追加\n",
        "            if X_val.ndim < 2:\n",
        "                X_val = X_val[:, np.newaxis]\n",
        "            if y_val.ndim < 2:\n",
        "                y_val = y_val[:, np.newaxis]\n",
        "            # バイアス入れないフラグが立っていない場合は、バイアス項を1で先頭列に挿入\n",
        "            if self.no_bias is False:\n",
        "                X_val = np.hstack((np.ones(len(X_val))[:, np.newaxis], X_val))\n",
        "        \n",
        "        # バイアス入れないフラグが立っていない場合は、バイアス項を1で先頭列に挿入\n",
        "        if self.no_bias is False:\n",
        "            X = np.hstack((np.ones(len(X))[:, np.newaxis], X))\n",
        "\n",
        "        # パラメータを列数に応じて乱数で初期化\n",
        "        self.coef_ =  np.random.rand(X.shape[1])[:, np.newaxis]\n",
        "        \n",
        "        for i in range(self.iter):\n",
        "             # 仮定関数コール\n",
        "            y_hat = self._logistic_regression_hypothesis(X)\n",
        "\n",
        "            # 誤差を格納\n",
        "            self.loss[i] = cross_entropy_loss(y, y_hat, self.coef_)\n",
        "\n",
        "            # 誤差を計算\n",
        "            error = y_hat - y\n",
        "            \n",
        "            # 最急降下法関数コール\n",
        "            self._gradient_descent(X, error)\n",
        "\n",
        "            # X_val,y_valが定義されている時\n",
        "            if X_val is not None and y_val is not None:\n",
        "                # 仮定関数コール\n",
        "                y_val_hat = self._logistic_regression_hypothesis(X_val)\n",
        "                \n",
        "                # 誤差を格納\n",
        "                self.val_loss[i] = cross_entropy_loss(y_val, y_val_hat, self.coef_)\n",
        "\n",
        "\n",
        "    def _logistic_regression_hypothesis(self, X):\n",
        "        \"\"\"\n",
        "        ロジスティック回帰の仮定関数を計算する\n",
        "\n",
        "        Parameters\n",
        "        ----------\n",
        "        X : 次の形のndarray, shape (n_samples, n_features)\n",
        "          学習データ\n",
        "\n",
        "        Returns\n",
        "        -------\n",
        "          次の形のndarray, shape (n_samples, 1)\n",
        "          線形の仮定関数による推定結果\n",
        "\n",
        "        \"\"\"\n",
        "        \n",
        "        #  シグモイド\n",
        "        y_hat = sigmoid(np.dot(X, self.coef_))\n",
        "        \n",
        "        return y_hat\n",
        "        \n",
        "    \n",
        "    def _gradient_descent(self, X, error):\n",
        "        \"\"\"\n",
        "        最急降下法により、パラメータを更新する\n",
        "\n",
        "        Parameters\n",
        "        ----------\n",
        "        X : 次の形のndarray, shape (n_samples, n_features)\n",
        "          学習データ\n",
        "        error : 次の形のndarray, shape (n_samples, n_features)\n",
        "          予測値と実測値の差分データ\n",
        "\n",
        "        \"\"\"\n",
        "        \n",
        "        # バイアス入れないフラグが立っていない場合は、式を分ける\n",
        "        if self.no_bias is False:\n",
        "            # self.coef_[0] = バイアス項のパラメータなので、正則化を入れない\n",
        "            self.coef_[0]  -= self.lr * np.sum(np.dot(error.T, X[:, 0])) / len(X)\n",
        "            self.coef_[1:] -= (self.lr * np.sum(np.dot(error.T, X[:, 1:])) / len(X)) + ((self.c * self.coef_[1:]) / len(X))\n",
        "        else:\n",
        "            # パラメータ更新\n",
        "            self.coef_ -= (self.lr * np.sum(np.dot(error.T, X)) / len(X)) + ((self.c * self.coef_) / len(X))\n",
        "            \n",
        "            \n",
        "    def predict_proba(self, X):\n",
        "        \"\"\"\n",
        "        ロジスティック回帰回帰を使い推定する。\n",
        "\n",
        "        Parameters\n",
        "        ----------\n",
        "        X : 次の形のndarray, shape (n_samples, n_features)\n",
        "            サンプル\n",
        "\n",
        "        Returns\n",
        "        -------\n",
        "            次の形のndarray, shape (n_samples, 1)\n",
        "            線形回帰による推定結果\n",
        "        \"\"\"\n",
        "        \n",
        "        # バイアス入れないフラグが立っていない場合は、バイアス項を1で先頭列に挿入\n",
        "        if self.no_bias is False:\n",
        "            X = np.hstack((np.ones(len(X))[:, np.newaxis], X))\n",
        "            \n",
        "        y_pred = sigmoid(np.dot(X, self.coef_))\n",
        "\n",
        "        return y_pred\n",
        "\n",
        "    \n",
        "    def predict(self, X, thresholds=0.5):\n",
        "        \"\"\"\n",
        "        ロジスティック回帰回帰を使い推定する。\n",
        "\n",
        "        Parameters\n",
        "        ----------\n",
        "        X : 次の形のndarray, shape (n_samples, n_features)\n",
        "            サンプル\n",
        "\n",
        "        Returns\n",
        "        -------\n",
        "            次の形のndarray, shape (n_samples, 1)\n",
        "            線形回帰による推定結果\n",
        "        \"\"\"\n",
        "        \n",
        "        y_pred = np.where(self.predict_proba(X) >= thresholds, 1, 0)\n",
        "        \n",
        "        return y_pred"
      ],
      "execution_count": 0,
      "outputs": []
    },
    {
      "cell_type": "markdown",
      "metadata": {
        "id": "T22Vd9d1IHU5",
        "colab_type": "text"
      },
      "source": [
        "* 目的関数"
      ]
    },
    {
      "cell_type": "code",
      "metadata": {
        "id": "kaf5-7sDIHU5",
        "colab_type": "code",
        "colab": {}
      },
      "source": [
        "def cross_entropy_loss(y_true, y_pred, coef, c=0.1):\n",
        "    \n",
        "    return np.sum(((-np.dot(y_true.T, np.log(y_pred)) - np.dot((1 - y_true).T, np.log(1 - y_pred))) / len(X)) +  np.sum((c *np.dot(coef,  coef.T)) / (2*len(y_true))))"
      ],
      "execution_count": 0,
      "outputs": []
    },
    {
      "cell_type": "markdown",
      "metadata": {
        "id": "fafnHRwtJuqy",
        "colab_type": "text"
      },
      "source": [
        "### 各関数でやっていること\n",
        "- fit(self, X, y, X_val=None, y_val=None)　　\n",
        "\n",
        "    以下の関数を指定した回数分ループし、パラメータ$\\theta$を更新していく\n",
        "<br><br>\n",
        "\n",
        "\n",
        "- \\_logistic_regression_hypothesis(X)  \n",
        "ロジスティック回帰の仮定関数  \n",
        "\n",
        "   $h_θ(x) = g(θ^T x).\\\\$\n",
        "\n",
        "<br>\n",
        "\n",
        " - cross_entropy_loss(y_true, y_pred, coef, c)\n",
        "ロジスティック回帰の目的関数\n",
        " \n",
        "    $J(\\theta)=  \\frac{1}{m}  \\sum_{i=1}^{m}[−y^{(i)} log(h_θ(x^{(i)})) − (1−y^{(i)}) log(1−h_θ(x^{(i)}))] +\n",
        "\\frac{λ}{2m}\\sum_{j=1}^n\n",
        "θ^2_j.\\\\$\n",
        "     \n",
        " <br>\n",
        " \n",
        " - \\_gradient_descent(self, X, error)\n",
        " 最急降下法\n",
        " \n",
        "     $\\frac{\\partial J(\\theta)}{\\partial \\theta_0} = \\frac{1}{m}  \\sum_{i=1}^{m}(h_θ(x^{(i)}) − y^{(i)})x_j^{(i)}  ,j = 0\\\\\n",
        "$  \n",
        "$\\frac{\\partial J(\\theta)}{\\partial \\theta_j} = \\biggl(\\frac{1}{m}  \\sum_{i=1}^{m}(h_θ(x^{(i)}) − y^{(i)})x_j^{(i)} \\biggr) + \\frac{λ}{m}\\theta_j　 ,j\\geq 1$"
      ]
    },
    {
      "cell_type": "code",
      "metadata": {
        "id": "xA7QiEDMIHU7",
        "colab_type": "code",
        "colab": {}
      },
      "source": [
        "from sklearn.datasets import load_iris\n",
        "import numpy as np\n",
        "import pandas as pd\n",
        "\n",
        "iris = load_iris()\n",
        "\n",
        "df1 = pd.DataFrame(\n",
        "    iris.data, \n",
        "    columns = ['sepal_length', 'sepal_width', 'petal_length', 'petal_width']\n",
        ")\n",
        "\n",
        "df2 =  pd.DataFrame(iris.target, columns = ['species'])\n",
        "\n",
        "df = pd.concat([df1, df2], axis=1)\n",
        "\n",
        "df = df[:100]\n",
        "\n",
        "X =df[['petal_length', 'petal_width']]\n",
        "\n",
        "y = df['species']\n",
        "\n",
        "from sklearn.model_selection import train_test_split\n",
        "X_train, X_test, y_train, y_test = train_test_split(X, y)\n",
        "\n",
        "slr = ScratchLogisticRegression()\n",
        "slr.fit(X_train, y_train, X_test, y_test)"
      ],
      "execution_count": 0,
      "outputs": []
    },
    {
      "cell_type": "markdown",
      "metadata": {
        "id": "GI5PUtjEIHU9",
        "colab_type": "text"
      },
      "source": [
        "# 【問題2】学習曲線のプロット"
      ]
    },
    {
      "cell_type": "code",
      "metadata": {
        "id": "kuyc1IKKIHU_",
        "colab_type": "code",
        "colab": {},
        "outputId": "f1b81517-d0dc-4a2c-bc60-463b4af63d1a"
      },
      "source": [
        "import seaborn as sns\n",
        "def plot_learning_curve(train_loss, test_loss):\n",
        "    sns.lineplot(data=train_loss, label='train_loss')\n",
        "    sns.lineplot(data=test_loss, label='test_loss')\n",
        "    \n",
        "    \n",
        "plot_learning_curve(slr.loss, slr.val_loss)"
      ],
      "execution_count": 0,
      "outputs": [
        {
          "output_type": "display_data",
          "data": {
            "image/png": "[encoded data removed]",
            "text/plain": [
              "<Figure size 432x288 with 1 Axes>"
            ]
          },
          "metadata": {
            "tags": [],
            "needs_background": "light"
          }
        }
      ]
    },
    {
      "cell_type": "markdown",
      "metadata": {
        "id": "l1YSqyhSIHVC",
        "colab_type": "text"
      },
      "source": [
        "# 【問題3】指標値の算出\n",
        "* 混同行列\n",
        "* 確実性"
      ]
    },
    {
      "cell_type": "code",
      "metadata": {
        "id": "mlywohk8IHVD",
        "colab_type": "code",
        "colab": {},
        "outputId": "e4b1d8ad-981a-478f-d87a-60689235b0b5"
      },
      "source": [
        "y_pred = slr.predict(X_test)\n",
        "\n",
        "from sklearn.metrics import confusion_matrix\n",
        "print(confusion_matrix(y_test, y_pred))\n",
        "\n",
        "from sklearn.metrics import accuracy_score\n",
        "\n",
        "print(accuracy_score(y_test, y_pred))"
      ],
      "execution_count": 0,
      "outputs": [
        {
          "output_type": "stream",
          "text": [
            "[[12  0]\n",
            " [ 0 13]]\n",
            "1.0\n"
          ],
          "name": "stdout"
        }
      ]
    },
    {
      "cell_type": "markdown",
      "metadata": {
        "id": "DzFoZF4YIHVG",
        "colab_type": "text"
      },
      "source": [
        "# 【問題4】決定領域の可視化"
      ]
    },
    {
      "cell_type": "code",
      "metadata": {
        "id": "aB4O0iCJIHVG",
        "colab_type": "code",
        "colab": {}
      },
      "source": [
        "import numpy as np\n",
        "from matplotlib.colors import ListedColormap\n",
        "import matplotlib.pyplot as plt\n",
        "import matplotlib.patches as mpatches\n",
        "\n",
        "def decision_region(X_train, y_train, model, target_names, resolution=0.01, threshold=0.5, alpha=0.5):\n",
        "    \"\"\"\n",
        "    ２値分類を２次元の特徴量で学習したモデルの決定領域を描く\n",
        "    背景の色が学習したモデルによる推定値から描画される\n",
        "    散布図の点は学習用のデータである。\n",
        "    \n",
        "    Parameters\n",
        "    ---------------\n",
        "    X_train: ndarray, shape(n_samples, 2)\n",
        "        学習用データの特徴量\n",
        "    y_train: ndarray, shape(n_samples,)\n",
        "        学習用データの正解値\n",
        "    model: object\n",
        "        学習したモデルのインスタンスを入れる\n",
        "    step: float, (default: 0.1)\n",
        "        推定値を計算する間隔を設定する\n",
        "    title: str\n",
        "        グラフのタイトルの文章を与える\n",
        "    xlabel, ylabel: str\n",
        "        軸ラベルの文章を与える\n",
        "    target_names=: list of str\n",
        "        凡例の一覧を与える\n",
        "    ---------------\n",
        "    \"\"\"\n",
        "    # setting\n",
        "    markers = ('*', '*')\n",
        "    scatter_colors = ['red', 'blue']\n",
        "    cmap = ListedColormap(('pink', 'skyblue'))\n",
        "    n_class = 2\n",
        "\n",
        "    # 2変数の入力データの最小値から最大値まで引数resolutionの幅でメッシュを描く\n",
        "    X1_mesh, X2_mesh = np.meshgrid(np.arange(np.min(X_train[:, 0]) - threshold, np.max(X_train[:, 0]) + threshold, resolution), np.arange(np.min(X_train[:, 1]) - threshold, np.max(X_train[:, 1]) + threshold, resolution))\n",
        "\n",
        "    # 予想結果を元のグリッドポイントのデータサイズに変換\n",
        "    mesh = np.c_[np.ravel(X1_mesh), np.ravel(X2_mesh)]\n",
        "    z = model.predict(mesh).reshape(X1_mesh.shape)\n",
        "    \n",
        "    # メッシュデータと分離クラスを使って決定境界を描いている\n",
        "    plt.contourf(X1_mesh, X2_mesh, z, n_class-1, cmap=cmap)\n",
        "    plt.xlim(X1_mesh.min(), X1_mesh.max())\n",
        "    plt.ylim(X2_mesh.min(), X2_mesh.max())\n",
        "\n",
        "    for i, target in enumerate(set(np.unique(y_train))):\n",
        "        plt.scatter(X_train[y_train==target][:, 0], X_train[y_train==target][:, 1], s=80, color=scatter_colors[i], label=target_names[i], marker=markers[i])\n",
        "        patches = [mpatches.Patch(color=scatter_colors[i], label=target_names[i]) for i in range(n_class)]\n",
        "        plt.legend(handles=patches)\n",
        "        plt.legend()\n",
        "        plt.show"
      ],
      "execution_count": 0,
      "outputs": []
    },
    {
      "cell_type": "code",
      "metadata": {
        "id": "iex-r03gIHVI",
        "colab_type": "code",
        "colab": {},
        "outputId": "6faefac6-3424-4a36-bbd0-4ea6e1365560"
      },
      "source": [
        "decision_region(X_train.values, y_train.values, slr, target_names=['versicolor', 'virginica'])"
      ],
      "execution_count": 0,
      "outputs": [
        {
          "output_type": "display_data",
          "data": {
            "image/png": "[encoded data removed]",
            "text/plain": [
              "<Figure size 432x288 with 1 Axes>"
            ]
          },
          "metadata": {
            "tags": [],
            "needs_background": "light"
          }
        }
      ]
    },
    {
      "cell_type": "markdown",
      "metadata": {
        "id": "30zsUXosIHVK",
        "colab_type": "text"
      },
      "source": [
        "# 【問題5】（アドバンス課題）重みの保存"
      ]
    },
    {
      "cell_type": "code",
      "metadata": {
        "id": "nQ-kRFZ3IHVL",
        "colab_type": "code",
        "colab": {}
      },
      "source": [
        "import numpy as np\n",
        "\n",
        "# パラメータを「slr_coef.npz」として保存\n",
        "np.savez('slr_coef.npz', slr.coef_)"
      ],
      "execution_count": 0,
      "outputs": []
    },
    {
      "cell_type": "code",
      "metadata": {
        "id": "GbfkHcGeIHVN",
        "colab_type": "code",
        "colab": {},
        "outputId": "18461634-100c-4caa-f95b-78aa30ce92e0"
      },
      "source": [
        "# ファイルを読み込む\n",
        "npzfile = np.load('slr_coef.npz')\n",
        "# 保存一覧の表示\n",
        "npzfile.files"
      ],
      "execution_count": 0,
      "outputs": [
        {
          "output_type": "execute_result",
          "data": {
            "text/plain": [
              "['arr_0']"
            ]
          },
          "metadata": {
            "tags": []
          },
          "execution_count": 10
        }
      ]
    },
    {
      "cell_type": "code",
      "metadata": {
        "id": "jQEe28zRIHVP",
        "colab_type": "code",
        "colab": {},
        "outputId": "b492f584-7af3-4bfa-836b-06d3810de8ae"
      },
      "source": [
        "# パラメータ取得\n",
        "npzfile['arr_0']"
      ],
      "execution_count": 0,
      "outputs": [
        {
          "output_type": "execute_result",
          "data": {
            "text/plain": [
              "array([[-7.13466459],\n",
              "       [ 2.09300626],\n",
              "       [ 2.08304763]])"
            ]
          },
          "metadata": {
            "tags": []
          },
          "execution_count": 11
        }
      ]
    },
    {
      "cell_type": "markdown",
      "metadata": {
        "id": "eYYEVt0-IHVR",
        "colab_type": "text"
      },
      "source": [
        "# 【問題6】分類と回帰の違い"
      ]
    },
    {
      "cell_type": "markdown",
      "metadata": {
        "id": "rMQitWhDIHVS",
        "colab_type": "text"
      },
      "source": [
        "* 分類→入力データがどのクラスに分類されるかを扱う\n",
        "* 回帰→入力データから連続するデータの予測を行う"
      ]
    },
    {
      "cell_type": "code",
      "metadata": {
        "id": "2sL9FA2vIHVT",
        "colab_type": "code",
        "colab": {}
      },
      "source": [
        ""
      ],
      "execution_count": 0,
      "outputs": []
    }
  ]
}