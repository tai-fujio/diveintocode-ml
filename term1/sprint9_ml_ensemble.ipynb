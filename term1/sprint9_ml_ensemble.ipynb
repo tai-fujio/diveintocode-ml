{
  "nbformat": 4,
  "nbformat_minor": 0,
  "metadata": {
    "kernelspec": {
      "display_name": "Python 3",
      "language": "python",
      "name": "python3"
    },
    "language_info": {
      "codemirror_mode": {
        "name": "ipython",
        "version": 3
      },
      "file_extension": ".py",
      "mimetype": "text/x-python",
      "name": "python",
      "nbconvert_exporter": "python",
      "pygments_lexer": "ipython3",
      "version": "3.7.1"
    },
    "colab": {
      "name": "sprint9-ml-ensemble.ipynb",
      "version": "0.3.2",
      "provenance": []
    }
  },
  "cells": [
    {
      "cell_type": "code",
      "metadata": {
        "id": "N3A6RnGyTvlY",
        "colab_type": "code",
        "colab": {}
      },
      "source": [
        "# インポート\n",
        "from datetime import datetime\n",
        "import numpy as np\n",
        "import pandas as pd\n",
        "from sklearn.decomposition import PCA\n",
        "from sklearn.model_selection import cross_val_score\n",
        "from sklearn.model_selection import train_test_split\n",
        "from sklearn.model_selection import KFold\n",
        "from sklearn.metrics import mean_squared_error\n",
        "from sklearn.linear_model import LinearRegression\n",
        "from sklearn.linear_model import Ridge\n",
        "from sklearn.svm import SVR\n",
        "from sklearn.tree import DecisionTreeRegressor\n",
        "from sklearn.preprocessing import StandardScaler"
      ],
      "execution_count": 0,
      "outputs": []
    },
    {
      "cell_type": "code",
      "metadata": {
        "id": "QKmnMWTSTzIc",
        "colab_type": "code",
        "colab": {}
      },
      "source": [
        "# データセットの用意\n",
        "data_train = pd.read_csv('./input/train.csv')\n",
        "data_train = data_train[['GrLivArea', 'YearBuilt', 'SalePrice']].astype('float')\n",
        "#data_test = pd.read_csv('./input/test.csv')\n",
        "#X_test_submission = data_test[['GrLivArea', 'YearBuilt']].values\n",
        "\n",
        "# 標準化\n",
        "scaler = StandardScaler()\n",
        "scaler.fit(data_train)\n",
        "data_train = scaler.transform(data_train)\n",
        "\n",
        "# 説明・目的変数\n",
        "X = data_train[:, :2]\n",
        "y = data_train[:, 2:].ravel()\n",
        "\n",
        "# train.csvを学習用（train）8割、検証用（val）2割に分割する\n",
        "X_train, X_test, y_train, y_test = train_test_split(X, y,train_size=0.8, test_size=0.2)"
      ],
      "execution_count": 0,
      "outputs": []
    },
    {
      "cell_type": "markdown",
      "metadata": {
        "id": "KzX_-gkeTvlb",
        "colab_type": "text"
      },
      "source": [
        "# 【問題1】ブレンディング\n",
        "ブレンディングとは? 以下分類だがわかりやすかった。  \n",
        "<br>\n",
        "1111100000  正解文字列（Ground truth）\n",
        "\n",
        "1110100000  強学習器 (90%)  ← 良いモデルの予測結果は90%だった  \n",
        "ーーーーーーーーーーーーーーーーーーーーーーーーーーーーーーーーーーーーーー\n",
        "<br>\n",
        "1111100000  正解文字列（Ground truth）\n",
        "\n",
        "1011110100  弱学習器 (70%) ：1をよく予測できる\n",
        "\n",
        "1101000010  弱学習器　(70%) ：0をよく予測できる\n",
        "\n",
        "0110101001  弱学習器  (60%) ：何もうまく予測できない\n",
        "\n",
        "1111100000  弱学習器の投票平均 (100%)  ← 複数のビミョーなモデルたちの平均を取ってみると100%になった\n",
        "  \n",
        "これが一番単純なブレンディング  \n",
        "とりあえずはこれを試してみる  \n",
        "単一モデルのmseを列挙して比較"
      ]
    },
    {
      "cell_type": "code",
      "metadata": {
        "id": "ZixWR3ZBTvlc",
        "colab_type": "code",
        "colab": {},
        "outputId": "54b6c53f-e34b-4262-e9b7-6f79c8882b3f"
      },
      "source": [
        "# 各モデルインスタンス格納用\n",
        "clf_dict = {}\n",
        "\n",
        "# 線形回帰\n",
        "clf_dict['LinearRegression'] = LinearRegression()\n",
        "\n",
        "# SVM\n",
        "clf_dict['SVR']  = SVR(gamma='auto')\n",
        "\n",
        "# 決定木\n",
        "clf_dict['DecisionTreeRegressor']  = DecisionTreeRegressor()\n",
        "\n",
        "for clf_key in clf_dict:\n",
        "    # 学習\n",
        "    clf_dict[clf_key].fit(X_train, y_train) \n",
        "    \n",
        "    # 予測実施\n",
        "    y_pred = clf_dict[clf_key].predict(X_test)\n",
        "\n",
        "    # mse\n",
        "    print('{}のmse : {}'.format(clf_key, mean_squared_error(y_test, y_pred)))"
      ],
      "execution_count": 0,
      "outputs": [
        {
          "output_type": "stream",
          "text": [
            "LinearRegressionのmse : 0.5907964071344487\n",
            "SVRのmse : 0.4242916980793748\n",
            "DecisionTreeRegressorのmse : 0.7988866786751622\n"
          ],
          "name": "stdout"
        }
      ]
    },
    {
      "cell_type": "code",
      "metadata": {
        "id": "1AsINoXXTvlf",
        "colab_type": "code",
        "colab": {},
        "outputId": "1bdbc04b-1f4d-49f4-fee5-53a85ec5f81f"
      },
      "source": [
        "# 初期化\n",
        "y_pred = np.zeros((len(X_test)))\n",
        "weights = np.array([0.2, 0.35, 0.45])\n",
        "\n",
        "# blending\n",
        "for i, clf_key in enumerate(clf_dict):\n",
        "    # 学習\n",
        "    clf_dict[clf_key].fit(X_train, y_train) \n",
        "\n",
        "    # 予測実施\n",
        "    y_pred_tmp = clf_dict[clf_key].predict(X_test)\n",
        "    y_pred += y_pred_tmp * weights[i]\n",
        "\n",
        "# mse\n",
        "print('blendingごのmse : {}'.format(mean_squared_error(y_test, y_pred)))"
      ],
      "execution_count": 0,
      "outputs": [
        {
          "output_type": "stream",
          "text": [
            "blendingごのmse : 0.47878260776888093\n"
          ],
          "name": "stdout"
        }
      ]
    },
    {
      "cell_type": "markdown",
      "metadata": {
        "id": "y0VKBl-FTvli",
        "colab_type": "text"
      },
      "source": [
        "SVRよりちょい高いくらい  \n",
        "全ての単一モデルより精度が上がる組み合わせを3つ探してみる"
      ]
    },
    {
      "cell_type": "code",
      "metadata": {
        "id": "PLIdaBxHTvli",
        "colab_type": "code",
        "colab": {},
        "outputId": "2f4e6650-00f0-4a71-ef62-e97f3b5de08c"
      },
      "source": [
        "# 初期化\n",
        "y_pred = np.zeros((len(X_test)))\n",
        "weights = np.array([0, 0.6, 0.4])\n",
        "\n",
        "# blending\n",
        "for i, clf_key in enumerate(clf_dict):\n",
        "    # 学習\n",
        "    clf_dict[clf_key].fit(X_train, y_train) \n",
        "\n",
        "    # 予測実施\n",
        "    y_pred_tmp = clf_dict[clf_key].predict(X_test)\n",
        "    y_pred += y_pred_tmp * weights[i]\n",
        "\n",
        "# mse\n",
        "print('blendingごのmse : {}'.format(mean_squared_error(y_test, y_pred)))"
      ],
      "execution_count": 0,
      "outputs": [
        {
          "output_type": "stream",
          "text": [
            "blendingごのmse : 0.42306606556640686\n"
          ],
          "name": "stdout"
        }
      ]
    },
    {
      "cell_type": "code",
      "metadata": {
        "id": "R8Q1pNalTvlk",
        "colab_type": "code",
        "colab": {},
        "outputId": "88e25a2d-de90-4201-8625-faf33020dc29"
      },
      "source": [
        "# 初期化\n",
        "y_pred = np.zeros((len(X_test)))\n",
        "weights = np.array([0.15, 0.7, 0.15])\n",
        "\n",
        "# blending\n",
        "for i, clf_key in enumerate(clf_dict):\n",
        "    # 学習\n",
        "    clf_dict[clf_key].fit(X_train, y_train) \n",
        "\n",
        "    # 予測実施\n",
        "    y_pred_tmp = clf_dict[clf_key].predict(X_test)\n",
        "    y_pred += y_pred_tmp * weights[i]\n",
        "\n",
        "# mse\n",
        "print('blendingごのmse : {}'.format(mean_squared_error(y_test, y_pred)))"
      ],
      "execution_count": 0,
      "outputs": [
        {
          "output_type": "stream",
          "text": [
            "blendingごのmse : 0.3824964842842491\n"
          ],
          "name": "stdout"
        }
      ]
    },
    {
      "cell_type": "markdown",
      "metadata": {
        "id": "arvwzqOlTvlm",
        "colab_type": "text"
      },
      "source": [
        "重みを変えるだけでも結構下回る  \n",
        "モデルのパラメータもいじってみる"
      ]
    },
    {
      "cell_type": "code",
      "metadata": {
        "id": "7e5f9gZjTvln",
        "colab_type": "code",
        "colab": {},
        "outputId": "29f445c4-667d-4674-9594-707b6e110ddd"
      },
      "source": [
        "# 初期化\n",
        "y_pred = np.zeros((len(X_test)))\n",
        "weights = np.array([0.15, 0.7, 0.15])\n",
        "\n",
        "# 各モデルインスタンス格納用\n",
        "clf_dict = {}\n",
        "\n",
        "# 線形回帰\n",
        "clf_dict['LinearRegression'] = LinearRegression()\n",
        "\n",
        "# SVM\n",
        "clf_dict['SVR']  = SVR(gamma='auto')\n",
        "\n",
        "# 決定木\n",
        "clf_dict['DecisionTreeRegressor']  = DecisionTreeRegressor(max_depth=5)\n",
        "\n",
        "# blending\n",
        "for i, clf_key in enumerate(clf_dict):\n",
        "    # 学習\n",
        "    clf_dict[clf_key].fit(X_train, y_train) \n",
        "\n",
        "    # 予測実施\n",
        "    y_pred_tmp = clf_dict[clf_key].predict(X_test)\n",
        "    y_pred += y_pred_tmp * weights[i]\n",
        "\n",
        "# mse\n",
        "print('blendingごのmse : {}'.format(mean_squared_error(y_test, y_pred)))"
      ],
      "execution_count": 0,
      "outputs": [
        {
          "output_type": "stream",
          "text": [
            "blendingごのmse : 0.3721107048406115\n"
          ],
          "name": "stdout"
        }
      ]
    },
    {
      "cell_type": "markdown",
      "metadata": {
        "id": "AC-TRRKLTvlp",
        "colab_type": "text"
      },
      "source": [
        "DecisionTreeの深さを5に指定したらより下がった。"
      ]
    },
    {
      "cell_type": "markdown",
      "metadata": {
        "id": "YQJddiswTvlq",
        "colab_type": "text"
      },
      "source": [
        "# 【問題2】バギング\n",
        "bootstrap aggregatingの略。\n",
        "各学習器に使う学習用データをブートストラップサンプリングによって得て、  \n",
        "その学習した学習器を予測に用いて最後アンサンブルするという方法。らしい  \n",
        "決定木をバギングして、ランダムフォレストのように使ったりする方法もあるよう  \n",
        "とりあえずやってみる"
      ]
    },
    {
      "cell_type": "code",
      "metadata": {
        "id": "6A4N4FuETvlq",
        "colab_type": "code",
        "colab": {},
        "outputId": "a17d8b35-7539-4e42-de99-2f1e399a65d8"
      },
      "source": [
        "# 決定木\n",
        "dtc = DecisionTreeRegressor()\n",
        "\n",
        "# 初期化\n",
        "y_pred = np.zeros((len(X_test)))\n",
        "count = 0\n",
        "\n",
        "for i in range(5):\n",
        "    # ブートストラップサンプリング\n",
        "    X_train, _, y_train, _ = train_test_split(X, y,train_size=0.8, test_size=0.2, shuffle=True)\n",
        "    \n",
        "    # 学習\n",
        "    dtc.fit(X_train, y_train) \n",
        "    \n",
        "    # 予測実施\n",
        "    y_pred += dtc.predict(X_test)\n",
        "\n",
        "    print('{}回目のmse : {}'.format(i+1, mean_squared_error(y_test, dtc.predict(X_test))))\n",
        "    \n",
        "    count += 1\n",
        "    \n",
        "y_pred = y_pred / count\n",
        "\n",
        "# mse\n",
        "print('bagginごのmse : {}'.format(mean_squared_error(y_test, y_pred)))"
      ],
      "execution_count": 0,
      "outputs": [
        {
          "output_type": "stream",
          "text": [
            "1回目のmse : 0.10647491723431106\n",
            "2回目のmse : 0.08949663042176824\n",
            "3回目のmse : 0.2529806626715098\n",
            "4回目のmse : 0.10667115829002781\n",
            "5回目のmse : 0.13900803436879167\n",
            "bagginごのmse : 0.03839169927040804\n"
          ],
          "name": "stdout"
        }
      ]
    },
    {
      "cell_type": "markdown",
      "metadata": {
        "id": "ObuzChgfTvls",
        "colab_type": "text"
      },
      "source": [
        "これはおkそう　他のブレンディングとスタッキングを重点的にやる"
      ]
    },
    {
      "cell_type": "markdown",
      "metadata": {
        "id": "RrrXeVhtTvlt",
        "colab_type": "text"
      },
      "source": [
        "# 【問題3】スタッキング\n",
        "名前の通り訓練データを積み上げていく\n",
        "<br>\n",
        "複数学習機で推定→推定結果を特徴量として学習し推定→...を繰り返していくらしい\n",
        "<br>\n",
        "とりあえずはK=4, M=3でやってみる "
      ]
    },
    {
      "cell_type": "code",
      "metadata": {
        "id": "dL3IG3puTvlu",
        "colab_type": "code",
        "colab": {},
        "outputId": "3fe80a6c-d746-4dca-f20d-bd38193e7b71"
      },
      "source": [
        "# ステージ0\n",
        "# 各モデルインスタンス格納用\n",
        "clf_dict = {}\n",
        "\n",
        "# SVM\n",
        "clf_dict['SVR']  = SVR(gamma='auto')\n",
        "\n",
        "# 決定木\n",
        "clf_dict['DecisionTreeRegressor']  = DecisionTreeRegressor(max_depth=5)\n",
        "\n",
        "# 決定木\n",
        "clf_dict['LinearRegression']  = LinearRegression()\n",
        "\n",
        "# なん分割するか\n",
        "K = 2\n",
        "\n",
        "kf = KFold(n_splits=K)\n",
        "\n",
        "# ブレンド用初期化\n",
        "blend = np.empty((int(len(X)* 1 / K), 0))\n",
        "\n",
        "for clf_key in clf_dict:\n",
        "    # 予測を初期化\n",
        "    y_pred = np.empty((int(len(X)* 1 / K),))\n",
        "    for train_index, test_index in kf.split(X, y):\n",
        "        # 学習\n",
        "        clf_dict[clf_key].fit(X[train_index], y[train_index])\n",
        "        # ブレンド\n",
        "        y_pred += clf_dict[clf_key].predict(X[test_index])\n",
        "        \n",
        "    blend = np.append(blend, (y_pred / K)[:, np.newaxis], axis=1)\n",
        "    \n",
        "\n",
        "print(blend.shape)\n",
        "\n",
        "# ステージ1\n",
        "\n",
        "# 標準化\n",
        "scaler = StandardScaler()\n",
        "scaler.fit(blend)\n",
        "blend = scaler.transform(blend)\n",
        "\n",
        "dtr = DecisionTreeRegressor()\n",
        "dtr.fit(blend, y[test_index])\n",
        "\n",
        "y_pred = dtr.predict(blend)\n",
        "\n",
        "# mse\n",
        "print('bagginごのmse : {} (DecisionTreeRegressor)'.format(mean_squared_error(y[test_index], y_pred)))\n",
        "\n",
        "rd = Ridge()\n",
        "rd.fit(blend, y[test_index])\n",
        "\n",
        "y_pred = rd.predict(blend)\n",
        "\n",
        "# mse\n",
        "print('bagginごのmse : {} (Ridge)'.format(mean_squared_error(y[test_index], y_pred)))\n",
        "\n",
        "X_train, X_test, y_train, y_test = train_test_split(X, y,train_size=0.75, test_size=0.25)\n",
        "\n",
        "lr = LinearRegression()\n",
        "lr.fit(X_train, y_train)\n",
        "\n",
        "y_pred = lr.predict(X_test)\n",
        "\n",
        "# mse\n",
        "print('単一モデルのmse : {} (LinearRegression)'.format(mean_squared_error(y_test, y_pred)))"
      ],
      "execution_count": 0,
      "outputs": [
        {
          "output_type": "stream",
          "text": [
            "(730, 3)\n",
            "bagginごのmse : 2.715056552079923e-10 (DecisionTreeRegressor)\n",
            "bagginごのmse : 0.6236051985813775 (Ridge)\n",
            "単一モデルのmse : 0.43317471191614787 (LinearRegression)\n"
          ],
          "name": "stdout"
        }
      ]
    },
    {
      "cell_type": "markdown",
      "metadata": {
        "id": "d7LCbLyBTvlw",
        "colab_type": "text"
      },
      "source": [
        "めちゃくちゃ小さい数値になったが、最終ステージでDecisionTreeRegressorを採用したところ単一モデルより低くなった"
      ]
    },
    {
      "cell_type": "code",
      "metadata": {
        "id": "Nz5d7pRiTvlx",
        "colab_type": "code",
        "colab": {}
      },
      "source": [
        ""
      ],
      "execution_count": 0,
      "outputs": []
    }
  ]
}