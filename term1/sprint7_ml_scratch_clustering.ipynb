{
  "nbformat": 4,
  "nbformat_minor": 0,
  "metadata": {
    "kernelspec": {
      "display_name": "Python 3",
      "language": "python",
      "name": "python3"
    },
    "language_info": {
      "codemirror_mode": {
        "name": "ipython",
        "version": 3
      },
      "file_extension": ".py",
      "mimetype": "text/x-python",
      "name": "python",
      "nbconvert_exporter": "python",
      "pygments_lexer": "ipython3",
      "version": "3.7.1"
    },
    "colab": {
      "name": "sprint7-ml-scratch-clustering.ipynb",
      "version": "0.3.2",
      "provenance": []
    }
  },
  "cells": [
    {
      "cell_type": "code",
      "metadata": {
        "id": "ZAzdLzAsRIiE",
        "colab_type": "code",
        "colab": {}
      },
      "source": [
        "import numpy as np\n",
        "import pandas as pd\n",
        "from matplotlib import cm\n",
        "from matplotlib.colors import ListedColormap\n",
        "import matplotlib.pyplot as plt\n",
        "import matplotlib.patches as mpatches\n",
        "import seaborn as sns\n",
        "from sklearn.cluster import KMeans\n",
        "from sklearn.datasets import make_blobs\n",
        "from sklearn.decomposition import PCA\n",
        "from sklearn.metrics import silhouette_samples"
      ],
      "execution_count": 0,
      "outputs": []
    },
    {
      "cell_type": "markdown",
      "metadata": {
        "id": "LJJGvsMpRIiH",
        "colab_type": "text"
      },
      "source": [
        "# 【問題1】K-meansクラスの作成\n",
        "- クラスタのラベリング→\n",
        "- TODO:全体的にもっと綺麗にかけそう"
      ]
    },
    {
      "cell_type": "code",
      "metadata": {
        "id": "-pg8qmc0RIiI",
        "colab_type": "code",
        "colab": {}
      },
      "source": [
        "import numpy as np\n",
        "\n",
        "class ScratchKMeans():\n",
        "    \"\"\"\n",
        "    K-meansのスクラッチ実装\n",
        "\n",
        "    Parameters\n",
        "    ----------\n",
        "    num_iter : int\n",
        "        イテレーション数\n",
        "    n_clusters\n",
        "        クラスタ数\n",
        "    n_init\n",
        "        k-meansを行う回数\n",
        "        \n",
        "    Attributes\n",
        "    ----------\n",
        "    cluster_centers_\n",
        "        クラスタの中心の値を格納した配列\n",
        "    \"\"\"\n",
        "\n",
        "    \n",
        "    def __init__(self, num_iter=200, n_clusters=8, n_init=10, tol=1e-5):\n",
        "        # ハイパーパラメータを属性として記録\n",
        "        self.iter = num_iter\n",
        "        # クラスタ数\n",
        "        self.n_clusters = n_clusters\n",
        "        # k-meansを行う回数\n",
        "        self.n_init = n_init\n",
        "        # 誤差の許容値\n",
        "        self.tol = tol\n",
        "        # Xのデータ格納用\n",
        "        self.X_n_features = None\n",
        "        self.X_n_samples = None\n",
        "        # クラスタの中心値格納用\n",
        "        self.cluster_centers_ = None\n",
        "        # 各Xのラベル格納用\n",
        "        self.labels_ = None\n",
        "        # sse格納用\n",
        "        self.inertia_ = None\n",
        "        \n",
        "\n",
        "    def fit(self, X):\n",
        "        \"\"\"\n",
        "        kmeansを学習する。\n",
        "        \n",
        "          Parameters\n",
        "        ----------\n",
        "        X : 次の形のndarray, shape (n_samples, n_features)\n",
        "            学習用データの特徴量\n",
        "        \"\"\"\n",
        "        \n",
        "        # 次元数を必要に応じて追加\n",
        "        if X.ndim < 2:\n",
        "            X = X[:, np.newaxis]\n",
        "        \n",
        "        # Xの情報をインスタンス変数へ\n",
        "        self.X_n_samples = X.shape[0]\n",
        "        self.X_n_features = X.shape[1]\n",
        "        \n",
        "        for i in range(self.n_init):\n",
        "            # 設定されたクラスタ数に応じて、座標の初期化\n",
        "            cluster_centers = X[np.random.choice(self.X_n_samples, self.n_clusters, replace=False), :]\n",
        "            # 前ラベル格納用\n",
        "            ex_labels = np.zeros(self.X_n_samples)\n",
        "            \n",
        "            for j in range(self.iter):\n",
        "                # クラスタを作成するためにラベリング\n",
        "                labels = self._label_by_euclidean_distance(X, cluster_centers)\n",
        "                \n",
        "                # ラベルに応じてクラスタを作成し、重心を求める\n",
        "                gravities = self._calc_gravities(X, labels)\n",
        "                \n",
        "                # 中心点と重心の差が指定した許容値以下になるorラベルが変化しなくなるまで中心点を更新\n",
        "                if  np.abs(np.sum(gravities - cluster_centers)) > self.tol or np.allclose(labels, ex_labels):\n",
        "                    cluster_centers = gravities\n",
        "                    ex_labels = labels\n",
        "                else:\n",
        "                    break\n",
        "                \n",
        "            # 目的関数コール\n",
        "            sse = SSE(X, cluster_centers, labels)\n",
        "            \n",
        "            # ループ初回orSSEが低かったら、クラスタの中心を更新\n",
        "            if i == 0 or self.inertia_ > sse:\n",
        "                self.cluster_centers_ = cluster_centers\n",
        "                self.inertia_ = sse\n",
        "                self.labels_ = labels\n",
        "                \n",
        "            \n",
        "    def _label_by_euclidean_distance(self, X, cluster_centers):\n",
        "        \"\"\"\n",
        "        ユークリッド距離の計算結果に基づいて、ラベリングする\n",
        "            \n",
        "        Parameters\n",
        "        ----------\n",
        "        X : 次の形のndarray, shape (n_samples, n_features)\n",
        "            学習用データの特徴量\n",
        "        cluster_centers: 次の形のndarray, shape (n_clusters, n_features)\n",
        "            クラスタの中心値\n",
        "            \n",
        "        Returns\n",
        "        -------\n",
        "        label : 次の形のndarray, shape (n_samples,)\n",
        "            クラスタのラベル\n",
        "        \"\"\"\n",
        "\n",
        "        #  距離データ格納用\n",
        "        e_distances = np.empty((0, self.X_n_samples), int)\n",
        "        \n",
        "        for i in range(self.n_clusters):\n",
        "            # 距離を計算し配列に格納\n",
        "            e_distance = np.linalg.norm(X - cluster_centers[i], axis=1)\n",
        "            e_distances = np.append(e_distances, np.array([e_distance]), axis=0)\n",
        "        \n",
        "        # 配列のうち最小値となる特徴量のラベルを取得\n",
        "        labels = np.argmin(e_distances, axis=0)\n",
        "        \n",
        "        # クラスタ数とラベリングの種類数がイコールでない場合\n",
        "        if self.n_clusters != len(np.unique(labels)):\n",
        "            # ラベリングできていないクラスタを調べる\n",
        "            n_clusters_ary = np.arange(self.n_clusters)\n",
        "            missing_cluster = np.delete(n_clusters_ary, np.unique(labels))[0]\n",
        "            \n",
        "            # ラベリングできなかったクラスタの中心点からもっとも遠いXの行indexを調べる\n",
        "            e_distance = np.argmax(np.linalg.norm(X - skm.cluster_centers_[missing_cluster], axis=1))\n",
        "            \n",
        "            # もっとも遠いXに対応する行のラベルをラベリングできていないクラスタのラベルに変更\n",
        "            labels[e_distance] = missing_cluster\n",
        "            \n",
        "        return labels\n",
        "\n",
        "\n",
        "    def _calc_gravities(self, X, label):\n",
        "        \"\"\"\n",
        "       ラベルを元にクラスタの重心を求める\n",
        "\n",
        "        Parameters\n",
        "        ----------\n",
        "        X : 次の形のndarray, shape (n_samples, n_features)\n",
        "            学習用データの特徴量\n",
        "        label : 次の形のndarray, shape (n_samples,)\n",
        "            クラスタのラベル\n",
        "            \n",
        "        Returns\n",
        "        -------\n",
        "        gravities: 次の形のndarray, shape (n_clusters, n_features)\n",
        "            クラスタの重心\n",
        "        \"\"\"\n",
        "        \n",
        "        # 重心格納用配列初期化\n",
        "        gravities = np.zeros((self.n_clusters, self.X_n_features))\n",
        "                               \n",
        "        for i in range(self.n_clusters):\n",
        "            # 各クラスタを作成\n",
        "            cluster = X[np.where(label == i)[0], :]\n",
        "            \n",
        "            # クラスタの重心を計算し配列に格納\n",
        "            gravities[i] = np.sum(cluster, axis=0) / len(cluster)\n",
        "            \n",
        "        return gravities\n",
        "        \n",
        "        \n",
        "    def predict(self, X):\n",
        "        \"\"\"\n",
        "        kmeansを使い推定する。\n",
        "\n",
        "        Parameters\n",
        "        ----------\n",
        "        X : 次の形のndarray, shape (n_samples, n_features)\n",
        "            サンプル\n",
        "\n",
        "        Returns\n",
        "        -------\n",
        "        y_pred : 次の形のndarray, shape (n_samples, 1)\n",
        "            kmeansによる推定結果\n",
        "        \"\"\"\n",
        "        \n",
        "        y_pred = self._label_by_euclidean_distance(X, self.cluster_centers_)\n",
        "        \n",
        "        return y_pred"
      ],
      "execution_count": 0,
      "outputs": []
    },
    {
      "cell_type": "code",
      "metadata": {
        "id": "cR3hXw4IRIiK",
        "colab_type": "code",
        "colab": {}
      },
      "source": [
        "import numpy as np\n",
        "\n",
        "def SSE(X, cluster_centers, labels):\n",
        "    sse = 0\n",
        "    for label in np.unique(labels):\n",
        "        cluster_index = np.where(labels == label)[0]\n",
        "        sse += np.linalg.norm(X[cluster_index, :] - cluster_centers[label]) ** 2\n",
        "        \n",
        "    return sse\n",
        "    "
      ],
      "execution_count": 0,
      "outputs": []
    },
    {
      "cell_type": "code",
      "metadata": {
        "scrolled": false,
        "id": "R388x8h_RIiM",
        "colab_type": "code",
        "colab": {},
        "outputId": "6c60e178-39a2-4a66-f28d-61544b0f49d4"
      },
      "source": [
        "X, _ = make_blobs(n_samples=100, n_features=2, centers=4, cluster_std=0.5, shuffle=True, random_state=0)\n",
        "\n",
        "n_clusters = 5\n",
        "n_init=40\n",
        "\n",
        "skm = ScratchKMeans(n_clusters=n_clusters, n_init=n_init)\n",
        "skm.fit(X)\n",
        "\n",
        "y_pred = skm.predict(X)\n",
        "\n",
        "# 各要素をラベルごとに色付けして表示する\n",
        "for i in range(n_clusters):\n",
        "    labels = X[y_pred == i]\n",
        "    plt.scatter(labels[:, 0], labels[:, 1])\n",
        "    \n",
        "centers = skm.cluster_centers_\n",
        "plt.scatter(centers[:, 0], centers[:, 1], s=100,\n",
        "            facecolors='none', edgecolors='black')"
      ],
      "execution_count": 0,
      "outputs": [
        {
          "output_type": "execute_result",
          "data": {
            "text/plain": [
              "<matplotlib.collections.PathCollection at 0x1a237df940>"
            ]
          },
          "metadata": {
            "tags": []
          },
          "execution_count": 4
        },
        {
          "output_type": "display_data",
          "data": {
            "image/png": "[encoded data removed]",
            "text/plain": [
              "<Figure size 432x288 with 1 Axes>"
            ]
          },
          "metadata": {
            "tags": [],
            "needs_background": "light"
          }
        }
      ]
    },
    {
      "cell_type": "markdown",
      "metadata": {
        "id": "GKGjbCmYRIiP",
        "colab_type": "text"
      },
      "source": [
        "やりたいことはできてそう 中心値の初期化は40回ぐらいを指定するとクラスタりんぐが安定した\n",
        "# 【問題2】エルボー法の実装"
      ]
    },
    {
      "cell_type": "code",
      "metadata": {
        "id": "PGhAjKwDRIiQ",
        "colab_type": "code",
        "colab": {},
        "outputId": "542545a5-f2e3-42fe-f810-f03dfe6c2988"
      },
      "source": [
        "distortions = []\n",
        "\n",
        "for i  in range(1,11):                # 1~10クラスタまで一気に計算 \n",
        "    skm = ScratchKMeans(n_clusters=i)      # スクラッチ\n",
        "    skm.fit(X)\n",
        "    distortions.append(skm.inertia_)   # skm.fitするとskm.inertia_が得られる\n",
        "\n",
        "plt.plot(range(1,11), distortions, marker='o')\n",
        "plt.xlabel('Number of clusters')\n",
        "plt.ylabel('Distortion')\n",
        "plt.show()"
      ],
      "execution_count": 0,
      "outputs": [
        {
          "output_type": "display_data",
          "data": {
            "image/png": "[encoded data removed]",
            "text/plain": [
              "<Figure size 432x288 with 1 Axes>"
            ]
          },
          "metadata": {
            "tags": [],
            "needs_background": "light"
          }
        }
      ]
    },
    {
      "cell_type": "code",
      "metadata": {
        "id": "2wDtsJkmRIiS",
        "colab_type": "code",
        "colab": {},
        "outputId": "3035f913-5284-4c90-eced-ae6527aa712d"
      },
      "source": [
        "km = KMeans(n_clusters=5)    # sklearn\n",
        "\n",
        "y_km = km.fit_predict(X)\n",
        " \n",
        "distortions = []\n",
        " \n",
        "for i  in range(1,11):\n",
        "    km = KMeans(n_clusters=i)\n",
        "    km.fit(X)\n",
        "    distortions.append(km.inertia_)\n",
        "\n",
        "plt.plot(range(1,11),distortions,marker='o')\n",
        "plt.xlabel('Number of clusters')\n",
        "plt.ylabel('Distortion')\n",
        "plt.show()"
      ],
      "execution_count": 0,
      "outputs": [
        {
          "output_type": "display_data",
          "data": {
            "image/png": "[encoded data removed]",
            "text/plain": [
              "<Figure size 432x288 with 1 Axes>"
            ]
          },
          "metadata": {
            "tags": [],
            "needs_background": "light"
          }
        }
      ]
    },
    {
      "cell_type": "markdown",
      "metadata": {
        "id": "8jllr4dKRIiU",
        "colab_type": "text"
      },
      "source": [
        "大丈夫そう\n",
        "# 【問題3】（アドバンス課題）シルエット図"
      ]
    },
    {
      "cell_type": "code",
      "metadata": {
        "id": "smqqZIpuRIiV",
        "colab_type": "code",
        "colab": {},
        "outputId": "12bba0df-f2b0-40fa-cd8d-2e47d807c970"
      },
      "source": [
        "# shape(n_samples,)のndarray、各データ点のクラスタラベル名\n",
        "y_km = skm.labels_\n",
        "# list、クラスタのラベル名のリスト\n",
        "cluster_labels = np.unique(y_km)\n",
        "# int、クラスタ数\n",
        "n_clusters=cluster_labels.shape[0]\n",
        "# shape(n_samples,)のndarray、各データ点のシルエット係数\n",
        "silhouette_vals = silhouette_samples(X,y_km,metric='euclidean')\n",
        "\n",
        "y_ax_lower, y_ax_upper = 0, 0\n",
        "yticks = []\n",
        "\n",
        "for i, c in enumerate(cluster_labels):\n",
        "    c_silhouette_vals = silhouette_vals[y_km == c]\n",
        "    c_silhouette_vals.sort()\n",
        "    y_ax_upper += len(c_silhouette_vals)\n",
        "    color = cm.jet(i / n_clusters)\n",
        "    plt.barh(range(y_ax_lower, y_ax_upper), c_silhouette_vals, height=1.0, edgecolor='none', color=color)\n",
        "    yticks.append((y_ax_lower + y_ax_upper) / 2)\n",
        "    y_ax_lower += len(c_silhouette_vals)\n",
        "\n",
        "# float、シルエット係数の平均値\n",
        "silhouette_avg = np.mean(silhouette_vals)\n",
        "plt.axvline(silhouette_avg, color=\"red\", linestyle=\"--\")\n",
        "plt.yticks(yticks, cluster_labels + 1)\n",
        "plt.ylabel('Cluster')\n",
        "plt.xlabel('Silhouette coefficient')\n",
        "plt.show()"
      ],
      "execution_count": 0,
      "outputs": [
        {
          "output_type": "display_data",
          "data": {
            "image/png": "[encoded data removed]",
            "text/plain": [
              "<Figure size 432x288 with 1 Axes>"
            ]
          },
          "metadata": {
            "tags": [],
            "needs_background": "light"
          }
        }
      ]
    },
    {
      "cell_type": "code",
      "metadata": {
        "id": "8jALnp5bRIiX",
        "colab_type": "code",
        "colab": {},
        "outputId": "d024bd49-5322-4d2f-891f-048d7c187533"
      },
      "source": [
        "km = KMeans(n_clusters=5, n_init=40)    # sklearn\n",
        "\n",
        "y_km = km.fit_predict(X)\n",
        "\n",
        "# list、クラスタのラベル名のリスト\n",
        "cluster_labels = np.unique(y_km)\n",
        "# int、クラスタ数\n",
        "n_clusters=cluster_labels.shape[0]\n",
        "# shape(n_samples,)のndarray、各データ点のシルエット係数\n",
        "silhouette_vals = silhouette_samples(X,y_km,metric='euclidean')\n",
        "\n",
        "y_ax_lower, y_ax_upper = 0, 0\n",
        "yticks = []\n",
        "\n",
        "for i, c in enumerate(cluster_labels):\n",
        "    c_silhouette_vals = silhouette_vals[y_km == c]\n",
        "    c_silhouette_vals.sort()\n",
        "    y_ax_upper += len(c_silhouette_vals)\n",
        "    color = cm.jet(i / n_clusters)\n",
        "    plt.barh(range(y_ax_lower, y_ax_upper), c_silhouette_vals, height=1.0, edgecolor='none', color=color)\n",
        "    yticks.append((y_ax_lower + y_ax_upper) / 2)\n",
        "    y_ax_lower += len(c_silhouette_vals)\n",
        "\n",
        "# float、シルエット係数の平均値\n",
        "silhouette_avg = np.mean(silhouette_vals)\n",
        "plt.axvline(silhouette_avg, color=\"red\", linestyle=\"--\")\n",
        "plt.yticks(yticks, cluster_labels + 1)\n",
        "plt.ylabel('Cluster')\n",
        "plt.xlabel('Silhouette coefficient')\n",
        "plt.show()\n"
      ],
      "execution_count": 0,
      "outputs": [
        {
          "output_type": "display_data",
          "data": {
            "image/png": "[encoded data removed]",
            "text/plain": [
              "<Figure size 432x288 with 1 Axes>"
            ]
          },
          "metadata": {
            "tags": [],
            "needs_background": "light"
          }
        }
      ]
    },
    {
      "cell_type": "markdown",
      "metadata": {
        "id": "rUNslntCRIia",
        "colab_type": "text"
      },
      "source": [
        "やりたいことはできてそう？   \n",
        "<br>\n",
        "### 卸売業者のデータ分析\n",
        "### 次元削減"
      ]
    },
    {
      "cell_type": "code",
      "metadata": {
        "id": "rYjWON6fRIia",
        "colab_type": "code",
        "colab": {},
        "outputId": "efc1214c-4290-44ab-8f2d-66859a5d662b"
      },
      "source": [
        "data = pd.read_csv('./input/Wholesale customers data.csv')\n",
        "\n",
        "# ドロップ\n",
        "data = data.drop(columns=['Region', 'Channel'])\n",
        "\n",
        "data = np.log(data)\n",
        "\n",
        "data.head()\n",
        "\n"
      ],
      "execution_count": 0,
      "outputs": [
        {
          "output_type": "execute_result",
          "data": {
            "text/html": [
              "<div>\n",
              "<style scoped>\n",
              "    .dataframe tbody tr th:only-of-type {\n",
              "        vertical-align: middle;\n",
              "    }\n",
              "\n",
              "    .dataframe tbody tr th {\n",
              "        vertical-align: top;\n",
              "    }\n",
              "\n",
              "    .dataframe thead th {\n",
              "        text-align: right;\n",
              "    }\n",
              "</style>\n",
              "<table border=\"1\" class=\"dataframe\">\n",
              "  <thead>\n",
              "    <tr style=\"text-align: right;\">\n",
              "      <th></th>\n",
              "      <th>Fresh</th>\n",
              "      <th>Milk</th>\n",
              "      <th>Grocery</th>\n",
              "      <th>Frozen</th>\n",
              "      <th>Detergents_Paper</th>\n",
              "      <th>Delicassen</th>\n",
              "    </tr>\n",
              "  </thead>\n",
              "  <tbody>\n",
              "    <tr>\n",
              "      <th>0</th>\n",
              "      <td>9.446913</td>\n",
              "      <td>9.175335</td>\n",
              "      <td>8.930759</td>\n",
              "      <td>5.365976</td>\n",
              "      <td>7.891331</td>\n",
              "      <td>7.198931</td>\n",
              "    </tr>\n",
              "    <tr>\n",
              "      <th>1</th>\n",
              "      <td>8.861775</td>\n",
              "      <td>9.191158</td>\n",
              "      <td>9.166179</td>\n",
              "      <td>7.474205</td>\n",
              "      <td>8.099554</td>\n",
              "      <td>7.482119</td>\n",
              "    </tr>\n",
              "    <tr>\n",
              "      <th>2</th>\n",
              "      <td>8.756682</td>\n",
              "      <td>9.083416</td>\n",
              "      <td>8.946896</td>\n",
              "      <td>7.785305</td>\n",
              "      <td>8.165079</td>\n",
              "      <td>8.967504</td>\n",
              "    </tr>\n",
              "    <tr>\n",
              "      <th>3</th>\n",
              "      <td>9.492884</td>\n",
              "      <td>7.086738</td>\n",
              "      <td>8.347827</td>\n",
              "      <td>8.764678</td>\n",
              "      <td>6.228511</td>\n",
              "      <td>7.488853</td>\n",
              "    </tr>\n",
              "    <tr>\n",
              "      <th>4</th>\n",
              "      <td>10.026369</td>\n",
              "      <td>8.596004</td>\n",
              "      <td>8.881558</td>\n",
              "      <td>8.272571</td>\n",
              "      <td>7.482682</td>\n",
              "      <td>8.553525</td>\n",
              "    </tr>\n",
              "  </tbody>\n",
              "</table>\n",
              "</div>"
            ],
            "text/plain": [
              "       Fresh      Milk   Grocery    Frozen  Detergents_Paper  Delicassen\n",
              "0   9.446913  9.175335  8.930759  5.365976          7.891331    7.198931\n",
              "1   8.861775  9.191158  9.166179  7.474205          8.099554    7.482119\n",
              "2   8.756682  9.083416  8.946896  7.785305          8.165079    8.967504\n",
              "3   9.492884  7.086738  8.347827  8.764678          6.228511    7.488853\n",
              "4  10.026369  8.596004  8.881558  8.272571          7.482682    8.553525"
            ]
          },
          "metadata": {
            "tags": []
          },
          "execution_count": 9
        }
      ]
    },
    {
      "cell_type": "code",
      "metadata": {
        "id": "BVO_udLyRIie",
        "colab_type": "code",
        "colab": {},
        "outputId": "7ad58743-049a-4f3e-9388-54848ccea723"
      },
      "source": [
        "pca = PCA(n_components=None)\n",
        "pca = pca.fit(data)\n",
        "var_exp = pca.explained_variance_ratio_\n",
        "cum_var_exp = np.cumsum(var_exp)\n",
        "print(cum_var_exp)\n",
        "plt.bar(range(1,7), var_exp, alpha=0.5, align='center', label='individual explained variance')\n",
        "plt.step(range(1,7), cum_var_exp, where='mid', label='cumulative expalined variance')\n",
        "plt.ylabel('Explained variance ratio')\n",
        "plt.xlabel('Principal components')\n",
        "plt.hlines(0.7, 0, 6,  \"blue\", linestyles='dashed')\n",
        "plt.legend(loc='best')\n",
        "plt.grid()\n",
        "plt.show()"
      ],
      "execution_count": 0,
      "outputs": [
        {
          "output_type": "stream",
          "text": [
            "[0.44237417 0.71894523 0.83511865 0.93129585 0.97705265 1.        ]\n"
          ],
          "name": "stdout"
        },
        {
          "output_type": "display_data",
          "data": {
            "image/png": "[encoded data removed]",
            "text/plain": [
              "<Figure size 432x288 with 1 Axes>"
            ]
          },
          "metadata": {
            "tags": [],
            "needs_background": "light"
          }
        }
      ]
    },
    {
      "cell_type": "code",
      "metadata": {
        "id": "RIiYL3qFRIig",
        "colab_type": "code",
        "colab": {},
        "outputId": "5038fb49-5629-49cf-c70a-68e3e64d1540"
      },
      "source": [
        "pca = PCA(n_components = 2)\n",
        "pca = pca.fit(data)\n",
        "data_pca = pca.transform(data)\n",
        "print(data_pca[:5])"
      ],
      "execution_count": 0,
      "outputs": [
        {
          "output_type": "stream",
          "text": [
            "[[-1.75098532 -0.07051523]\n",
            " [-1.80036534 -0.86975357]\n",
            " [-1.89373597 -1.67662072]\n",
            " [ 1.12731297 -1.45798229]\n",
            " [-0.79671147 -2.46086569]]\n"
          ],
          "name": "stdout"
        }
      ]
    },
    {
      "cell_type": "markdown",
      "metadata": {
        "id": "JcaclsyqRIii",
        "colab_type": "text"
      },
      "source": [
        "# 【問題4】クラスタ数kの選択\n",
        "- エルボー法"
      ]
    },
    {
      "cell_type": "code",
      "metadata": {
        "id": "99_WiY6KRIii",
        "colab_type": "code",
        "colab": {},
        "outputId": "20425e10-96ed-4a78-c751-ea0ec0e85a57"
      },
      "source": [
        "km = KMeans()\n",
        "\n",
        "y_km = km.fit_predict(data_pca)\n",
        " \n",
        "distortions = []\n",
        " \n",
        "for i  in range(1,11):\n",
        "    km = KMeans(n_clusters=i)\n",
        "    km.fit(data_pca)\n",
        "    distortions.append(km.inertia_)\n",
        "\n",
        "plt.plot(range(1,11),distortions,marker='o')\n",
        "plt.xlabel('Number of clusters')\n",
        "plt.ylabel('Distortion')\n",
        "plt.show()"
      ],
      "execution_count": 0,
      "outputs": [
        {
          "output_type": "display_data",
          "data": {
            "image/png": "[encoded data removed]",
            "text/plain": [
              "<Figure size 432x288 with 1 Axes>"
            ]
          },
          "metadata": {
            "tags": [],
            "needs_background": "light"
          }
        }
      ]
    },
    {
      "cell_type": "markdown",
      "metadata": {
        "id": "Cy_bDfCnRIik",
        "colab_type": "text"
      },
      "source": [
        "エルボー法ではsseの値がガクッと下がる点を採用するらしい  \n",
        "上記からは読み取りづらいが、\n",
        "- 2の時が一番ガクッと下がってる\n",
        "- 顧客をhigh・lowで分けてみたい  \n",
        "\n",
        "ので、k=2を仮に採用してみる  \n",
        "<br>\n",
        "- シルエット図"
      ]
    },
    {
      "cell_type": "code",
      "metadata": {
        "id": "I5IUUwwIRIil",
        "colab_type": "code",
        "colab": {},
        "outputId": "4a33dd01-f799-4e04-d920-e1f512ab7506"
      },
      "source": [
        "km = KMeans(n_clusters=2)\n",
        "\n",
        "y_km = km.fit_predict(data_pca)\n",
        "\n",
        "# list、クラスタのラベル名のリスト\n",
        "cluster_labels = np.unique(y_km)\n",
        "# int、クラスタ数\n",
        "n_clusters=cluster_labels.shape[0]\n",
        "# shape(n_samples,)のndarray、各データ点のシルエット係数\n",
        "silhouette_vals = silhouette_samples(data_pca,y_km,metric='euclidean')\n",
        "\n",
        "y_ax_lower, y_ax_upper = 0, 0\n",
        "yticks = []\n",
        "\n",
        "for i, c in enumerate(cluster_labels):\n",
        "    c_silhouette_vals = silhouette_vals[y_km == c]\n",
        "    c_silhouette_vals.sort()\n",
        "    y_ax_upper += len(c_silhouette_vals)\n",
        "    color = cm.jet(i / n_clusters)\n",
        "    plt.barh(range(y_ax_lower, y_ax_upper), c_silhouette_vals, height=1.0, edgecolor='none', color=color)\n",
        "    yticks.append((y_ax_lower + y_ax_upper) / 2)\n",
        "    y_ax_lower += len(c_silhouette_vals)\n",
        "\n",
        "# float、シルエット係数の平均値\n",
        "silhouette_avg = np.mean(silhouette_vals)\n",
        "plt.axvline(silhouette_avg, color=\"red\", linestyle=\"--\")\n",
        "plt.yticks(yticks, cluster_labels + 1)\n",
        "plt.ylabel('Cluster')\n",
        "plt.xlabel('Silhouette coefficient')\n",
        "plt.show()\n"
      ],
      "execution_count": 0,
      "outputs": [
        {
          "output_type": "display_data",
          "data": {
            "image/png": "[encoded data removed]",
            "text/plain": [
              "<Figure size 432x288 with 1 Axes>"
            ]
          },
          "metadata": {
            "tags": []
          }
        }
      ]
    },
    {
      "cell_type": "markdown",
      "metadata": {
        "id": "aXvKNFmKRIin",
        "colab_type": "text"
      },
      "source": [
        "シルエット図では、\n",
        "- Clusterの厚さ\n",
        "- Slilhouette coefficient が1に近いか\n",
        "に着目するらしい  \n",
        "k=2の場合は1のクラスターに偏ってるものの、ある程度はいい感じにクラスター分離できてそう"
      ]
    },
    {
      "cell_type": "code",
      "metadata": {
        "id": "u9DvIdwDRIio",
        "colab_type": "code",
        "colab": {},
        "outputId": "6d313c9e-2392-4ffb-8468-3e4b2bbad9b8"
      },
      "source": [
        "km = KMeans(n_clusters=3)\n",
        "\n",
        "y_km = km.fit_predict(data_pca)\n",
        "\n",
        "# list、クラスタのラベル名のリスト\n",
        "cluster_labels = np.unique(y_km)\n",
        "# int、クラスタ数\n",
        "n_clusters=cluster_labels.shape[0]\n",
        "# shape(n_samples,)のndarray、各データ点のシルエット係数\n",
        "silhouette_vals = silhouette_samples(data_pca,y_km,metric='euclidean')\n",
        "\n",
        "y_ax_lower, y_ax_upper = 0, 0\n",
        "yticks = []\n",
        "\n",
        "for i, c in enumerate(cluster_labels):\n",
        "    c_silhouette_vals = silhouette_vals[y_km == c]\n",
        "    c_silhouette_vals.sort()\n",
        "    y_ax_upper += len(c_silhouette_vals)\n",
        "    color = cm.jet(i / n_clusters)\n",
        "    plt.barh(range(y_ax_lower, y_ax_upper), c_silhouette_vals, height=1.0, edgecolor='none', color=color)\n",
        "    yticks.append((y_ax_lower + y_ax_upper) / 2)\n",
        "    y_ax_lower += len(c_silhouette_vals)\n",
        "\n",
        "# float、シルエット係数の平均値\n",
        "silhouette_avg = np.mean(silhouette_vals)\n",
        "plt.axvline(silhouette_avg, color=\"red\", linestyle=\"--\")\n",
        "plt.yticks(yticks, cluster_labels + 1)\n",
        "plt.ylabel('Cluster')\n",
        "plt.xlabel('Silhouette coefficient')\n",
        "plt.show()\n"
      ],
      "execution_count": 0,
      "outputs": [
        {
          "output_type": "display_data",
          "data": {
            "image/png": "[encoded data removed]",
            "text/plain": [
              "<Figure size 432x288 with 1 Axes>"
            ]
          },
          "metadata": {
            "tags": [],
            "needs_background": "light"
          }
        }
      ]
    },
    {
      "cell_type": "markdown",
      "metadata": {
        "id": "BEfajmhfRIiq",
        "colab_type": "text"
      },
      "source": [
        "k=3にしてみるとかなり厚さがまばらだったので、まだk=2がマシそう\n",
        "<br>\n",
        "結論として、k=2が最適だと考えた。  \n",
        "理由は下記  \n",
        "- エルボー法でガクッと落ちている地点であること\n",
        "- クラスタ分離がそれなりにできてそう、かつシルエット係数が高い\n",
        "- high/lowで分けることで後に扱いやすそう\n",
        "<br>\n",
        "<br>\n",
        "\n",
        "# 【問題5】既知のグループとの比較"
      ]
    },
    {
      "cell_type": "code",
      "metadata": {
        "id": "zpYTa04vRIiq",
        "colab_type": "code",
        "colab": {},
        "outputId": "026a813e-b8e2-4633-fc72-3a4bed839fae"
      },
      "source": [
        "data = pd.read_csv('./input/Wholesale customers data.csv')\n",
        "data.head()"
      ],
      "execution_count": 0,
      "outputs": [
        {
          "output_type": "execute_result",
          "data": {
            "text/html": [
              "<div>\n",
              "<style scoped>\n",
              "    .dataframe tbody tr th:only-of-type {\n",
              "        vertical-align: middle;\n",
              "    }\n",
              "\n",
              "    .dataframe tbody tr th {\n",
              "        vertical-align: top;\n",
              "    }\n",
              "\n",
              "    .dataframe thead th {\n",
              "        text-align: right;\n",
              "    }\n",
              "</style>\n",
              "<table border=\"1\" class=\"dataframe\">\n",
              "  <thead>\n",
              "    <tr style=\"text-align: right;\">\n",
              "      <th></th>\n",
              "      <th>Channel</th>\n",
              "      <th>Region</th>\n",
              "      <th>Fresh</th>\n",
              "      <th>Milk</th>\n",
              "      <th>Grocery</th>\n",
              "      <th>Frozen</th>\n",
              "      <th>Detergents_Paper</th>\n",
              "      <th>Delicassen</th>\n",
              "    </tr>\n",
              "  </thead>\n",
              "  <tbody>\n",
              "    <tr>\n",
              "      <th>0</th>\n",
              "      <td>2</td>\n",
              "      <td>3</td>\n",
              "      <td>12669</td>\n",
              "      <td>9656</td>\n",
              "      <td>7561</td>\n",
              "      <td>214</td>\n",
              "      <td>2674</td>\n",
              "      <td>1338</td>\n",
              "    </tr>\n",
              "    <tr>\n",
              "      <th>1</th>\n",
              "      <td>2</td>\n",
              "      <td>3</td>\n",
              "      <td>7057</td>\n",
              "      <td>9810</td>\n",
              "      <td>9568</td>\n",
              "      <td>1762</td>\n",
              "      <td>3293</td>\n",
              "      <td>1776</td>\n",
              "    </tr>\n",
              "    <tr>\n",
              "      <th>2</th>\n",
              "      <td>2</td>\n",
              "      <td>3</td>\n",
              "      <td>6353</td>\n",
              "      <td>8808</td>\n",
              "      <td>7684</td>\n",
              "      <td>2405</td>\n",
              "      <td>3516</td>\n",
              "      <td>7844</td>\n",
              "    </tr>\n",
              "    <tr>\n",
              "      <th>3</th>\n",
              "      <td>1</td>\n",
              "      <td>3</td>\n",
              "      <td>13265</td>\n",
              "      <td>1196</td>\n",
              "      <td>4221</td>\n",
              "      <td>6404</td>\n",
              "      <td>507</td>\n",
              "      <td>1788</td>\n",
              "    </tr>\n",
              "    <tr>\n",
              "      <th>4</th>\n",
              "      <td>2</td>\n",
              "      <td>3</td>\n",
              "      <td>22615</td>\n",
              "      <td>5410</td>\n",
              "      <td>7198</td>\n",
              "      <td>3915</td>\n",
              "      <td>1777</td>\n",
              "      <td>5185</td>\n",
              "    </tr>\n",
              "  </tbody>\n",
              "</table>\n",
              "</div>"
            ],
            "text/plain": [
              "   Channel  Region  Fresh  Milk  Grocery  Frozen  Detergents_Paper  Delicassen\n",
              "0        2       3  12669  9656     7561     214              2674        1338\n",
              "1        2       3   7057  9810     9568    1762              3293        1776\n",
              "2        2       3   6353  8808     7684    2405              3516        7844\n",
              "3        1       3  13265  1196     4221    6404               507        1788\n",
              "4        2       3  22615  5410     7198    3915              1777        5185"
            ]
          },
          "metadata": {
            "tags": []
          },
          "execution_count": 15
        }
      ]
    },
    {
      "cell_type": "code",
      "metadata": {
        "id": "ifxtyoSWRIit",
        "colab_type": "code",
        "colab": {},
        "outputId": "63f31f7d-4597-44da-dfe0-e68f655f58b5"
      },
      "source": [
        "# Channel\n",
        "channel = data['Channel']\n",
        "\n",
        "for i in np.unique(channel):\n",
        "    labels = data_pca[channel == i]\n",
        "    plt.scatter(labels[:, 0], labels[:, 1], label=i)\n",
        "\n",
        "plt.legend()\n",
        "plt.show()"
      ],
      "execution_count": 0,
      "outputs": [
        {
          "output_type": "display_data",
          "data": {
            "image/png": "[encoded data removed]",
            "text/plain": [
              "<Figure size 432x288 with 1 Axes>"
            ]
          },
          "metadata": {
            "tags": [],
            "needs_background": "light"
          }
        }
      ]
    },
    {
      "cell_type": "code",
      "metadata": {
        "id": "bB1toTcERIiv",
        "colab_type": "code",
        "colab": {},
        "outputId": "fbcc8cdd-810a-43f7-be4e-45568ca4e1ad"
      },
      "source": [
        "# clustering\n",
        "km = KMeans(n_clusters=2)\n",
        "y_km = km.fit_predict(data_pca)\n",
        "\n",
        "# list、クラスタのラベル名のリスト\n",
        "cluster_labels = np.unique(y_km)\n",
        "\n",
        "for i in np.unique(cluster_labels):\n",
        "    labels = data_pca[y_km == i]\n",
        "    plt.scatter(labels[:, 0], labels[:, 1], label=i+1)\n",
        "    \n",
        "plt.legend()\n",
        "plt.show()"
      ],
      "execution_count": 0,
      "outputs": [
        {
          "output_type": "display_data",
          "data": {
            "image/png": "[encoded data removed]",
            "text/plain": [
              "<Figure size 432x288 with 1 Axes>"
            ]
          },
          "metadata": {
            "tags": [],
            "needs_background": "light"
          }
        }
      ]
    },
    {
      "cell_type": "code",
      "metadata": {
        "id": "xqs24MCURIix",
        "colab_type": "code",
        "colab": {},
        "outputId": "03ae6ff6-a359-4910-bc20-c9809faf1ea5"
      },
      "source": [
        "# Region\n",
        "region = data['Region']\n",
        "\n",
        "for i in np.unique(region):\n",
        "    labels = data_pca[region == i]\n",
        "    plt.scatter(labels[:, 0], labels[:, 1], label=i)\n",
        "    \n",
        "plt.legend()\n",
        "plt.show()"
      ],
      "execution_count": 0,
      "outputs": [
        {
          "output_type": "display_data",
          "data": {
            "image/png": "[encoded data removed]",
            "text/plain": [
              "<Figure size 432x288 with 1 Axes>"
            ]
          },
          "metadata": {
            "tags": [],
            "needs_background": "light"
          }
        }
      ]
    },
    {
      "cell_type": "markdown",
      "metadata": {
        "id": "rRO87LfyRIi3",
        "colab_type": "text"
      },
      "source": [
        "金額ベースのデータをPCAしてクラスタリングしたところ、Channelに近く、Regionと異なる散らばりになった。\n",
        "\n",
        "\n",
        "# 【問題6】卸売業者にとって有益な情報\n",
        "まずはgroupbyを試してみる 既知グループのRegionを可視化"
      ]
    },
    {
      "cell_type": "code",
      "metadata": {
        "id": "5fdb9CKcRIi4",
        "colab_type": "code",
        "colab": {},
        "outputId": "057b14bc-1681-40de-e50b-010c5f8556f0"
      },
      "source": [
        "data.groupby('Region').describe()"
      ],
      "execution_count": 0,
      "outputs": [
        {
          "output_type": "execute_result",
          "data": {
            "text/html": [
              "<div>\n",
              "<style scoped>\n",
              "    .dataframe tbody tr th:only-of-type {\n",
              "        vertical-align: middle;\n",
              "    }\n",
              "\n",
              "    .dataframe tbody tr th {\n",
              "        vertical-align: top;\n",
              "    }\n",
              "\n",
              "    .dataframe thead tr th {\n",
              "        text-align: left;\n",
              "    }\n",
              "\n",
              "    .dataframe thead tr:last-of-type th {\n",
              "        text-align: right;\n",
              "    }\n",
              "</style>\n",
              "<table border=\"1\" class=\"dataframe\">\n",
              "  <thead>\n",
              "    <tr>\n",
              "      <th></th>\n",
              "      <th colspan=\"8\" halign=\"left\">Channel</th>\n",
              "      <th colspan=\"2\" halign=\"left\">Delicassen</th>\n",
              "      <th>...</th>\n",
              "      <th colspan=\"2\" halign=\"left\">Grocery</th>\n",
              "      <th colspan=\"8\" halign=\"left\">Milk</th>\n",
              "    </tr>\n",
              "    <tr>\n",
              "      <th></th>\n",
              "      <th>count</th>\n",
              "      <th>mean</th>\n",
              "      <th>std</th>\n",
              "      <th>min</th>\n",
              "      <th>25%</th>\n",
              "      <th>50%</th>\n",
              "      <th>75%</th>\n",
              "      <th>max</th>\n",
              "      <th>count</th>\n",
              "      <th>mean</th>\n",
              "      <th>...</th>\n",
              "      <th>75%</th>\n",
              "      <th>max</th>\n",
              "      <th>count</th>\n",
              "      <th>mean</th>\n",
              "      <th>std</th>\n",
              "      <th>min</th>\n",
              "      <th>25%</th>\n",
              "      <th>50%</th>\n",
              "      <th>75%</th>\n",
              "      <th>max</th>\n",
              "    </tr>\n",
              "    <tr>\n",
              "      <th>Region</th>\n",
              "      <th></th>\n",
              "      <th></th>\n",
              "      <th></th>\n",
              "      <th></th>\n",
              "      <th></th>\n",
              "      <th></th>\n",
              "      <th></th>\n",
              "      <th></th>\n",
              "      <th></th>\n",
              "      <th></th>\n",
              "      <th></th>\n",
              "      <th></th>\n",
              "      <th></th>\n",
              "      <th></th>\n",
              "      <th></th>\n",
              "      <th></th>\n",
              "      <th></th>\n",
              "      <th></th>\n",
              "      <th></th>\n",
              "      <th></th>\n",
              "      <th></th>\n",
              "    </tr>\n",
              "  </thead>\n",
              "  <tbody>\n",
              "    <tr>\n",
              "      <th>1</th>\n",
              "      <td>77.0</td>\n",
              "      <td>1.233766</td>\n",
              "      <td>0.426000</td>\n",
              "      <td>1.0</td>\n",
              "      <td>1.0</td>\n",
              "      <td>1.0</td>\n",
              "      <td>1.0</td>\n",
              "      <td>2.0</td>\n",
              "      <td>77.0</td>\n",
              "      <td>1354.896104</td>\n",
              "      <td>...</td>\n",
              "      <td>9490.00</td>\n",
              "      <td>39694.0</td>\n",
              "      <td>77.0</td>\n",
              "      <td>5486.415584</td>\n",
              "      <td>5704.856079</td>\n",
              "      <td>258.0</td>\n",
              "      <td>1372.0</td>\n",
              "      <td>3748.0</td>\n",
              "      <td>7503.00</td>\n",
              "      <td>28326.0</td>\n",
              "    </tr>\n",
              "    <tr>\n",
              "      <th>2</th>\n",
              "      <td>47.0</td>\n",
              "      <td>1.404255</td>\n",
              "      <td>0.496053</td>\n",
              "      <td>1.0</td>\n",
              "      <td>1.0</td>\n",
              "      <td>1.0</td>\n",
              "      <td>2.0</td>\n",
              "      <td>2.0</td>\n",
              "      <td>47.0</td>\n",
              "      <td>1159.702128</td>\n",
              "      <td>...</td>\n",
              "      <td>11758.50</td>\n",
              "      <td>67298.0</td>\n",
              "      <td>47.0</td>\n",
              "      <td>5088.170213</td>\n",
              "      <td>5826.343145</td>\n",
              "      <td>333.0</td>\n",
              "      <td>1430.5</td>\n",
              "      <td>2374.0</td>\n",
              "      <td>5772.50</td>\n",
              "      <td>25071.0</td>\n",
              "    </tr>\n",
              "    <tr>\n",
              "      <th>3</th>\n",
              "      <td>316.0</td>\n",
              "      <td>1.332278</td>\n",
              "      <td>0.471777</td>\n",
              "      <td>1.0</td>\n",
              "      <td>1.0</td>\n",
              "      <td>1.0</td>\n",
              "      <td>2.0</td>\n",
              "      <td>2.0</td>\n",
              "      <td>316.0</td>\n",
              "      <td>1620.601266</td>\n",
              "      <td>...</td>\n",
              "      <td>10559.75</td>\n",
              "      <td>92780.0</td>\n",
              "      <td>316.0</td>\n",
              "      <td>5977.085443</td>\n",
              "      <td>7935.463443</td>\n",
              "      <td>55.0</td>\n",
              "      <td>1634.0</td>\n",
              "      <td>3684.5</td>\n",
              "      <td>7198.75</td>\n",
              "      <td>73498.0</td>\n",
              "    </tr>\n",
              "  </tbody>\n",
              "</table>\n",
              "<p>3 rows × 56 columns</p>\n",
              "</div>"
            ],
            "text/plain": [
              "       Channel                                              Delicassen  \\\n",
              "         count      mean       std  min  25%  50%  75%  max      count   \n",
              "Region                                                                   \n",
              "1         77.0  1.233766  0.426000  1.0  1.0  1.0  1.0  2.0       77.0   \n",
              "2         47.0  1.404255  0.496053  1.0  1.0  1.0  2.0  2.0       47.0   \n",
              "3        316.0  1.332278  0.471777  1.0  1.0  1.0  2.0  2.0      316.0   \n",
              "\n",
              "                      ...      Grocery            Milk               \\\n",
              "               mean   ...          75%      max  count         mean   \n",
              "Region                ...                                             \n",
              "1       1354.896104   ...      9490.00  39694.0   77.0  5486.415584   \n",
              "2       1159.702128   ...     11758.50  67298.0   47.0  5088.170213   \n",
              "3       1620.601266   ...     10559.75  92780.0  316.0  5977.085443   \n",
              "\n",
              "                                                              \n",
              "                std    min     25%     50%      75%      max  \n",
              "Region                                                        \n",
              "1       5704.856079  258.0  1372.0  3748.0  7503.00  28326.0  \n",
              "2       5826.343145  333.0  1430.5  2374.0  5772.50  25071.0  \n",
              "3       7935.463443   55.0  1634.0  3684.5  7198.75  73498.0  \n",
              "\n",
              "[3 rows x 56 columns]"
            ]
          },
          "metadata": {
            "tags": []
          },
          "execution_count": 19
        }
      ]
    },
    {
      "cell_type": "code",
      "metadata": {
        "id": "3bjG46ZlRIi7",
        "colab_type": "code",
        "colab": {},
        "outputId": "f3d390a1-7792-4e2d-c1e9-f1dce251a8a5"
      },
      "source": [
        "re = data.drop(columns='Channel')\n",
        "\n",
        "\n",
        "sns.set()\n",
        "sns.set_style('whitegrid')\n",
        "sns.set_palette('Paired')\n",
        "\n",
        "x = re.groupby(['Region']).mean().columns.values\n",
        "x_position = np.arange(len(x))\n",
        "\n",
        "re1 = re.groupby(['Region']).mean().values[0]\n",
        "re2 = re.groupby(['Region']).mean().values[1]\n",
        "re3 = re.groupby(['Region']).mean().values[2]\n",
        "\n",
        "fig = plt.figure(figsize=(10, 5))\n",
        "ax = fig.add_subplot(1, 1, 1)\n",
        "ax.bar(x_position, re1, width=0.3, label=0)\n",
        "ax.bar(x_position + 0.3, re2, width=0.3, label=1)\n",
        "ax.bar(x_position + 0.6, re3, width=0.3, label=2)\n",
        "ax.legend()\n",
        "ax.set_xticks(x_position + 0.3)\n",
        "ax.set_xticklabels(x)\n",
        "plt.show()"
      ],
      "execution_count": 0,
      "outputs": [
        {
          "output_type": "display_data",
          "data": {
            "image/png": "[encoded data removed]",
            "text/plain": [
              "<Figure size 720x360 with 1 Axes>"
            ]
          },
          "metadata": {
            "tags": []
          }
        }
      ]
    },
    {
      "cell_type": "markdown",
      "metadata": {
        "id": "n9pRvOAcRIi9",
        "colab_type": "text"
      },
      "source": [
        "散布図でもそうだったが、Regionをgroupbyしただけでは各特徴量間で目立った特徴は見られない  \n",
        "次にChannel"
      ]
    },
    {
      "cell_type": "code",
      "metadata": {
        "id": "LBZc4f2HRIi-",
        "colab_type": "code",
        "colab": {},
        "outputId": "386aa177-0245-4048-ff39-300044de5848"
      },
      "source": [
        "data.groupby('Channel').describe()"
      ],
      "execution_count": 0,
      "outputs": [
        {
          "output_type": "execute_result",
          "data": {
            "text/html": [
              "<div>\n",
              "<style scoped>\n",
              "    .dataframe tbody tr th:only-of-type {\n",
              "        vertical-align: middle;\n",
              "    }\n",
              "\n",
              "    .dataframe tbody tr th {\n",
              "        vertical-align: top;\n",
              "    }\n",
              "\n",
              "    .dataframe thead tr th {\n",
              "        text-align: left;\n",
              "    }\n",
              "\n",
              "    .dataframe thead tr:last-of-type th {\n",
              "        text-align: right;\n",
              "    }\n",
              "</style>\n",
              "<table border=\"1\" class=\"dataframe\">\n",
              "  <thead>\n",
              "    <tr>\n",
              "      <th></th>\n",
              "      <th colspan=\"8\" halign=\"left\">Delicassen</th>\n",
              "      <th colspan=\"2\" halign=\"left\">Detergents_Paper</th>\n",
              "      <th>...</th>\n",
              "      <th colspan=\"2\" halign=\"left\">Milk</th>\n",
              "      <th colspan=\"8\" halign=\"left\">Region</th>\n",
              "    </tr>\n",
              "    <tr>\n",
              "      <th></th>\n",
              "      <th>count</th>\n",
              "      <th>mean</th>\n",
              "      <th>std</th>\n",
              "      <th>min</th>\n",
              "      <th>25%</th>\n",
              "      <th>50%</th>\n",
              "      <th>75%</th>\n",
              "      <th>max</th>\n",
              "      <th>count</th>\n",
              "      <th>mean</th>\n",
              "      <th>...</th>\n",
              "      <th>75%</th>\n",
              "      <th>max</th>\n",
              "      <th>count</th>\n",
              "      <th>mean</th>\n",
              "      <th>std</th>\n",
              "      <th>min</th>\n",
              "      <th>25%</th>\n",
              "      <th>50%</th>\n",
              "      <th>75%</th>\n",
              "      <th>max</th>\n",
              "    </tr>\n",
              "    <tr>\n",
              "      <th>Channel</th>\n",
              "      <th></th>\n",
              "      <th></th>\n",
              "      <th></th>\n",
              "      <th></th>\n",
              "      <th></th>\n",
              "      <th></th>\n",
              "      <th></th>\n",
              "      <th></th>\n",
              "      <th></th>\n",
              "      <th></th>\n",
              "      <th></th>\n",
              "      <th></th>\n",
              "      <th></th>\n",
              "      <th></th>\n",
              "      <th></th>\n",
              "      <th></th>\n",
              "      <th></th>\n",
              "      <th></th>\n",
              "      <th></th>\n",
              "      <th></th>\n",
              "      <th></th>\n",
              "    </tr>\n",
              "  </thead>\n",
              "  <tbody>\n",
              "    <tr>\n",
              "      <th>1</th>\n",
              "      <td>298.0</td>\n",
              "      <td>1415.956376</td>\n",
              "      <td>3147.426922</td>\n",
              "      <td>3.0</td>\n",
              "      <td>379.00</td>\n",
              "      <td>821.0</td>\n",
              "      <td>1548.0</td>\n",
              "      <td>47943.0</td>\n",
              "      <td>298.0</td>\n",
              "      <td>790.560403</td>\n",
              "      <td>...</td>\n",
              "      <td>4029.50</td>\n",
              "      <td>43950.0</td>\n",
              "      <td>298.0</td>\n",
              "      <td>2.510067</td>\n",
              "      <td>0.805013</td>\n",
              "      <td>1.0</td>\n",
              "      <td>2.0</td>\n",
              "      <td>3.0</td>\n",
              "      <td>3.0</td>\n",
              "      <td>3.0</td>\n",
              "    </tr>\n",
              "    <tr>\n",
              "      <th>2</th>\n",
              "      <td>142.0</td>\n",
              "      <td>1753.436620</td>\n",
              "      <td>1953.797047</td>\n",
              "      <td>3.0</td>\n",
              "      <td>566.75</td>\n",
              "      <td>1350.0</td>\n",
              "      <td>2156.0</td>\n",
              "      <td>16523.0</td>\n",
              "      <td>142.0</td>\n",
              "      <td>7269.507042</td>\n",
              "      <td>...</td>\n",
              "      <td>12162.75</td>\n",
              "      <td>73498.0</td>\n",
              "      <td>142.0</td>\n",
              "      <td>2.612676</td>\n",
              "      <td>0.703069</td>\n",
              "      <td>1.0</td>\n",
              "      <td>2.0</td>\n",
              "      <td>3.0</td>\n",
              "      <td>3.0</td>\n",
              "      <td>3.0</td>\n",
              "    </tr>\n",
              "  </tbody>\n",
              "</table>\n",
              "<p>2 rows × 56 columns</p>\n",
              "</div>"
            ],
            "text/plain": [
              "        Delicassen                                                         \\\n",
              "             count         mean          std  min     25%     50%     75%   \n",
              "Channel                                                                     \n",
              "1            298.0  1415.956376  3147.426922  3.0  379.00   821.0  1548.0   \n",
              "2            142.0  1753.436620  1953.797047  3.0  566.75  1350.0  2156.0   \n",
              "\n",
              "                 Detergents_Paper              ...       Milk          Region  \\\n",
              "             max            count         mean ...        75%      max  count   \n",
              "Channel                                        ...                              \n",
              "1        47943.0            298.0   790.560403 ...    4029.50  43950.0  298.0   \n",
              "2        16523.0            142.0  7269.507042 ...   12162.75  73498.0  142.0   \n",
              "\n",
              "                                                      \n",
              "             mean       std  min  25%  50%  75%  max  \n",
              "Channel                                               \n",
              "1        2.510067  0.805013  1.0  2.0  3.0  3.0  3.0  \n",
              "2        2.612676  0.703069  1.0  2.0  3.0  3.0  3.0  \n",
              "\n",
              "[2 rows x 56 columns]"
            ]
          },
          "metadata": {
            "tags": []
          },
          "execution_count": 21
        }
      ]
    },
    {
      "cell_type": "code",
      "metadata": {
        "id": "Vc9hpwPPRIjC",
        "colab_type": "code",
        "colab": {},
        "outputId": "f4eae213-8c43-4f78-a4a9-f0b48c9e04b5"
      },
      "source": [
        "ch = data.drop(columns='Region')\n",
        "\n",
        "\n",
        "sns.set()\n",
        "sns.set_style('whitegrid')\n",
        "sns.set_palette('Paired')\n",
        "\n",
        "x = ch.groupby(['Channel']).mean().columns.values\n",
        "x_position = np.arange(len(x))\n",
        "\n",
        "ch1 = ch.groupby(['Channel']).mean().values[0]\n",
        "ch2 = ch.groupby(['Channel']).mean().values[1]\n",
        "\n",
        "fig = plt.figure(figsize=(10, 5))\n",
        "ax = fig.add_subplot(1, 1, 1)\n",
        "ax.bar(x_position, ch1, width=0.4, label=1)\n",
        "ax.bar(x_position + 0.4, ch2, width=0.4, label=2)\n",
        "ax.legend()\n",
        "ax.set_xticks(x_position + 0.2)\n",
        "ax.set_xticklabels(x)\n",
        "plt.show()"
      ],
      "execution_count": 0,
      "outputs": [
        {
          "output_type": "display_data",
          "data": {
            "image/png": "[encoded data removed]",
            "text/plain": [
              "<Figure size 720x360 with 1 Axes>"
            ]
          },
          "metadata": {
            "tags": []
          }
        }
      ]
    },
    {
      "cell_type": "code",
      "metadata": {
        "id": "wRoVawMDRIjE",
        "colab_type": "code",
        "colab": {},
        "outputId": "78956d98-30a5-457c-81d3-bb502f5b9083"
      },
      "source": [
        "# clustering\n",
        "km = KMeans(n_clusters=2)\n",
        "y_km = km.fit_predict(data_pca)\n",
        "\n",
        "cl = data.drop(columns=['Channel', 'Region'])\n",
        "\n",
        "x = cl.columns.values\n",
        "x_position = np.arange(len(x))\n",
        "\n",
        "cl1 = cl[y_km == 0].mean().values\n",
        "cl2 = cl[y_km == 1].mean().values\n",
        "\n",
        "fig = plt.figure(figsize=(10, 5))\n",
        "ax = fig.add_subplot(1, 1, 1)\n",
        "ax.bar(x_position, cl1, width=0.4, label=1)\n",
        "ax.bar(x_position + 0.4, cl2, width=0.4, label=2)\n",
        "ax.legend()\n",
        "ax.set_xticks(x_position + 0.2)\n",
        "ax.set_xticklabels(x)\n",
        "plt.show()"
      ],
      "execution_count": 0,
      "outputs": [
        {
          "output_type": "display_data",
          "data": {
            "image/png": "[encoded data removed]",
            "text/plain": [
              "<Figure size 720x360 with 1 Axes>"
            ]
          },
          "metadata": {
            "tags": []
          }
        }
      ]
    },
    {
      "cell_type": "markdown",
      "metadata": {
        "id": "Gn4cNJSpRIjH",
        "colab_type": "text"
      },
      "source": [
        "こちらも散布図の通り、Channel・Clustering間で同じような平均を取っている  \n",
        "上記から読み取れる有益な情報は以下。\n",
        "- channel1では、生鮮品・冷凍食品の構成比が高い\n",
        "- channel2では、乳製品・グロッサリー・洗剤シート？の構成比が高い  \n",
        "→ 発注量の目安になる  \n",
        "<br>\n",
        "\n",
        "Channel内でRegion別にするとどうなるかも一応試してみる"
      ]
    },
    {
      "cell_type": "code",
      "metadata": {
        "id": "rAnYw4Q4RIjI",
        "colab_type": "code",
        "colab": {},
        "outputId": "d0771c3c-f778-48c4-e51a-d45f91c8ab40"
      },
      "source": [
        "ch_re = data.groupby(['Channel', 'Region']).mean()\n",
        "ch_re"
      ],
      "execution_count": 0,
      "outputs": [
        {
          "output_type": "execute_result",
          "data": {
            "text/html": [
              "<div>\n",
              "<style scoped>\n",
              "    .dataframe tbody tr th:only-of-type {\n",
              "        vertical-align: middle;\n",
              "    }\n",
              "\n",
              "    .dataframe tbody tr th {\n",
              "        vertical-align: top;\n",
              "    }\n",
              "\n",
              "    .dataframe thead th {\n",
              "        text-align: right;\n",
              "    }\n",
              "</style>\n",
              "<table border=\"1\" class=\"dataframe\">\n",
              "  <thead>\n",
              "    <tr style=\"text-align: right;\">\n",
              "      <th></th>\n",
              "      <th></th>\n",
              "      <th>Fresh</th>\n",
              "      <th>Milk</th>\n",
              "      <th>Grocery</th>\n",
              "      <th>Frozen</th>\n",
              "      <th>Detergents_Paper</th>\n",
              "      <th>Delicassen</th>\n",
              "    </tr>\n",
              "    <tr>\n",
              "      <th>Channel</th>\n",
              "      <th>Region</th>\n",
              "      <th></th>\n",
              "      <th></th>\n",
              "      <th></th>\n",
              "      <th></th>\n",
              "      <th></th>\n",
              "      <th></th>\n",
              "    </tr>\n",
              "  </thead>\n",
              "  <tbody>\n",
              "    <tr>\n",
              "      <th rowspan=\"3\" valign=\"top\">1</th>\n",
              "      <th>1</th>\n",
              "      <td>12902.254237</td>\n",
              "      <td>3870.203390</td>\n",
              "      <td>4026.135593</td>\n",
              "      <td>3127.322034</td>\n",
              "      <td>950.525424</td>\n",
              "      <td>1197.152542</td>\n",
              "    </tr>\n",
              "    <tr>\n",
              "      <th>2</th>\n",
              "      <td>11650.535714</td>\n",
              "      <td>2304.250000</td>\n",
              "      <td>4395.500000</td>\n",
              "      <td>5745.035714</td>\n",
              "      <td>482.714286</td>\n",
              "      <td>1105.892857</td>\n",
              "    </tr>\n",
              "    <tr>\n",
              "      <th>3</th>\n",
              "      <td>13878.052133</td>\n",
              "      <td>3486.981043</td>\n",
              "      <td>3886.734597</td>\n",
              "      <td>3656.900474</td>\n",
              "      <td>786.682464</td>\n",
              "      <td>1518.284360</td>\n",
              "    </tr>\n",
              "    <tr>\n",
              "      <th rowspan=\"3\" valign=\"top\">2</th>\n",
              "      <th>1</th>\n",
              "      <td>5200.000000</td>\n",
              "      <td>10784.000000</td>\n",
              "      <td>18471.944444</td>\n",
              "      <td>2584.111111</td>\n",
              "      <td>8225.277778</td>\n",
              "      <td>1871.944444</td>\n",
              "    </tr>\n",
              "    <tr>\n",
              "      <th>2</th>\n",
              "      <td>7289.789474</td>\n",
              "      <td>9190.789474</td>\n",
              "      <td>16326.315789</td>\n",
              "      <td>1540.578947</td>\n",
              "      <td>8410.263158</td>\n",
              "      <td>1239.000000</td>\n",
              "    </tr>\n",
              "    <tr>\n",
              "      <th>3</th>\n",
              "      <td>9831.504762</td>\n",
              "      <td>10981.009524</td>\n",
              "      <td>15953.809524</td>\n",
              "      <td>1513.200000</td>\n",
              "      <td>6899.238095</td>\n",
              "      <td>1826.209524</td>\n",
              "    </tr>\n",
              "  </tbody>\n",
              "</table>\n",
              "</div>"
            ],
            "text/plain": [
              "                       Fresh          Milk       Grocery       Frozen  \\\n",
              "Channel Region                                                          \n",
              "1       1       12902.254237   3870.203390   4026.135593  3127.322034   \n",
              "        2       11650.535714   2304.250000   4395.500000  5745.035714   \n",
              "        3       13878.052133   3486.981043   3886.734597  3656.900474   \n",
              "2       1        5200.000000  10784.000000  18471.944444  2584.111111   \n",
              "        2        7289.789474   9190.789474  16326.315789  1540.578947   \n",
              "        3        9831.504762  10981.009524  15953.809524  1513.200000   \n",
              "\n",
              "                Detergents_Paper   Delicassen  \n",
              "Channel Region                                 \n",
              "1       1             950.525424  1197.152542  \n",
              "        2             482.714286  1105.892857  \n",
              "        3             786.682464  1518.284360  \n",
              "2       1            8225.277778  1871.944444  \n",
              "        2            8410.263158  1239.000000  \n",
              "        3            6899.238095  1826.209524  "
            ]
          },
          "metadata": {
            "tags": []
          },
          "execution_count": 24
        }
      ]
    },
    {
      "cell_type": "code",
      "metadata": {
        "id": "kdcIereiRIjN",
        "colab_type": "code",
        "colab": {},
        "outputId": "c1cea886-096b-4e7c-bec0-8f0bdc309d4b"
      },
      "source": [
        "sns.set()\n",
        "sns.set_style('whitegrid')\n",
        "sns.set_palette('Paired')\n",
        "\n",
        "x = ch_re.columns.values\n",
        "x_position = np.arange(len(x))\n",
        "\n",
        "re1 = ch_re.values[0]\n",
        "re2 = ch_re.values[1]\n",
        "re3 = ch_re.values[2]\n",
        "fig = plt.figure(figsize=(10, 5))\n",
        "ax = fig.add_subplot(1, 1, 1)\n",
        "ax.bar(x_position, re1, width=0.3, label=0)\n",
        "ax.bar(x_position + 0.3, re2, width=0.3, label=1)\n",
        "ax.bar(x_position + 0.6, re3, width=0.3, label=2)\n",
        "ax.legend()\n",
        "ax.set_xticks(x_position + 0.3)\n",
        "ax.set_xticklabels(x)\n",
        "plt.show()\n",
        "# Channel1のやつ"
      ],
      "execution_count": 0,
      "outputs": [
        {
          "output_type": "display_data",
          "data": {
            "image/png": "[encoded data removed]",
            "text/plain": [
              "<Figure size 720x360 with 1 Axes>"
            ]
          },
          "metadata": {
            "tags": []
          }
        }
      ]
    },
    {
      "cell_type": "code",
      "metadata": {
        "id": "uGc0EW24RIjO",
        "colab_type": "code",
        "colab": {},
        "outputId": "f3094828-78df-4cc3-dbd6-d9d8cd60f108"
      },
      "source": [
        "sns.set()\n",
        "sns.set_style('whitegrid')\n",
        "sns.set_palette('Paired')\n",
        "\n",
        "x = ch_re.columns.values\n",
        "x_position = np.arange(len(x))\n",
        "\n",
        "re1 = ch_re.values[3]\n",
        "re2 = ch_re.values[4]\n",
        "re3 = ch_re.values[5]\n",
        "\n",
        "fig = plt.figure(figsize=(10, 5))\n",
        "ax = fig.add_subplot(1, 1, 1)\n",
        "ax.bar(x_position, re1, width=0.3, label=0)\n",
        "ax.bar(x_position + 0.3, re2, width=0.3, label=1)\n",
        "ax.bar(x_position + 0.6, re3, width=0.3, label=2)\n",
        "ax.legend()\n",
        "ax.set_xticks(x_position + 0.3)\n",
        "ax.set_xticklabels(x)\n",
        "plt.show()\n",
        "# Channel2のやつ"
      ],
      "execution_count": 0,
      "outputs": [
        {
          "output_type": "display_data",
          "data": {
            "image/png": "[encoded data removed]",
            "text/plain": [
              "<Figure size 720x360 with 1 Axes>"
            ]
          },
          "metadata": {
            "tags": []
          }
        }
      ]
    },
    {
      "cell_type": "markdown",
      "metadata": {
        "id": "uaHViiJ-RIjQ",
        "colab_type": "text"
      },
      "source": [
        "突出した特徴は見られないもののどのChannel・Regionに注力するかなど何かしらの有益な指標にはなりそう\n",
        "(e.g.\n",
        "- freshとfrozenは同じ搬送手段(冷凍トラック)なので、シナジーが生まれるから Channel1のRegion1・3の搬出量を増やしていこう\n",
        "- fresh・Region3の輸送費は高いので、fresh・Region0の搬出量を増やしていこう  \n",
        "など？  \n",
        "<br>\n",
        "他にできそうなアプローチめも  \n",
        "- Channel≒k=2 の分布なのでk=4に増やして、Channel1・2内でhigh・lowに分けて分析してみる？"
      ]
    }
  ]
}