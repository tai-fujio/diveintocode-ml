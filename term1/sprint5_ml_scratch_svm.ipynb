{
  "nbformat": 4,
  "nbformat_minor": 0,
  "metadata": {
    "kernelspec": {
      "display_name": "Python 3",
      "language": "python",
      "name": "python3"
    },
    "language_info": {
      "codemirror_mode": {
        "name": "ipython",
        "version": 3
      },
      "file_extension": ".py",
      "mimetype": "text/x-python",
      "name": "python",
      "nbconvert_exporter": "python",
      "pygments_lexer": "ipython3",
      "version": "3.7.1"
    },
    "colab": {
      "name": "sprint5-ml-scratch-svm.ipynb",
      "version": "0.3.2",
      "provenance": []
    }
  },
  "cells": [
    {
      "cell_type": "markdown",
      "metadata": {
        "id": "erbNk1dzMETa",
        "colab_type": "text"
      },
      "source": [
        "# 【問題1】SVM分類器のクラスを作成する\n",
        "# 【問題2】（アドバンス課題）多項式カーネル関数の作成\n",
        "- NumPyなど最低限のライブラリのみを使い、スクラッチで実装する。\n",
        "- 下記ライブラリのfit〜predまでの実装をゴールとする。\n",
        "\n",
        "[sklearn.svm.SVC — scikit-learn 0.20.2 documentation](https://scikit-learn.org/stable/modules/generated/sklearn.svm.SVC.html)"
      ]
    },
    {
      "cell_type": "code",
      "metadata": {
        "id": "oweQge-bMETb",
        "colab_type": "code",
        "colab": {}
      },
      "source": [
        "import numpy as np\n",
        "\n",
        "class ScratchSVMClassifier():\n",
        "    \"\"\"\n",
        "    SVM分類器のスクラッチ実装\n",
        "\n",
        "    Parameters\n",
        "    ----------\n",
        "    num_iter : int\n",
        "      イテレーション数\n",
        "    lr : float\n",
        "      学習率\n",
        "    c : float\n",
        "      閾値\n",
        "    no_bias : bool\n",
        "      バイアス項を入れない場合はTrue\n",
        "    verbose : bool\n",
        "      学習過程を出力する場合はTrue\n",
        "\n",
        "    Attributes\n",
        "    ----------\n",
        "    self.coef_ : 次の形のndarray, shape (n_features,)\n",
        "      パラメータ\n",
        "    self.loss : 次の形のndarray, shape (self.iter,)\n",
        "      学習用データに対する損失の記録\n",
        "    self.val_loss : 次の形のndarray, shape (self.iter,)\n",
        "      検証用データに対する損失の記録\n",
        "\n",
        "    \"\"\"\n",
        "\n",
        "    \n",
        "    def __init__(self, num_iter=2000, lr=1e-3, c=1e-5, kernel='linear', gamma=1, degree=1,  no_bias=False, verbose=False):\n",
        "        # ハイパーパラメータを属性として記録\n",
        "        self.iter = num_iter\n",
        "        # 学習率\n",
        "        self.lr = lr\n",
        "        # 閾値\n",
        "        self.c = c\n",
        "        # カーネルの種類\n",
        "        self.kernel = kernel\n",
        "        # gamma(初期値1)\n",
        "        self.gamma = gamma\n",
        "        # 多項式の場合の数\n",
        "        self.degree = degree\n",
        "        # 各種スイッチ\n",
        "        self.no_bias = no_bias\n",
        "        self.verbose = verbose\n",
        "        # 損失を記録する配列を用意\n",
        "        self.loss = np.zeros(self.iter)\n",
        "        self.val_loss = np.zeros(self.iter)\n",
        "        # バイアス(初期値0)\n",
        "        self.intercept_ = 0\n",
        "        # 重みを格納する配列\n",
        "        self.coef_ = np.array([])\n",
        "        # rambdaを格納する配列\n",
        "        self.lmd_ = np.array([])\n",
        "        # サポートベクターのインデックスを格納する配列\n",
        "        self.support_vector_index = np.array([])\n",
        "        # サポートベクターを格納する配列\n",
        "        self.support_vectors_ = np.array([])\n",
        "        \n",
        "\n",
        "    def fit(self, X, y):\n",
        "        \"\"\"\n",
        "        SVM分類器を学習する。検証用データが入力された場合はそれに対する損失と精度もイテレーションごとに計算する。\n",
        "\n",
        "          Parameters\n",
        "        ----------\n",
        "        X : 次の形のndarray, shape (n_samples, n_features)\n",
        "            学習用データの特徴量\n",
        "        y : 次の形のndarray, shape (n_samples, )\n",
        "            学習用データの正解値\n",
        "        \"\"\"\n",
        "        \n",
        "        # 次元数を必要に応じて追加\n",
        "        if X.ndim < 2:\n",
        "            X = X[:, np.newaxis]\n",
        "        if y.ndim < 2:\n",
        "            y = y[:, np.newaxis]\n",
        "\n",
        "        # Xの行数を代入\n",
        "        X_rows_cnt  = np.shape(X)[0]\n",
        "\n",
        "        # ラグランジュ乗数を乱数で初期化\n",
        "        self.lmd_ = np.random.rand(X_rows_cnt)[:, np.newaxis]\n",
        "        \n",
        "        # カーネル関数コール\n",
        "        k = self._kernel_func(X)\n",
        "        \n",
        "        for i in range(self.iter):\n",
        "            # 最急降下法関数コール\n",
        "            self._gradient_descent(y, k, X_rows_cnt)\n",
        "            \n",
        "        # 最適化したlambdaを元に閾値以下のものをサポートベクターにする\n",
        "        self.support_vector_index = np.where(self.lmd_ > self.c)[0]\n",
        "        self.support_vectors_ = X[self.support_vector_index, :]\n",
        "        \n",
        "        # 分類境界線計算関数コール\n",
        "        self._calc_boundary(y)\n",
        "        \n",
        "            \n",
        "    def _kernel_func(self, X):\n",
        "        \"\"\"\n",
        "        Xのカーネル関数\n",
        "\n",
        "        Parameters\n",
        "        ----------\n",
        "        X : 次の形のndarray, shape (n_samples, n_features)\n",
        "          学習データ\n",
        "\n",
        "        Returns\n",
        "        -------\n",
        "        k : 次の形のndarray, shape (n_samples, n_samples)\n",
        "            Xのカーネル\n",
        "        \"\"\"\n",
        "\n",
        "        k = self.gamma * (np.dot(X, X.T) + self.intercept_) ** self.degree\n",
        "        \n",
        "        return k \n",
        "        \n",
        "    \n",
        "    def _gradient_descent(self, y, k, X_rows_cnt):\n",
        "        \"\"\"\n",
        "        最急降下法により、パラメータを更新する\n",
        "\n",
        "        Parameters\n",
        "        ----------\n",
        "        y: 次の形のndarray, shape (n_samples, 1)\n",
        "          検証データ\n",
        "        k : 次の形のndarray, shape (n_samples, n_samples)\n",
        "        　　Xのカーネル\n",
        "        \"\"\"\n",
        "        \n",
        "        # 項の一部を計算\n",
        "        y_k = np.dot(y, y.T) * k\n",
        "        term = np.dot(y_k, self.lmd_)\n",
        "\n",
        "        \n",
        "        \n",
        "        # 勾配を求める\n",
        "        gradient = 1- term\n",
        "        \n",
        "        self.lmd_ += self.lr * gradient\n",
        "        \n",
        "        self.lmd_ = np.where(self.lmd_ < 0, 0, self.lmd_)\n",
        "            \n",
        "            \n",
        "    def _calc_boundary(self, y):    \n",
        "        \"\"\"\n",
        "        分類境界線を算出する\n",
        "\n",
        "        Parameters\n",
        "        ----------\n",
        "        y: 次の形のndarray, shape (n_samples, 1)\n",
        "          検証データ\n",
        "        \"\"\"\n",
        "\n",
        "        # サポートベクターのインデックスと一致するyを抜き出す\n",
        "        y = y[self.support_vector_index]\n",
        "        \n",
        "        # サポートベクターのインデックスと一致するrambdaを抜き出す\n",
        "        lmd = self.lmd_[self.support_vector_index]\n",
        "        \n",
        "        # thetaの計算式\n",
        "        self.coef_ = lmd * y * self.support_vectors_\n",
        "        \n",
        "        # theta.T + X\n",
        "        theta_T_X = np.dot(self.support_vectors_, self.coef_.T)\n",
        "        \n",
        "        # theta0の計算しき\n",
        "        self.intercept = (y - np.sum(theta_T_X, axis=1)[:, np.newaxis]) / len(self.support_vector_index)\n",
        "            \n",
        "        self.coef_ = np.sum(self.coef_, axis=0)\n",
        "        \n",
        "            \n",
        "    def predict(self, X):\n",
        "        \"\"\"\n",
        "        SVM分類器を使い推定する。\n",
        "\n",
        "        Parameters\n",
        "        ----------\n",
        "        X : 次の形のndarray, shape (n_samples, n_features)\n",
        "            サンプル\n",
        "\n",
        "        Returns\n",
        "        -------\n",
        "            次の形のndarray, shape (n_samples, 1)\n",
        "            線形回帰による推定結果\n",
        "        \"\"\"\n",
        "        \n",
        "        # バイアス入れないフラグが立っていない場合は、バイアス項を1で先頭列に挿入\n",
        "        if self.no_bias is False:\n",
        "            # TODO:uniqueなラベルにする\n",
        "            y_pred = np.where(np.dot(X, self.coef_) + self.intercept_ > 0, 1, -1)\n",
        "        else:\n",
        "            y_pred = np.where(np.dot(X, self.coef_) > 0, 1, -1)\n",
        "        \n",
        "        return y_pred"
      ],
      "execution_count": 0,
      "outputs": []
    },
    {
      "cell_type": "code",
      "metadata": {
        "id": "bYCVvyijMETe",
        "colab_type": "code",
        "colab": {}
      },
      "source": [
        "import numpy as np\n",
        "\n",
        "np.random.seed(seed=0)\n",
        "n_samples = 500\n",
        "f0 = [-1, 2]\n",
        "f1 = [2, -1]\n",
        "cov = [[1.0,0.8], [0.8, 1.0]]\n",
        "\n",
        "f0 = np.random.multivariate_normal(f0, cov, int(n_samples/2))\n",
        "f1 = np.random.multivariate_normal(f1, cov, int(n_samples/2))\n",
        "\n",
        "X = np.concatenate((f0, f1))\n",
        "y = np.concatenate((np.ones((int(n_samples/2))), np.ones((int(n_samples/2))) *(-1))).astype(np.int)\n",
        "\n",
        "random_index = np.random.permutation(np.arange(n_samples))\n",
        "X = X[random_index]\n",
        "y = y[random_index]\n",
        "\n",
        "from sklearn.model_selection import train_test_split\n",
        "X_train, X_test, y_train, y_test = train_test_split(X, y)"
      ],
      "execution_count": 0,
      "outputs": []
    },
    {
      "cell_type": "code",
      "metadata": {
        "id": "AM3AYmQYMETg",
        "colab_type": "code",
        "colab": {}
      },
      "source": [
        "ssvc = ScratchSVMClassifier()\n",
        "ssvc.fit(X_train, y_train)"
      ],
      "execution_count": 0,
      "outputs": []
    },
    {
      "cell_type": "markdown",
      "metadata": {
        "id": "RqoIzqMpMETi",
        "colab_type": "text"
      },
      "source": [
        "# 【問題3】指標値の算出\n",
        "* 混同行列\n",
        "* 確実性"
      ]
    },
    {
      "cell_type": "code",
      "metadata": {
        "id": "X_c_yDU-METj",
        "colab_type": "code",
        "colab": {},
        "outputId": "ba17d3c8-3e20-482c-f869-45de2d786c5c"
      },
      "source": [
        "y_pred = ssvc.predict(X_test)\n",
        "\n",
        "from sklearn.metrics import confusion_matrix\n",
        "print(confusion_matrix(y_test, y_pred))\n",
        "\n",
        "from sklearn.metrics import accuracy_score\n",
        "\n",
        "print(accuracy_score(y_test, y_pred))"
      ],
      "execution_count": 0,
      "outputs": [
        {
          "output_type": "stream",
          "text": [
            "[[62  0]\n",
            " [ 0 63]]\n",
            "1.0\n"
          ],
          "name": "stdout"
        }
      ]
    },
    {
      "cell_type": "markdown",
      "metadata": {
        "id": "Q_15-cG6METm",
        "colab_type": "text"
      },
      "source": [
        "# 【問題4】決定領域の可視化"
      ]
    },
    {
      "cell_type": "code",
      "metadata": {
        "id": "Z9wL9OY3METm",
        "colab_type": "code",
        "colab": {}
      },
      "source": [
        "import numpy as np\n",
        "from matplotlib.colors import ListedColormap\n",
        "import matplotlib.pyplot as plt\n",
        "import matplotlib.patches as mpatches\n",
        "\n",
        "def decision_region(X_train, y_train, model, target_names, resolution=0.01, threshold=0.5, alpha=0.5):\n",
        "    \"\"\"\n",
        "    ２値分類を２次元の特徴量で学習したモデルの決定領域を描く\n",
        "    背景の色が学習したモデルによる推定値から描画される\n",
        "    散布図の点は学習用のデータである。\n",
        "    \n",
        "    Parameters\n",
        "    ---------------\n",
        "    X_train: ndarray, shape(n_samples, 2)\n",
        "        学習用データの特徴量\n",
        "    y_train: ndarray, shape(n_samples,)\n",
        "        学習用データの正解値\n",
        "    model: object\n",
        "        学習したモデルのインスタンスを入れる\n",
        "    step: float, (default: 0.1)\n",
        "        推定値を計算する間隔を設定する\n",
        "    title: str\n",
        "        グラフのタイトルの文章を与える\n",
        "    xlabel, ylabel: str\n",
        "        軸ラベルの文章を与える\n",
        "    target_names=: list of str\n",
        "        凡例の一覧を与える\n",
        "    ---------------\n",
        "    \"\"\"\n",
        "    # setting\n",
        "    markers = ('>', '<')\n",
        "    scatter_colors = ['red', 'blue']\n",
        "    cmap = ListedColormap(('pink', 'skyblue'))\n",
        "    n_class = 2\n",
        "\n",
        "    # 2変数の入力データの最小値から最大値まで引数resolutionの幅でメッシュを描く\n",
        "    X1_mesh, X2_mesh = np.meshgrid(np.arange(np.min(X_train[:, 0]) - threshold, np.max(X_train[:, 0]) + threshold, resolution), np.arange(np.min(X_train[:, 1]) - threshold, np.max(X_train[:, 1]) + threshold, resolution))\n",
        "\n",
        "    # 予想結果を元のグリッドポイントのデータサイズに変換\n",
        "    mesh = np.c_[np.ravel(X1_mesh), np.ravel(X2_mesh)]\n",
        "    z = model.predict(mesh).reshape(X1_mesh.shape)\n",
        "    \n",
        "    # メッシュデータと分離クラスを使って決定境界を描いている\n",
        "    plt.contourf(X1_mesh, X2_mesh, z, n_class-1, cmap=cmap)\n",
        "    plt.xlim(X1_mesh.min(), X1_mesh.max())\n",
        "    plt.ylim(X2_mesh.min(), X2_mesh.max())\n",
        "    \n",
        "    for i, target in enumerate(set(np.unique(y_train))):\n",
        "        plt.scatter(X_train[y_train==target][:, 0], X_train[y_train==target][:, 1], s=80, color=scatter_colors[i], label=target_names[i], marker=markers[i])\n",
        "        patches = [mpatches.Patch(color=scatter_colors[i], label=target_names[i]) for i in range(n_class)]\n",
        "        plt.legend(handles=patches)\n",
        "        plt.legend()\n",
        "        plt.show\n",
        "        \n",
        "    # サポートベクトルを描画\n",
        "    for n in ssvc.support_vectors_:\n",
        "        plt.scatter(n[0], n[1], s=200, c='limegreen', marker='*')\n",
        "        plt.show"
      ],
      "execution_count": 0,
      "outputs": []
    },
    {
      "cell_type": "code",
      "metadata": {
        "id": "y14ffSu2METo",
        "colab_type": "code",
        "colab": {},
        "outputId": "8bc667c4-e786-479b-f5f4-007b4d3b2289"
      },
      "source": [
        "decision_region(X_train, y_train, ssvc, target_names=['hoge', 'fuga'])\n",
        "# 星がサポートベクター\n",
        "print(ssvc.support_vectors_)"
      ],
      "execution_count": 0,
      "outputs": [
        {
          "output_type": "stream",
          "text": [
            "[[ 0.31369184  1.90748822]\n",
            " [-0.50179779  0.74466058]\n",
            " [ 0.9829958  -0.6091934 ]\n",
            " [-0.97854994  0.34188908]\n",
            " [-1.02829008  0.23898594]\n",
            " [ 0.67098941 -0.58384118]]\n"
          ],
          "name": "stdout"
        },
        {
          "output_type": "display_data",
          "data": {
            "image/png": "[encoded data removed]",
            "text/plain": [
              "<Figure size 432x288 with 1 Axes>"
            ]
          },
          "metadata": {
            "tags": [],
            "needs_background": "light"
          }
        }
      ]
    },
    {
      "cell_type": "markdown",
      "metadata": {
        "id": "PKYn_zPDMETq",
        "colab_type": "text"
      },
      "source": [
        "# 【問題5】時間の計測\n",
        "* 時間かかってるやつはどれか(predictはやらない)"
      ]
    },
    {
      "cell_type": "code",
      "metadata": {
        "id": "Q_Sjb7wiMETr",
        "colab_type": "code",
        "colab": {}
      },
      "source": [
        "    def _gradient_descent(y, k, X_rows_cnt):\n",
        "        \"\"\"\n",
        "        最急降下法により、パラメータを更新する\n",
        "\n",
        "        Parameters\n",
        "        ----------\n",
        "        y: 次の形のndarray, shape (n_samples, 1)\n",
        "          検証データ\n",
        "        k : 次の形のndarray, shape (n_samples, n_samples)\n",
        "        　　Xのカーネル\n",
        "        X_rows_cnt　: int\n",
        "          Xの行数\n",
        "        \"\"\"\n",
        "        \n",
        "        lmd = np.ones(X_rows_cnt)[:, np.newaxis]\n",
        "        \n",
        "        for i in range(X_rows_cnt):\n",
        "            # 初期化\n",
        "            g = 0\n",
        "            for j in range(X_rows_cnt):\n",
        "                # j方向に更新式の一部を計算し、積み上げてく\n",
        "                g += lmd[j] * y[i] * y[j] * k[i, j]\n",
        "            \n",
        "            # 最急降下法により、lambdaを更新\n",
        "            lmd[i] += 0.1 * (1- g)\n",
        "            \n",
        "            # rambdaが0以下の場合は0\n",
        "            if lmd[i] < 0:\n",
        "                lmd[i] = 0"
      ],
      "execution_count": 0,
      "outputs": []
    },
    {
      "cell_type": "code",
      "metadata": {
        "id": "w56-lkcVMETv",
        "colab_type": "code",
        "colab": {}
      },
      "source": [
        "    def _calc_boundary(y):    \n",
        "        \"\"\"\n",
        "        分類境界線を算出する\n",
        "\n",
        "        Parameters\n",
        "        ----------\n",
        "        y: 次の形のndarray, shape (n_samples, 1)\n",
        "          検証データ\n",
        "        \"\"\"\n",
        "        \n",
        "        # サポートベクターのインデックスと一致する行を抜き出す\n",
        "        y = y[ssvc.support_vector_index, np.newaxis]\n",
        "        lmd = ssvc.lmd_[ssvc.support_vector_index]\n",
        "        \n",
        "        # thetaの計算式\n",
        "        coef_ = lmd * y * ssvc.support_vectors_\n",
        "        \n",
        "        # theta.T + X\n",
        "        theta_T_X = np.sum(np.dot(ssvc.support_vectors_, coef_.T), axis=1)\n",
        "        \n",
        "        # theta0の計算しき\n",
        "        intercept = np.sum(y.ravel() - theta_T_X) / len(ssvc.support_vector_index)\n",
        "            \n",
        "        coef_ = np.sum(ssvc.coef_, axis=0)"
      ],
      "execution_count": 0,
      "outputs": []
    },
    {
      "cell_type": "code",
      "metadata": {
        "id": "ZhO2NZE5METz",
        "colab_type": "code",
        "colab": {},
        "outputId": "4e4c0dc7-889d-42f1-d44d-e7a32a0672e3"
      },
      "source": [
        "import time\n",
        "\n",
        "# カーネル関数\n",
        "def _calc_kernel(X):\n",
        "    return np.dot(X, X.T)\n",
        "\n",
        "\n",
        "k = _calc_kernel(X_train)\n",
        "\n",
        "x_rows = len(X_train)\n",
        "\n",
        "sv_index = ssvc.support_vector_index\n",
        "\n",
        "t0 = time.time()\n",
        "_gradient_descent(y_train, k, x_rows)\n",
        "t1 = time.time()\n",
        "print('time : {}s'.format(t1-t0))\n",
        "t0 = time.time()\n",
        "_calc_boundary(y_train)\n",
        "t1 = time.time()\n",
        "print('time : {}s'.format(t1-t0))"
      ],
      "execution_count": 0,
      "outputs": [
        {
          "output_type": "stream",
          "text": [
            "time : 1.0276610851287842s\n",
            "time : 0.0006940364837646484s\n"
          ],
          "name": "stdout"
        }
      ]
    },
    {
      "cell_type": "markdown",
      "metadata": {
        "id": "g9D4YqNdMET2",
        "colab_type": "text"
      },
      "source": [
        "明らかに更新式なので改善  \n",
        "for文2回ループがイケてなさそう  \n",
        "→ ブロードキャスト化できないか"
      ]
    },
    {
      "cell_type": "code",
      "metadata": {
        "id": "_onVwRR_MET3",
        "colab_type": "code",
        "colab": {}
      },
      "source": [
        "def _gradient_descent(y, k, X_rows_cnt):\n",
        "    \"\"\"\n",
        "    最急降下法により、パラメータを更新する\n",
        "\n",
        "    Parameters\n",
        "    ----------\n",
        "    y: 次の形のndarray, shape (n_samples, 1)\n",
        "      検証データ\n",
        "    k : 次の形のndarray, shape (n_samples, n_samples)\n",
        "      Xのカーネル\n",
        "    X_rows_cnt　: int\n",
        "      Xの行数\n",
        "    \"\"\"\n",
        "\n",
        "    lmd = np.ones(X_rows_cnt)[:, np.newaxis]\n",
        "    \n",
        "    term = np.sum((y * k * lmd), axis=1)[:, np.newaxis]\n",
        "\n",
        "    # 最急降下法により、lambdaを更新\n",
        "    gradient =  (y * term)\n",
        "    \n",
        "    lmd += 0.1 * (1 -gradient)\n",
        "    lmd = np.where(lmd < 0, 0, lmd)\n"
      ],
      "execution_count": 0,
      "outputs": []
    },
    {
      "cell_type": "code",
      "metadata": {
        "id": "3-wMlHvAMET6",
        "colab_type": "code",
        "colab": {},
        "outputId": "254683d8-4224-4ff8-c439-6c9fa522ffc4"
      },
      "source": [
        "k = _calc_kernel(X_train)\n",
        "\n",
        "t0 = time.time()\n",
        "_gradient_descent(y_train[:, np.newaxis], k, x_rows)\n",
        "t1 = time.time()\n",
        "print('time : {}s'.format(t1-t0))"
      ],
      "execution_count": 0,
      "outputs": [
        {
          "output_type": "stream",
          "text": [
            "time : 0.0029909610748291016s\n"
          ],
          "name": "stdout"
        }
      ]
    },
    {
      "cell_type": "markdown",
      "metadata": {
        "id": "m90DEH5CMET8",
        "colab_type": "text"
      },
      "source": [
        "早くなった。採用"
      ]
    },
    {
      "cell_type": "markdown",
      "metadata": {
        "id": "eB_SXT63MET9",
        "colab_type": "text"
      },
      "source": [
        "# 【問題6】ロジスティック回帰とSVM\n",
        "### ロジスティック回帰とSVMは本質的に何が異なっているか\n",
        "- 境界線の求め方が異なる  \n",
        "    ロジスティック回帰： ロジスティック曲線を求める(シグモイドなど)  \n",
        "    SVM : 境界線を求め、一番近いサンプルデータまでのマージンの和を最大にし、境界線とする"
      ]
    },
    {
      "cell_type": "code",
      "metadata": {
        "id": "m4X3ccT7MEUE",
        "colab_type": "code",
        "colab": {}
      },
      "source": [
        ""
      ],
      "execution_count": 0,
      "outputs": []
    }
  ]
}