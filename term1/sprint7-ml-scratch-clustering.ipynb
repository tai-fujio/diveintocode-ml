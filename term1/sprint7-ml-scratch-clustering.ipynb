{
 "cells": [
  {
   "cell_type": "code",
   "execution_count": 1,
   "metadata": {},
   "outputs": [],
   "source": [
    "import numpy as np\n",
    "from matplotlib.colors import ListedColormap\n",
    "import matplotlib.pyplot as plt\n",
    "import matplotlib.patches as mpatches\n",
    "from sklearn.datasets import make_blobs"
   ]
  },
  {
   "cell_type": "markdown",
   "metadata": {},
   "source": [
    "# 【問題1】K-meansクラスの作成"
   ]
  },
  {
   "cell_type": "code",
   "execution_count": 219,
   "metadata": {},
   "outputs": [],
   "source": [
    "import numpy as np\n",
    "\n",
    "class ScratchKMeans():\n",
    "    \"\"\"\n",
    "    K-meansのスクラッチ実装\n",
    "\n",
    "    Parameters\n",
    "    ----------\n",
    "    num_iter : int\n",
    "        イテレーション数\n",
    "    n_clusters\n",
    "        クラスタ数\n",
    "    n_init\n",
    "        k-meansを行う回数\n",
    "    cluster_centers_\n",
    "        クラスタの中心の値を格納した配列\n",
    "        \n",
    "    Attributes\n",
    "    ----------\n",
    "    self.loss : 次の形のndarray, shape (self.iter,)\n",
    "      学習用データに対する損失の記録\n",
    "    \"\"\"\n",
    "\n",
    "    \n",
    "    def __init__(self, num_iter=200, n_clusters=8, n_init=10, tolerance=1e-5):\n",
    "        # ハイパーパラメータを属性として記録\n",
    "        self.iter = num_iter\n",
    "        # クラスタ数\n",
    "        self.n_clusters = n_clusters\n",
    "        # k-meansを行う回数\n",
    "        self.n_init = n_init\n",
    "        # 誤差の許容値\n",
    "        self.tolerance = tolerance\n",
    "        # Xのデータ格納用\n",
    "        self.X_n_features = None\n",
    "        self.X_n_samples = None\n",
    "        # クラスタの中心値格納用\n",
    "        self.cluster_centers_ = None\n",
    "        # 各Xのラベル格納用\n",
    "        self.labels_ = None\n",
    "        # sse格納用\n",
    "        self.inertia_ = None\n",
    "        \n",
    "\n",
    "    def fit(self, X):\n",
    "        \"\"\"\n",
    "        kmeansを学習する。\n",
    "        \n",
    "          Parameters\n",
    "        ----------\n",
    "        X : 次の形のndarray, shape (n_samples, n_features)\n",
    "            学習用データの特徴量\n",
    "        \"\"\"\n",
    "        \n",
    "        # 次元数を必要に応じて追加\n",
    "        if X.ndim < 2:\n",
    "            X = X[:, np.newaxis]\n",
    "        \n",
    "        # Xの情報をインスタンス変数へ\n",
    "        self.X_n_samples = X.shape[0]\n",
    "        self.X_n_features = X.shape[1]\n",
    "        \n",
    "        for i in range(self.n_init):\n",
    "            # 設定されたクラスタ数に応じて、座標の初期化\n",
    "            cluster_centers = X[np.random.choice(self.X_n_samples, self.n_clusters, replace=False), :]\n",
    "            # 前ラベル格納用\n",
    "            ex_labels = np.zeros(self.X_n_samples )[:, np.newaxis]\n",
    "            \n",
    "            for j in range(self.iter):\n",
    "                # クラスタを作成するためにラベリング\n",
    "                labels = self.label_by_euclidean_distance(X, cluster_centers)[:, np.newaxis]\n",
    "                \n",
    "                # ラベルに応じてクラスタを作成し、重心を求める\n",
    "                gravities = self.calc_gravities(X, labels)\n",
    "                \n",
    "                # 中心点と重心の差が指定した許容値以下になるorラベルが変化しなくなるまで中心点を更新\n",
    "                if  np.abs(np.sum(gravities - cluster_centers)) > self.tolerance or np.allclose(labels, ex_labels):\n",
    "                    cluster_centers = gravities\n",
    "                    ex_labels = labels\n",
    "                else:\n",
    "                    break\n",
    "                \n",
    "            # 目的関数コール\n",
    "            sse = SSE(X, cluster_centers, labels)\n",
    "            \n",
    "            # ループ初回orSSEが低かったら、クラスタの中心を更新\n",
    "            if i == 0 or self.inertia_ > sse:\n",
    "                self.cluster_centers_ = cluster_centers\n",
    "                self.inertia_ = sse\n",
    "            \n",
    "            \n",
    "    def label_by_euclidean_distance(self, X, cluster_centers):\n",
    "        \"\"\"\n",
    "        ユークリッド距離の計算結果に基づいて、ラベリングする\n",
    "            \n",
    "        Returns\n",
    "        -------\n",
    "         labels: 次の形のndarray, shape (n_samples, 1)\n",
    "            n_samples数分ラベリングした配列\n",
    "        \"\"\"\n",
    "\n",
    "        #  距離データ格納用\n",
    "        e_distances = np.empty((0, self.X_n_samples), int)\n",
    "        \n",
    "        for i in range(self.n_clusters):\n",
    "            # 距離を計算し配列に格納\n",
    "            e_distance = np.linalg.norm(X - cluster_centers[i], axis=1)\n",
    "            e_distances = np.append(e_distances, np.array([e_distance]), axis=0)\n",
    "        \n",
    "        # 配列のうち最小値となる特徴量のラベルを取得\n",
    "        labels = np.argmin(e_distances, axis=0)\n",
    "\n",
    "        return labels\n",
    "\n",
    "\n",
    "    def calc_gravities(self, X, label):\n",
    "        \"\"\"\n",
    "       ラベルを元にクラスタの重心を求める\n",
    "\n",
    "        Parameters\n",
    "        ----------\n",
    "        label : 次の形のndarray, shape (1, n_samples)\n",
    "            クラスタのラベル\n",
    "            \n",
    "        Returns\n",
    "        -------\n",
    "        gravities: 次の形のndarray, shape (n_clusters, n_features)\n",
    "            更新後のクラスタの重心\n",
    "        \"\"\"\n",
    "        \n",
    "        gravities = np.zeros((self.n_clusters, self.X_n_features))\n",
    "                               \n",
    "        for i in range(self.n_clusters):\n",
    "            cluster_index = np.where(label == i)[0]\n",
    "            cluster = X[cluster_index, :]\n",
    "            \n",
    "            gravities[i] = np.sum(cluster, axis=0) / len(cluster)\n",
    "            \n",
    "        return gravities\n",
    "        \n",
    "        \n",
    "    def predict(self, X):\n",
    "        \"\"\"\n",
    "        SVM分類器を使い推定する。\n",
    "\n",
    "        Parameters\n",
    "        ----------\n",
    "        X : 次の形のndarray, shape (n_samples, n_features)\n",
    "            サンプル\n",
    "\n",
    "        Returns\n",
    "        -------\n",
    "            次の形のndarray, shape (n_samples, 1)\n",
    "            線形回帰による推定結果\n",
    "        \"\"\"\n",
    "        \n",
    "        y_pred = self.label_by_euclidean_distance(X, self.cluster_centers_)\n",
    "        \n",
    "        return y_pred"
   ]
  },
  {
   "cell_type": "code",
   "execution_count": 220,
   "metadata": {},
   "outputs": [],
   "source": [
    "import numpy as np\n",
    "\n",
    "def SSE(X, cluster_centers, labels):\n",
    "    sse = 0\n",
    "    for label in np.unique(labels):\n",
    "        cluster_index = np.where(labels == label)[0]\n",
    "        sse += np.linalg.norm(X[cluster_index, :] - cluster_centers[label]) ** 2\n",
    "        \n",
    "    return sse\n",
    "    "
   ]
  },
  {
   "cell_type": "code",
   "execution_count": 221,
   "metadata": {
    "scrolled": false
   },
   "outputs": [],
   "source": [
    "X, _ = make_blobs(n_samples=100, n_features=2, centers=4, cluster_std=0.5, shuffle=True, random_state=0)\n",
    "\n",
    "n_clusters = 4\n",
    "\n",
    "skm = ScratchKMeans(n_clusters=n_clusters)\n",
    "skm.fit(X)\n",
    "\n",
    "y_pred = skm.predict(X)"
   ]
  },
  {
   "cell_type": "code",
   "execution_count": 222,
   "metadata": {},
   "outputs": [
    {
     "data": {
      "text/plain": [
       "<matplotlib.collections.PathCollection at 0x1a1b6fc7f0>"
      ]
     },
     "execution_count": 222,
     "metadata": {},
     "output_type": "execute_result"
    },
    {
     "data": {
      "image/png": "[encoded data removed]",
      "text/plain": [
       "<Figure size 432x288 with 1 Axes>"
      ]
     },
     "metadata": {
      "needs_background": "light"
     },
     "output_type": "display_data"
    }
   ],
   "source": [
    "# 各要素をラベルごとに色付けして表示する\n",
    "for i in range(n_clusters):\n",
    "    labels = X[y_pred == i]\n",
    "    plt.scatter(labels[:, 0], labels[:, 1])\n",
    "    \n",
    "centers = skm.cluster_centers_\n",
    "plt.scatter(centers[:, 0], centers[:, 1], s=100,\n",
    "            facecolors='none', edgecolors='black')"
   ]
  },
  {
   "cell_type": "markdown",
   "metadata": {},
   "source": [
    "# 【問題2】エルボー法の実装"
   ]
  },
  {
   "cell_type": "code",
   "execution_count": 223,
   "metadata": {},
   "outputs": [
    {
     "data": {
      "image/png": "[encoded data removed]",
      "text/plain": [
       "<Figure size 432x288 with 1 Axes>"
      ]
     },
     "metadata": {
      "needs_background": "light"
     },
     "output_type": "display_data"
    }
   ],
   "source": [
    "distortions = []\n",
    "\n",
    "for i  in range(1,11):                # 1~10クラスタまで一気に計算 \n",
    "    skm = ScratchKMeans(n_clusters=i)\n",
    "    skm.fit(X)\n",
    "    distortions.append(skm.inertia_)   # skm.fitするとskm.inertia_が得られる\n",
    "\n",
    "plt.plot(range(1,11), distortions, marker='o')\n",
    "plt.xlabel('Number of clusters')\n",
    "plt.ylabel('Distortion')\n",
    "plt.show()"
   ]
  },
  {
   "cell_type": "markdown",
   "metadata": {},
   "source": [
    "# 【問題3】（アドバンス課題）シルエット図"
   ]
  },
  {
   "cell_type": "code",
   "execution_count": null,
   "metadata": {},
   "outputs": [],
   "source": [
    "from matplotlib import cm\n",
    "\n",
    "y_ax_lower, y_ax_upper = 0, 0\n",
    "yticks = []\n",
    "for i, c in enumerate(cluster_labels):\n",
    "    c_silhouette_vals = silhouette_vals[y_km == c]\n",
    "    c_silhouette_vals.sort()\n",
    "    y_ax_upper += len(c_silhouette_vals)\n",
    "    color = cm.jet(i / n_clusters)\n",
    "    plt.barh(range(y_ax_lower, y_ax_upper), c_silhouette_vals, height=1.0, edgecolor='none', color=color)\n",
    "    yticks.append((y_ax_lower + y_ax_upper) / 2)\n",
    "    y_ax_lower += len(c_silhouette_vals)\n",
    "\n",
    "plt.axvline(silhouette_avg, color=\"red\", linestyle=\"--\")\n",
    "plt.yticks(yticks, cluster_labels + 1)\n",
    "plt.ylabel('Cluster')\n",
    "plt.xlabel('Silhouette coefficient')\n",
    "plt.show()"
   ]
  }
 ],
 "metadata": {
  "kernelspec": {
   "display_name": "Python 3",
   "language": "python",
   "name": "python3"
  },
  "language_info": {
   "codemirror_mode": {
    "name": "ipython",
    "version": 3
   },
   "file_extension": ".py",
   "mimetype": "text/x-python",
   "name": "python",
   "nbconvert_exporter": "python",
   "pygments_lexer": "ipython3",
   "version": "3.7.1"
  }
 },
 "nbformat": 4,
 "nbformat_minor": 2
}
