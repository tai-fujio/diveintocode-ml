{
 "cells": [
  {
   "cell_type": "code",
   "execution_count": 1,
   "metadata": {},
   "outputs": [],
   "source": [
    "# インポート\n",
    "from datetime import datetime\n",
    "import numpy as np\n",
    "import pandas as pd\n",
    "from sklearn.decomposition import PCA\n",
    "from sklearn.model_selection import cross_val_score\n",
    "from sklearn.model_selection import train_test_split\n",
    "from sklearn.model_selection import KFold\n",
    "from sklearn.metrics import mean_squared_error\n",
    "from sklearn.linear_model import LinearRegression\n",
    "from sklearn.linear_model import Ridge\n",
    "from sklearn.svm import SVR\n",
    "from sklearn.tree import DecisionTreeRegressor\n",
    "from sklearn.preprocessing import StandardScaler\n",
    "\n",
    "# データセットの用意\n",
    "data_train = pd.read_csv('./input/train.csv')\n",
    "data_train = data_train[['GrLivArea', 'YearBuilt', 'SalePrice']].astype('float')\n",
    "#data_test = pd.read_csv('./input/test.csv')\n",
    "#X_test_submission = data_test[['GrLivArea', 'YearBuilt']].values\n",
    "\n",
    "# 標準化\n",
    "scaler = StandardScaler()\n",
    "scaler.fit(data_train)\n",
    "data_train = scaler.transform(data_train)\n",
    "\n",
    "# 説明・目的変数\n",
    "X = data_train[:, :2]\n",
    "y = data_train[:, 2:].ravel()\n",
    "\n",
    "# train.csvを学習用（train）8割、検証用（val）2割に分割する\n",
    "X_train, X_test, y_train, y_test = train_test_split(X, y,train_size=0.8, test_size=0.2)"
   ]
  },
  {
   "cell_type": "markdown",
   "metadata": {},
   "source": [
    "# 【問題1】ブレンディング\n",
    "ブレンディングとは? 以下分類だがわかりやすかった。  \n",
    "<br>\n",
    "1111100000  正解文字列（Ground truth）\n",
    "\n",
    "1110100000  強学習器 (90%)  ← 良いモデルの予測結果は90%だった  \n",
    "ーーーーーーーーーーーーーーーーーーーーーーーーーーーーーーーーーーーーーー\n",
    "<br>\n",
    "1111100000  正解文字列（Ground truth）\n",
    "\n",
    "1011110100  弱学習器 (70%) ：1をよく予測できる\n",
    "\n",
    "1101000010  弱学習器　(70%) ：0をよく予測できる\n",
    "\n",
    "0110101001  弱学習器  (60%) ：何もうまく予測できない\n",
    "\n",
    "1111100000  弱学習器の投票平均 (100%)  ← 複数のビミョーなモデルたちの平均を取ってみると100%になった\n",
    "  \n",
    "これが一番単純なブレンディング  \n",
    "とりあえずはこれを試してみる"
   ]
  },
  {
   "cell_type": "code",
   "execution_count": 2,
   "metadata": {},
   "outputs": [
    {
     "name": "stdout",
     "output_type": "stream",
     "text": [
      "LinearRegressionのmse : 0.317178319922263\n",
      "SVRのmse : 0.33078207666781\n",
      "DecisionTreeRegressorのmse : 0.5441879749035574\n"
     ]
    }
   ],
   "source": [
    "# 各モデルインスタンス格納用\n",
    "clf_dict = {}\n",
    "\n",
    "# 線形回帰\n",
    "clf_dict['LinearRegression'] = LinearRegression()\n",
    "\n",
    "# SVM\n",
    "clf_dict['SVR']  = SVR(gamma='auto')\n",
    "\n",
    "# 決定木\n",
    "clf_dict['DecisionTreeRegressor']  = DecisionTreeRegressor()\n",
    "\n",
    "for clf_key in clf_dict:\n",
    "    # 学習\n",
    "    clf_dict[clf_key].fit(X_train, y_train) \n",
    "    \n",
    "    # 予測実施\n",
    "    y_pred = clf_dict[clf_key].predict(X_test)\n",
    "\n",
    "    # mse\n",
    "    print('{}のmse : {}'.format(clf_key, mean_squared_error(y_test, y_pred)))"
   ]
  },
  {
   "cell_type": "code",
   "execution_count": 3,
   "metadata": {},
   "outputs": [
    {
     "name": "stdout",
     "output_type": "stream",
     "text": [
      "blendingごのmse : 0.36463370642137466\n"
     ]
    }
   ],
   "source": [
    "# 初期化\n",
    "y_pred = np.zeros((len(X_test)))\n",
    "w = 0.2\n",
    "\n",
    "# blending\n",
    "for clf_key in clf_dict:\n",
    "    # 学習\n",
    "    clf_dict[clf_key].fit(X_train, y_train) \n",
    "\n",
    "    # 予測実施\n",
    "    y_pred_tmp = clf_dict[clf_key].predict(X_test)\n",
    "\n",
    "    y_pred += y_pred_tmp * w\n",
    "    \n",
    "    w += 0.15\n",
    "\n",
    "# mse\n",
    "print('blendingごのmse : {}'.format(mean_squared_error(y_test, y_pred)))"
   ]
  },
  {
   "cell_type": "markdown",
   "metadata": {},
   "source": [
    "ちょうど中間くらい"
   ]
  },
  {
   "cell_type": "markdown",
   "metadata": {},
   "source": [
    "# 【問題2】バギング\n",
    "bootstrap aggregatingの略。\n",
    "各学習器に使う学習用データをブートストラップサンプリングによって得て、  \n",
    "その学習した学習器を予測に用いて最後アンサンブルするという方法。らしい  \n",
    "ランダムフォレストとも言われる？ \n",
    "とりあえずやってみる"
   ]
  },
  {
   "cell_type": "code",
   "execution_count": 4,
   "metadata": {},
   "outputs": [
    {
     "name": "stdout",
     "output_type": "stream",
     "text": [
      "1回目のmse : 0.07750116494920367\n",
      "2回目のmse : 0.07664014531503863\n",
      "3回目のmse : 0.051393467598816765\n",
      "4回目のmse : 0.09118663944392327\n",
      "5回目のmse : 0.2521036434243572\n",
      "bagginごのmse : 0.036127714364734324\n"
     ]
    }
   ],
   "source": [
    "# 決定木\n",
    "dtc = DecisionTreeRegressor()\n",
    "\n",
    "# 初期化\n",
    "y_pred = np.zeros((len(X_test)))\n",
    "count = 0\n",
    "\n",
    "for i in range(5):\n",
    "    # ブートストラップサンプリング\n",
    "    X_train, _, y_train, _ = train_test_split(X, y,train_size=0.8, test_size=0.2, shuffle=True)\n",
    "    \n",
    "    # 学習\n",
    "    dtc.fit(X_train, y_train) \n",
    "    \n",
    "    # 予測実施\n",
    "    y_pred += dtc.predict(X_test)\n",
    "\n",
    "    print('{}回目のmse : {}'.format(i+1, mean_squared_error(y_test, dtc.predict(X_test))))\n",
    "    \n",
    "    count += 1\n",
    "    \n",
    "y_pred = y_pred / count\n",
    "\n",
    "# mse\n",
    "print('bagginごのmse : {}'.format(mean_squared_error(y_test, y_pred)))"
   ]
  },
  {
   "cell_type": "markdown",
   "metadata": {},
   "source": [
    "これはおkそう　他のブレンディングとスタッキングを重点的にやる"
   ]
  },
  {
   "cell_type": "markdown",
   "metadata": {},
   "source": [
    "# 【問題3】スタッキング\n",
    "名前の通り訓練データを積み上げていく\n",
    "<br>\n",
    "複数学習機で推定→推定結果を特徴量として学習し推定→...を繰り返していくらしい\n",
    "<br>\n",
    "まずは二つのステージでやってみる K=4, M=3"
   ]
  },
  {
   "cell_type": "code",
   "execution_count": 29,
   "metadata": {},
   "outputs": [
    {
     "name": "stdout",
     "output_type": "stream",
     "text": [
      "365\n",
      "stackingごのmse : 0.0\n",
      "stackingごのmse : 0.7998896139423172\n"
     ]
    }
   ],
   "source": [
    "# ステージ0\n",
    "# 各モデルインスタンス格納用\n",
    "clf_dict = {}\n",
    "\n",
    "# 線形回帰\n",
    "clf_dict['LinearRegression'] = LinearRegression()\n",
    "\n",
    "# SVM\n",
    "clf_dict['SVR']  = SVR(gamma='auto')\n",
    "\n",
    "# 決定木\n",
    "clf_dict['DecisionTreeRegressor']  = DecisionTreeRegressor()\n",
    "\n",
    "# なん分割するか\n",
    "K = 4\n",
    "test_len = int(len(X)* 1 / K)\n",
    "print(test_len)\n",
    "kf = KFold(n_splits=K)\n",
    "\n",
    "\n",
    "# 予測結果格納用(1/K = 検証データ)\n",
    "new_feats = np.empty((0, test_len), int)\n",
    "\n",
    "for clf_key in clf_dict:\n",
    "    # 予測を初期化\n",
    "    y_pred = np.zeros((test_len))\n",
    "    for train_index, test_index in kf.split(X, y):\n",
    "        # 学習\n",
    "        clf_dict[clf_key].fit(X[train_index], y[train_index])\n",
    "\n",
    "        # 予測結果を特徴量として格納\n",
    "        y_pred += clf_dict[clf_key].predict(X[test_index])\n",
    "    \n",
    "    new_feats = np.append(new_feats, np.array([y_pred / K]), axis=0)\n",
    "\n",
    "\n",
    "# ステージ1\n",
    "pca = PCA(n_components = 2)\n",
    "pca = pca.fit(new_feats.T)\n",
    "new_feats = pca.transform(new_feats.T)\n",
    "\n",
    "svr = DecisionTreeRegressor()\n",
    "svr.fit(new_feats, y[test_index])\n",
    "\n",
    "y_pred = svr.predict(new_feats)\n",
    "\n",
    "# mse\n",
    "print('stackingごのmse : {}'.format(mean_squared_error(y[test_index], y_pred)))\n",
    "\n",
    "lr = LinearRegression()\n",
    "lr.fit(new_feats, y[test_index])\n",
    "\n",
    "y_pred = lr.predict(new_feats)\n",
    "\n",
    "# mse\n",
    "print('stackingごのmse : {}'.format(mean_squared_error(y[test_index], y_pred)))"
   ]
  },
  {
   "cell_type": "markdown",
   "metadata": {},
   "source": [
    "多分そもそもやり方が違いそう（＾－＾）\n",
    "# 【問題4】（アドバンス課題）Microsoft Malware Prediction"
   ]
  },
  {
   "cell_type": "code",
   "execution_count": null,
   "metadata": {},
   "outputs": [],
   "source": []
  },
  {
   "cell_type": "code",
   "execution_count": null,
   "metadata": {},
   "outputs": [],
   "source": []
  }
 ],
 "metadata": {
  "kernelspec": {
   "display_name": "Python 3",
   "language": "python",
   "name": "python3"
  },
  "language_info": {
   "codemirror_mode": {
    "name": "ipython",
    "version": 3
   },
   "file_extension": ".py",
   "mimetype": "text/x-python",
   "name": "python",
   "nbconvert_exporter": "python",
   "pygments_lexer": "ipython3",
   "version": "3.7.1"
  }
 },
 "nbformat": 4,
 "nbformat_minor": 2
}
