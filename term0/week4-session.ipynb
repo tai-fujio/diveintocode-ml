{
 "cells": [
  {
   "cell_type": "markdown",
   "metadata": {},
   "source": [
    "# Week4授業課題 信用情報を学習しよう\n",
    "\n"
   ]
  },
  {
   "cell_type": "markdown",
   "metadata": {},
   "source": [
    "# 課題の目的\n",
    "\n",
    "- 実データに近いものの学習推定を行う"
   ]
  },
  {
   "cell_type": "markdown",
   "metadata": {},
   "source": [
    "# 信用情報\n",
    "\n",
    "Week3でEDAを行ったKaggleの Home Credit Default Risk コンペティションの学習および推定を行います。データはWeek3でEDAを行ったものを使用してください。\n",
    "\n",
    "[Home Credit Default Risk | Kaggle](https://www.kaggle.com/c/home-credit-default-risk)"
   ]
  },
  {
   "cell_type": "markdown",
   "metadata": {},
   "source": [
    "# 【問題1】パイプラインの作成\n",
    "\n",
    "授業前課題で行ったことを参考に、学習し推定結果を出すまでの一連の流れを行ってください。\n",
    "\n",
    "テストデータに対して推定を行い、それをKaggleに提出してみましょう。この段階では高い精度を出す必要はありません。"
   ]
  },
  {
   "cell_type": "markdown",
   "metadata": {},
   "source": [
    "# 方向性：パイプラインが動くことを確認する\n",
    "\n",
    "1. データの前処理までは手作業で実施\n",
    "\n",
    "   - どの変数を説明変数に用いるか？\n",
    "   - 前処理する\n",
    "   - EDAする（ひとまずint型、欠損値なしのみで実施） → パイプライン化する？\n",
    "   - classifierのフィッティング、予測\n",
    "   - スコアリングをまとめる\n",
    "   \n",
    "   - 学習・推計 ： パイプライン化\n",
    "\n",
    "\n",
    "2. 前処理したデータを用いた推計はパイプラインで実行"
   ]
  },
  {
   "cell_type": "code",
   "execution_count": 1,
   "metadata": {
    "scrolled": true
   },
   "outputs": [],
   "source": [
    "import numpy as np\n",
    "import pandas as pd\n",
    "\n",
    "from sklearn import svm\n",
    "from sklearn.decomposition import PCA\n",
    "\n",
    "from sklearn.neighbors import KNeighborsClassifier\n",
    "from sklearn.linear_model import LogisticRegression\n",
    "from sklearn.svm import SVC\n",
    "from sklearn.tree import DecisionTreeClassifier\n",
    "from sklearn.ensemble import RandomForestClassifier\n",
    "from sklearn.preprocessing import StandardScaler\n",
    "from sklearn import datasets\n",
    "from sklearn.model_selection import GridSearchCV\n",
    "from sklearn.pipeline import Pipeline\n",
    "from sklearn.model_selection import train_test_split\n",
    "\n",
    "\n",
    "from matplotlib import pyplot as plt\n",
    "from matplotlib import cm\n",
    "\n",
    "import seaborn as sns\n",
    "\n",
    "%matplotlib inline"
   ]
  },
  {
   "cell_type": "code",
   "execution_count": 2,
   "metadata": {
    "scrolled": true
   },
   "outputs": [],
   "source": [
    "# データの読み込み\n",
    "df_train = pd.read_csv(\"application_train.csv\")\n",
    "df_test = pd.read_csv(\"application_test.csv\")\n",
    "\n",
    "# df_train.info()"
   ]
  },
  {
   "cell_type": "code",
   "execution_count": 3,
   "metadata": {
    "scrolled": true
   },
   "outputs": [],
   "source": [
    "# 欠損値は消す\n",
    "df_train = df_train.loc[:, ['EXT_SOURCE_1',  'EXT_SOURCE_2',\n",
    "                                            'EXT_SOURCE_3', 'TARGET']].dropna()\n",
    "df_test = df_train.loc[:, ['EXT_SOURCE_1',  'EXT_SOURCE_2',\n",
    "                                            'EXT_SOURCE_3', 'TARGET']].dropna()\n",
    "\n",
    "# EXT_SOURCEシリーズに着目して抽出\n",
    "X_train = df_train.loc[:, ['EXT_SOURCE_1',  'EXT_SOURCE_2', 'EXT_SOURCE_3']].values\n",
    "y_train = df_train.TARGET.values\n",
    "X_test = df_test.loc[:, ['EXT_SOURCE_1',  'EXT_SOURCE_2', 'EXT_SOURCE_3']].values\n",
    "y_test = df_test.TARGET.values"
   ]
  },
  {
   "cell_type": "code",
   "execution_count": 4,
   "metadata": {},
   "outputs": [
    {
     "name": "stdout",
     "output_type": "stream",
     "text": [
      "accuracy : 0.9303579738842402\n",
      "precision : 0.6253424657534247\n",
      "recall : 0.11415353838459615\n",
      "f値 : 0.19306407274265172\n",
      "[[101044    547]\n",
      " [  7085    913]]\n"
     ]
    }
   ],
   "source": [
    "from sklearn import metrics\n",
    "scaler = StandardScaler()\n",
    "\n",
    "# 学習用データの最大値、最小値、平均、標準偏差、傾き...などの統計を取得\n",
    "scaler.fit(X_train)\n",
    "\n",
    "# 統計に基づき各データを書き換え\n",
    "X_train = scaler.transform(X_train)\n",
    "X_test = scaler.transform(X_test)\n",
    "\n",
    "# 最近傍法\n",
    "neigh = KNeighborsClassifier()\n",
    "\n",
    "# 学習用データから学習\n",
    "neigh.fit(X_train, y_train.reshape(-1))\n",
    "\n",
    "y_pred = neigh.predict(X_test)\n",
    "\n",
    "print('accuracy : {}'.format(metrics.accuracy_score(y_test, y_pred)))\n",
    "print('precision : {}'.format(metrics.precision_score(y_test, y_pred)))\n",
    "print('recall : {}'.format(metrics.recall_score(y_test, y_pred)))\n",
    "print('f値 : {}'.format(metrics.f1_score(y_test, y_pred)))\n",
    "print(metrics.confusion_matrix(y_test, y_pred))"
   ]
  },
  {
   "cell_type": "code",
   "execution_count": 5,
   "metadata": {},
   "outputs": [
    {
     "name": "stdout",
     "output_type": "stream",
     "text": [
      "0.5543846015790252\n"
     ]
    },
    {
     "data": {
      "image/png": "[encoded data removed]",
      "text/plain": [
       "<Figure size 432x288 with 1 Axes>"
      ]
     },
     "metadata": {
      "needs_background": "light"
     },
     "output_type": "display_data"
    }
   ],
   "source": [
    "# FPR, TPR(, しきい値) を算出\n",
    "fpr, tpr, thresholds = metrics.roc_curve(y_test, y_pred)\n",
    "\n",
    "# ついでにAUCも\n",
    "auc = metrics.auc(fpr, tpr)\n",
    "\n",
    "print(auc)\n",
    "# ROC曲線をプロット\n",
    "plt.plot(fpr, tpr, label='ROC curve (area = %.2f)'%auc)\n",
    "plt.legend()\n",
    "plt.title('ROC curve')\n",
    "plt.xlabel('False Positive Rate')\n",
    "plt.ylabel('True Positive Rate')\n",
    "plt.grid(True)\n",
    "\n",
    "# sns.pairplot(pd.concat([X_EX, y], axis=1 ), hue=\"TARGET\")"
   ]
  },
  {
   "cell_type": "markdown",
   "metadata": {},
   "source": [
    "# 【問題2】指標値の関数作成\n",
    "\n",
    "このコンペティションでは提出した確率から指標値 AUC が計算され、それで順位が決まります。（Evaluationのページ参照）\n",
    "\n",
    "- Submissions are evaluated on area under the ROC curve between the predicted probability and the observed target.\n",
    "\n",
    "https://oku.edu.mie-u.ac.jp/~okumura/stat/ROC.html\n",
    "\n",
    "http://www.randpy.tokyo/entry/roc_auc"
   ]
  },
  {
   "cell_type": "code",
   "execution_count": 7,
   "metadata": {},
   "outputs": [],
   "source": [
    "from sklearn import metrics\n",
    "\n",
    "def calc_auc(y_test,y_pred):\n",
    "    \"\"\"\n",
    "    検証用・予測した目的変数からAUCを計算する関数\n",
    "    \n",
    "    Parameters\n",
    "    ----------------\n",
    "    y_test : ndarrary 検証用目的変数\n",
    "    y_pred : ndarrary 予測した目的変数 \n",
    "    Return\n",
    "    ----------------\n",
    "    auc : float AUC\n",
    "    tpr : float　真陽性率\n",
    "    fpr : float　偽陽性率\n",
    "    \n",
    "    スコア\n",
    "    \"\"\"\n",
    "    # FPR, TPR(, しきい値) を算出\n",
    "    fpr, tpr, thresholds = metrics.roc_curve(y_test, y_pred)\n",
    "\n",
    "    # auc算出\n",
    "    auc = metrics.auc(fpr, tpr)\n",
    "    \n",
    "    return auc, tpr, fpr"
   ]
  },
  {
   "cell_type": "code",
   "execution_count": 7,
   "metadata": {},
   "outputs": [
    {
     "name": "stdout",
     "output_type": "stream",
     "text": [
      "0.5543846015790252\n",
      "0.11415353838459615\n",
      "0.005384335226545659\n"
     ]
    }
   ],
   "source": [
    "auc, tpr, fpr = calc_auc(y_test, y_pred)\n",
    "print(auc)\n",
    "print(tpr[1])\n",
    "print(fpr[1])"
   ]
  },
  {
   "cell_type": "markdown",
   "metadata": {},
   "source": [
    "# 【問題3】前処理・Feature Engineering・学習\n",
    "* 精度を上げるために前処理・Feature Engineeringを行う  \n",
    "week3で重要度の高かったものから試してみる  \n",
    "提出が必要なので、検証データを使う+欠損の削除はやらない方針で"
   ]
  },
  {
   "cell_type": "code",
   "execution_count": 46,
   "metadata": {},
   "outputs": [],
   "source": [
    "# 訓練データ\n",
    "df_train = pd.read_csv('application_train.csv')\n",
    "\n",
    "# 説明変数(week3のeda結果より抜粋)\n",
    "X = df_train.loc[:, ['EXT_SOURCE_1', 'EXT_SOURCE_2', 'EXT_SOURCE_3',\n",
    "                                 'DAYS_REGISTRATION', 'DAYS_ID_PUBLISH', 'DAYS_BIRTH']]\n",
    "\n",
    "# 欠損を中央値で埋め、warnが出るので、変換 int to float\n",
    "X = X.fillna(X.median()).astype('float')\n",
    "\n",
    "# 目的変数\n",
    "y = df_train.loc[:, 'TARGET']\n",
    "\n",
    "# 分割\n",
    "X_train, X_test, y_train, y_test = train_test_split(X, y)"
   ]
  },
  {
   "cell_type": "code",
   "execution_count": 47,
   "metadata": {},
   "outputs": [
    {
     "name": "stdout",
     "output_type": "stream",
     "text": [
      "0.1\n",
      "auc : 0.5870746536601991\n",
      "0.2\n",
      "auc : 0.5510387771497275\n",
      "0.30000000000000004\n",
      "auc : 0.5510387771497275\n",
      "0.4\n",
      "auc : 0.5178123155676112\n",
      "0.5\n",
      "auc : 0.5178123155676112\n",
      "0.6\n",
      "auc : 0.5031374897522326\n",
      "0.7000000000000001\n",
      "auc : 0.5031374897522326\n",
      "0.8\n",
      "auc : 0.5001191108704222\n",
      "0.9\n",
      "auc : 0.5001191108704222\n"
     ]
    }
   ],
   "source": [
    "from sklearn import metrics\n",
    "scaler = StandardScaler()\n",
    "\n",
    "# 学習用データの最大値、最小値、平均、標準偏差、傾き...などの統計を取得\n",
    "scaler.fit(X_train)\n",
    "\n",
    "# 統計に基づき各データを書き換え\n",
    "X_train = scaler.transform(X_train)\n",
    "X_test = scaler.transform(X_test)\n",
    "\n",
    "# 最近傍法\n",
    "neigh = KNeighborsClassifier()\n",
    "\n",
    "# 学習用データから学習\n",
    "neigh.fit(X_train, y_train)\n",
    "\n",
    "# 予測\n",
    "y_pred = neigh.predict(X_test)\n",
    "\n",
    "# 本筋とそれるけど、閾値も動かしながら出力\n",
    "for i in np.arange(0.1, 1, 0.1):\n",
    "    y_pred = (neigh.predict_proba(X_test)[:, 1] > i).astype(int)\n",
    "    auc, tpr, fpr = calc_auc(y_test, y_pred)\n",
    "    print(i)\n",
    "    print('auc : ' + str(auc))"
   ]
  },
  {
   "cell_type": "markdown",
   "metadata": {},
   "source": [
    "閾値デフォルトの0.5で下がってしまってる気がする、、  \n",
    "ので、問題1の特徴量に戻して再実施"
   ]
  },
  {
   "cell_type": "code",
   "execution_count": 48,
   "metadata": {},
   "outputs": [],
   "source": [
    "X = X.drop(['DAYS_REGISTRATION', 'DAYS_ID_PUBLISH', 'DAYS_BIRTH'], axis=1)\n",
    "y = df_train['TARGET']\n",
    "\n",
    "# 分割\n",
    "X_train, X_test, y_train, y_test = train_test_split(X, y)"
   ]
  },
  {
   "cell_type": "code",
   "execution_count": 49,
   "metadata": {},
   "outputs": [
    {
     "name": "stdout",
     "output_type": "stream",
     "text": [
      "0.1\n",
      "auc : 0.5883791452330427\n",
      "0.2\n",
      "auc : 0.5473952429466856\n",
      "0.30000000000000004\n",
      "auc : 0.5473952429466856\n",
      "0.4\n",
      "auc : 0.5155130767774809\n",
      "0.5\n",
      "auc : 0.5155130767774809\n",
      "0.6\n",
      "auc : 0.502440708641271\n",
      "0.7000000000000001\n",
      "auc : 0.502440708641271\n",
      "0.8\n",
      "auc : 0.5004838557360795\n",
      "0.9\n",
      "auc : 0.5004838557360795\n"
     ]
    }
   ],
   "source": [
    "from sklearn import metrics\n",
    "scaler = StandardScaler()\n",
    "\n",
    "# 学習用データの最大値、最小値、平均、標準偏差、傾き...などの統計を取得\n",
    "scaler.fit(X_train)\n",
    "\n",
    "# 統計に基づき各データを書き換え\n",
    "X_train = scaler.transform(X_train)\n",
    "X_test = scaler.transform(X_test)\n",
    "\n",
    "# 最近傍法\n",
    "neigh = KNeighborsClassifier()\n",
    "\n",
    "# 学習用データから学習\n",
    "neigh.fit(X_train, y_train)\n",
    "\n",
    "# 予測\n",
    "y_pred = neigh.predict(X_test)\n",
    "\n",
    "\n",
    "for i in np.arange(0.1, 1, 0.1):\n",
    "    y_pred = (neigh.predict_proba(X_test)[:, 1] > i).astype(int)\n",
    "    auc, tpr, fpr = calc_auc(y_test, y_pred)\n",
    "    print(i)\n",
    "    print('auc : ' + str(auc))"
   ]
  },
  {
   "cell_type": "markdown",
   "metadata": {},
   "source": [
    "より下がってる。。  \n",
    "一番最初の特徴量に戻して平均代入法で実施"
   ]
  },
  {
   "cell_type": "code",
   "execution_count": 50,
   "metadata": {},
   "outputs": [],
   "source": [
    "# 訓練データ\n",
    "df_train = pd.read_csv('application_train.csv')\n",
    "\n",
    "# 説明変数(week3のeda結果より抜粋)\n",
    "X = df_train.loc[:, ['EXT_SOURCE_1', 'EXT_SOURCE_2', 'EXT_SOURCE_3',\n",
    "                                 'DAYS_REGISTRATION', 'DAYS_ID_PUBLISH', 'DAYS_BIRTH']]\n",
    "\n",
    "# 欠損を平均値で埋め、warnが出るので、変換 int to float\n",
    "X = X.fillna(X.mean()).astype('float')\n",
    "\n",
    "# 目的変数\n",
    "y = df_train.loc[:, 'TARGET']\n",
    "\n",
    "# 分割\n",
    "X_train, X_test, y_train, y_test = train_test_split(X, y)"
   ]
  },
  {
   "cell_type": "code",
   "execution_count": 51,
   "metadata": {},
   "outputs": [
    {
     "name": "stdout",
     "output_type": "stream",
     "text": [
      "0.1\n",
      "auc : 0.5891698140953954\n",
      "0.2\n",
      "auc : 0.5481937117282546\n",
      "0.30000000000000004\n",
      "auc : 0.5481937117282546\n",
      "0.4\n",
      "auc : 0.5155221096543515\n",
      "0.5\n",
      "auc : 0.5155221096543515\n",
      "0.6\n",
      "auc : 0.5037888900300607\n",
      "0.7000000000000001\n",
      "auc : 0.5037888900300607\n",
      "0.8\n",
      "auc : 0.5005199935281393\n",
      "0.9\n",
      "auc : 0.5005199935281393\n"
     ]
    }
   ],
   "source": [
    "from sklearn import metrics\n",
    "scaler = StandardScaler()\n",
    "\n",
    "# 学習用データの最大値、最小値、平均、標準偏差、傾き...などの統計を取得\n",
    "scaler.fit(X_train)\n",
    "\n",
    "# 統計に基づき各データを書き換え\n",
    "X_train = scaler.transform(X_train)\n",
    "X_test = scaler.transform(X_test)\n",
    "\n",
    "# 最近傍法\n",
    "neigh = KNeighborsClassifier()\n",
    "\n",
    "# 学習用データから学習\n",
    "neigh.fit(X_train, y_train)\n",
    "\n",
    "# 予測\n",
    "y_pred = neigh.predict(X_test)\n",
    "\n",
    "\n",
    "for i in np.arange(0.1, 1, 0.1):\n",
    "    y_pred = (neigh.predict_proba(X_test)[:, 1] > i).astype(int)\n",
    "    auc, tpr, fpr = calc_auc(y_test, y_pred)\n",
    "    print(i)\n",
    "    print('auc : ' + str(auc))"
   ]
  },
  {
   "cell_type": "code",
   "execution_count": 52,
   "metadata": {},
   "outputs": [
    {
     "name": "stdout",
     "output_type": "stream",
     "text": [
      "auc : 0.5891698140953954\n"
     ]
    },
    {
     "data": {
      "image/png": "[encoded data removed]",
      "text/plain": [
       "<Figure size 432x288 with 1 Axes>"
      ]
     },
     "metadata": {
      "needs_background": "light"
     },
     "output_type": "display_data"
    }
   ],
   "source": [
    "y_pred = (neigh.predict_proba(X_test)[:, 1] > 0.1).astype(int)\n",
    "auc, tpr, fpr = calc_auc(y_test, y_pred)\n",
    "print('auc : ' + str(auc))\n",
    "\n",
    "# ROC曲線をプロット\n",
    "plt.plot(fpr, tpr, label='ROC curve (area = %.2f)'%auc)\n",
    "plt.legend()\n",
    "plt.title('ROC curve')\n",
    "plt.xlabel('False Positive Rate')\n",
    "plt.ylabel('True Positive Rate')\n",
    "plt.grid(True)"
   ]
  },
  {
   "cell_type": "markdown",
   "metadata": {},
   "source": [
    "かなり微妙な数値だけど一番マシっぽいので、これで提出。。。"
   ]
  },
  {
   "cell_type": "code",
   "execution_count": 55,
   "metadata": {},
   "outputs": [],
   "source": [
    "df_test = pd.read_csv(\"application_test.csv\")\n",
    "\n",
    "# 説明変数(week3のeda結果より抜粋)\n",
    "X_test = df_test.loc[:, ['EXT_SOURCE_1', 'EXT_SOURCE_2', 'EXT_SOURCE_3',\n",
    "                                         'DAYS_REGISTRATION', 'DAYS_ID_PUBLISH', 'DAYS_BIRTH']]\n",
    "\n",
    "# 欠損を平均値で埋め、warnが出るので、変換 int to float\n",
    "X_test = X_test.fillna(X_test.mean())\n",
    "\n",
    "# 予測\n",
    "y_pred = (neigh.predict_proba(X_test)[:, 1] > 0.1).astype(int)\n",
    "\n",
    "# 提出用\n",
    "submission = pd.DataFrame({'SK_ID_CURR': df_test['SK_ID_CURR'], 'TARGET': y_pred})"
   ]
  },
  {
   "cell_type": "code",
   "execution_count": 61,
   "metadata": {},
   "outputs": [],
   "source": [
    "from datetime import datetime\n",
    "\n",
    "# タイムスタンプ作成\n",
    "time_stamp = datetime.now().strftime('%Y%m%d%H%M')\n",
    "submission.to_csv('home_credit_' + time_stamp + '.csv', index=False)"
   ]
  },
  {
   "cell_type": "markdown",
   "metadata": {},
   "source": [
    "submitしたらPrivate・Public Score共に0.5になってしまったので、どこか間違ってそう、、  \n",
    "アプローチを変えてみる まずはモデルから、lgbmというワードが出てたので使ってみる  \n",
    "決定木の勾配ブースティング?のフレームワークらしい  \n",
    "欠損値も自動で保管してくれる"
   ]
  },
  {
   "cell_type": "code",
   "execution_count": 5,
   "metadata": {},
   "outputs": [],
   "source": [
    "import lightgbm as lgb\n",
    "import numpy as np\n",
    "import pandas as pd"
   ]
  },
  {
   "cell_type": "code",
   "execution_count": 15,
   "metadata": {},
   "outputs": [
    {
     "name": "stdout",
     "output_type": "stream",
     "text": [
      "0.1\n",
      "auc : 0.6828264158406426\n",
      "0.2\n",
      "auc : 0.6011975708478816\n",
      "0.30000000000000004\n",
      "auc : 0.541631097517283\n",
      "0.4\n",
      "auc : 0.5155775727463416\n",
      "0.5\n",
      "auc : 0.5039408186274337\n",
      "0.6\n",
      "auc : 0.500606279788836\n",
      "0.7000000000000001\n",
      "auc : 0.5\n",
      "0.8\n",
      "auc : 0.5\n",
      "0.9\n",
      "auc : 0.5\n"
     ]
    }
   ],
   "source": [
    "from sklearn.model_selection import train_test_split\n",
    "# 訓練データ\n",
    "df_train = pd.read_csv('application_train.csv')\n",
    "\n",
    "# 説明変数(week3のeda結果より抜粋)\n",
    "X = df_train.loc[:, ['EXT_SOURCE_1', 'EXT_SOURCE_2', 'EXT_SOURCE_3',\n",
    "                                         'DAYS_REGISTRATION', 'DAYS_ID_PUBLISH', 'DAYS_BIRTH']]\n",
    "# 目的変数\n",
    "y = df_train.loc[:, 'TARGET']\n",
    "\n",
    "\n",
    "# 学習用、検証用データに分ける\n",
    "X_train, X_test, y_train, y_test = train_test_split(X, y)\n",
    "\n",
    "\n",
    "# インスタンス化\n",
    "lgbc = lgb.LGBMClassifier()\n",
    "\n",
    "# 学習\n",
    "lgbc.fit(X, y)\n",
    "\n",
    "\n",
    "for i in np.arange(0.1, 1, 0.1):\n",
    "    y_pred = (lgbc.predict_proba(X_test)[:, 1] > i).astype(int)\n",
    "    auc, tpr, fpr = calc_auc(y_test, y_pred)\n",
    "    print(i)\n",
    "    print('auc : ' + str(auc))"
   ]
  },
  {
   "cell_type": "markdown",
   "metadata": {},
   "source": [
    "ちょっと上がったので、もう一回出してみる"
   ]
  },
  {
   "cell_type": "code",
   "execution_count": 16,
   "metadata": {},
   "outputs": [],
   "source": [
    "from datetime import datetime\n",
    "\n",
    "df_test = pd.read_csv(\"application_test.csv\")\n",
    "\n",
    "# 説明変数(week3のeda結果より抜粋)\n",
    "X_test = df_test.loc[:, ['EXT_SOURCE_1', 'EXT_SOURCE_2', 'EXT_SOURCE_3',\n",
    "                                         'DAYS_REGISTRATION', 'DAYS_ID_PUBLISH', 'DAYS_BIRTH']]\n",
    "\n",
    "# 予測\n",
    "y_pred = (lgbc.predict_proba(X_test)[:, 1] > 0.1).astype(int)\n",
    "\n",
    "# 提出用\n",
    "submission = pd.DataFrame({'SK_ID_CURR': df_test['SK_ID_CURR'], 'TARGET': y_pred})\n",
    "\n",
    "\n",
    "\n",
    "# タイムスタンプ作成\n",
    "time_stamp = datetime.now().strftime('%Y%m%d%H%M')\n",
    "submission.to_csv('home_credit_' + time_stamp + '.csv', index=False)"
   ]
  },
  {
   "cell_type": "markdown",
   "metadata": {},
   "source": [
    "Private 0.64935\n",
    "Public 0.64566\n",
    "の結果になった。"
   ]
  }
 ],
 "metadata": {
  "kernelspec": {
   "display_name": "Python 3",
   "language": "python",
   "name": "python3"
  },
  "language_info": {
   "codemirror_mode": {
    "name": "ipython",
    "version": 3
   },
   "file_extension": ".py",
   "mimetype": "text/x-python",
   "name": "python",
   "nbconvert_exporter": "python",
   "pygments_lexer": "ipython3",
   "version": "3.7.1"
  }
 },
 "nbformat": 4,
 "nbformat_minor": 2
}
