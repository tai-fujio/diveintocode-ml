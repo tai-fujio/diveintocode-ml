{
 "cells": [
  {
   "cell_type": "markdown",
   "metadata": {},
   "source": [
    "# Week1授業課題1 曽呂利新左衛門問題"
   ]
  },
  {
   "cell_type": "code",
   "execution_count": 1,
   "metadata": {},
   "outputs": [
    {
     "data": {
      "text/plain": [
       "[<matplotlib.lines.Line2D at 0x1181707f0>]"
      ]
     },
     "execution_count": 1,
     "metadata": {},
     "output_type": "execute_result"
    },
    {
     "data": {
      "image/png": "[encoded data removed]",
      "text/plain": [
       "<Figure size 432x288 with 1 Axes>"
      ]
     },
     "metadata": {
      "needs_background": "light"
     },
     "output_type": "display_data"
    }
   ],
   "source": [
    "def compute_sorori_shinzaemon(day=100):\n",
    "    \"\"\"\n",
    "    曽呂利新左衛門の米の逸話を検証する関数。日にちごとの米の粒の数を計算する。\n",
    "\n",
    "    Parameteres\n",
    "    --------------\n",
    "    day: int\n",
    "        米を貰う日数 (default : 100)\n",
    "\n",
    "    Returns\n",
    "    --------------\n",
    "    list_n_grains : list\n",
    "        ある日に貰う米の数のリスト（リストの長さはdayに等しくなる）\n",
    "    list_total_grains : list\n",
    "        ある日までに累計で貰う米の数のリスト（リストの長さはdayに等しくなる）\n",
    "    \"\"\"\n",
    "    \n",
    "    # 初期値の設定\n",
    "    number_of_grains = 1\n",
    "    total_of_grains = 0\n",
    "    \n",
    "    # 初期化\n",
    "    list_n_grains = []\n",
    "    list_total_grains = []\n",
    "    list_days = []\n",
    "\n",
    "    # リストに米の数を記録する\n",
    "    for itr in range(day):\n",
    "        today = itr + 1\n",
    "        total_of_grains += number_of_grains\n",
    "        \n",
    "        list_days.append(today)\n",
    "        list_n_grains.append(number_of_grains) \n",
    "        list_total_grains.append(total_of_grains)\n",
    "        \n",
    "        number_of_grains *= 2 # 次の日の米の数を計算\n",
    "\n",
    "    pass\n",
    "\n",
    "    return list_days, list_n_grains, list_total_grains\n",
    "\n",
    "import matplotlib.pyplot as plt\n",
    "%matplotlib inline\n",
    "\n",
    "list_days, list_n_grains, list_total_grains = compute_sorori_shinzaemon(day=50)\n",
    "\n",
    "#  ある日に貰う米の数のグラフ\n",
    "# TODO: 縦軸の米の数の単位を変更したい。\n",
    "plt.title(\"list_n_grains\")\n",
    "plt.xlabel(\"day\")\n",
    "plt.ylabel(\"number\")\n",
    "plt.plot(list_days, list_n_grains)\n",
    "\n",
    "#  ある日までに累計で貰う米の数のグラフ\n",
    "plt.title(\"list_total_grains\")\n",
    "plt.xlabel(\"day\")\n",
    "plt.ylabel(\"number\")\n",
    "plt.plot(list_days, list_total_grains)"
   ]
  },
  {
   "cell_type": "code",
   "execution_count": 2,
   "metadata": {},
   "outputs": [
    {
     "name": "stdout",
     "output_type": "stream",
     "text": [
      "2\n"
     ]
    }
   ],
   "source": [
    "import math\n",
    "\n",
    "NUMBER_GRAINS_NEEDED_PER_DAY = 3250\n",
    "\n",
    "def how_many_days_to_live(number_of_grains, number_of_people) :\n",
    "    '''\n",
    "    入力した米の数でグループが何日生きられるかを返します。\n",
    "    \n",
    "    Parameteres\n",
    "    --------------\n",
    "    number_of_grains : int\n",
    "        存在する米の数。\n",
    "    number_of_pepole : int\n",
    "        グループに所属する人数。\n",
    "\n",
    "    Returns\n",
    "    --------------\n",
    "    days_to_live: int\n",
    "        何日生きられるか\n",
    "        切り捨てで丸められる。\n",
    "    '''\n",
    "    \n",
    "    days_to_live = math.floor(number_of_grains / number_of_people / NUMBER_GRAINS_NEEDED_PER_DAY)\n",
    "    return days_to_live\n",
    "\n",
    "print( how_many_days_to_live(number_of_grains = 6501, number_of_people =1))\n"
   ]
  },
  {
   "cell_type": "code",
   "execution_count": null,
   "metadata": {
    "collapsed": true
   },
   "outputs": [],
   "source": []
  }
 ],
 "metadata": {
  "kernelspec": {
   "display_name": "Python 3",
   "language": "python",
   "name": "python3"
  },
  "language_info": {
   "codemirror_mode": {
    "name": "ipython",
    "version": 3
   },
   "file_extension": ".py",
   "mimetype": "text/x-python",
   "name": "python",
   "nbconvert_exporter": "python",
   "pygments_lexer": "ipython3",
   "version": "3.7.1"
  }
 },
 "nbformat": 4,
 "nbformat_minor": 2
}
