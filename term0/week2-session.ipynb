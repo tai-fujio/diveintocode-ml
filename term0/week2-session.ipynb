{
 "cells": [
  {
   "cell_type": "markdown",
   "metadata": {},
   "source": [
    "# データの取得\n",
    "出力は左から順番に<br>\n",
    "「その地点の番号(x)」「緯度」「経度」「標高(elevation)」「地点0からの距離」"
   ]
  },
  {
   "cell_type": "code",
   "execution_count": 1,
   "metadata": {},
   "outputs": [
    {
     "name": "stdout",
     "output_type": "stream",
     "text": [
      "[[  130.          35.352505   138.756638  2563.4      41888.      ]\n",
      " [  131.          35.35418    138.753742  2703.1      42210.      ]\n",
      " [  132.          35.355855   138.750846  2825.55     42532.      ]\n",
      " [  133.          35.35753    138.74795   2967.9      42854.      ]\n",
      " [  134.          35.359205   138.745054  3087.81     43177.      ]\n",
      " [  135.          35.36088    138.742157  3266.24     43499.      ]\n",
      " [  136.          35.362555   138.739261  3434.59     43821.      ]\n",
      " [  137.          35.36423    138.736364  3600.08     44143.      ]\n",
      " [  138.          35.365904   138.733468  3679.96     44466.      ]\n",
      " [  139.          35.367579   138.730571  3664.9      44788.      ]]\n"
     ]
    }
   ],
   "source": [
    "import numpy as np\n",
    "np.set_printoptions(suppress=True) # 指数表示の禁止を設定する\n",
    "mtfuji_data = np.loadtxt(\"week2_session_mtfuji_data.csv\",delimiter=\",\", skiprows=1)\n",
    "\n",
    "# 一部出力\n",
    "print(mtfuji_data[130:140])"
   ]
  },
  {
   "cell_type": "markdown",
   "metadata": {},
   "source": [
    "# 【問題1】断面図の作成\n",
    "* 断面図をMatplotlibを使い作成\n",
    "* x=136の地点の赤い点や矢印も表示"
   ]
  },
  {
   "cell_type": "code",
   "execution_count": 2,
   "metadata": {},
   "outputs": [
    {
     "data": {
      "text/plain": [
       "<matplotlib.collections.PathCollection at 0x1163aba58>"
      ]
     },
     "execution_count": 2,
     "metadata": {},
     "output_type": "execute_result"
    }
   ],
   "source": [
    "import matplotlib.pyplot as plt\n",
    "\n",
    "# ラベル付け\n",
    "plt.xlabel('x')\n",
    "plt.ylabel('evelation(m)')\n",
    "\n",
    "# 断面図をプロット\n",
    "plt.plot(mtfuji_data[:,0], mtfuji_data[:,3])\n",
    "\n",
    "# 各地点を変数定義\n",
    "x = 136\n",
    "y = mtfuji_data[136, 3]\n",
    "u = 50\n",
    "\n",
    "# 矢印（ベクトル）をプロット\n",
    "plt.quiver(x - u, y, u, 1, angles='yx',scale_units='xy',scale=1)\n",
    "\n",
    "# 赤い点をプロット\n",
    "plt.scatter(x, y, c='r')"
   ]
  },
  {
   "cell_type": "markdown",
   "metadata": {},
   "source": [
    "# 【問題2】勾配の計算の関数\n",
    "* 「あなたが今いる地点x」と「その隣の地点x-1」の関係による勾配を求める関数を作成\n",
    "* 関数が返す値を「今いる地点の勾配」"
   ]
  },
  {
   "cell_type": "code",
   "execution_count": 3,
   "metadata": {},
   "outputs": [
    {
     "name": "stdout",
     "output_type": "stream",
     "text": [
      "165.48999999999978\n",
      "22.66999999999996\n",
      "-84.38000000000011\n"
     ]
    }
   ],
   "source": [
    "def calc_gradient(x, data):\n",
    "    '''\n",
    "    あなたが今いる地点xを入力すると、その地点の勾配を返却します\n",
    "\n",
    "    Parameteres\n",
    "    --------------\n",
    "    x: int\n",
    "        あなたが今いる地点(default : 136)\n",
    "    step: int\n",
    "        xが移動する量(default : 1)\n",
    "\n",
    "    Returns\n",
    "    --------------\n",
    "    g : float\n",
    "        xの勾配\n",
    "    '''\n",
    "    \n",
    "    #xの変化量\n",
    "    x_diff = (x + 1) - x\n",
    "\n",
    "    #evelationの変化量\n",
    "    el_diff = data[x + 1, 3] - data[x, 3]\n",
    "    \n",
    "    # 勾配を求める\n",
    "    g = el_diff / x_diff\n",
    "    \n",
    "    return g\n",
    "\n",
    "print(calc_gradient(136, mtfuji_data))\n",
    "print(calc_gradient(100, mtfuji_data))\n",
    "print(calc_gradient(150, mtfuji_data))"
   ]
  },
  {
   "cell_type": "markdown",
   "metadata": {},
   "source": [
    "# 【問題3】勾配降下法の関数を作成\n",
    "* 勾配降下法を用いて山を下る関数を作成\n",
    "* 下る過程をリストに記録\n",
    "* 「移動すべき地点 = 今いる地点 - α × 今いる地点の勾配」 \n",
    "* α は0より大きい任意の値をとるハイパーパラメータ"
   ]
  },
  {
   "cell_type": "code",
   "execution_count": 4,
   "metadata": {},
   "outputs": [
    {
     "name": "stdout",
     "output_type": "stream",
     "text": [
      "[136, 119, 115, 108, 104, 101, 98, 96, 93, 90, 88, 85, 83, 81, 79, 78, 75, 74, 73, 72]\n",
      "[3434.59, 1561.94, 1292.52, 1000.24, 883.89, 795.25, 741.17, 700.15, 631.71, 588.99, 553.64, 505.1, 471.82, 443.0, 418.41, 390.14, 371.19, 371.04, 368.91, 355.68]\n"
     ]
    },
    {
     "data": {
      "text/plain": [
       "<matplotlib.collections.PathCollection at 0x1165bc208>"
      ]
     },
     "execution_count": 4,
     "metadata": {},
     "output_type": "execute_result"
    },
    {
     "data": {
      "image/png": "[encoded data removed]",
      "text/plain": [
       "<Figure size 432x288 with 1 Axes>"
      ]
     },
     "metadata": {
      "needs_background": "light"
     },
     "output_type": "display_data"
    }
   ],
   "source": [
    "def gradient_descent(x, data, a = 0.1, cnt = 100):\n",
    "    '''\n",
    "    あなたが今いる地点xを入力すると、移動毎の標高を記録したリストを返却する\n",
    "\n",
    "    Parameteres\n",
    "    --------------\n",
    "    x: int\n",
    "        あなたが今いる地点\n",
    "    a: float\n",
    "        学習率(任意パラメータ default : 0.1)\n",
    "    cnt: int\n",
    "        試行回数(任意パラメータ default : 100)\n",
    "\n",
    "    Returns\n",
    "    --------------\n",
    "    x_list : list\n",
    "        xの推移を記録したリスト\n",
    "    el_list : list\n",
    "        標高の推移を記録したリスト\n",
    "    '''\n",
    "    \n",
    "    # 返却用リスト初期化\n",
    "    x_list = []\n",
    "    el_list = []\n",
    "    \n",
    "    for i in range(cnt):\n",
    "        # x地点の標高\n",
    "        el = data[x, 3]\n",
    "        \n",
    "        # 標高リストの要素が2以上かつ一つ前の要素よりも標高が増加している場合\n",
    "        if len(el_list) > 1 and el >= el_list[i - 1]:\n",
    "            # フラグをTrueにし、処理をスキップ\n",
    "            break\n",
    "        \n",
    "        # 現時点xをリストに格納\n",
    "        x_list.append(x)\n",
    "        \n",
    "        # x地点の標高をリストに格納\n",
    "        el_list.append(el)\n",
    "        \n",
    "        # 勾配を求める\n",
    "        g = calc_gradient(x, data)\n",
    "        \n",
    "        # xを移動すべき地点に更新\n",
    "        x = int(x - a * g)\n",
    "\n",
    "    return x_list, el_list\n",
    "\n",
    "\n",
    "x_list, el_list = gradient_descent(136, mtfuji_data)\n",
    "\n",
    "print(x_list)\n",
    "print(el_list)\n",
    "\n",
    "# 断面図をプロット\n",
    "plt.plot(mtfuji_data[:,0], mtfuji_data[:,3])\n",
    "\n",
    "# 推移を赤い点をプロット\n",
    "plt.scatter(x_list, el_list, c='r')"
   ]
  },
  {
   "cell_type": "markdown",
   "metadata": {},
   "source": [
    "# 【問題4】初期値の変更\n",
    "* 問題3のxを139より大きい値に変更して実施"
   ]
  },
  {
   "cell_type": "code",
   "execution_count": 5,
   "metadata": {},
   "outputs": [
    {
     "name": "stdout",
     "output_type": "stream",
     "text": [
      "[139, 148, 157, 160, 165, 166, 169, 171, 173, 174, 175]\n",
      "[3664.9, 2334.42, 1623.73, 1484.72, 1272.98, 1259.24, 1182.32, 1124.83, 1081.07, 1068.05, 1053.28]\n"
     ]
    },
    {
     "data": {
      "text/plain": [
       "<matplotlib.collections.PathCollection at 0x1166d25c0>"
      ]
     },
     "execution_count": 5,
     "metadata": {},
     "output_type": "execute_result"
    },
    {
     "data": {
      "image/png": "[encoded data removed]",
      "text/plain": [
       "<Figure size 432x288 with 1 Axes>"
      ]
     },
     "metadata": {
      "needs_background": "light"
     },
     "output_type": "display_data"
    }
   ],
   "source": [
    "x_list, el_list = gradient_descent(139, mtfuji_data)\n",
    "\n",
    "print(x_list)\n",
    "print(el_list)\n",
    "\n",
    "# 断面図をプロット\n",
    "plt.plot(mtfuji_data[:, 0], mtfuji_data[:, 3])\n",
    "\n",
    "# 推移を赤い点をプロット\n",
    "plt.scatter(x_list, el_list, c='r')"
   ]
  },
  {
   "cell_type": "markdown",
   "metadata": {},
   "source": [
    "# 【問題5】（アドバンス課題）並列計算\n",
    "* NumPyのブロードキャストを使って複数のxを並列計算できるように改良する"
   ]
  },
  {
   "cell_type": "code",
   "execution_count": 6,
   "metadata": {},
   "outputs": [
    {
     "name": "stdout",
     "output_type": "stream",
     "text": [
      "[ 20. 136. 139. 250.  16. 119. 148. 232.   3. 115. 157. 238.   3. 108.\n",
      " 160. 232.   3. 104. 165. 238.   3. 101. 166. 232.   3.  98. 169. 238.\n",
      "   3.  96. 171. 232.   3.  93. 173. 238.   3.  90. 174. 232.   3.  88.\n",
      " 175. 238.   3.  85. 175. 232.   3.  83. 175. 238.   3.  81. 175. 232.\n",
      "   3.  79. 175. 238.   3.  78. 175. 232.   3.  75. 175. 238.   3.  74.\n",
      " 175. 232.]\n",
      "[ 580.5  3434.59 3664.9   901.57  380.06 1561.94 2334.42  423.72    0.\n",
      " 1292.52 1623.73  437.7     0.   1000.24 1484.72  423.72    0.    883.89\n",
      " 1272.98  437.7     0.    795.25 1259.24  423.72    0.    741.17 1182.32\n",
      "  437.7     0.    700.15 1124.83  423.72    0.    631.71 1081.07  437.7\n",
      "    0.    588.99 1068.05  423.72    0.    553.64 1053.28  437.7     0.\n",
      "  505.1  1053.28  423.72    0.    471.82 1053.28  437.7     0.    443.\n",
      " 1053.28  423.72    0.    418.41 1053.28  437.7     0.    390.14 1053.28\n",
      "  423.72    0.    371.19 1053.28  437.7     0.    371.04 1053.28  423.72]\n"
     ]
    },
    {
     "data": {
      "text/plain": [
       "<matplotlib.collections.PathCollection at 0x1167b2630>"
      ]
     },
     "execution_count": 6,
     "metadata": {},
     "output_type": "execute_result"
    },
    {
     "data": {
      "image/png": "[encoded data removed]",
      "text/plain": [
       "<Figure size 432x288 with 1 Axes>"
      ]
     },
     "metadata": {
      "needs_background": "light"
     },
     "output_type": "display_data"
    }
   ],
   "source": [
    "def gradient_descent(x_ary, data, a = 0.1, cnt = 100):\n",
    "    '''\n",
    "    あなたが今いる地点xを入力すると、移動毎の標高を記録したリストを返却する\n",
    "\n",
    "    Parameteres\n",
    "    --------------\n",
    "    x_ary: ndarray\n",
    "        あなたが今いる地点たち\n",
    "    a: float\n",
    "        学習率(任意パラメータ default : 0.1)\n",
    "    cnt: int\n",
    "        試行回数(任意パラメータ default : 100)\n",
    "\n",
    "    Returns\n",
    "    --------------\n",
    "    x_list : list\n",
    "        xの推移を記録したリスト\n",
    "    el_list : list\n",
    "        標高の推移を記録したリスト\n",
    "    '''\n",
    "    \n",
    "    # 返却用リスト初期化\n",
    "    x_list = np.array([])\n",
    "    el_list = np.array([])\n",
    "    \n",
    "    \n",
    "    \n",
    "    # 標高のnumpy配列を作成\n",
    "    el_ary = np.array(data[x_ary, 3])\n",
    "    \n",
    "    for i in range(cnt):\n",
    "        # 2回目以降のループかつ一つ前の要素よりも標高が増加している場合\n",
    "        if i > 1 and sum(data[x_ary, 3]) >= sum(el_ary):\n",
    "            # フラグをTrueにし、処理をスキップ\n",
    "            break\n",
    "\n",
    "        # el_aryの中身を更新\n",
    "        el_ary = np.array(data[x_ary, 3])\n",
    "        \n",
    "        # listの末尾に追加\n",
    "        el_list = np.append(el_list, el_ary)\n",
    "        \n",
    "        # 現時点xをリストに格納\n",
    "        x_list = np.append(x_list, x_ary)\n",
    "\n",
    "        # 勾配を求める\n",
    "        g = calc_gradient(x_ary, data)\n",
    "        \n",
    "        # x_aryの中身を更新\n",
    "        x_ary = np.array((x_ary - a * g), np.int32)\n",
    "        \n",
    "        # 負の値であれば0に\n",
    "        x_ary = np.where(x_ary < 0, 0, x_ary)\n",
    "        \n",
    "        i = i + 1\n",
    "\n",
    "    return x_list, el_list\n",
    "\n",
    "\n",
    "# xの初期値を複数指定\n",
    "x_ary = np.array([20, 136, 139, 250])\n",
    "\n",
    "x_list, el_list = gradient_descent(x_ary, mtfuji_data)\n",
    "\n",
    "print(x_list)\n",
    "print(el_list)\n",
    "\n",
    "# 断面図をプロット\n",
    "plt.plot(mtfuji_data[:, 0], mtfuji_data[:, 3])\n",
    "\n",
    "# 推移を赤い点をプロット\n",
    "plt.scatter(x_list, el_list, c='r')"
   ]
  },
  {
   "cell_type": "markdown",
   "metadata": {},
   "source": [
    "# 【問題6】（アドバンス課題）ハイパーパラメータの検証\n",
    "* 検証のための一例 : 横軸を α 、縦軸を一定回の繰り返し後のxや標高にした散布図を描いてみるという方法"
   ]
  },
  {
   "cell_type": "code",
   "execution_count": 7,
   "metadata": {},
   "outputs": [
    {
     "name": "stdout",
     "output_type": "stream",
     "text": [
      "0.1\n",
      "[136. 119. 115. 108. 104. 101.  98.  96.  93.  90.  88.  85.  83.  81.\n",
      "  79.  78.  75.  74.  73.  72.]\n",
      "0.2\n",
      "[136. 102.  93.  87.  83.  79.  78.  72.]\n",
      "0.30000000000000004\n",
      "[136.  86.  80.  73.  72.]\n",
      "0.4\n",
      "[136.  69.]\n",
      "0.5\n",
      "[136.  53.  61.  66.]\n",
      "0.6\n",
      "[136.  36.]\n",
      "0.7000000000000001\n",
      "[136.  20.   0.]\n",
      "0.8\n",
      "[136.   3.]\n",
      "0.9\n",
      "[136.   0.]\n"
     ]
    },
    {
     "data": {
      "image/png": "[encoded data removed]",
      "text/plain": [
       "<Figure size 432x288 with 1 Axes>"
      ]
     },
     "metadata": {
      "needs_background": "light"
     },
     "output_type": "display_data"
    }
   ],
   "source": [
    "# x=136のみでやってみる\n",
    "x_ary = np.array([136])\n",
    "\n",
    "for a in np.arange(0.1, 1, 0.1):\n",
    "    x_list, el_list = gradient_descent(x_ary, mtfuji_data, a)\n",
    "    print(a)\n",
    "    print(x_list)\n",
    "    # xの推移を赤い点をプロット\n",
    "    plt.scatter(a, x_list[-1], c='r')"
   ]
  },
  {
   "cell_type": "code",
   "execution_count": 8,
   "metadata": {},
   "outputs": [
    {
     "name": "stdout",
     "output_type": "stream",
     "text": [
      "0.1\n",
      "[3434.59 1561.94 1292.52 1000.24  883.89  795.25  741.17  700.15  631.71\n",
      "  588.99  553.64  505.1   471.82  443.    418.41  390.14  371.19  371.04\n",
      "  368.91  355.68]\n",
      "0.2\n",
      "[3434.59  817.62  631.71  536.54  471.82  418.41  390.14  355.68]\n",
      "0.30000000000000004\n",
      "[3434.59  519.54  420.6   368.91  355.68]\n",
      "0.4\n",
      "[3434.59  454.21]\n",
      "0.5\n",
      "[3434.59  849.52  564.02  462.33]\n",
      "0.6\n",
      "[3434.59  748.39]\n",
      "0.7000000000000001\n",
      "[3434.59  580.5     0.  ]\n",
      "0.8\n",
      "[3434.59    0.  ]\n",
      "0.9\n",
      "[3434.59    0.  ]\n"
     ]
    },
    {
     "data": {
      "image/png": "[encoded data removed]",
      "text/plain": [
       "<Figure size 432x288 with 1 Axes>"
      ]
     },
     "metadata": {
      "needs_background": "light"
     },
     "output_type": "display_data"
    }
   ],
   "source": [
    "for a in np.arange(0.1, 1, 0.1):\n",
    "    x_list, el_list = gradient_descent(x_ary, mtfuji_data, a)\n",
    "    print(a)\n",
    "    print(el_list)\n",
    "    # xの推移を赤い点をプロット\n",
    "    plt.scatter(a, el_list[-1], c='g')"
   ]
  },
  {
   "cell_type": "markdown",
   "metadata": {},
   "source": [
    "# 【問題7】（アドバンス課題）局所最適解\n",
    "* 局所的最適解 = ある範囲においての最適解\n",
    "* 対してグラフ全体の最適解は全体最適解という\n",
    "* 今回の富士下山であればxの50~150間の局所的最適解は355.68、全体最適解は0(=海)\n",
    "\n",
    "* 対策としては初期値x・パラメータαを複数試す・更新して一番標高が低いものを採用する？"
   ]
  },
  {
   "cell_type": "code",
   "execution_count": 34,
   "metadata": {},
   "outputs": [
    {
     "name": "stdout",
     "output_type": "stream",
     "text": [
      "山降りれた\n",
      "0.6\n",
      "[144. 119. 133. 108. 128. 234.  97.  61.  87.  56. 244.  87.  68.  76.\n",
      "   0.]\n",
      "[2864.56 1561.94 2967.9  1000.24 2306.85  278.95  725.72  564.02  536.54\n",
      "  738.97  502.93  536.54  429.49  377.62    0.  ]\n"
     ]
    }
   ],
   "source": [
    "# ランダムで5このxを格納\n",
    "x_ary = np.random.randint(100, 200, 5)\n",
    "\n",
    "for a in np.arange(0.1, 1, 0.1):\n",
    "    x_list, el_list = gradient_descent(x_ary, mtfuji_data, a)\n",
    "    lowest_el = min(el_list)\n",
    "    \n",
    "    if lowest_el == 0:\n",
    "        print('山降りれた')\n",
    "        print(a)\n",
    "        print(x_list)\n",
    "        print(el_list)\n",
    "        break        "
   ]
  }
 ],
 "metadata": {
  "kernelspec": {
   "display_name": "Python 3",
   "language": "python",
   "name": "python3"
  },
  "language_info": {
   "codemirror_mode": {
    "name": "ipython",
    "version": 3
   },
   "file_extension": ".py",
   "mimetype": "text/x-python",
   "name": "python",
   "nbconvert_exporter": "python",
   "pygments_lexer": "ipython3",
   "version": "3.7.1"
  }
 },
 "nbformat": 4,
 "nbformat_minor": 2
}
